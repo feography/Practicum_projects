{
 "cells": [
  {
   "cell_type": "markdown",
   "id": "c36ce8e1",
   "metadata": {},
   "source": [
    "# Исследование для сервиса аренды самокатов.\n",
    "Необходимо проанализировать данные популярного сервиса аренды самокатов GoFast. \n",
    "Есть данные о некоторых пользователях из нескольких городов, а также об их поездках и типе оплаты в трех файлах. \n",
    "Чтобы совершать поездки по городу, пользователи сервиса GoFast пользуются мобильным приложением. Сервисом можно пользоваться:\n",
    "\n",
    "без подписки:\n",
    "- абонентская плата отсутствует;\n",
    "- стоимость одной минуты поездки — 8 рублей;\n",
    "- стоимость старта (начала поездки) — 50 рублей;\n",
    "\n",
    "с подпиской Ultra:\n",
    "- абонентская плата — 199 рублей в месяц;\n",
    "- стоимость одной минуты поездки — 6 рублей;\n",
    "- стоимость старта — бесплатно.\n",
    "\n",
    "Требуется проанализировать данные и проверить некоторые гипотезы, которые могут помочь бизнесу вырасти.\n",
    "# План исследования\n",
    "1. Загрузка и знакомство с данными\n",
    "2. Предобработка данных\n",
    "2. Исследовательский анализ данных\n",
    "3. Объединение данных\n",
    "4. Расчет выручки\n",
    "5. Проверка гипотез\n",
    "6. Распределения\n",
    "7. Общий вывод."
   ]
  },
  {
   "cell_type": "markdown",
   "id": "aa309141",
   "metadata": {
    "toc": true
   },
   "source": [
    "<h1>Table of Contents<span class=\"tocSkip\"></span></h1>\n",
    "<div class=\"toc\"><ul class=\"toc-item\"><li><span><a href=\"#Шаг-1.-Загрузка-данных\" data-toc-modified-id=\"Шаг-1.-Загрузка-данных-1\"><span class=\"toc-item-num\">1&nbsp;&nbsp;</span>Шаг 1. Загрузка данных</a></span></li><li><span><a href=\"#Шаг-2.-Предобработка-данных\" data-toc-modified-id=\"Шаг-2.-Предобработка-данных-2\"><span class=\"toc-item-num\">2&nbsp;&nbsp;</span>Шаг 2. Предобработка данных</a></span></li><li><span><a href=\"#Шаг-3.-Исследовательский-анализ-данных\" data-toc-modified-id=\"Шаг-3.-Исследовательский-анализ-данных-3\"><span class=\"toc-item-num\">3&nbsp;&nbsp;</span>Шаг 3. Исследовательский анализ данных</a></span></li><li><span><a href=\"#Шаг-4.-Объединение-данных\" data-toc-modified-id=\"Шаг-4.-Объединение-данных-4\"><span class=\"toc-item-num\">4&nbsp;&nbsp;</span>Шаг 4. Объединение данных</a></span></li><li><span><a href=\"#Шаг-5.-Подсчёт-выручки\" data-toc-modified-id=\"Шаг-5.-Подсчёт-выручки-5\"><span class=\"toc-item-num\">5&nbsp;&nbsp;</span>Шаг 5. Подсчёт выручки</a></span></li><li><span><a href=\"#Шаг-6.-Проверка-гипотез\" data-toc-modified-id=\"Шаг-6.-Проверка-гипотез-6\"><span class=\"toc-item-num\">6&nbsp;&nbsp;</span>Шаг 6. Проверка гипотез</a></span></li><li><span><a href=\"#Шаг-7.-Распределения\" data-toc-modified-id=\"Шаг-7.-Распределения-7\"><span class=\"toc-item-num\">7&nbsp;&nbsp;</span>Шаг 7. Распределения</a></span>"
   ]
  },
  {
   "cell_type": "code",
   "execution_count": 1,
   "id": "72576667",
   "metadata": {},
   "outputs": [],
   "source": [
    "import pandas as pd\n",
    "import matplotlib.pyplot as plt\n",
    "from scipy import stats as st\n",
    "import numpy as np\n",
    "from scipy.stats import binom\n",
    "from scipy.stats import binom, norm\n",
    "from math import sqrt"
   ]
  },
  {
   "cell_type": "markdown",
   "id": "c42cbe00",
   "metadata": {},
   "source": [
    "## Шаг 1. Загрузка данных"
   ]
  },
  {
   "cell_type": "code",
   "execution_count": 2,
   "id": "eff9f206",
   "metadata": {},
   "outputs": [
    {
     "name": "stdout",
     "output_type": "stream",
     "text": [
      "<class 'pandas.core.frame.DataFrame'>\n",
      "RangeIndex: 1565 entries, 0 to 1564\n",
      "Data columns (total 5 columns):\n",
      " #   Column             Non-Null Count  Dtype \n",
      "---  ------             --------------  ----- \n",
      " 0   user_id            1565 non-null   int64 \n",
      " 1   name               1565 non-null   object\n",
      " 2   age                1565 non-null   int64 \n",
      " 3   city               1565 non-null   object\n",
      " 4   subscription_type  1565 non-null   object\n",
      "dtypes: int64(2), object(3)\n",
      "memory usage: 61.3+ KB\n"
     ]
    },
    {
     "data": {
      "text/plain": [
       "None"
      ]
     },
     "metadata": {},
     "output_type": "display_data"
    },
    {
     "name": "stdout",
     "output_type": "stream",
     "text": [
      "<class 'pandas.core.frame.DataFrame'>\n",
      "RangeIndex: 18068 entries, 0 to 18067\n",
      "Data columns (total 4 columns):\n",
      " #   Column    Non-Null Count  Dtype  \n",
      "---  ------    --------------  -----  \n",
      " 0   user_id   18068 non-null  int64  \n",
      " 1   distance  18068 non-null  float64\n",
      " 2   duration  18068 non-null  float64\n",
      " 3   date      18068 non-null  object \n",
      "dtypes: float64(2), int64(1), object(1)\n",
      "memory usage: 564.8+ KB\n"
     ]
    },
    {
     "data": {
      "text/plain": [
       "None"
      ]
     },
     "metadata": {},
     "output_type": "display_data"
    },
    {
     "name": "stdout",
     "output_type": "stream",
     "text": [
      "<class 'pandas.core.frame.DataFrame'>\n",
      "RangeIndex: 2 entries, 0 to 1\n",
      "Data columns (total 4 columns):\n",
      " #   Column             Non-Null Count  Dtype \n",
      "---  ------             --------------  ----- \n",
      " 0   subscription_type  2 non-null      object\n",
      " 1   minute_price       2 non-null      int64 \n",
      " 2   start_ride_price   2 non-null      int64 \n",
      " 3   subscription_fee   2 non-null      int64 \n",
      "dtypes: int64(3), object(1)\n",
      "memory usage: 192.0+ bytes\n"
     ]
    }
   ],
   "source": [
    "try:\n",
    "    users = pd.read_csv('/datasets/users_go.csv')\n",
    "    rides = pd.read_csv('/datasets/rides_go.csv')\n",
    "    subs = pd.read_csv('/datasets/subscriptions_go.csv')\n",
    "except:\n",
    "    users = pd.read_csv('users_go.csv')\n",
    "    rides = pd.read_csv('rides_go.csv')\n",
    "    subs = pd.read_csv('subscriptions_go.csv')\n",
    "\n",
    "display(users.info())\n",
    "display(rides.info())\n",
    "subs.info()"
   ]
  },
  {
   "cell_type": "markdown",
   "id": "f062240e",
   "metadata": {},
   "source": [
    "*Итого: 1565 пользователей, 18068 поездок и 2 типа подписки. Пропусков в данных нет.\n",
    "В таблице users колонка date имеет формат object, а не date*"
   ]
  },
  {
   "cell_type": "code",
   "execution_count": 3,
   "id": "8baa9d3b",
   "metadata": {},
   "outputs": [
    {
     "data": {
      "text/html": [
       "<div>\n",
       "<style scoped>\n",
       "    .dataframe tbody tr th:only-of-type {\n",
       "        vertical-align: middle;\n",
       "    }\n",
       "\n",
       "    .dataframe tbody tr th {\n",
       "        vertical-align: top;\n",
       "    }\n",
       "\n",
       "    .dataframe thead th {\n",
       "        text-align: right;\n",
       "    }\n",
       "</style>\n",
       "<table border=\"1\" class=\"dataframe\">\n",
       "  <thead>\n",
       "    <tr style=\"text-align: right;\">\n",
       "      <th></th>\n",
       "      <th>user_id</th>\n",
       "      <th>name</th>\n",
       "      <th>age</th>\n",
       "      <th>city</th>\n",
       "      <th>subscription_type</th>\n",
       "    </tr>\n",
       "  </thead>\n",
       "  <tbody>\n",
       "    <tr>\n",
       "      <th>0</th>\n",
       "      <td>1</td>\n",
       "      <td>Кира</td>\n",
       "      <td>22</td>\n",
       "      <td>Тюмень</td>\n",
       "      <td>ultra</td>\n",
       "    </tr>\n",
       "    <tr>\n",
       "      <th>1</th>\n",
       "      <td>2</td>\n",
       "      <td>Станислав</td>\n",
       "      <td>31</td>\n",
       "      <td>Омск</td>\n",
       "      <td>ultra</td>\n",
       "    </tr>\n",
       "    <tr>\n",
       "      <th>2</th>\n",
       "      <td>3</td>\n",
       "      <td>Алексей</td>\n",
       "      <td>20</td>\n",
       "      <td>Москва</td>\n",
       "      <td>ultra</td>\n",
       "    </tr>\n",
       "    <tr>\n",
       "      <th>3</th>\n",
       "      <td>4</td>\n",
       "      <td>Константин</td>\n",
       "      <td>26</td>\n",
       "      <td>Ростов-на-Дону</td>\n",
       "      <td>ultra</td>\n",
       "    </tr>\n",
       "    <tr>\n",
       "      <th>4</th>\n",
       "      <td>5</td>\n",
       "      <td>Адель</td>\n",
       "      <td>28</td>\n",
       "      <td>Омск</td>\n",
       "      <td>ultra</td>\n",
       "    </tr>\n",
       "  </tbody>\n",
       "</table>\n",
       "</div>"
      ],
      "text/plain": [
       "   user_id        name  age            city subscription_type\n",
       "0        1        Кира   22          Тюмень             ultra\n",
       "1        2   Станислав   31            Омск             ultra\n",
       "2        3     Алексей   20          Москва             ultra\n",
       "3        4  Константин   26  Ростов-на-Дону             ultra\n",
       "4        5       Адель   28            Омск             ultra"
      ]
     },
     "metadata": {},
     "output_type": "display_data"
    },
    {
     "data": {
      "text/html": [
       "<div>\n",
       "<style scoped>\n",
       "    .dataframe tbody tr th:only-of-type {\n",
       "        vertical-align: middle;\n",
       "    }\n",
       "\n",
       "    .dataframe tbody tr th {\n",
       "        vertical-align: top;\n",
       "    }\n",
       "\n",
       "    .dataframe thead th {\n",
       "        text-align: right;\n",
       "    }\n",
       "</style>\n",
       "<table border=\"1\" class=\"dataframe\">\n",
       "  <thead>\n",
       "    <tr style=\"text-align: right;\">\n",
       "      <th></th>\n",
       "      <th>user_id</th>\n",
       "      <th>distance</th>\n",
       "      <th>duration</th>\n",
       "      <th>date</th>\n",
       "    </tr>\n",
       "  </thead>\n",
       "  <tbody>\n",
       "    <tr>\n",
       "      <th>0</th>\n",
       "      <td>1</td>\n",
       "      <td>4409.919140</td>\n",
       "      <td>25.599769</td>\n",
       "      <td>2021-01-01</td>\n",
       "    </tr>\n",
       "    <tr>\n",
       "      <th>1</th>\n",
       "      <td>1</td>\n",
       "      <td>2617.592153</td>\n",
       "      <td>15.816871</td>\n",
       "      <td>2021-01-18</td>\n",
       "    </tr>\n",
       "    <tr>\n",
       "      <th>2</th>\n",
       "      <td>1</td>\n",
       "      <td>754.159807</td>\n",
       "      <td>6.232113</td>\n",
       "      <td>2021-04-20</td>\n",
       "    </tr>\n",
       "    <tr>\n",
       "      <th>3</th>\n",
       "      <td>1</td>\n",
       "      <td>2694.783254</td>\n",
       "      <td>18.511000</td>\n",
       "      <td>2021-08-11</td>\n",
       "    </tr>\n",
       "    <tr>\n",
       "      <th>4</th>\n",
       "      <td>1</td>\n",
       "      <td>4028.687306</td>\n",
       "      <td>26.265803</td>\n",
       "      <td>2021-08-28</td>\n",
       "    </tr>\n",
       "  </tbody>\n",
       "</table>\n",
       "</div>"
      ],
      "text/plain": [
       "   user_id     distance   duration        date\n",
       "0        1  4409.919140  25.599769  2021-01-01\n",
       "1        1  2617.592153  15.816871  2021-01-18\n",
       "2        1   754.159807   6.232113  2021-04-20\n",
       "3        1  2694.783254  18.511000  2021-08-11\n",
       "4        1  4028.687306  26.265803  2021-08-28"
      ]
     },
     "metadata": {},
     "output_type": "display_data"
    },
    {
     "data": {
      "text/html": [
       "<div>\n",
       "<style scoped>\n",
       "    .dataframe tbody tr th:only-of-type {\n",
       "        vertical-align: middle;\n",
       "    }\n",
       "\n",
       "    .dataframe tbody tr th {\n",
       "        vertical-align: top;\n",
       "    }\n",
       "\n",
       "    .dataframe thead th {\n",
       "        text-align: right;\n",
       "    }\n",
       "</style>\n",
       "<table border=\"1\" class=\"dataframe\">\n",
       "  <thead>\n",
       "    <tr style=\"text-align: right;\">\n",
       "      <th></th>\n",
       "      <th>subscription_type</th>\n",
       "      <th>minute_price</th>\n",
       "      <th>start_ride_price</th>\n",
       "      <th>subscription_fee</th>\n",
       "    </tr>\n",
       "  </thead>\n",
       "  <tbody>\n",
       "    <tr>\n",
       "      <th>0</th>\n",
       "      <td>free</td>\n",
       "      <td>8</td>\n",
       "      <td>50</td>\n",
       "      <td>0</td>\n",
       "    </tr>\n",
       "    <tr>\n",
       "      <th>1</th>\n",
       "      <td>ultra</td>\n",
       "      <td>6</td>\n",
       "      <td>0</td>\n",
       "      <td>199</td>\n",
       "    </tr>\n",
       "  </tbody>\n",
       "</table>\n",
       "</div>"
      ],
      "text/plain": [
       "  subscription_type  minute_price  start_ride_price  subscription_fee\n",
       "0              free             8                50                 0\n",
       "1             ultra             6                 0               199"
      ]
     },
     "execution_count": 3,
     "metadata": {},
     "output_type": "execute_result"
    }
   ],
   "source": [
    "display(users.head())\n",
    "display(rides.head())\n",
    "subs.head()"
   ]
  },
  {
   "cell_type": "markdown",
   "id": "e95ebca7",
   "metadata": {},
   "source": [
    "## Шаг 2. Предобработка данных"
   ]
  },
  {
   "cell_type": "code",
   "execution_count": 4,
   "id": "af6d202c",
   "metadata": {},
   "outputs": [
    {
     "name": "stdout",
     "output_type": "stream",
     "text": [
      "Число дубликатов в users: 31\n",
      "Число дубликатов в rides: 0\n"
     ]
    }
   ],
   "source": [
    "#Проверяем количесвто строк-будликатов в таблицах. В subs их очевидно нет\n",
    "print('Число дубликатов в users:', users.duplicated().sum())\n",
    "print('Число дубликатов в rides:', rides.duplicated().sum())"
   ]
  },
  {
   "cell_type": "code",
   "execution_count": 5,
   "id": "053f29e4",
   "metadata": {},
   "outputs": [
    {
     "name": "stdout",
     "output_type": "stream",
     "text": [
      "<class 'pandas.core.frame.DataFrame'>\n",
      "RangeIndex: 18068 entries, 0 to 18067\n",
      "Data columns (total 4 columns):\n",
      " #   Column    Non-Null Count  Dtype         \n",
      "---  ------    --------------  -----         \n",
      " 0   user_id   18068 non-null  int64         \n",
      " 1   distance  18068 non-null  float64       \n",
      " 2   duration  18068 non-null  float64       \n",
      " 3   date      18068 non-null  datetime64[ns]\n",
      "dtypes: datetime64[ns](1), float64(2), int64(1)\n",
      "memory usage: 564.8 KB\n"
     ]
    }
   ],
   "source": [
    "#Меняем формат колонки с датой поездки\n",
    "rides['date'] = pd.to_datetime(rides['date'], format='%Y-%m-%d')\n",
    "rides.info()"
   ]
  },
  {
   "cell_type": "code",
   "execution_count": 6,
   "id": "05b9f750",
   "metadata": {},
   "outputs": [
    {
     "data": {
      "text/plain": [
       "array([ 1,  4,  8, 10, 11, 12,  3,  6,  7,  2,  5,  9], dtype=int64)"
      ]
     },
     "execution_count": 6,
     "metadata": {},
     "output_type": "execute_result"
    }
   ],
   "source": [
    "#добавляем колонку с месяцем поездки\n",
    "rides['month'] = pd.DatetimeIndex(rides['date']).month\n",
    "rides['month'].unique()"
   ]
  },
  {
   "cell_type": "code",
   "execution_count": 7,
   "id": "210bc2e1",
   "metadata": {},
   "outputs": [
    {
     "data": {
      "text/plain": [
       "1534"
      ]
     },
     "execution_count": 7,
     "metadata": {},
     "output_type": "execute_result"
    }
   ],
   "source": [
    "#удаляем дубликаты\n",
    "users = users.drop_duplicates().reset_index(drop='True')\n",
    "len(users) #проверяем количество строк"
   ]
  },
  {
   "cell_type": "markdown",
   "id": "aac82896",
   "metadata": {},
   "source": [
    "*Вывод: Поменяли формат данных в столбце date в rides и создали новую колонку с номером месяца поездки. Удалили дубликаты в users, осталость 1534 записи.*"
   ]
  },
  {
   "cell_type": "markdown",
   "id": "212593c7",
   "metadata": {},
   "source": [
    "## Шаг 3. Исследовательский анализ данных"
   ]
  },
  {
   "cell_type": "markdown",
   "id": "72c0f46c",
   "metadata": {},
   "source": [
    "3.1 Частота встречаемости городов"
   ]
  },
  {
   "cell_type": "code",
   "execution_count": 8,
   "id": "55090e94",
   "metadata": {},
   "outputs": [
    {
     "data": {
      "text/html": [
       "<div>\n",
       "<style scoped>\n",
       "    .dataframe tbody tr th:only-of-type {\n",
       "        vertical-align: middle;\n",
       "    }\n",
       "\n",
       "    .dataframe tbody tr th {\n",
       "        vertical-align: top;\n",
       "    }\n",
       "\n",
       "    .dataframe thead th {\n",
       "        text-align: right;\n",
       "    }\n",
       "</style>\n",
       "<table border=\"1\" class=\"dataframe\">\n",
       "  <thead>\n",
       "    <tr style=\"text-align: right;\">\n",
       "      <th></th>\n",
       "      <th>users</th>\n",
       "    </tr>\n",
       "    <tr>\n",
       "      <th>city</th>\n",
       "      <th></th>\n",
       "    </tr>\n",
       "  </thead>\n",
       "  <tbody>\n",
       "    <tr>\n",
       "      <th>Пятигорск</th>\n",
       "      <td>219</td>\n",
       "    </tr>\n",
       "    <tr>\n",
       "      <th>Екатеринбург</th>\n",
       "      <td>204</td>\n",
       "    </tr>\n",
       "    <tr>\n",
       "      <th>Ростов-на-Дону</th>\n",
       "      <td>198</td>\n",
       "    </tr>\n",
       "    <tr>\n",
       "      <th>Краснодар</th>\n",
       "      <td>193</td>\n",
       "    </tr>\n",
       "    <tr>\n",
       "      <th>Сочи</th>\n",
       "      <td>189</td>\n",
       "    </tr>\n",
       "    <tr>\n",
       "      <th>Омск</th>\n",
       "      <td>183</td>\n",
       "    </tr>\n",
       "    <tr>\n",
       "      <th>Тюмень</th>\n",
       "      <td>180</td>\n",
       "    </tr>\n",
       "    <tr>\n",
       "      <th>Москва</th>\n",
       "      <td>168</td>\n",
       "    </tr>\n",
       "  </tbody>\n",
       "</table>\n",
       "</div>"
      ],
      "text/plain": [
       "                users\n",
       "city                 \n",
       "Пятигорск         219\n",
       "Екатеринбург      204\n",
       "Ростов-на-Дону    198\n",
       "Краснодар         193\n",
       "Сочи              189\n",
       "Омск              183\n",
       "Тюмень            180\n",
       "Москва            168"
      ]
     },
     "execution_count": 8,
     "metadata": {},
     "output_type": "execute_result"
    }
   ],
   "source": [
    "#Считаем количество пользователей в городах с помощью сводной таблицы\n",
    "city_pivot = users.pivot_table(index='city', values='user_id', aggfunc='count')\n",
    "city_pivot_sorted = city_pivot.sort_values(by='user_id', ascending=False)\n",
    "city_pivot_sorted.columns = ['users']\n",
    "city_pivot_sorted"
   ]
  },
  {
   "cell_type": "code",
   "execution_count": 9,
   "id": "a1a0d356",
   "metadata": {},
   "outputs": [
    {
     "data": {
      "image/png": "[encoded data removed]",
      "text/plain": [
       "<Figure size 640x480 with 1 Axes>"
      ]
     },
     "metadata": {},
     "output_type": "display_data"
    }
   ],
   "source": [
    "city_pivot_sorted.plot(kind='barh',\n",
    "                       grid=True,\n",
    "                       title='Количесвто пользователей в городах');\n",
    "plt.ylabel('Город')\n",
    "plt.xlabel('Количество пользователей');"
   ]
  },
  {
   "cell_type": "markdown",
   "id": "d22c9099",
   "metadata": {},
   "source": [
    "Из графика видно, что количество пользователей сервиса больше всего в Пятигорске и Екатеринбурге, а меньше всего в Москве, где высокая конкуренция среди подобных сервисов."
   ]
  },
  {
   "cell_type": "markdown",
   "id": "e2f7f105",
   "metadata": {},
   "source": [
    "3.2 Доля пользователей с подпиской и без подписки"
   ]
  },
  {
   "cell_type": "code",
   "execution_count": 10,
   "id": "dbabb090",
   "metadata": {},
   "outputs": [
    {
     "name": "stdout",
     "output_type": "stream",
     "text": [
      "Количество пользователей с подпиской ultra: 699\n",
      "Количество пользователей без подписки: 835\n"
     ]
    }
   ],
   "source": [
    "num_ultra = len(users[users['subscription_type'] == \"ultra\"])\n",
    "num_free = len(users[users['subscription_type'] == \"free\"])\n",
    "print('Количество пользователей с подпиской ultra:', num_ultra)\n",
    "print('Количество пользователей без подписки:', num_free)"
   ]
  },
  {
   "cell_type": "code",
   "execution_count": 11,
   "id": "9fb9568e",
   "metadata": {},
   "outputs": [
    {
     "data": {
      "image/png": "[encoded data removed]",
      "text/plain": [
       "<Figure size 640x480 with 1 Axes>"
      ]
     },
     "metadata": {},
     "output_type": "display_data"
    }
   ],
   "source": [
    "subs_pivot = users.pivot_table(index='subscription_type', values='user_id', aggfunc='count')\n",
    "subs_pivot.plot(kind='pie', y='user_id', autopct='%1.1f%%')\n",
    "plt.title('Доли пользователей с подпиской и без');"
   ]
  },
  {
   "cell_type": "markdown",
   "id": "a040870f",
   "metadata": {},
   "source": [
    "Пользователей без платной подписки на 8,8% больше"
   ]
  },
  {
   "cell_type": "markdown",
   "id": "95f68ce5",
   "metadata": {},
   "source": [
    "3.3 Возраст пользователей"
   ]
  },
  {
   "cell_type": "code",
   "execution_count": 12,
   "id": "05a55af9",
   "metadata": {},
   "outputs": [
    {
     "data": {
      "image/png": "[encoded data removed]",
      "text/plain": [
       "<Figure size 900x500 with 1 Axes>"
      ]
     },
     "metadata": {},
     "output_type": "display_data"
    }
   ],
   "source": [
    "#Строим гистограмму распределения пользователей по возрастам\n",
    "users.hist(column='age',\n",
    "           bins = 100,\n",
    "           grid=True,\n",
    "           figsize = (9,5))\n",
    "plt.ylabel('Количество пользователей')\n",
    "plt.xlabel('Возраст пользователей')\n",
    "plt.title('Распределение пользователей по возрастам');"
   ]
  },
  {
   "cell_type": "code",
   "execution_count": 13,
   "id": "579c65e1",
   "metadata": {},
   "outputs": [
    {
     "data": {
      "text/plain": [
       "count    1534.000000\n",
       "mean       24.903520\n",
       "std         4.572367\n",
       "min        12.000000\n",
       "25%        22.000000\n",
       "50%        25.000000\n",
       "75%        28.000000\n",
       "max        43.000000\n",
       "Name: age, dtype: float64"
      ]
     },
     "execution_count": 13,
     "metadata": {},
     "output_type": "execute_result"
    }
   ],
   "source": [
    "users['age'].describe()"
   ]
  },
  {
   "cell_type": "markdown",
   "id": "428e72ef",
   "metadata": {},
   "source": [
    "Распределение пользователей по возрасту имеет нормальный характер, медиана почти равна среднему значению 25 лет, это же значение является модой. Самому взрослому пользователю всего 43 года, а самому юному - 12 лет."
   ]
  },
  {
   "cell_type": "markdown",
   "id": "69b9d3b1",
   "metadata": {},
   "source": [
    "3.4 - 3.5 Расстояние, которое пользователь преодолел за одну поездку и продолжительность поездок"
   ]
  },
  {
   "cell_type": "code",
   "execution_count": 14,
   "id": "af7b799f",
   "metadata": {},
   "outputs": [
    {
     "data": {
      "image/png": "[encoded data removed]",
      "text/plain": [
       "<Figure size 1500x500 with 2 Axes>"
      ]
     },
     "metadata": {},
     "output_type": "display_data"
    }
   ],
   "source": [
    "# Строим гистограммы распределения расстояний и длительности поездок\n",
    "distance = rides['distance']\n",
    "duration = rides['duration']\n",
    "fig, (ax1, ax2) = plt.subplots(1,2, figsize=(15,5))\n",
    "\n",
    "ax1.hist(distance, bins = 100, edgecolor='black');\n",
    "ax1.set_title('Расстояния поездок пользователей')\n",
    "ax1.set_xlabel('Расстояния поездок, м')\n",
    "ax1.grid(True)\n",
    "ax1.set_ylabel('Количество поездок');\n",
    "\n",
    "ax2.hist(duration, bins = 100, edgecolor='black');\n",
    "ax2.set_title(\"Длительность поездок пользователей\")\n",
    "ax2.set_xlabel('Длительность поездок, мин')\n",
    "ax2.grid(True);"
   ]
  },
  {
   "cell_type": "code",
   "execution_count": 15,
   "id": "abfeab09",
   "metadata": {},
   "outputs": [
    {
     "data": {
      "image/png": "[encoded data removed]",
      "text/plain": [
       "<Figure size 900x500 with 1 Axes>"
      ]
     },
     "metadata": {},
     "output_type": "display_data"
    }
   ],
   "source": [
    "# Проверяем выброс рядом с 0.\n",
    "rides.hist(column='duration',\n",
    "           bins = 100,\n",
    "           grid=True, \n",
    "           figsize = (9,5),\n",
    "           range=(0,5));\n",
    "plt.ylabel('Количество поездок')\n",
    "plt.xlabel('Длительность поездок');"
   ]
  },
  {
   "cell_type": "code",
   "execution_count": 16,
   "id": "6d07f735",
   "metadata": {},
   "outputs": [
    {
     "data": {
      "text/html": [
       "<div>\n",
       "<style scoped>\n",
       "    .dataframe tbody tr th:only-of-type {\n",
       "        vertical-align: middle;\n",
       "    }\n",
       "\n",
       "    .dataframe tbody tr th {\n",
       "        vertical-align: top;\n",
       "    }\n",
       "\n",
       "    .dataframe thead th {\n",
       "        text-align: right;\n",
       "    }\n",
       "</style>\n",
       "<table border=\"1\" class=\"dataframe\">\n",
       "  <thead>\n",
       "    <tr style=\"text-align: right;\">\n",
       "      <th></th>\n",
       "      <th>user_id</th>\n",
       "      <th>distance</th>\n",
       "      <th>duration</th>\n",
       "      <th>date</th>\n",
       "      <th>month</th>\n",
       "    </tr>\n",
       "  </thead>\n",
       "  <tbody>\n",
       "    <tr>\n",
       "      <th>6531</th>\n",
       "      <td>701</td>\n",
       "      <td>4196.445201</td>\n",
       "      <td>0.5</td>\n",
       "      <td>2021-08-31</td>\n",
       "      <td>8</td>\n",
       "    </tr>\n",
       "    <tr>\n",
       "      <th>6570</th>\n",
       "      <td>704</td>\n",
       "      <td>4830.824371</td>\n",
       "      <td>0.5</td>\n",
       "      <td>2021-10-14</td>\n",
       "      <td>10</td>\n",
       "    </tr>\n",
       "    <tr>\n",
       "      <th>6680</th>\n",
       "      <td>712</td>\n",
       "      <td>4684.004397</td>\n",
       "      <td>0.5</td>\n",
       "      <td>2021-03-04</td>\n",
       "      <td>3</td>\n",
       "    </tr>\n",
       "    <tr>\n",
       "      <th>6695</th>\n",
       "      <td>713</td>\n",
       "      <td>5215.642710</td>\n",
       "      <td>0.5</td>\n",
       "      <td>2021-02-25</td>\n",
       "      <td>2</td>\n",
       "    </tr>\n",
       "    <tr>\n",
       "      <th>6768</th>\n",
       "      <td>718</td>\n",
       "      <td>5197.436649</td>\n",
       "      <td>0.5</td>\n",
       "      <td>2021-02-11</td>\n",
       "      <td>2</td>\n",
       "    </tr>\n",
       "  </tbody>\n",
       "</table>\n",
       "</div>"
      ],
      "text/plain": [
       "      user_id     distance  duration       date  month\n",
       "6531      701  4196.445201       0.5 2021-08-31      8\n",
       "6570      704  4830.824371       0.5 2021-10-14     10\n",
       "6680      712  4684.004397       0.5 2021-03-04      3\n",
       "6695      713  5215.642710       0.5 2021-02-25      2\n",
       "6768      718  5197.436649       0.5 2021-02-11      2"
      ]
     },
     "execution_count": 16,
     "metadata": {},
     "output_type": "execute_result"
    }
   ],
   "source": [
    "#Около 90 значений длительности поездки 0,5 - явный сбой.\n",
    "rides.loc[rides['duration'] == 0.5].head()"
   ]
  },
  {
   "cell_type": "code",
   "execution_count": 17,
   "id": "444e5b60",
   "metadata": {},
   "outputs": [
    {
     "data": {
      "text/html": [
       "<div>\n",
       "<style scoped>\n",
       "    .dataframe tbody tr th:only-of-type {\n",
       "        vertical-align: middle;\n",
       "    }\n",
       "\n",
       "    .dataframe tbody tr th {\n",
       "        vertical-align: top;\n",
       "    }\n",
       "\n",
       "    .dataframe thead th {\n",
       "        text-align: right;\n",
       "    }\n",
       "</style>\n",
       "<table border=\"1\" class=\"dataframe\">\n",
       "  <thead>\n",
       "    <tr style=\"text-align: right;\">\n",
       "      <th></th>\n",
       "      <th>distance</th>\n",
       "      <th>duration</th>\n",
       "    </tr>\n",
       "  </thead>\n",
       "  <tbody>\n",
       "    <tr>\n",
       "      <th>count</th>\n",
       "      <td>18068.000000</td>\n",
       "      <td>18068.000000</td>\n",
       "    </tr>\n",
       "    <tr>\n",
       "      <th>mean</th>\n",
       "      <td>3070.659976</td>\n",
       "      <td>17.805011</td>\n",
       "    </tr>\n",
       "    <tr>\n",
       "      <th>std</th>\n",
       "      <td>1116.831209</td>\n",
       "      <td>6.091051</td>\n",
       "    </tr>\n",
       "    <tr>\n",
       "      <th>min</th>\n",
       "      <td>0.855683</td>\n",
       "      <td>0.500000</td>\n",
       "    </tr>\n",
       "    <tr>\n",
       "      <th>25%</th>\n",
       "      <td>2543.226360</td>\n",
       "      <td>13.597563</td>\n",
       "    </tr>\n",
       "    <tr>\n",
       "      <th>50%</th>\n",
       "      <td>3133.609994</td>\n",
       "      <td>17.678395</td>\n",
       "    </tr>\n",
       "    <tr>\n",
       "      <th>75%</th>\n",
       "      <td>3776.222735</td>\n",
       "      <td>21.724800</td>\n",
       "    </tr>\n",
       "    <tr>\n",
       "      <th>max</th>\n",
       "      <td>7211.007745</td>\n",
       "      <td>40.823963</td>\n",
       "    </tr>\n",
       "  </tbody>\n",
       "</table>\n",
       "</div>"
      ],
      "text/plain": [
       "           distance      duration\n",
       "count  18068.000000  18068.000000\n",
       "mean    3070.659976     17.805011\n",
       "std     1116.831209      6.091051\n",
       "min        0.855683      0.500000\n",
       "25%     2543.226360     13.597563\n",
       "50%     3133.609994     17.678395\n",
       "75%     3776.222735     21.724800\n",
       "max     7211.007745     40.823963"
      ]
     },
     "execution_count": 17,
     "metadata": {},
     "output_type": "execute_result"
    }
   ],
   "source": [
    "rides[['distance', 'duration']].describe()"
   ]
  },
  {
   "cell_type": "code",
   "execution_count": 40,
   "id": "dd8ede94",
   "metadata": {},
   "outputs": [
    {
     "data": {
      "image/png": "[encoded data removed]",
      "text/plain": [
       "<Figure size 640x480 with 1 Axes>"
      ]
     },
     "metadata": {},
     "output_type": "display_data"
    }
   ],
   "source": [
    "#Проверим как связаны расстояния поездок и их длительность\n",
    "rides.plot(x='distance', y='duration', kind='scatter', alpha=0.2);\n",
    "plt.ylabel('Длительность поездок')\n",
    "plt.xlabel('Расстояние поездок')\n",
    "plt.title('Корреляция между длительностью и расстоянием поездок');"
   ]
  },
  {
   "cell_type": "markdown",
   "id": "027263be",
   "metadata": {},
   "source": [
    "*Вывод: Пользователей без платной подписки на 8,8% больше чем без. Самый популярный возраст пользователей - 25 лет. Самому взрослому пользователю всего 43 года, а самому юному - 12 лет. Длительность поездок пользователей распределена нормально. Судя по гистограме расстояний можно выделить категорию коротких поездок до 1,5 км, возможно, пробных, большая же часть поездок от 2,5 км до 4 км. Среднее расстояние и медиана в районе 3,1 км,а среднее время поездки 17 минут. Дольше 35 минут почти не катаются. Обнаружены аномальные значения длительности поездки, которые проверим после объединения данных, возможно это сбой одного самоката, определить его мы не можем, но можно проверить в одном это городе происходит или нет. Можно также заметить по диаграмме рассеяния, что эти сбои происходят только на длительных поездках от 4 км. Количество этих данных незначительно, 95 случаев из 18 тысяч, можно удалить. Также довольно подозрительны поездки с очень маленькой дистанцией. Они могут говорить о проблемах с самокатами (поломка или разряжен). Их также проверим чуть позже.*"
   ]
  },
  {
   "cell_type": "markdown",
   "id": "1a4bd737",
   "metadata": {},
   "source": [
    "## Шаг 4. Объединение данных"
   ]
  },
  {
   "cell_type": "code",
   "execution_count": 19,
   "id": "085122ff",
   "metadata": {},
   "outputs": [
    {
     "data": {
      "text/html": [
       "<div>\n",
       "<style scoped>\n",
       "    .dataframe tbody tr th:only-of-type {\n",
       "        vertical-align: middle;\n",
       "    }\n",
       "\n",
       "    .dataframe tbody tr th {\n",
       "        vertical-align: top;\n",
       "    }\n",
       "\n",
       "    .dataframe thead th {\n",
       "        text-align: right;\n",
       "    }\n",
       "</style>\n",
       "<table border=\"1\" class=\"dataframe\">\n",
       "  <thead>\n",
       "    <tr style=\"text-align: right;\">\n",
       "      <th></th>\n",
       "      <th>user_id</th>\n",
       "      <th>distance</th>\n",
       "      <th>duration</th>\n",
       "      <th>date</th>\n",
       "      <th>month</th>\n",
       "      <th>name</th>\n",
       "      <th>age</th>\n",
       "      <th>city</th>\n",
       "      <th>subscription_type</th>\n",
       "    </tr>\n",
       "  </thead>\n",
       "  <tbody>\n",
       "    <tr>\n",
       "      <th>0</th>\n",
       "      <td>1</td>\n",
       "      <td>4409.919140</td>\n",
       "      <td>25.599769</td>\n",
       "      <td>2021-01-01</td>\n",
       "      <td>1</td>\n",
       "      <td>Кира</td>\n",
       "      <td>22</td>\n",
       "      <td>Тюмень</td>\n",
       "      <td>ultra</td>\n",
       "    </tr>\n",
       "    <tr>\n",
       "      <th>1</th>\n",
       "      <td>1</td>\n",
       "      <td>2617.592153</td>\n",
       "      <td>15.816871</td>\n",
       "      <td>2021-01-18</td>\n",
       "      <td>1</td>\n",
       "      <td>Кира</td>\n",
       "      <td>22</td>\n",
       "      <td>Тюмень</td>\n",
       "      <td>ultra</td>\n",
       "    </tr>\n",
       "    <tr>\n",
       "      <th>2</th>\n",
       "      <td>1</td>\n",
       "      <td>754.159807</td>\n",
       "      <td>6.232113</td>\n",
       "      <td>2021-04-20</td>\n",
       "      <td>4</td>\n",
       "      <td>Кира</td>\n",
       "      <td>22</td>\n",
       "      <td>Тюмень</td>\n",
       "      <td>ultra</td>\n",
       "    </tr>\n",
       "    <tr>\n",
       "      <th>3</th>\n",
       "      <td>1</td>\n",
       "      <td>2694.783254</td>\n",
       "      <td>18.511000</td>\n",
       "      <td>2021-08-11</td>\n",
       "      <td>8</td>\n",
       "      <td>Кира</td>\n",
       "      <td>22</td>\n",
       "      <td>Тюмень</td>\n",
       "      <td>ultra</td>\n",
       "    </tr>\n",
       "    <tr>\n",
       "      <th>4</th>\n",
       "      <td>1</td>\n",
       "      <td>4028.687306</td>\n",
       "      <td>26.265803</td>\n",
       "      <td>2021-08-28</td>\n",
       "      <td>8</td>\n",
       "      <td>Кира</td>\n",
       "      <td>22</td>\n",
       "      <td>Тюмень</td>\n",
       "      <td>ultra</td>\n",
       "    </tr>\n",
       "  </tbody>\n",
       "</table>\n",
       "</div>"
      ],
      "text/plain": [
       "   user_id     distance   duration       date  month  name  age    city  \\\n",
       "0        1  4409.919140  25.599769 2021-01-01      1  Кира   22  Тюмень   \n",
       "1        1  2617.592153  15.816871 2021-01-18      1  Кира   22  Тюмень   \n",
       "2        1   754.159807   6.232113 2021-04-20      4  Кира   22  Тюмень   \n",
       "3        1  2694.783254  18.511000 2021-08-11      8  Кира   22  Тюмень   \n",
       "4        1  4028.687306  26.265803 2021-08-28      8  Кира   22  Тюмень   \n",
       "\n",
       "  subscription_type  \n",
       "0             ultra  \n",
       "1             ultra  \n",
       "2             ultra  \n",
       "3             ultra  \n",
       "4             ultra  "
      ]
     },
     "execution_count": 19,
     "metadata": {},
     "output_type": "execute_result"
    }
   ],
   "source": [
    "#Сначала объединяем пользователей с поездками в одну таблицу по общей колонке user_id\n",
    "rides_users = rides.merge(users, on='user_id', how='left')\n",
    "rides_users.head()"
   ]
  },
  {
   "cell_type": "code",
   "execution_count": 20,
   "id": "cd3cc5de",
   "metadata": {},
   "outputs": [
    {
     "data": {
      "text/html": [
       "<div>\n",
       "<style scoped>\n",
       "    .dataframe tbody tr th:only-of-type {\n",
       "        vertical-align: middle;\n",
       "    }\n",
       "\n",
       "    .dataframe tbody tr th {\n",
       "        vertical-align: top;\n",
       "    }\n",
       "\n",
       "    .dataframe thead th {\n",
       "        text-align: right;\n",
       "    }\n",
       "</style>\n",
       "<table border=\"1\" class=\"dataframe\">\n",
       "  <thead>\n",
       "    <tr style=\"text-align: right;\">\n",
       "      <th></th>\n",
       "      <th>user_id</th>\n",
       "      <th>distance</th>\n",
       "      <th>duration</th>\n",
       "      <th>date</th>\n",
       "      <th>month</th>\n",
       "      <th>name</th>\n",
       "      <th>age</th>\n",
       "      <th>city</th>\n",
       "      <th>subscription_type</th>\n",
       "      <th>minute_price</th>\n",
       "      <th>start_ride_price</th>\n",
       "      <th>subscription_fee</th>\n",
       "    </tr>\n",
       "  </thead>\n",
       "  <tbody>\n",
       "    <tr>\n",
       "      <th>0</th>\n",
       "      <td>1</td>\n",
       "      <td>4409.919140</td>\n",
       "      <td>25.599769</td>\n",
       "      <td>2021-01-01</td>\n",
       "      <td>1</td>\n",
       "      <td>Кира</td>\n",
       "      <td>22</td>\n",
       "      <td>Тюмень</td>\n",
       "      <td>ultra</td>\n",
       "      <td>6</td>\n",
       "      <td>0</td>\n",
       "      <td>199</td>\n",
       "    </tr>\n",
       "    <tr>\n",
       "      <th>1</th>\n",
       "      <td>1</td>\n",
       "      <td>2617.592153</td>\n",
       "      <td>15.816871</td>\n",
       "      <td>2021-01-18</td>\n",
       "      <td>1</td>\n",
       "      <td>Кира</td>\n",
       "      <td>22</td>\n",
       "      <td>Тюмень</td>\n",
       "      <td>ultra</td>\n",
       "      <td>6</td>\n",
       "      <td>0</td>\n",
       "      <td>199</td>\n",
       "    </tr>\n",
       "    <tr>\n",
       "      <th>2</th>\n",
       "      <td>1</td>\n",
       "      <td>754.159807</td>\n",
       "      <td>6.232113</td>\n",
       "      <td>2021-04-20</td>\n",
       "      <td>4</td>\n",
       "      <td>Кира</td>\n",
       "      <td>22</td>\n",
       "      <td>Тюмень</td>\n",
       "      <td>ultra</td>\n",
       "      <td>6</td>\n",
       "      <td>0</td>\n",
       "      <td>199</td>\n",
       "    </tr>\n",
       "    <tr>\n",
       "      <th>3</th>\n",
       "      <td>1</td>\n",
       "      <td>2694.783254</td>\n",
       "      <td>18.511000</td>\n",
       "      <td>2021-08-11</td>\n",
       "      <td>8</td>\n",
       "      <td>Кира</td>\n",
       "      <td>22</td>\n",
       "      <td>Тюмень</td>\n",
       "      <td>ultra</td>\n",
       "      <td>6</td>\n",
       "      <td>0</td>\n",
       "      <td>199</td>\n",
       "    </tr>\n",
       "    <tr>\n",
       "      <th>4</th>\n",
       "      <td>1</td>\n",
       "      <td>4028.687306</td>\n",
       "      <td>26.265803</td>\n",
       "      <td>2021-08-28</td>\n",
       "      <td>8</td>\n",
       "      <td>Кира</td>\n",
       "      <td>22</td>\n",
       "      <td>Тюмень</td>\n",
       "      <td>ultra</td>\n",
       "      <td>6</td>\n",
       "      <td>0</td>\n",
       "      <td>199</td>\n",
       "    </tr>\n",
       "  </tbody>\n",
       "</table>\n",
       "</div>"
      ],
      "text/plain": [
       "   user_id     distance   duration       date  month  name  age    city  \\\n",
       "0        1  4409.919140  25.599769 2021-01-01      1  Кира   22  Тюмень   \n",
       "1        1  2617.592153  15.816871 2021-01-18      1  Кира   22  Тюмень   \n",
       "2        1   754.159807   6.232113 2021-04-20      4  Кира   22  Тюмень   \n",
       "3        1  2694.783254  18.511000 2021-08-11      8  Кира   22  Тюмень   \n",
       "4        1  4028.687306  26.265803 2021-08-28      8  Кира   22  Тюмень   \n",
       "\n",
       "  subscription_type  minute_price  start_ride_price  subscription_fee  \n",
       "0             ultra             6                 0               199  \n",
       "1             ultra             6                 0               199  \n",
       "2             ultra             6                 0               199  \n",
       "3             ultra             6                 0               199  \n",
       "4             ultra             6                 0               199  "
      ]
     },
     "execution_count": 20,
     "metadata": {},
     "output_type": "execute_result"
    }
   ],
   "source": [
    "#Далее объединяем полученную таблицу с данными о подписках по общей колонке subscription_type\n",
    "data_un = rides_users.merge(subs, on='subscription_type', how='left')\n",
    "data_un.head()"
   ]
  },
  {
   "cell_type": "code",
   "execution_count": 21,
   "id": "038bd0c0",
   "metadata": {
    "scrolled": true
   },
   "outputs": [
    {
     "name": "stdout",
     "output_type": "stream",
     "text": [
      "<class 'pandas.core.frame.DataFrame'>\n",
      "Int64Index: 18068 entries, 0 to 18067\n",
      "Data columns (total 12 columns):\n",
      " #   Column             Non-Null Count  Dtype         \n",
      "---  ------             --------------  -----         \n",
      " 0   user_id            18068 non-null  int64         \n",
      " 1   distance           18068 non-null  float64       \n",
      " 2   duration           18068 non-null  float64       \n",
      " 3   date               18068 non-null  datetime64[ns]\n",
      " 4   month              18068 non-null  int64         \n",
      " 5   name               18068 non-null  object        \n",
      " 6   age                18068 non-null  int64         \n",
      " 7   city               18068 non-null  object        \n",
      " 8   subscription_type  18068 non-null  object        \n",
      " 9   minute_price       18068 non-null  int64         \n",
      " 10  start_ride_price   18068 non-null  int64         \n",
      " 11  subscription_fee   18068 non-null  int64         \n",
      "dtypes: datetime64[ns](1), float64(2), int64(6), object(3)\n",
      "memory usage: 1.8+ MB\n"
     ]
    }
   ],
   "source": [
    "#Проверяем итоговый датафрейм\n",
    "data_un.info()"
   ]
  },
  {
   "cell_type": "markdown",
   "id": "df6d20dd",
   "metadata": {},
   "source": [
    "Количество строк осталось тем же. Пропусков нет."
   ]
  },
  {
   "cell_type": "code",
   "execution_count": 22,
   "id": "8b158a32",
   "metadata": {},
   "outputs": [
    {
     "data": {
      "text/html": [
       "<div>\n",
       "<style scoped>\n",
       "    .dataframe tbody tr th:only-of-type {\n",
       "        vertical-align: middle;\n",
       "    }\n",
       "\n",
       "    .dataframe tbody tr th {\n",
       "        vertical-align: top;\n",
       "    }\n",
       "\n",
       "    .dataframe thead th {\n",
       "        text-align: right;\n",
       "    }\n",
       "</style>\n",
       "<table border=\"1\" class=\"dataframe\">\n",
       "  <thead>\n",
       "    <tr style=\"text-align: right;\">\n",
       "      <th></th>\n",
       "      <th>user_id</th>\n",
       "      <th>distance</th>\n",
       "      <th>duration</th>\n",
       "      <th>date</th>\n",
       "      <th>month</th>\n",
       "      <th>name</th>\n",
       "      <th>age</th>\n",
       "      <th>city</th>\n",
       "      <th>subscription_type</th>\n",
       "    </tr>\n",
       "  </thead>\n",
       "  <tbody>\n",
       "    <tr>\n",
       "      <th>6531</th>\n",
       "      <td>701</td>\n",
       "      <td>4196.445201</td>\n",
       "      <td>0.5</td>\n",
       "      <td>2021-08-31</td>\n",
       "      <td>8</td>\n",
       "      <td>Иван</td>\n",
       "      <td>31</td>\n",
       "      <td>Екатеринбург</td>\n",
       "      <td>free</td>\n",
       "    </tr>\n",
       "    <tr>\n",
       "      <th>6570</th>\n",
       "      <td>704</td>\n",
       "      <td>4830.824371</td>\n",
       "      <td>0.5</td>\n",
       "      <td>2021-10-14</td>\n",
       "      <td>10</td>\n",
       "      <td>Мирон</td>\n",
       "      <td>29</td>\n",
       "      <td>Ростов-на-Дону</td>\n",
       "      <td>free</td>\n",
       "    </tr>\n",
       "    <tr>\n",
       "      <th>6680</th>\n",
       "      <td>712</td>\n",
       "      <td>4684.004397</td>\n",
       "      <td>0.5</td>\n",
       "      <td>2021-03-04</td>\n",
       "      <td>3</td>\n",
       "      <td>Дарья</td>\n",
       "      <td>28</td>\n",
       "      <td>Москва</td>\n",
       "      <td>free</td>\n",
       "    </tr>\n",
       "    <tr>\n",
       "      <th>6695</th>\n",
       "      <td>713</td>\n",
       "      <td>5215.642710</td>\n",
       "      <td>0.5</td>\n",
       "      <td>2021-02-25</td>\n",
       "      <td>2</td>\n",
       "      <td>Святослав</td>\n",
       "      <td>30</td>\n",
       "      <td>Краснодар</td>\n",
       "      <td>free</td>\n",
       "    </tr>\n",
       "    <tr>\n",
       "      <th>6768</th>\n",
       "      <td>718</td>\n",
       "      <td>5197.436649</td>\n",
       "      <td>0.5</td>\n",
       "      <td>2021-02-11</td>\n",
       "      <td>2</td>\n",
       "      <td>Владислава</td>\n",
       "      <td>31</td>\n",
       "      <td>Москва</td>\n",
       "      <td>free</td>\n",
       "    </tr>\n",
       "  </tbody>\n",
       "</table>\n",
       "</div>"
      ],
      "text/plain": [
       "      user_id     distance  duration       date  month        name  age  \\\n",
       "6531      701  4196.445201       0.5 2021-08-31      8        Иван   31   \n",
       "6570      704  4830.824371       0.5 2021-10-14     10       Мирон   29   \n",
       "6680      712  4684.004397       0.5 2021-03-04      3       Дарья   28   \n",
       "6695      713  5215.642710       0.5 2021-02-25      2   Святослав   30   \n",
       "6768      718  5197.436649       0.5 2021-02-11      2  Владислава   31   \n",
       "\n",
       "                city subscription_type  \n",
       "6531    Екатеринбург              free  \n",
       "6570  Ростов-на-Дону              free  \n",
       "6680          Москва              free  \n",
       "6695       Краснодар              free  \n",
       "6768          Москва              free  "
      ]
     },
     "execution_count": 22,
     "metadata": {},
     "output_type": "execute_result"
    }
   ],
   "source": [
    "#Проверяем записи с аномальными значениями\n",
    "rides_users.loc[rides_users['duration'] == 0.5].head()"
   ]
  },
  {
   "cell_type": "markdown",
   "id": "544f5cbf",
   "metadata": {},
   "source": [
    "Версия, что некорректные данные относятся к одному самокату не подтвердилась. Сбои происходят в разных городах, при этом расстояние поездки нормальное. Необходимо сообщить технической слубе об этих сбоях. Данные строки удаляем."
   ]
  },
  {
   "cell_type": "code",
   "execution_count": 23,
   "id": "1df3e1e0",
   "metadata": {},
   "outputs": [
    {
     "data": {
      "image/png": "[encoded data removed]",
      "text/plain": [
       "<Figure size 800x600 with 1 Axes>"
      ]
     },
     "metadata": {},
     "output_type": "display_data"
    }
   ],
   "source": [
    "#Перезаписываем датафрейм без аномальных значений и проверяем\n",
    "data_un = data_un[data_un['duration'] != 0.5]\n",
    "data_un.hist(column='duration', \n",
    "             bins = 100, \n",
    "             grid=True, \n",
    "             edgecolor='black', \n",
    "             figsize = (8,6))\n",
    "plt.title('Распределение длительности поездок')\n",
    "plt.ylabel('Количество поездок')\n",
    "plt.xlabel('Длительность поездки, мин');"
   ]
  },
  {
   "cell_type": "code",
   "execution_count": 24,
   "id": "0cc68459",
   "metadata": {},
   "outputs": [
    {
     "name": "stdout",
     "output_type": "stream",
     "text": [
      "<class 'pandas.core.frame.DataFrame'>\n",
      "RangeIndex: 17973 entries, 0 to 17972\n",
      "Data columns (total 12 columns):\n",
      " #   Column             Non-Null Count  Dtype         \n",
      "---  ------             --------------  -----         \n",
      " 0   user_id            17973 non-null  int64         \n",
      " 1   distance           17973 non-null  float64       \n",
      " 2   duration           17973 non-null  float64       \n",
      " 3   date               17973 non-null  datetime64[ns]\n",
      " 4   month              17973 non-null  int64         \n",
      " 5   name               17973 non-null  object        \n",
      " 6   age                17973 non-null  int64         \n",
      " 7   city               17973 non-null  object        \n",
      " 8   subscription_type  17973 non-null  object        \n",
      " 9   minute_price       17973 non-null  int64         \n",
      " 10  start_ride_price   17973 non-null  int64         \n",
      " 11  subscription_fee   17973 non-null  int64         \n",
      "dtypes: datetime64[ns](1), float64(2), int64(6), object(3)\n",
      "memory usage: 1.6+ MB\n"
     ]
    }
   ],
   "source": [
    "data_un.reset_index(drop= True , inplace= True )\n",
    "data_un.info()"
   ]
  },
  {
   "cell_type": "code",
   "execution_count": 25,
   "id": "f0124641",
   "metadata": {},
   "outputs": [
    {
     "data": {
      "text/html": [
       "<div>\n",
       "<style scoped>\n",
       "    .dataframe tbody tr th:only-of-type {\n",
       "        vertical-align: middle;\n",
       "    }\n",
       "\n",
       "    .dataframe tbody tr th {\n",
       "        vertical-align: top;\n",
       "    }\n",
       "\n",
       "    .dataframe thead th {\n",
       "        text-align: right;\n",
       "    }\n",
       "</style>\n",
       "<table border=\"1\" class=\"dataframe\">\n",
       "  <thead>\n",
       "    <tr style=\"text-align: right;\">\n",
       "      <th></th>\n",
       "      <th>user_id</th>\n",
       "      <th>distance</th>\n",
       "      <th>duration</th>\n",
       "      <th>date</th>\n",
       "      <th>month</th>\n",
       "      <th>name</th>\n",
       "      <th>age</th>\n",
       "      <th>city</th>\n",
       "      <th>subscription_type</th>\n",
       "      <th>minute_price</th>\n",
       "      <th>start_ride_price</th>\n",
       "      <th>subscription_fee</th>\n",
       "    </tr>\n",
       "  </thead>\n",
       "  <tbody>\n",
       "    <tr>\n",
       "      <th>2</th>\n",
       "      <td>1</td>\n",
       "      <td>754.159807</td>\n",
       "      <td>6.232113</td>\n",
       "      <td>2021-04-20</td>\n",
       "      <td>4</td>\n",
       "      <td>Кира</td>\n",
       "      <td>22</td>\n",
       "      <td>Тюмень</td>\n",
       "      <td>ultra</td>\n",
       "      <td>6</td>\n",
       "      <td>0</td>\n",
       "      <td>199</td>\n",
       "    </tr>\n",
       "    <tr>\n",
       "      <th>9</th>\n",
       "      <td>1</td>\n",
       "      <td>748.690645</td>\n",
       "      <td>15.041884</td>\n",
       "      <td>2021-11-22</td>\n",
       "      <td>11</td>\n",
       "      <td>Кира</td>\n",
       "      <td>22</td>\n",
       "      <td>Тюмень</td>\n",
       "      <td>ultra</td>\n",
       "      <td>6</td>\n",
       "      <td>0</td>\n",
       "      <td>199</td>\n",
       "    </tr>\n",
       "    <tr>\n",
       "      <th>20</th>\n",
       "      <td>2</td>\n",
       "      <td>923.007439</td>\n",
       "      <td>6.914760</td>\n",
       "      <td>2021-08-03</td>\n",
       "      <td>8</td>\n",
       "      <td>Станислав</td>\n",
       "      <td>31</td>\n",
       "      <td>Омск</td>\n",
       "      <td>ultra</td>\n",
       "      <td>6</td>\n",
       "      <td>0</td>\n",
       "      <td>199</td>\n",
       "    </tr>\n",
       "    <tr>\n",
       "      <th>47</th>\n",
       "      <td>4</td>\n",
       "      <td>724.559572</td>\n",
       "      <td>11.811399</td>\n",
       "      <td>2021-11-14</td>\n",
       "      <td>11</td>\n",
       "      <td>Константин</td>\n",
       "      <td>26</td>\n",
       "      <td>Ростов-на-Дону</td>\n",
       "      <td>ultra</td>\n",
       "      <td>6</td>\n",
       "      <td>0</td>\n",
       "      <td>199</td>\n",
       "    </tr>\n",
       "    <tr>\n",
       "      <th>91</th>\n",
       "      <td>9</td>\n",
       "      <td>979.657684</td>\n",
       "      <td>17.521497</td>\n",
       "      <td>2021-03-08</td>\n",
       "      <td>3</td>\n",
       "      <td>Ян</td>\n",
       "      <td>21</td>\n",
       "      <td>Пятигорск</td>\n",
       "      <td>ultra</td>\n",
       "      <td>6</td>\n",
       "      <td>0</td>\n",
       "      <td>199</td>\n",
       "    </tr>\n",
       "    <tr>\n",
       "      <th>100</th>\n",
       "      <td>10</td>\n",
       "      <td>680.952663</td>\n",
       "      <td>5.150377</td>\n",
       "      <td>2021-02-21</td>\n",
       "      <td>2</td>\n",
       "      <td>Валерий</td>\n",
       "      <td>18</td>\n",
       "      <td>Екатеринбург</td>\n",
       "      <td>ultra</td>\n",
       "      <td>6</td>\n",
       "      <td>0</td>\n",
       "      <td>199</td>\n",
       "    </tr>\n",
       "    <tr>\n",
       "      <th>105</th>\n",
       "      <td>10</td>\n",
       "      <td>1409.589386</td>\n",
       "      <td>15.020549</td>\n",
       "      <td>2021-07-02</td>\n",
       "      <td>7</td>\n",
       "      <td>Валерий</td>\n",
       "      <td>18</td>\n",
       "      <td>Екатеринбург</td>\n",
       "      <td>ultra</td>\n",
       "      <td>6</td>\n",
       "      <td>0</td>\n",
       "      <td>199</td>\n",
       "    </tr>\n",
       "    <tr>\n",
       "      <th>121</th>\n",
       "      <td>12</td>\n",
       "      <td>1236.815996</td>\n",
       "      <td>9.710448</td>\n",
       "      <td>2021-08-07</td>\n",
       "      <td>8</td>\n",
       "      <td>Марк</td>\n",
       "      <td>27</td>\n",
       "      <td>Тюмень</td>\n",
       "      <td>ultra</td>\n",
       "      <td>6</td>\n",
       "      <td>0</td>\n",
       "      <td>199</td>\n",
       "    </tr>\n",
       "    <tr>\n",
       "      <th>132</th>\n",
       "      <td>13</td>\n",
       "      <td>1158.851148</td>\n",
       "      <td>7.345692</td>\n",
       "      <td>2021-10-26</td>\n",
       "      <td>10</td>\n",
       "      <td>Ева</td>\n",
       "      <td>24</td>\n",
       "      <td>Краснодар</td>\n",
       "      <td>ultra</td>\n",
       "      <td>6</td>\n",
       "      <td>0</td>\n",
       "      <td>199</td>\n",
       "    </tr>\n",
       "    <tr>\n",
       "      <th>149</th>\n",
       "      <td>15</td>\n",
       "      <td>634.891669</td>\n",
       "      <td>15.809350</td>\n",
       "      <td>2021-04-05</td>\n",
       "      <td>4</td>\n",
       "      <td>Валерия</td>\n",
       "      <td>24</td>\n",
       "      <td>Тюмень</td>\n",
       "      <td>ultra</td>\n",
       "      <td>6</td>\n",
       "      <td>0</td>\n",
       "      <td>199</td>\n",
       "    </tr>\n",
       "  </tbody>\n",
       "</table>\n",
       "</div>"
      ],
      "text/plain": [
       "     user_id     distance   duration       date  month        name  age  \\\n",
       "2          1   754.159807   6.232113 2021-04-20      4        Кира   22   \n",
       "9          1   748.690645  15.041884 2021-11-22     11        Кира   22   \n",
       "20         2   923.007439   6.914760 2021-08-03      8   Станислав   31   \n",
       "47         4   724.559572  11.811399 2021-11-14     11  Константин   26   \n",
       "91         9   979.657684  17.521497 2021-03-08      3          Ян   21   \n",
       "100       10   680.952663   5.150377 2021-02-21      2     Валерий   18   \n",
       "105       10  1409.589386  15.020549 2021-07-02      7     Валерий   18   \n",
       "121       12  1236.815996   9.710448 2021-08-07      8        Марк   27   \n",
       "132       13  1158.851148   7.345692 2021-10-26     10         Ева   24   \n",
       "149       15   634.891669  15.809350 2021-04-05      4     Валерия   24   \n",
       "\n",
       "               city subscription_type  minute_price  start_ride_price  \\\n",
       "2            Тюмень             ultra             6                 0   \n",
       "9            Тюмень             ultra             6                 0   \n",
       "20             Омск             ultra             6                 0   \n",
       "47   Ростов-на-Дону             ultra             6                 0   \n",
       "91        Пятигорск             ultra             6                 0   \n",
       "100    Екатеринбург             ultra             6                 0   \n",
       "105    Екатеринбург             ultra             6                 0   \n",
       "121          Тюмень             ultra             6                 0   \n",
       "132       Краснодар             ultra             6                 0   \n",
       "149          Тюмень             ultra             6                 0   \n",
       "\n",
       "     subscription_fee  \n",
       "2                 199  \n",
       "9                 199  \n",
       "20                199  \n",
       "47                199  \n",
       "91                199  \n",
       "100               199  \n",
       "105               199  \n",
       "121               199  \n",
       "132               199  \n",
       "149               199  "
      ]
     },
     "execution_count": 25,
     "metadata": {},
     "output_type": "execute_result"
    }
   ],
   "source": [
    "#Проверяем очень короткие поездки\n",
    "data_un[data_un['distance'] <= 1500].head(10)"
   ]
  },
  {
   "cell_type": "code",
   "execution_count": 26,
   "id": "4294d9a5",
   "metadata": {},
   "outputs": [
    {
     "data": {
      "text/plain": [
       "0.03126912591108886"
      ]
     },
     "execution_count": 26,
     "metadata": {},
     "output_type": "execute_result"
    }
   ],
   "source": [
    "data_un.loc[data_un['distance'] <= 500, 'user_id'].count()/len(data_un)"
   ]
  },
  {
   "cell_type": "markdown",
   "id": "a79bba27",
   "metadata": {},
   "source": [
    "*Почти 3% поездок довольно короткие, меньше 500 метров, некоторые из них при этом нормальные по времени. Можно предположить проблему с самокатом (поломка или разряжен) или первую пробную поезду пользователя. В любом случае, выявить какую-то четкую закономерность в этих строках не удалось.*"
   ]
  },
  {
   "cell_type": "code",
   "execution_count": 27,
   "id": "27a69990",
   "metadata": {},
   "outputs": [
    {
     "data": {
      "text/html": [
       "<div>\n",
       "<style scoped>\n",
       "    .dataframe tbody tr th:only-of-type {\n",
       "        vertical-align: middle;\n",
       "    }\n",
       "\n",
       "    .dataframe tbody tr th {\n",
       "        vertical-align: top;\n",
       "    }\n",
       "\n",
       "    .dataframe thead th {\n",
       "        text-align: right;\n",
       "    }\n",
       "</style>\n",
       "<table border=\"1\" class=\"dataframe\">\n",
       "  <thead>\n",
       "    <tr style=\"text-align: right;\">\n",
       "      <th></th>\n",
       "      <th>user_id</th>\n",
       "      <th>distance</th>\n",
       "      <th>duration</th>\n",
       "      <th>date</th>\n",
       "      <th>month</th>\n",
       "      <th>name</th>\n",
       "      <th>age</th>\n",
       "      <th>city</th>\n",
       "      <th>subscription_type</th>\n",
       "      <th>minute_price</th>\n",
       "      <th>start_ride_price</th>\n",
       "      <th>subscription_fee</th>\n",
       "    </tr>\n",
       "  </thead>\n",
       "  <tbody>\n",
       "    <tr>\n",
       "      <th>6500</th>\n",
       "      <td>700</td>\n",
       "      <td>2515.690719</td>\n",
       "      <td>14.944286</td>\n",
       "      <td>2021-01-02</td>\n",
       "      <td>1</td>\n",
       "      <td>Айдар</td>\n",
       "      <td>22</td>\n",
       "      <td>Омск</td>\n",
       "      <td>free</td>\n",
       "      <td>8</td>\n",
       "      <td>50</td>\n",
       "      <td>0</td>\n",
       "    </tr>\n",
       "    <tr>\n",
       "      <th>6501</th>\n",
       "      <td>700</td>\n",
       "      <td>846.932642</td>\n",
       "      <td>16.234663</td>\n",
       "      <td>2021-02-01</td>\n",
       "      <td>2</td>\n",
       "      <td>Айдар</td>\n",
       "      <td>22</td>\n",
       "      <td>Омск</td>\n",
       "      <td>free</td>\n",
       "      <td>8</td>\n",
       "      <td>50</td>\n",
       "      <td>0</td>\n",
       "    </tr>\n",
       "    <tr>\n",
       "      <th>6502</th>\n",
       "      <td>700</td>\n",
       "      <td>4004.434142</td>\n",
       "      <td>20.016628</td>\n",
       "      <td>2021-02-04</td>\n",
       "      <td>2</td>\n",
       "      <td>Айдар</td>\n",
       "      <td>22</td>\n",
       "      <td>Омск</td>\n",
       "      <td>free</td>\n",
       "      <td>8</td>\n",
       "      <td>50</td>\n",
       "      <td>0</td>\n",
       "    </tr>\n",
       "    <tr>\n",
       "      <th>6503</th>\n",
       "      <td>700</td>\n",
       "      <td>1205.911290</td>\n",
       "      <td>9.782872</td>\n",
       "      <td>2021-02-10</td>\n",
       "      <td>2</td>\n",
       "      <td>Айдар</td>\n",
       "      <td>22</td>\n",
       "      <td>Омск</td>\n",
       "      <td>free</td>\n",
       "      <td>8</td>\n",
       "      <td>50</td>\n",
       "      <td>0</td>\n",
       "    </tr>\n",
       "    <tr>\n",
       "      <th>6504</th>\n",
       "      <td>700</td>\n",
       "      <td>3047.379435</td>\n",
       "      <td>17.427673</td>\n",
       "      <td>2021-02-14</td>\n",
       "      <td>2</td>\n",
       "      <td>Айдар</td>\n",
       "      <td>22</td>\n",
       "      <td>Омск</td>\n",
       "      <td>free</td>\n",
       "      <td>8</td>\n",
       "      <td>50</td>\n",
       "      <td>0</td>\n",
       "    </tr>\n",
       "  </tbody>\n",
       "</table>\n",
       "</div>"
      ],
      "text/plain": [
       "      user_id     distance   duration       date  month   name  age  city  \\\n",
       "6500      700  2515.690719  14.944286 2021-01-02      1  Айдар   22  Омск   \n",
       "6501      700   846.932642  16.234663 2021-02-01      2  Айдар   22  Омск   \n",
       "6502      700  4004.434142  20.016628 2021-02-04      2  Айдар   22  Омск   \n",
       "6503      700  1205.911290   9.782872 2021-02-10      2  Айдар   22  Омск   \n",
       "6504      700  3047.379435  17.427673 2021-02-14      2  Айдар   22  Омск   \n",
       "\n",
       "     subscription_type  minute_price  start_ride_price  subscription_fee  \n",
       "6500              free             8                50                 0  \n",
       "6501              free             8                50                 0  \n",
       "6502              free             8                50                 0  \n",
       "6503              free             8                50                 0  \n",
       "6504              free             8                50                 0  "
      ]
     },
     "execution_count": 27,
     "metadata": {},
     "output_type": "execute_result"
    }
   ],
   "source": [
    "#Cоздаем отдельный датафрейм с пользователями по подписке free\n",
    "data_free = data_un.query('subscription_type == \"free\"')\n",
    "data_free.head()"
   ]
  },
  {
   "cell_type": "code",
   "execution_count": 28,
   "id": "6d607912",
   "metadata": {},
   "outputs": [
    {
     "data": {
      "text/html": [
       "<div>\n",
       "<style scoped>\n",
       "    .dataframe tbody tr th:only-of-type {\n",
       "        vertical-align: middle;\n",
       "    }\n",
       "\n",
       "    .dataframe tbody tr th {\n",
       "        vertical-align: top;\n",
       "    }\n",
       "\n",
       "    .dataframe thead th {\n",
       "        text-align: right;\n",
       "    }\n",
       "</style>\n",
       "<table border=\"1\" class=\"dataframe\">\n",
       "  <thead>\n",
       "    <tr style=\"text-align: right;\">\n",
       "      <th></th>\n",
       "      <th>user_id</th>\n",
       "      <th>distance</th>\n",
       "      <th>duration</th>\n",
       "      <th>date</th>\n",
       "      <th>month</th>\n",
       "      <th>name</th>\n",
       "      <th>age</th>\n",
       "      <th>city</th>\n",
       "      <th>subscription_type</th>\n",
       "      <th>minute_price</th>\n",
       "      <th>start_ride_price</th>\n",
       "      <th>subscription_fee</th>\n",
       "    </tr>\n",
       "  </thead>\n",
       "  <tbody>\n",
       "    <tr>\n",
       "      <th>0</th>\n",
       "      <td>1</td>\n",
       "      <td>4409.919140</td>\n",
       "      <td>25.599769</td>\n",
       "      <td>2021-01-01</td>\n",
       "      <td>1</td>\n",
       "      <td>Кира</td>\n",
       "      <td>22</td>\n",
       "      <td>Тюмень</td>\n",
       "      <td>ultra</td>\n",
       "      <td>6</td>\n",
       "      <td>0</td>\n",
       "      <td>199</td>\n",
       "    </tr>\n",
       "    <tr>\n",
       "      <th>1</th>\n",
       "      <td>1</td>\n",
       "      <td>2617.592153</td>\n",
       "      <td>15.816871</td>\n",
       "      <td>2021-01-18</td>\n",
       "      <td>1</td>\n",
       "      <td>Кира</td>\n",
       "      <td>22</td>\n",
       "      <td>Тюмень</td>\n",
       "      <td>ultra</td>\n",
       "      <td>6</td>\n",
       "      <td>0</td>\n",
       "      <td>199</td>\n",
       "    </tr>\n",
       "    <tr>\n",
       "      <th>2</th>\n",
       "      <td>1</td>\n",
       "      <td>754.159807</td>\n",
       "      <td>6.232113</td>\n",
       "      <td>2021-04-20</td>\n",
       "      <td>4</td>\n",
       "      <td>Кира</td>\n",
       "      <td>22</td>\n",
       "      <td>Тюмень</td>\n",
       "      <td>ultra</td>\n",
       "      <td>6</td>\n",
       "      <td>0</td>\n",
       "      <td>199</td>\n",
       "    </tr>\n",
       "    <tr>\n",
       "      <th>3</th>\n",
       "      <td>1</td>\n",
       "      <td>2694.783254</td>\n",
       "      <td>18.511000</td>\n",
       "      <td>2021-08-11</td>\n",
       "      <td>8</td>\n",
       "      <td>Кира</td>\n",
       "      <td>22</td>\n",
       "      <td>Тюмень</td>\n",
       "      <td>ultra</td>\n",
       "      <td>6</td>\n",
       "      <td>0</td>\n",
       "      <td>199</td>\n",
       "    </tr>\n",
       "    <tr>\n",
       "      <th>4</th>\n",
       "      <td>1</td>\n",
       "      <td>4028.687306</td>\n",
       "      <td>26.265803</td>\n",
       "      <td>2021-08-28</td>\n",
       "      <td>8</td>\n",
       "      <td>Кира</td>\n",
       "      <td>22</td>\n",
       "      <td>Тюмень</td>\n",
       "      <td>ultra</td>\n",
       "      <td>6</td>\n",
       "      <td>0</td>\n",
       "      <td>199</td>\n",
       "    </tr>\n",
       "  </tbody>\n",
       "</table>\n",
       "</div>"
      ],
      "text/plain": [
       "   user_id     distance   duration       date  month  name  age    city  \\\n",
       "0        1  4409.919140  25.599769 2021-01-01      1  Кира   22  Тюмень   \n",
       "1        1  2617.592153  15.816871 2021-01-18      1  Кира   22  Тюмень   \n",
       "2        1   754.159807   6.232113 2021-04-20      4  Кира   22  Тюмень   \n",
       "3        1  2694.783254  18.511000 2021-08-11      8  Кира   22  Тюмень   \n",
       "4        1  4028.687306  26.265803 2021-08-28      8  Кира   22  Тюмень   \n",
       "\n",
       "  subscription_type  minute_price  start_ride_price  subscription_fee  \n",
       "0             ultra             6                 0               199  \n",
       "1             ultra             6                 0               199  \n",
       "2             ultra             6                 0               199  \n",
       "3             ultra             6                 0               199  \n",
       "4             ultra             6                 0               199  "
      ]
     },
     "execution_count": 28,
     "metadata": {},
     "output_type": "execute_result"
    }
   ],
   "source": [
    "#Cоздаем отдельный датафрейм с пользователями по подписке ultra\n",
    "data_ultra = data_un.query('subscription_type == \"ultra\"')\n",
    "data_ultra.head()"
   ]
  },
  {
   "cell_type": "markdown",
   "id": "03c44423",
   "metadata": {},
   "source": [
    "Графики для данных разных категорий"
   ]
  },
  {
   "cell_type": "code",
   "execution_count": 29,
   "id": "73394f83",
   "metadata": {},
   "outputs": [
    {
     "data": {
      "image/png": "[encoded data removed]",
      "text/plain": [
       "<Figure size 1800x500 with 2 Axes>"
      ]
     },
     "metadata": {},
     "output_type": "display_data"
    }
   ],
   "source": [
    "free_du = data_free['duration']\n",
    "ultra_du = data_ultra['duration']    \n",
    "\n",
    "free_di = data_free['distance']\n",
    "ultra_di = data_ultra['distance']\n",
    "\n",
    "fig, (ax1, ax2) = plt.subplots(1,2, figsize=(18,5))\n",
    "\n",
    "colors = ['blue', 'green']\n",
    "names = ['free', 'ultra']\n",
    "\n",
    "ax1.hist([free_du, ultra_du], color=colors, label=names);\n",
    "ax1.set_title('Длительность поездок пользователей free и ultra')\n",
    "ax1.legend()\n",
    "ax1.set_xlabel('Длительность поездок, мин')\n",
    "ax1.set_ylabel('Количество поездок, мин');\n",
    "\n",
    "ax2.hist([free_di, ultra_di], bins=35, color=colors, label=names);\n",
    "ax2.set_title(\"Расстояния поездок пользователей free и ultra\")\n",
    "ax2.set_xlabel('Расстояния поездок, м')\n",
    "ax2.legend()\n",
    "\n",
    "plt.show()"
   ]
  },
  {
   "cell_type": "markdown",
   "id": "384bacf8",
   "metadata": {},
   "source": [
    "*Вывод: Из первой гистограмы видно, что пользователи категории free намного чаще используют сервис для коротких поездок(в 4-3-2 раза на поездках до 10 минут). С возрастанием длительности поездки эта разница снижается. Количество 35 минутных поездок уже почти одинаково для обоих категорий. Хотя стоит учесть, что пользователей без подписки (free) в целом больше. Из второй гистограмы видна разница на коротких поездках, пользователи с подпиской реже использую самокаты на короткие поездки до 500 м. и почти не используют на расстояния 2 км. Это отчасти подтверждает версию, что в этой области находятся в основном первые поездки пользователей. ТОлько на расстояния 2.8- 3.2 км пользователи с подпиской катаются чаще, чем пользователи без подписки.*"
   ]
  },
  {
   "cell_type": "markdown",
   "id": "402d620f",
   "metadata": {},
   "source": [
    "## Шаг 5. Подсчёт выручки"
   ]
  },
  {
   "cell_type": "code",
   "execution_count": 30,
   "id": "53049e0a",
   "metadata": {},
   "outputs": [],
   "source": [
    "#Округляем длительность поездок до целых минут\n",
    "data_un['duration'] = np.ceil(data_un['duration']) "
   ]
  },
  {
   "cell_type": "code",
   "execution_count": 31,
   "id": "a57c64f8",
   "metadata": {},
   "outputs": [
    {
     "data": {
      "text/html": [
       "<div>\n",
       "<style scoped>\n",
       "    .dataframe tbody tr th:only-of-type {\n",
       "        vertical-align: middle;\n",
       "    }\n",
       "\n",
       "    .dataframe tbody tr th {\n",
       "        vertical-align: top;\n",
       "    }\n",
       "\n",
       "    .dataframe thead th {\n",
       "        text-align: right;\n",
       "    }\n",
       "</style>\n",
       "<table border=\"1\" class=\"dataframe\">\n",
       "  <thead>\n",
       "    <tr style=\"text-align: right;\">\n",
       "      <th></th>\n",
       "      <th></th>\n",
       "      <th></th>\n",
       "      <th>distance</th>\n",
       "      <th>duration</th>\n",
       "      <th>count</th>\n",
       "    </tr>\n",
       "    <tr>\n",
       "      <th>user_id</th>\n",
       "      <th>month</th>\n",
       "      <th>subscription_type</th>\n",
       "      <th></th>\n",
       "      <th></th>\n",
       "      <th></th>\n",
       "    </tr>\n",
       "  </thead>\n",
       "  <tbody>\n",
       "    <tr>\n",
       "      <th rowspan=\"5\" valign=\"top\">1</th>\n",
       "      <th>1</th>\n",
       "      <th>ultra</th>\n",
       "      <td>7027.511294</td>\n",
       "      <td>42.0</td>\n",
       "      <td>2</td>\n",
       "    </tr>\n",
       "    <tr>\n",
       "      <th>4</th>\n",
       "      <th>ultra</th>\n",
       "      <td>754.159807</td>\n",
       "      <td>7.0</td>\n",
       "      <td>1</td>\n",
       "    </tr>\n",
       "    <tr>\n",
       "      <th>8</th>\n",
       "      <th>ultra</th>\n",
       "      <td>6723.470560</td>\n",
       "      <td>46.0</td>\n",
       "      <td>2</td>\n",
       "    </tr>\n",
       "    <tr>\n",
       "      <th>10</th>\n",
       "      <th>ultra</th>\n",
       "      <td>5809.911100</td>\n",
       "      <td>32.0</td>\n",
       "      <td>2</td>\n",
       "    </tr>\n",
       "    <tr>\n",
       "      <th>11</th>\n",
       "      <th>ultra</th>\n",
       "      <td>7003.499363</td>\n",
       "      <td>56.0</td>\n",
       "      <td>3</td>\n",
       "    </tr>\n",
       "  </tbody>\n",
       "</table>\n",
       "</div>"
      ],
      "text/plain": [
       "                                    distance  duration  count\n",
       "user_id month subscription_type                              \n",
       "1       1     ultra              7027.511294      42.0      2\n",
       "        4     ultra               754.159807       7.0      1\n",
       "        8     ultra              6723.470560      46.0      2\n",
       "        10    ultra              5809.911100      32.0      2\n",
       "        11    ultra              7003.499363      56.0      3"
      ]
     },
     "execution_count": 31,
     "metadata": {},
     "output_type": "execute_result"
    }
   ],
   "source": [
    "#группируем данные по id пользователя и месяцу, считаем сумму расстояний и время поездок и количество поездок\n",
    "data_grouped = data_un.groupby(['user_id', 'month', 'subscription_type']).agg(\n",
    "                        {'distance': ['sum'], 'duration': ['sum', 'count']})\n",
    "data_grouped.columns = ['distance', 'duration', 'count']\n",
    "data_grouped.head()"
   ]
  },
  {
   "cell_type": "code",
   "execution_count": 32,
   "id": "1a2e1cfb",
   "metadata": {
    "scrolled": true
   },
   "outputs": [
    {
     "data": {
      "text/html": [
       "<div>\n",
       "<style scoped>\n",
       "    .dataframe tbody tr th:only-of-type {\n",
       "        vertical-align: middle;\n",
       "    }\n",
       "\n",
       "    .dataframe tbody tr th {\n",
       "        vertical-align: top;\n",
       "    }\n",
       "\n",
       "    .dataframe thead th {\n",
       "        text-align: right;\n",
       "    }\n",
       "</style>\n",
       "<table border=\"1\" class=\"dataframe\">\n",
       "  <thead>\n",
       "    <tr style=\"text-align: right;\">\n",
       "      <th></th>\n",
       "      <th>user_id</th>\n",
       "      <th>month</th>\n",
       "      <th>subscription_type</th>\n",
       "      <th>distance</th>\n",
       "      <th>duration</th>\n",
       "      <th>count</th>\n",
       "    </tr>\n",
       "  </thead>\n",
       "  <tbody>\n",
       "    <tr>\n",
       "      <th>0</th>\n",
       "      <td>1</td>\n",
       "      <td>1</td>\n",
       "      <td>ultra</td>\n",
       "      <td>7027.511294</td>\n",
       "      <td>42.0</td>\n",
       "      <td>2</td>\n",
       "    </tr>\n",
       "    <tr>\n",
       "      <th>1</th>\n",
       "      <td>1</td>\n",
       "      <td>4</td>\n",
       "      <td>ultra</td>\n",
       "      <td>754.159807</td>\n",
       "      <td>7.0</td>\n",
       "      <td>1</td>\n",
       "    </tr>\n",
       "    <tr>\n",
       "      <th>2</th>\n",
       "      <td>1</td>\n",
       "      <td>8</td>\n",
       "      <td>ultra</td>\n",
       "      <td>6723.470560</td>\n",
       "      <td>46.0</td>\n",
       "      <td>2</td>\n",
       "    </tr>\n",
       "    <tr>\n",
       "      <th>3</th>\n",
       "      <td>1</td>\n",
       "      <td>10</td>\n",
       "      <td>ultra</td>\n",
       "      <td>5809.911100</td>\n",
       "      <td>32.0</td>\n",
       "      <td>2</td>\n",
       "    </tr>\n",
       "    <tr>\n",
       "      <th>4</th>\n",
       "      <td>1</td>\n",
       "      <td>11</td>\n",
       "      <td>ultra</td>\n",
       "      <td>7003.499363</td>\n",
       "      <td>56.0</td>\n",
       "      <td>3</td>\n",
       "    </tr>\n",
       "  </tbody>\n",
       "</table>\n",
       "</div>"
      ],
      "text/plain": [
       "   user_id  month subscription_type     distance  duration  count\n",
       "0        1      1             ultra  7027.511294      42.0      2\n",
       "1        1      4             ultra   754.159807       7.0      1\n",
       "2        1      8             ultra  6723.470560      46.0      2\n",
       "3        1     10             ultra  5809.911100      32.0      2\n",
       "4        1     11             ultra  7003.499363      56.0      3"
      ]
     },
     "execution_count": 32,
     "metadata": {},
     "output_type": "execute_result"
    }
   ],
   "source": [
    "users_group = data_grouped.reset_index()\n",
    "users_group.head()"
   ]
  },
  {
   "cell_type": "code",
   "execution_count": 33,
   "id": "a49b3f0f",
   "metadata": {},
   "outputs": [
    {
     "data": {
      "text/html": [
       "<div>\n",
       "<style scoped>\n",
       "    .dataframe tbody tr th:only-of-type {\n",
       "        vertical-align: middle;\n",
       "    }\n",
       "\n",
       "    .dataframe tbody tr th {\n",
       "        vertical-align: top;\n",
       "    }\n",
       "\n",
       "    .dataframe thead th {\n",
       "        text-align: right;\n",
       "    }\n",
       "</style>\n",
       "<table border=\"1\" class=\"dataframe\">\n",
       "  <thead>\n",
       "    <tr style=\"text-align: right;\">\n",
       "      <th></th>\n",
       "      <th>user_id</th>\n",
       "      <th>month</th>\n",
       "      <th>subscription_type</th>\n",
       "      <th>distance</th>\n",
       "      <th>duration</th>\n",
       "      <th>count</th>\n",
       "      <th>payment</th>\n",
       "    </tr>\n",
       "  </thead>\n",
       "  <tbody>\n",
       "    <tr>\n",
       "      <th>0</th>\n",
       "      <td>1</td>\n",
       "      <td>1</td>\n",
       "      <td>ultra</td>\n",
       "      <td>7027.511294</td>\n",
       "      <td>42.0</td>\n",
       "      <td>2</td>\n",
       "      <td>451.0</td>\n",
       "    </tr>\n",
       "    <tr>\n",
       "      <th>1</th>\n",
       "      <td>1</td>\n",
       "      <td>4</td>\n",
       "      <td>ultra</td>\n",
       "      <td>754.159807</td>\n",
       "      <td>7.0</td>\n",
       "      <td>1</td>\n",
       "      <td>241.0</td>\n",
       "    </tr>\n",
       "    <tr>\n",
       "      <th>2</th>\n",
       "      <td>1</td>\n",
       "      <td>8</td>\n",
       "      <td>ultra</td>\n",
       "      <td>6723.470560</td>\n",
       "      <td>46.0</td>\n",
       "      <td>2</td>\n",
       "      <td>475.0</td>\n",
       "    </tr>\n",
       "    <tr>\n",
       "      <th>3</th>\n",
       "      <td>1</td>\n",
       "      <td>10</td>\n",
       "      <td>ultra</td>\n",
       "      <td>5809.911100</td>\n",
       "      <td>32.0</td>\n",
       "      <td>2</td>\n",
       "      <td>391.0</td>\n",
       "    </tr>\n",
       "    <tr>\n",
       "      <th>4</th>\n",
       "      <td>1</td>\n",
       "      <td>11</td>\n",
       "      <td>ultra</td>\n",
       "      <td>7003.499363</td>\n",
       "      <td>56.0</td>\n",
       "      <td>3</td>\n",
       "      <td>535.0</td>\n",
       "    </tr>\n",
       "  </tbody>\n",
       "</table>\n",
       "</div>"
      ],
      "text/plain": [
       "   user_id  month subscription_type     distance  duration  count  payment\n",
       "0        1      1             ultra  7027.511294      42.0      2    451.0\n",
       "1        1      4             ultra   754.159807       7.0      1    241.0\n",
       "2        1      8             ultra  6723.470560      46.0      2    475.0\n",
       "3        1     10             ultra  5809.911100      32.0      2    391.0\n",
       "4        1     11             ultra  7003.499363      56.0      3    535.0"
      ]
     },
     "execution_count": 33,
     "metadata": {},
     "output_type": "execute_result"
    }
   ],
   "source": [
    "#Создаем функцию для подсчета стоимости поездок за месяц \n",
    "#в зависимости от типа подписки\n",
    "def payment(row):\n",
    "    subscription = row['subscription_type']\n",
    "    duration = row['duration']\n",
    "    count = row['count']\n",
    "    \n",
    "    if subscription == 'free':\n",
    "        return 50*count + 8*duration\n",
    "    if subscription == 'ultra':\n",
    "        return 199 + 6*duration\n",
    "users_group['payment'] = users_group.apply(payment, axis=1)\n",
    "\n",
    "users_group.head()"
   ]
  },
  {
   "cell_type": "markdown",
   "id": "41545ac0",
   "metadata": {},
   "source": [
    "## Шаг 6. Проверка гипотез"
   ]
  },
  {
   "cell_type": "markdown",
   "id": "0f7e60f3",
   "metadata": {},
   "source": [
    "6.1 Важно понять, тратят ли пользователи с подпиской больше времени на поездки? Если да, то пользователи с подпиской могут быть «выгоднее» для компании. Проверьте гипотезу. Используйте исходные данные о продолжительности каждой сессии — отдельно для подписчиков и тех, у кого нет подписки. Нулевая гипотеза: пользователи с подпиской тратят столько же времени на поездки сколько пользователи без подписки. Альтернативная гипотеза:Пользователи с подпиской тратят больше времени на поездки."
   ]
  },
  {
   "cell_type": "code",
   "execution_count": 34,
   "id": "23ea867b",
   "metadata": {},
   "outputs": [
    {
     "name": "stdout",
     "output_type": "stream",
     "text": [
      "p-значение: 4.7044680744539e-28\n",
      "Отвергаем нулевую гипотезу\n"
     ]
    }
   ],
   "source": [
    "ultra_values = data_ultra['duration']\n",
    "free_values = data_free['duration']\n",
    "\n",
    "alpha = 0.05\n",
    "\n",
    "results = st.ttest_ind(\n",
    "    ultra_values, \n",
    "    free_values,\n",
    "      alternative='greater')\n",
    "\n",
    "print('p-значение:', results.pvalue)\n",
    "\n",
    "if (results.pvalue < alpha):\n",
    "    print('Отвергаем нулевую гипотезу')\n",
    "else:\n",
    "    print('Не отвергаем нулевую гипотезу') "
   ]
  },
  {
   "cell_type": "markdown",
   "id": "ed8d461d",
   "metadata": {},
   "source": [
    "Вероятность что случайная поездка пользователя с подпиской дольше поездки пользователя без подписки выше уровня значимости."
   ]
  },
  {
   "cell_type": "markdown",
   "id": "65d77085",
   "metadata": {},
   "source": [
    "6.2 Расстояние одной поездки в 3130 метров — оптимальное с точки зрения износа самоката. Можно ли сказать, что расстояние, которое проезжают пользователи с подпиской за одну поездку, не превышает 3130 метров? Проверьте гипотезу и сделайте выводы. Нулевая гипотеза: расстояние равно 3130 м, а альтернативная гипотеза - расстояние меньше 3130 метров."
   ]
  },
  {
   "cell_type": "code",
   "execution_count": 35,
   "id": "07232a98",
   "metadata": {},
   "outputs": [
    {
     "name": "stdout",
     "output_type": "stream",
     "text": [
      "p-значение: 0.08046311521502145\n",
      "Не отвергаем нулевую гипотезу\n"
     ]
    }
   ],
   "source": [
    "optimal_value = 3130\n",
    "ultra_distance = data_ultra['distance']\n",
    "\n",
    "alpha = 0.05\n",
    "\n",
    "results = st.ttest_1samp(\n",
    "    ultra_distance, \n",
    "    optimal_value,\n",
    "      alternative='less')\n",
    "\n",
    "print('p-значение:', results.pvalue)\n",
    "\n",
    "if (results.pvalue < alpha):\n",
    "    print('Отвергаем нулевую гипотезу')\n",
    "else:\n",
    "    print('Не отвергаем нулевую гипотезу') "
   ]
  },
  {
   "cell_type": "markdown",
   "id": "f63b0706",
   "metadata": {},
   "source": [
    "Нельзя утверждать, что расстояние, которое проезжают пользователи с подпиской за одну поездку, не превышает 3130 метров."
   ]
  },
  {
   "cell_type": "markdown",
   "id": "fee42d8e",
   "metadata": {},
   "source": [
    "6.3 Проверьте гипотезу о том, будет ли помесячная выручка от пользователей с подпиской по месяцам выше, чем выручка от пользователей без подписки. Сделайте вывод. Проверяем гипотезу о равенстве двух генеральных совокупностей, представленных двумя независимыми выборками. Альтернативная гипотеза: ежемесячная выручка подписчиков выше, чем пользователей без подписки."
   ]
  },
  {
   "cell_type": "code",
   "execution_count": 36,
   "id": "ddb387a7",
   "metadata": {},
   "outputs": [
    {
     "name": "stdout",
     "output_type": "stream",
     "text": [
      "p-значение: 2.0314113674863288e-30\n",
      "Отвергаем нулевую гипотезу\n"
     ]
    }
   ],
   "source": [
    " #выручка пользователей с подпиской\n",
    "sample_ultra = users_group.loc[users_group['subscription_type'] == \"ultra\",\n",
    "                               'payment']\n",
    "#выручка пользователей без подписки\n",
    "sample_free = users_group.loc[users_group['subscription_type'] == \"free\", \n",
    "                              'payment']    \n",
    "#sample_ultra                            \n",
    "\n",
    "alpha = 0.05 \n",
    "                                \n",
    "results = st.ttest_ind(sample_ultra, sample_free, alternative='greater')\n",
    "\n",
    "print('p-значение:', results.pvalue)\n",
    "\n",
    "if results.pvalue < alpha:\n",
    "    print('Отвергаем нулевую гипотезу')\n",
    "else:\n",
    "    print('Не получилось отвергнуть нулевую гипотезу') "
   ]
  },
  {
   "cell_type": "markdown",
   "id": "fb824d13",
   "metadata": {},
   "source": [
    "Ежемесячная выручка подписчиков выше, чем пользователей без подписки"
   ]
  },
  {
   "cell_type": "markdown",
   "id": "32eb8099",
   "metadata": {},
   "source": [
    "6.4. Представьте такую ситуацию: техническая команда сервиса обновила сервера, с которыми взаимодействует мобильное приложение. Она надеется, что из-за этого количество обращений в техподдержку значимо снизилось. Некоторый файл содержит для каждого пользователя данные о количестве обращений до обновления и после него. Какой тест вам понадобился бы для проверки этой гипотезы?\n",
    "Ответ: Нужно использовать тест о двух зависимых выборках: ttest_rel()"
   ]
  },
  {
   "cell_type": "markdown",
   "id": "61213c5e",
   "metadata": {},
   "source": [
    "## Шаг 7. Распределения"
   ]
  },
  {
   "cell_type": "markdown",
   "id": "5f66c9bf",
   "metadata": {},
   "source": [
    "7.1 Отделу маркетинга GoFast поставили задачу: нужно провести акцию с раздачей промокодов на один бесплатный месяц подписки, в рамках которой как минимум 100 существующих клиентов должны продлить эту подписку. То есть по завершении периода действия подписки пользователь может либо отказаться от неё, либо продлить, совершив соотвествующий платёж. Эта акция уже проводилась ранее и по итогу выяснилось, что после бесплатного пробного периода подписку продлевают 10% пользователей. Выясните, какое минимальное количество промокодов нужно разослать, чтобы вероятность не выполнить план была примерно 5%. Подберите параметры распределения, описывающего эту ситуацию, постройте график распределения и сформулируйте ответ на вопрос о количестве промокодов."
   ]
  },
  {
   "cell_type": "code",
   "execution_count": 37,
   "id": "db5efbdb",
   "metadata": {},
   "outputs": [
    {
     "name": "stderr",
     "output_type": "stream",
     "text": [
      "C:\\Users\\n.feoktistova\\AppData\\Local\\Continuum\\anaconda3\\envs\\practicum\\lib\\site-packages\\scipy\\stats\\_discrete_distns.py:69: RuntimeWarning: divide by zero encountered in _binom_pdf\n",
      "  return _boost._binom_pdf(x, n, p)\n"
     ]
    },
    {
     "data": {
      "text/plain": [
       "0.4734009187048347"
      ]
     },
     "execution_count": 37,
     "metadata": {},
     "output_type": "execute_result"
    },
    {
     "data": {
      "image/png": "[encoded data removed]",
      "text/plain": [
       "<Figure size 640x480 with 1 Axes>"
      ]
     },
     "metadata": {},
     "output_type": "display_data"
    }
   ],
   "source": [
    "#целевое количество клиентов: 100\n",
    "p = 0.1 # вероятность продления подписки\n",
    "n = 1000 # количество промокодов \n",
    "        #(допустим что каждый десятый участник промоакции продлит подписку)\n",
    "\n",
    "\n",
    "distr = [] \n",
    "#используем биномиальное распределение\n",
    "for k in range(0, n + 1):\n",
    "    current_value = binom.pmf(k, n, p)\n",
    "    distr.append(current_value)\n",
    "#построим гистограмму распределения вероятностей    \n",
    "plt.bar(range(0, n+1), distr);\n",
    "plt.xlim(0,200)\n",
    "# вероятность получить ровно 100 клиентов раздав 1000 промокодов\n",
    "#prob1 = binom.pmf(k= 100 , n= 1000 , p= 0.1)\n",
    "\n",
    "#вероятность что больше ста клиентов  из 1000 продлят подписку\n",
    "prob2 = 1 - binom.cdf(k= 100 , n= 1000 , p= 0.1 )\n",
    "prob2"
   ]
  },
  {
   "cell_type": "markdown",
   "id": "f4a5e3e8",
   "metadata": {},
   "source": [
    "Раздав 1000 промокодов вероятность получить минимум 100 клиентов 0,47. Нам нужно чтобы эта вероятность была 0,95, увеличим число промокодов."
   ]
  },
  {
   "cell_type": "code",
   "execution_count": 38,
   "id": "4c335e56",
   "metadata": {},
   "outputs": [
    {
     "data": {
      "text/plain": [
       "0.9504520478979693"
      ]
     },
     "execution_count": 38,
     "metadata": {},
     "output_type": "execute_result"
    },
    {
     "data": {
      "image/png": "[encoded data removed]",
      "text/plain": [
       "<Figure size 640x480 with 1 Axes>"
      ]
     },
     "metadata": {},
     "output_type": "display_data"
    }
   ],
   "source": [
    "#целевое количество клиентов: 100\n",
    "p = 0.1 # вероятность продления подписки\n",
    "n = 1172 # количество промокодов (пробуем увеличивать и смотрим на результат prob2)\n",
    "\n",
    "distr = [] \n",
    "#используем биномиальное распределение\n",
    "for k in range(0, n + 1):\n",
    "    current_value = binom.pmf(k, n, p)\n",
    "    distr.append(current_value)\n",
    "#построим гистограмму распределения вероятностей    \n",
    "plt.bar(range(0, n+1), distr);\n",
    "plt.xlim(0,200)\n",
    "# вероятность получить ровно 100 клиентов раздав 1000 промокодов\n",
    "#prob1 = binom.pmf(k= 100 , n= 1000 , p= 0.1 )\n",
    "#вероятность что больше ста клиентов  из 1172 продлят подписку\n",
    "prob2 = 1 - binom.cdf(k= 100 , n= 1172 , p= 0.1 )\n",
    "prob2"
   ]
  },
  {
   "cell_type": "markdown",
   "id": "144b0a48",
   "metadata": {},
   "source": [
    "Результат: увеличив число промокодов с первоначального значения (1000) всего на 172 штуки, вероятность продления подписки минимум 100 пользователей выросла с 0,47 до 0,95%. Минимальное количество промокодов: 1172."
   ]
  },
  {
   "cell_type": "markdown",
   "id": "7806ea46",
   "metadata": {},
   "source": [
    "7.2 Отдел маркетинга рассылает клиентам push-уведомления в мобильном приложении. Клиенты могут открыть его или не открывать. Известно, что уведомления открывают около 40% получивших клиентов. Отдел планирует разослать 1 млн уведомлений. С помощью аппроксимации постройте примерный график распределения и оцените вероятность того, что уведомление откроют не более более 399,5 тыс. пользователей."
   ]
  },
  {
   "cell_type": "code",
   "execution_count": 39,
   "id": "165ec7a8",
   "metadata": {},
   "outputs": [
    {
     "name": "stdout",
     "output_type": "stream",
     "text": [
      "Вероятность получить не более 399,5 тысяч прочитаных уведомлений: 15.4%\n"
     ]
    },
    {
     "data": {
      "image/png": "[encoded data removed]",
      "text/plain": [
       "<Figure size 640x480 with 1 Axes>"
      ]
     },
     "metadata": {},
     "output_type": "display_data"
    }
   ],
   "source": [
    "# задаём параметры биномиального распределения\n",
    "p = 0.4 # вероятность открывания уведомления\n",
    "n = 1000000 # количество уведомлений\n",
    "\n",
    "#задаем границы для построения графика\n",
    "left = int(n * p - 3 * sqrt(n * p * (1 - p)))\n",
    "right = int(n * p + 3 * sqrt(n * p * (1 - p)))\n",
    "x = list(range(max(0, left), right))\n",
    "\n",
    "# задаём параметры нормального распределения (матожидание и стандартное отклонение), по данным биномиального:\n",
    "mu = n * p\n",
    "sigma = sqrt(n * p * (1 - p))\n",
    "distr = st.norm(mu, sigma) \n",
    "\n",
    "ax = plt.subplot()\n",
    "\n",
    "ax.plot(x, norm.pdf(x, mu, sigma), label='нормальное распределение', color='red')\n",
    "ax.bar(x, binom.pmf(x, n, p), label= 'биномиальное распределение', color='blue')\n",
    "ax.legend()\n",
    "\n",
    "result = distr.cdf(399500)\n",
    "print('Вероятность получить не более 399,5 тысяч прочитаных уведомлений:', \"{:.1%}\".format(result))"
   ]
  },
  {
   "cell_type": "markdown",
   "id": "6cca24ab",
   "metadata": {},
   "source": [
    "#### Вывод"
   ]
  },
  {
   "cell_type": "markdown",
   "id": "8263463d",
   "metadata": {},
   "source": [
    "Проведена предварительная обработка данных. Удалены дубликаты (31 строки), и аномальные значения времени поездок (95строк). Пользователей без платной подписки на 8,8% больше чем без. Самый популярный возраст пользователей - 25 лет. Самому взрослому пользователю всего 43 года, а самому юному - 12 лет. Длительность поездок пользователей распределена нормально. Судя по гистограме расстояний можно выделить категорию коротких поездок до 1,5 км, возможно, пробных, большая же часть поездок от 2,5 км до 4 км. Среднее расстояние и медиана в районе 3,1 км,а среднее время поездки 17 минут. Дольше 35 минут почти не катаются.\n",
    "Исследовательский анализ данных показал, что пользователи категории free намного чаще используют сервис для коротких поездок(в 4-3-2 раза на поездках до 10 минут). С возрастанием длительности поездки эта разница снижается. Количество 35 минутных поездок уже почти одинаково для обоих категорий. Хотя стоит учесть, что пользователей без подписки (free) в целом больше. Пользователи с подпиской реже использую самокаты на короткие поездки до 500 м. и почти не используют на расстояния 2 км. Это отчасти подтверждает версию, что в этой области находятся в основном первые поездки пользователей. ТОлько на расстояния 2.8- 3.2 км пользователи с подпиской катаются чаще, чем пользователи без подписки.\n",
    "    Были проверены гипотезы:\n",
    "- тратят ли пользователи с подпиской больше времени на поездки? Гипотеза подтвердилась.\n",
    "- можно ли сказать, что расстояние, которое проезжают пользователи с подпиской за одну поездку, не превышает 3130 метров? Гипотеза не подтвердилась.\n",
    "- помесячная выручка от пользователей с подпиской по месяцам выше, чем выручка от пользователей без подписки. Гипотеза подтвердилась.\n",
    "\n",
    "Выяснили, что минимальное количество промокодов которые нужно разослать, чтобы вероятность не выполнить план по новым подписчикам была примерно 5% - 1172.\n",
    "Вероятность того, что разослав 1 млн push-уведомлений и их откроют более 399,5 тыс. пользователей 15,4 %."
   ]
  }
 ],
 "metadata": {
  "ExecuteTimeLog": [
   {
    "duration": 1996,
    "start_time": "2023-06-22T11:01:10.732Z"
   },
   {
    "duration": 130,
    "start_time": "2023-06-22T11:01:25.824Z"
   },
   {
    "duration": 12,
    "start_time": "2023-06-22T11:01:31.725Z"
   },
   {
    "duration": 4,
    "start_time": "2023-06-22T11:02:06.545Z"
   },
   {
    "duration": 2021,
    "start_time": "2023-06-22T11:02:09.743Z"
   },
   {
    "duration": 317,
    "start_time": "2023-06-22T11:02:46.738Z"
   },
   {
    "duration": 1011,
    "start_time": "2023-06-22T11:02:57.615Z"
   },
   {
    "duration": 2346,
    "start_time": "2023-06-22T11:03:09.627Z"
   },
   {
    "duration": 692,
    "start_time": "2023-06-22T11:03:53.814Z"
   },
   {
    "duration": 2055,
    "start_time": "2023-06-22T11:04:25.356Z"
   },
   {
    "duration": 2207,
    "start_time": "2023-06-22T11:08:56.826Z"
   },
   {
    "duration": 65,
    "start_time": "2023-06-22T16:47:10.058Z"
   },
   {
    "duration": 7,
    "start_time": "2023-06-22T16:48:13.842Z"
   },
   {
    "duration": 1336,
    "start_time": "2023-06-22T16:48:24.543Z"
   },
   {
    "duration": 381,
    "start_time": "2023-06-22T16:48:27.142Z"
   },
   {
    "duration": 20,
    "start_time": "2023-06-22T16:49:11.943Z"
   },
   {
    "duration": 13,
    "start_time": "2023-06-22T16:49:27.345Z"
   },
   {
    "duration": 23,
    "start_time": "2023-06-22T16:49:40.603Z"
   },
   {
    "duration": 7,
    "start_time": "2023-06-22T16:49:56.775Z"
   },
   {
    "duration": 9,
    "start_time": "2023-06-22T16:50:10.086Z"
   },
   {
    "duration": 20,
    "start_time": "2023-06-22T16:51:40.609Z"
   },
   {
    "duration": 196,
    "start_time": "2023-06-22T16:51:56.755Z"
   },
   {
    "duration": 9,
    "start_time": "2023-06-22T16:52:54.334Z"
   },
   {
    "duration": 141,
    "start_time": "2023-06-22T16:53:15.708Z"
   },
   {
    "duration": 292,
    "start_time": "2023-06-22T16:54:33.694Z"
   },
   {
    "duration": 32,
    "start_time": "2023-06-22T16:54:53.408Z"
   },
   {
    "duration": 560,
    "start_time": "2023-06-22T16:56:07.458Z"
   },
   {
    "duration": 352,
    "start_time": "2023-06-22T16:56:25.462Z"
   },
   {
    "duration": 15,
    "start_time": "2023-06-22T16:56:41.247Z"
   },
   {
    "duration": 18,
    "start_time": "2023-06-22T16:57:08.353Z"
   },
   {
    "duration": 243,
    "start_time": "2023-06-22T16:57:31.795Z"
   },
   {
    "duration": 18,
    "start_time": "2023-06-22T16:59:10.681Z"
   },
   {
    "duration": 19,
    "start_time": "2023-06-22T16:59:24.761Z"
   },
   {
    "duration": 29,
    "start_time": "2023-06-22T16:59:40.007Z"
   },
   {
    "duration": 300,
    "start_time": "2023-06-22T17:02:43.109Z"
   },
   {
    "duration": 23,
    "start_time": "2023-06-22T17:03:11.701Z"
   },
   {
    "duration": 21,
    "start_time": "2023-06-22T17:04:05.449Z"
   },
   {
    "duration": 7,
    "start_time": "2023-06-22T17:04:35.784Z"
   },
   {
    "duration": 17,
    "start_time": "2023-06-22T17:05:40.751Z"
   },
   {
    "duration": 16,
    "start_time": "2023-06-22T17:05:55.146Z"
   },
   {
    "duration": 609,
    "start_time": "2023-06-22T17:06:33.806Z"
   },
   {
    "duration": 4,
    "start_time": "2023-06-22T17:07:54.850Z"
   },
   {
    "duration": 30,
    "start_time": "2023-06-22T17:08:11.069Z"
   },
   {
    "duration": 31,
    "start_time": "2023-06-22T17:08:20.386Z"
   },
   {
    "duration": 16,
    "start_time": "2023-06-22T17:12:00.684Z"
   },
   {
    "duration": 205,
    "start_time": "2023-06-22T17:12:31.954Z"
   },
   {
    "duration": 81,
    "start_time": "2023-06-22T17:13:18.687Z"
   },
   {
    "duration": 6,
    "start_time": "2023-06-22T17:13:41.273Z"
   },
   {
    "duration": 6,
    "start_time": "2023-06-22T17:15:55.954Z"
   },
   {
    "duration": 8,
    "start_time": "2023-06-22T17:16:28.073Z"
   },
   {
    "duration": 3,
    "start_time": "2023-06-22T17:31:08.263Z"
   },
   {
    "duration": 1892,
    "start_time": "2023-06-22T17:31:31.863Z"
   },
   {
    "duration": 2316,
    "start_time": "2023-06-22T17:32:27.336Z"
   },
   {
    "duration": 4629,
    "start_time": "2023-06-22T17:33:23.382Z"
   },
   {
    "duration": 7436,
    "start_time": "2023-06-22T17:34:17.903Z"
   },
   {
    "duration": 45,
    "start_time": "2023-06-22T22:10:07.787Z"
   },
   {
    "duration": 1039,
    "start_time": "2023-06-22T22:10:14.132Z"
   },
   {
    "duration": 93,
    "start_time": "2023-06-22T22:10:15.172Z"
   },
   {
    "duration": 17,
    "start_time": "2023-06-22T22:10:15.266Z"
   },
   {
    "duration": 26,
    "start_time": "2023-06-22T22:10:15.284Z"
   },
   {
    "duration": 13,
    "start_time": "2023-06-22T22:10:15.312Z"
   },
   {
    "duration": 6,
    "start_time": "2023-06-22T22:10:15.327Z"
   },
   {
    "duration": 18,
    "start_time": "2023-06-22T22:10:15.334Z"
   },
   {
    "duration": 20,
    "start_time": "2023-06-22T22:10:15.353Z"
   },
   {
    "duration": 164,
    "start_time": "2023-06-22T22:10:15.374Z"
   },
   {
    "duration": 6,
    "start_time": "2023-06-22T22:10:15.540Z"
   },
   {
    "duration": 123,
    "start_time": "2023-06-22T22:10:15.547Z"
   },
   {
    "duration": 235,
    "start_time": "2023-06-22T22:10:15.673Z"
   },
   {
    "duration": 8,
    "start_time": "2023-06-22T22:10:15.909Z"
   },
   {
    "duration": 494,
    "start_time": "2023-06-22T22:10:15.920Z"
   },
   {
    "duration": 280,
    "start_time": "2023-06-22T22:10:16.416Z"
   },
   {
    "duration": 9,
    "start_time": "2023-06-22T22:10:16.698Z"
   },
   {
    "duration": 26,
    "start_time": "2023-06-22T22:10:16.708Z"
   },
   {
    "duration": 345,
    "start_time": "2023-06-22T22:10:16.736Z"
   },
   {
    "duration": 51,
    "start_time": "2023-06-22T22:10:17.082Z"
   },
   {
    "duration": 17,
    "start_time": "2023-06-22T22:10:17.134Z"
   },
   {
    "duration": 12,
    "start_time": "2023-06-22T22:10:17.153Z"
   },
   {
    "duration": 499,
    "start_time": "2023-06-22T22:10:17.166Z"
   },
   {
    "duration": 65,
    "start_time": "2023-06-22T22:10:17.667Z"
   },
   {
    "duration": 13,
    "start_time": "2023-06-22T22:10:17.733Z"
   },
   {
    "duration": 13,
    "start_time": "2023-06-22T22:10:17.748Z"
   },
   {
    "duration": 72,
    "start_time": "2023-06-22T22:10:17.763Z"
   },
   {
    "duration": 16,
    "start_time": "2023-06-22T22:10:17.837Z"
   },
   {
    "duration": 670,
    "start_time": "2023-06-22T22:10:17.854Z"
   },
   {
    "duration": 8,
    "start_time": "2023-06-22T22:10:18.525Z"
   },
   {
    "duration": 35,
    "start_time": "2023-06-22T22:10:18.534Z"
   },
   {
    "duration": 9,
    "start_time": "2023-06-22T22:10:18.571Z"
   },
   {
    "duration": 132,
    "start_time": "2023-06-22T22:10:18.581Z"
   },
   {
    "duration": 5,
    "start_time": "2023-06-22T22:10:18.714Z"
   },
   {
    "duration": 16,
    "start_time": "2023-06-22T22:10:18.720Z"
   },
   {
    "duration": 11,
    "start_time": "2023-06-22T22:10:18.738Z"
   },
   {
    "duration": 12,
    "start_time": "2023-06-22T22:10:18.750Z"
   },
   {
    "duration": 1412,
    "start_time": "2023-06-22T22:10:18.763Z"
   },
   {
    "duration": 1532,
    "start_time": "2023-06-22T22:10:20.176Z"
   },
   {
    "duration": 4890,
    "start_time": "2023-06-22T22:10:21.710Z"
   },
   {
    "duration": 10,
    "start_time": "2023-06-22T22:10:26.602Z"
   },
   {
    "duration": 5,
    "start_time": "2023-06-22T22:17:24.347Z"
   },
   {
    "duration": 6,
    "start_time": "2023-06-22T22:17:36.006Z"
   },
   {
    "duration": 1347,
    "start_time": "2023-06-23T08:20:03.214Z"
   },
   {
    "duration": 313,
    "start_time": "2023-06-23T08:20:04.563Z"
   },
   {
    "duration": 22,
    "start_time": "2023-06-23T08:20:04.878Z"
   },
   {
    "duration": 29,
    "start_time": "2023-06-23T08:20:04.903Z"
   },
   {
    "duration": 18,
    "start_time": "2023-06-23T08:20:04.934Z"
   },
   {
    "duration": 11,
    "start_time": "2023-06-23T08:20:04.954Z"
   },
   {
    "duration": 25,
    "start_time": "2023-06-23T08:20:04.966Z"
   },
   {
    "duration": 19,
    "start_time": "2023-06-23T08:20:04.992Z"
   },
   {
    "duration": 178,
    "start_time": "2023-06-23T08:20:09.105Z"
   },
   {
    "duration": 385,
    "start_time": "2023-06-23T08:21:15.006Z"
   },
   {
    "duration": 12,
    "start_time": "2023-06-23T08:21:25.501Z"
   },
   {
    "duration": 155,
    "start_time": "2023-06-23T08:21:27.724Z"
   },
   {
    "duration": 274,
    "start_time": "2023-06-23T08:25:38.666Z"
   },
   {
    "duration": 258,
    "start_time": "2023-06-23T08:26:18.848Z"
   },
   {
    "duration": 282,
    "start_time": "2023-06-23T08:26:34.058Z"
   },
   {
    "duration": 575,
    "start_time": "2023-06-23T08:37:53.201Z"
   },
   {
    "duration": 489,
    "start_time": "2023-06-23T08:52:19.922Z"
   },
   {
    "duration": 295,
    "start_time": "2023-06-23T08:53:00.661Z"
   },
   {
    "duration": 247,
    "start_time": "2023-06-23T08:53:06.372Z"
   },
   {
    "duration": 593,
    "start_time": "2023-06-23T08:53:55.444Z"
   },
   {
    "duration": 477,
    "start_time": "2023-06-23T08:54:21.748Z"
   },
   {
    "duration": 201,
    "start_time": "2023-06-23T08:55:34.714Z"
   },
   {
    "duration": 9,
    "start_time": "2023-06-23T08:56:11.410Z"
   },
   {
    "duration": 18,
    "start_time": "2023-06-23T08:56:20.318Z"
   },
   {
    "duration": 18,
    "start_time": "2023-06-23T08:56:22.118Z"
   },
   {
    "duration": 4,
    "start_time": "2023-06-23T08:56:23.530Z"
   },
   {
    "duration": 15,
    "start_time": "2023-06-23T08:57:59.238Z"
   },
   {
    "duration": 137,
    "start_time": "2023-06-23T09:01:27.571Z"
   },
   {
    "duration": 514,
    "start_time": "2023-06-23T09:01:33.819Z"
   },
   {
    "duration": 428,
    "start_time": "2023-06-23T09:02:06.027Z"
   },
   {
    "duration": 275,
    "start_time": "2023-06-23T09:02:13.362Z"
   },
   {
    "duration": 297,
    "start_time": "2023-06-23T09:02:19.218Z"
   },
   {
    "duration": 15,
    "start_time": "2023-06-23T09:02:23.614Z"
   },
   {
    "duration": 23,
    "start_time": "2023-06-23T09:02:26.535Z"
   },
   {
    "duration": 13,
    "start_time": "2023-06-23T09:07:34.530Z"
   },
   {
    "duration": 21,
    "start_time": "2023-06-23T09:07:45.147Z"
   },
   {
    "duration": 6,
    "start_time": "2023-06-23T09:07:47.888Z"
   },
   {
    "duration": 16,
    "start_time": "2023-06-23T09:07:50.126Z"
   },
   {
    "duration": 16,
    "start_time": "2023-06-23T09:07:51.859Z"
   },
   {
    "duration": 292,
    "start_time": "2023-06-23T09:07:53.546Z"
   },
   {
    "duration": 308,
    "start_time": "2023-06-23T09:08:02.642Z"
   },
   {
    "duration": 308,
    "start_time": "2023-06-23T09:08:46.455Z"
   },
   {
    "duration": 610,
    "start_time": "2023-06-23T09:08:59.150Z"
   },
   {
    "duration": 87,
    "start_time": "2023-06-23T10:06:36.941Z"
   },
   {
    "duration": 1596,
    "start_time": "2023-06-23T10:11:35.589Z"
   },
   {
    "duration": 2,
    "start_time": "2023-06-23T10:12:54.930Z"
   },
   {
    "duration": 4,
    "start_time": "2023-06-23T10:39:25.575Z"
   },
   {
    "duration": 94,
    "start_time": "2023-06-23T10:39:25.604Z"
   },
   {
    "duration": 20,
    "start_time": "2023-06-23T10:39:25.699Z"
   },
   {
    "duration": 23,
    "start_time": "2023-06-23T10:39:25.720Z"
   },
   {
    "duration": 43,
    "start_time": "2023-06-23T10:39:25.745Z"
   },
   {
    "duration": 53,
    "start_time": "2023-06-23T10:39:25.790Z"
   },
   {
    "duration": 42,
    "start_time": "2023-06-23T10:39:25.844Z"
   },
   {
    "duration": 61,
    "start_time": "2023-06-23T10:39:25.887Z"
   },
   {
    "duration": 182,
    "start_time": "2023-06-23T10:39:25.950Z"
   },
   {
    "duration": 8,
    "start_time": "2023-06-23T10:39:26.134Z"
   },
   {
    "duration": 158,
    "start_time": "2023-06-23T10:39:26.143Z"
   },
   {
    "duration": 299,
    "start_time": "2023-06-23T10:39:26.302Z"
   },
   {
    "duration": 16,
    "start_time": "2023-06-23T10:39:26.603Z"
   },
   {
    "duration": 557,
    "start_time": "2023-06-23T10:39:26.625Z"
   },
   {
    "duration": 501,
    "start_time": "2023-06-23T10:39:27.186Z"
   },
   {
    "duration": 11,
    "start_time": "2023-06-23T10:39:27.689Z"
   },
   {
    "duration": 81,
    "start_time": "2023-06-23T10:39:27.715Z"
   },
   {
    "duration": 233,
    "start_time": "2023-06-23T10:39:27.798Z"
   },
   {
    "duration": 18,
    "start_time": "2023-06-23T10:39:28.033Z"
   },
   {
    "duration": 99,
    "start_time": "2023-06-23T10:39:28.053Z"
   },
   {
    "duration": 98,
    "start_time": "2023-06-23T10:39:28.154Z"
   },
   {
    "duration": 49,
    "start_time": "2023-06-23T10:39:28.254Z"
   },
   {
    "duration": 337,
    "start_time": "2023-06-23T10:39:28.305Z"
   },
   {
    "duration": 14,
    "start_time": "2023-06-23T10:39:28.643Z"
   },
   {
    "duration": 183,
    "start_time": "2023-06-23T10:39:28.658Z"
   },
   {
    "duration": 108,
    "start_time": "2023-06-23T10:39:28.842Z"
   },
   {
    "duration": 54,
    "start_time": "2023-06-23T10:39:28.952Z"
   },
   {
    "duration": 31,
    "start_time": "2023-06-23T10:39:29.007Z"
   },
   {
    "duration": 531,
    "start_time": "2023-06-23T10:39:29.039Z"
   },
   {
    "duration": 5,
    "start_time": "2023-06-23T10:39:29.573Z"
   },
   {
    "duration": 71,
    "start_time": "2023-06-23T10:39:29.580Z"
   },
   {
    "duration": 18,
    "start_time": "2023-06-23T10:39:29.654Z"
   },
   {
    "duration": 183,
    "start_time": "2023-06-23T10:39:29.675Z"
   },
   {
    "duration": 7,
    "start_time": "2023-06-23T10:39:29.860Z"
   },
   {
    "duration": 20,
    "start_time": "2023-06-23T10:39:29.868Z"
   },
   {
    "duration": 33,
    "start_time": "2023-06-23T10:39:29.890Z"
   },
   {
    "duration": 12,
    "start_time": "2023-06-23T10:39:29.926Z"
   },
   {
    "duration": 1793,
    "start_time": "2023-06-23T10:39:29.940Z"
   },
   {
    "duration": 2161,
    "start_time": "2023-06-23T10:39:31.735Z"
   },
   {
    "duration": 6401,
    "start_time": "2023-06-23T10:39:33.898Z"
   },
   {
    "duration": 221,
    "start_time": "2023-06-23T10:50:55.810Z"
   },
   {
    "duration": 390,
    "start_time": "2023-06-23T10:53:37.339Z"
   },
   {
    "duration": 16,
    "start_time": "2023-06-23T10:55:14.031Z"
   },
   {
    "duration": 597,
    "start_time": "2023-06-23T10:55:46.342Z"
   },
   {
    "duration": 813,
    "start_time": "2023-06-23T10:56:02.239Z"
   },
   {
    "duration": 549,
    "start_time": "2023-06-23T10:56:06.835Z"
   },
   {
    "duration": 593,
    "start_time": "2023-06-23T10:58:09.959Z"
   },
   {
    "duration": 613,
    "start_time": "2023-06-23T10:58:52.544Z"
   },
   {
    "duration": 1133,
    "start_time": "2023-06-23T20:43:24.270Z"
   },
   {
    "duration": 143,
    "start_time": "2023-06-23T20:43:25.406Z"
   },
   {
    "duration": 29,
    "start_time": "2023-06-23T20:43:25.551Z"
   },
   {
    "duration": 11,
    "start_time": "2023-06-23T20:43:25.583Z"
   },
   {
    "duration": 41,
    "start_time": "2023-06-23T20:43:25.596Z"
   },
   {
    "duration": 16,
    "start_time": "2023-06-23T20:43:25.640Z"
   },
   {
    "duration": 20,
    "start_time": "2023-06-23T20:43:25.658Z"
   },
   {
    "duration": 22,
    "start_time": "2023-06-23T20:43:25.680Z"
   },
   {
    "duration": 236,
    "start_time": "2023-06-23T20:43:25.704Z"
   },
   {
    "duration": 8,
    "start_time": "2023-06-23T20:43:25.948Z"
   },
   {
    "duration": 198,
    "start_time": "2023-06-23T20:43:25.958Z"
   },
   {
    "duration": 305,
    "start_time": "2023-06-23T20:43:26.158Z"
   },
   {
    "duration": 9,
    "start_time": "2023-06-23T20:43:26.464Z"
   },
   {
    "duration": 605,
    "start_time": "2023-06-23T20:43:26.475Z"
   },
   {
    "duration": 367,
    "start_time": "2023-06-23T20:43:27.082Z"
   },
   {
    "duration": 14,
    "start_time": "2023-06-23T20:43:27.451Z"
   },
   {
    "duration": 52,
    "start_time": "2023-06-23T20:43:27.467Z"
   },
   {
    "duration": 225,
    "start_time": "2023-06-23T20:43:27.521Z"
   },
   {
    "duration": 27,
    "start_time": "2023-06-23T20:43:27.748Z"
   },
   {
    "duration": 57,
    "start_time": "2023-06-23T20:43:27.778Z"
   },
   {
    "duration": 16,
    "start_time": "2023-06-23T20:43:27.837Z"
   },
   {
    "duration": 54,
    "start_time": "2023-06-23T20:43:27.855Z"
   },
   {
    "duration": 340,
    "start_time": "2023-06-23T20:43:27.912Z"
   },
   {
    "duration": 15,
    "start_time": "2023-06-23T20:43:28.253Z"
   },
   {
    "duration": 61,
    "start_time": "2023-06-23T20:43:28.270Z"
   },
   {
    "duration": 7,
    "start_time": "2023-06-23T20:43:28.334Z"
   },
   {
    "duration": 53,
    "start_time": "2023-06-23T20:43:28.346Z"
   },
   {
    "duration": 29,
    "start_time": "2023-06-23T20:43:28.402Z"
   },
   {
    "duration": 499,
    "start_time": "2023-06-23T20:43:28.433Z"
   },
   {
    "duration": 11,
    "start_time": "2023-06-23T20:43:28.935Z"
   },
   {
    "duration": 59,
    "start_time": "2023-06-23T20:43:28.949Z"
   },
   {
    "duration": 19,
    "start_time": "2023-06-23T20:43:29.010Z"
   },
   {
    "duration": 173,
    "start_time": "2023-06-23T20:43:29.031Z"
   },
   {
    "duration": 9,
    "start_time": "2023-06-23T20:43:29.206Z"
   },
   {
    "duration": 37,
    "start_time": "2023-06-23T20:43:29.218Z"
   },
   {
    "duration": 13,
    "start_time": "2023-06-23T20:43:29.257Z"
   },
   {
    "duration": 9,
    "start_time": "2023-06-23T20:43:29.272Z"
   },
   {
    "duration": 1813,
    "start_time": "2023-06-23T20:43:29.284Z"
   },
   {
    "duration": 2441,
    "start_time": "2023-06-23T20:43:31.098Z"
   },
   {
    "duration": 7462,
    "start_time": "2023-06-23T20:43:33.541Z"
   }
  ],
  "kernelspec": {
   "display_name": "Python 3 (ipykernel)",
   "language": "python",
   "name": "python3"
  },
  "language_info": {
   "codemirror_mode": {
    "name": "ipython",
    "version": 3
   },
   "file_extension": ".py",
   "mimetype": "text/x-python",
   "name": "python",
   "nbconvert_exporter": "python",
   "pygments_lexer": "ipython3",
   "version": "3.9.13"
  },
  "toc": {
   "base_numbering": 1,
   "nav_menu": {},
   "number_sections": true,
   "sideBar": true,
   "skip_h1_title": true,
   "title_cell": "Table of Contents",
   "title_sidebar": "Contents",
   "toc_cell": true,
   "toc_position": {},
   "toc_section_display": true,
   "toc_window_display": true
  }
 },
 "nbformat": 4,
 "nbformat_minor": 5
}
