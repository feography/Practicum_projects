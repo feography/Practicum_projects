{
 "cells": [
  {
   "cell_type": "markdown",
   "metadata": {},
   "source": [
    "# Определение стоимости автомобилей"
   ]
  },
  {
   "cell_type": "markdown",
   "metadata": {},
   "source": [
    "Сервис по продаже автомобилей с пробегом разрабатывает приложение для привлечения новых клиентов. В нём можно быстро узнать рыночную стоимость своего автомобиля. В вашем распоряжении исторические данные: технические характеристики, комплектации и цены автомобилей. Вам нужно построить модель для определения стоимости. \n",
    "\n",
    "Заказчику важны:\n",
    "\n",
    "- качество предсказания;\n",
    "- скорость предсказания;\n",
    "- время обучения."
   ]
  },
  {
   "cell_type": "markdown",
   "metadata": {},
   "source": [
    "# Описание данных\n",
    "Признаки для обучения\n",
    "- DateCrawled — дата скачивания анкеты из базы\n",
    "- VehicleType — тип автомобильного кузова\n",
    "- RegistrationYear — год регистрации автомобиля\n",
    "- Gearbox — тип коробки передач\n",
    "- Power — мощность (л. с.)\n",
    "- Model — модель автомобиля\n",
    "- Kilometer — пробег (км)\n",
    "- RegistrationMonth — месяц регистрации автомобиля\n",
    "- FuelType — тип топлива\n",
    "- Brand — марка автомобиля\n",
    "- Repaired — была машина в ремонте или нет\n",
    "- DateCreated — дата создания анкеты\n",
    "- NumberOfPictures — количество фотографий автомобиля\n",
    "- PostalCode — почтовый индекс владельца анкеты (пользователя)\n",
    "- LastSeen — дата последней активности пользователя\n",
    "\n",
    "Целевой признак\n",
    "- Price — цена (евро)"
   ]
  },
  {
   "cell_type": "markdown",
   "metadata": {},
   "source": [
    "# План исследования: \n",
    "1. Загрузка данных, изучение и подготовка данных для обучения.\n",
    "2. Подготовка выборок для обучения моделей.\n",
    "3. Обучение моделей, одна из которых — LightGBM, как минимум одна — не бустинг. Для каждой модели попробуйте разные гиперпараметры.\n",
    "4. Анализ время обучения, время предсказания и качества моделей. Выбор лучшей в соответствии с критериями заказчика."
   ]
  },
  {
   "cell_type": "markdown",
   "metadata": {},
   "source": [
    "## Подготовка данных"
   ]
  },
  {
   "cell_type": "code",
   "execution_count": 1,
   "metadata": {},
   "outputs": [],
   "source": [
    "import numpy as np\n",
    "import pandas as pd\n",
    "import matplotlib.pyplot as plt\n",
    "import seaborn as sns\n",
    "import phik\n",
    "from sklearn.model_selection import train_test_split, GridSearchCV\n",
    "from sklearn.compose import make_column_transformer, ColumnTransformer\n",
    "from sklearn.metrics import mean_squared_error, make_scorer\n",
    "from sklearn.preprocessing import StandardScaler, OrdinalEncoder\n",
    "from sklearn.pipeline import make_pipeline\n",
    "from sklearn.ensemble import RandomForestRegressor\n",
    "from sklearn.tree import DecisionTreeRegressor\n",
    "#from lightgbm import LGBMRegressor\n",
    "from catboost import CatBoostRegressor"
   ]
  },
  {
   "cell_type": "code",
   "execution_count": 2,
   "metadata": {},
   "outputs": [],
   "source": [
    "try:\n",
    "    data = pd.read_csv('/datasets/autos.csv')\n",
    "except:\n",
    "    data = pd.read_csv('autos.csv')"
   ]
  },
  {
   "cell_type": "code",
   "execution_count": 3,
   "metadata": {
    "scrolled": true
   },
   "outputs": [
    {
     "data": {
      "text/html": [
       "<div>\n",
       "<style scoped>\n",
       "    .dataframe tbody tr th:only-of-type {\n",
       "        vertical-align: middle;\n",
       "    }\n",
       "\n",
       "    .dataframe tbody tr th {\n",
       "        vertical-align: top;\n",
       "    }\n",
       "\n",
       "    .dataframe thead th {\n",
       "        text-align: right;\n",
       "    }\n",
       "</style>\n",
       "<table border=\"1\" class=\"dataframe\">\n",
       "  <thead>\n",
       "    <tr style=\"text-align: right;\">\n",
       "      <th></th>\n",
       "      <th>DateCrawled</th>\n",
       "      <th>Price</th>\n",
       "      <th>VehicleType</th>\n",
       "      <th>RegistrationYear</th>\n",
       "      <th>Gearbox</th>\n",
       "      <th>Power</th>\n",
       "      <th>Model</th>\n",
       "      <th>Kilometer</th>\n",
       "      <th>RegistrationMonth</th>\n",
       "      <th>FuelType</th>\n",
       "      <th>Brand</th>\n",
       "      <th>Repaired</th>\n",
       "      <th>DateCreated</th>\n",
       "      <th>NumberOfPictures</th>\n",
       "      <th>PostalCode</th>\n",
       "      <th>LastSeen</th>\n",
       "    </tr>\n",
       "  </thead>\n",
       "  <tbody>\n",
       "    <tr>\n",
       "      <th>0</th>\n",
       "      <td>2016-03-24 11:52:17</td>\n",
       "      <td>480</td>\n",
       "      <td>NaN</td>\n",
       "      <td>1993</td>\n",
       "      <td>manual</td>\n",
       "      <td>0</td>\n",
       "      <td>golf</td>\n",
       "      <td>150000</td>\n",
       "      <td>0</td>\n",
       "      <td>petrol</td>\n",
       "      <td>volkswagen</td>\n",
       "      <td>NaN</td>\n",
       "      <td>2016-03-24 00:00:00</td>\n",
       "      <td>0</td>\n",
       "      <td>70435</td>\n",
       "      <td>2016-04-07 03:16:57</td>\n",
       "    </tr>\n",
       "    <tr>\n",
       "      <th>1</th>\n",
       "      <td>2016-03-24 10:58:45</td>\n",
       "      <td>18300</td>\n",
       "      <td>coupe</td>\n",
       "      <td>2011</td>\n",
       "      <td>manual</td>\n",
       "      <td>190</td>\n",
       "      <td>NaN</td>\n",
       "      <td>125000</td>\n",
       "      <td>5</td>\n",
       "      <td>gasoline</td>\n",
       "      <td>audi</td>\n",
       "      <td>yes</td>\n",
       "      <td>2016-03-24 00:00:00</td>\n",
       "      <td>0</td>\n",
       "      <td>66954</td>\n",
       "      <td>2016-04-07 01:46:50</td>\n",
       "    </tr>\n",
       "    <tr>\n",
       "      <th>2</th>\n",
       "      <td>2016-03-14 12:52:21</td>\n",
       "      <td>9800</td>\n",
       "      <td>suv</td>\n",
       "      <td>2004</td>\n",
       "      <td>auto</td>\n",
       "      <td>163</td>\n",
       "      <td>grand</td>\n",
       "      <td>125000</td>\n",
       "      <td>8</td>\n",
       "      <td>gasoline</td>\n",
       "      <td>jeep</td>\n",
       "      <td>NaN</td>\n",
       "      <td>2016-03-14 00:00:00</td>\n",
       "      <td>0</td>\n",
       "      <td>90480</td>\n",
       "      <td>2016-04-05 12:47:46</td>\n",
       "    </tr>\n",
       "    <tr>\n",
       "      <th>3</th>\n",
       "      <td>2016-03-17 16:54:04</td>\n",
       "      <td>1500</td>\n",
       "      <td>small</td>\n",
       "      <td>2001</td>\n",
       "      <td>manual</td>\n",
       "      <td>75</td>\n",
       "      <td>golf</td>\n",
       "      <td>150000</td>\n",
       "      <td>6</td>\n",
       "      <td>petrol</td>\n",
       "      <td>volkswagen</td>\n",
       "      <td>no</td>\n",
       "      <td>2016-03-17 00:00:00</td>\n",
       "      <td>0</td>\n",
       "      <td>91074</td>\n",
       "      <td>2016-03-17 17:40:17</td>\n",
       "    </tr>\n",
       "    <tr>\n",
       "      <th>4</th>\n",
       "      <td>2016-03-31 17:25:20</td>\n",
       "      <td>3600</td>\n",
       "      <td>small</td>\n",
       "      <td>2008</td>\n",
       "      <td>manual</td>\n",
       "      <td>69</td>\n",
       "      <td>fabia</td>\n",
       "      <td>90000</td>\n",
       "      <td>7</td>\n",
       "      <td>gasoline</td>\n",
       "      <td>skoda</td>\n",
       "      <td>no</td>\n",
       "      <td>2016-03-31 00:00:00</td>\n",
       "      <td>0</td>\n",
       "      <td>60437</td>\n",
       "      <td>2016-04-06 10:17:21</td>\n",
       "    </tr>\n",
       "    <tr>\n",
       "      <th>5</th>\n",
       "      <td>2016-04-04 17:36:23</td>\n",
       "      <td>650</td>\n",
       "      <td>sedan</td>\n",
       "      <td>1995</td>\n",
       "      <td>manual</td>\n",
       "      <td>102</td>\n",
       "      <td>3er</td>\n",
       "      <td>150000</td>\n",
       "      <td>10</td>\n",
       "      <td>petrol</td>\n",
       "      <td>bmw</td>\n",
       "      <td>yes</td>\n",
       "      <td>2016-04-04 00:00:00</td>\n",
       "      <td>0</td>\n",
       "      <td>33775</td>\n",
       "      <td>2016-04-06 19:17:07</td>\n",
       "    </tr>\n",
       "    <tr>\n",
       "      <th>6</th>\n",
       "      <td>2016-04-01 20:48:51</td>\n",
       "      <td>2200</td>\n",
       "      <td>convertible</td>\n",
       "      <td>2004</td>\n",
       "      <td>manual</td>\n",
       "      <td>109</td>\n",
       "      <td>2_reihe</td>\n",
       "      <td>150000</td>\n",
       "      <td>8</td>\n",
       "      <td>petrol</td>\n",
       "      <td>peugeot</td>\n",
       "      <td>no</td>\n",
       "      <td>2016-04-01 00:00:00</td>\n",
       "      <td>0</td>\n",
       "      <td>67112</td>\n",
       "      <td>2016-04-05 18:18:39</td>\n",
       "    </tr>\n",
       "    <tr>\n",
       "      <th>7</th>\n",
       "      <td>2016-03-21 18:54:38</td>\n",
       "      <td>0</td>\n",
       "      <td>sedan</td>\n",
       "      <td>1980</td>\n",
       "      <td>manual</td>\n",
       "      <td>50</td>\n",
       "      <td>other</td>\n",
       "      <td>40000</td>\n",
       "      <td>7</td>\n",
       "      <td>petrol</td>\n",
       "      <td>volkswagen</td>\n",
       "      <td>no</td>\n",
       "      <td>2016-03-21 00:00:00</td>\n",
       "      <td>0</td>\n",
       "      <td>19348</td>\n",
       "      <td>2016-03-25 16:47:58</td>\n",
       "    </tr>\n",
       "    <tr>\n",
       "      <th>8</th>\n",
       "      <td>2016-04-04 23:42:13</td>\n",
       "      <td>14500</td>\n",
       "      <td>bus</td>\n",
       "      <td>2014</td>\n",
       "      <td>manual</td>\n",
       "      <td>125</td>\n",
       "      <td>c_max</td>\n",
       "      <td>30000</td>\n",
       "      <td>8</td>\n",
       "      <td>petrol</td>\n",
       "      <td>ford</td>\n",
       "      <td>NaN</td>\n",
       "      <td>2016-04-04 00:00:00</td>\n",
       "      <td>0</td>\n",
       "      <td>94505</td>\n",
       "      <td>2016-04-04 23:42:13</td>\n",
       "    </tr>\n",
       "    <tr>\n",
       "      <th>9</th>\n",
       "      <td>2016-03-17 10:53:50</td>\n",
       "      <td>999</td>\n",
       "      <td>small</td>\n",
       "      <td>1998</td>\n",
       "      <td>manual</td>\n",
       "      <td>101</td>\n",
       "      <td>golf</td>\n",
       "      <td>150000</td>\n",
       "      <td>0</td>\n",
       "      <td>NaN</td>\n",
       "      <td>volkswagen</td>\n",
       "      <td>NaN</td>\n",
       "      <td>2016-03-17 00:00:00</td>\n",
       "      <td>0</td>\n",
       "      <td>27472</td>\n",
       "      <td>2016-03-31 17:17:06</td>\n",
       "    </tr>\n",
       "  </tbody>\n",
       "</table>\n",
       "</div>"
      ],
      "text/plain": [
       "           DateCrawled  Price  VehicleType  RegistrationYear Gearbox  Power  \\\n",
       "0  2016-03-24 11:52:17    480          NaN              1993  manual      0   \n",
       "1  2016-03-24 10:58:45  18300        coupe              2011  manual    190   \n",
       "2  2016-03-14 12:52:21   9800          suv              2004    auto    163   \n",
       "3  2016-03-17 16:54:04   1500        small              2001  manual     75   \n",
       "4  2016-03-31 17:25:20   3600        small              2008  manual     69   \n",
       "5  2016-04-04 17:36:23    650        sedan              1995  manual    102   \n",
       "6  2016-04-01 20:48:51   2200  convertible              2004  manual    109   \n",
       "7  2016-03-21 18:54:38      0        sedan              1980  manual     50   \n",
       "8  2016-04-04 23:42:13  14500          bus              2014  manual    125   \n",
       "9  2016-03-17 10:53:50    999        small              1998  manual    101   \n",
       "\n",
       "     Model  Kilometer  RegistrationMonth  FuelType       Brand Repaired  \\\n",
       "0     golf     150000                  0    petrol  volkswagen      NaN   \n",
       "1      NaN     125000                  5  gasoline        audi      yes   \n",
       "2    grand     125000                  8  gasoline        jeep      NaN   \n",
       "3     golf     150000                  6    petrol  volkswagen       no   \n",
       "4    fabia      90000                  7  gasoline       skoda       no   \n",
       "5      3er     150000                 10    petrol         bmw      yes   \n",
       "6  2_reihe     150000                  8    petrol     peugeot       no   \n",
       "7    other      40000                  7    petrol  volkswagen       no   \n",
       "8    c_max      30000                  8    petrol        ford      NaN   \n",
       "9     golf     150000                  0       NaN  volkswagen      NaN   \n",
       "\n",
       "           DateCreated  NumberOfPictures  PostalCode             LastSeen  \n",
       "0  2016-03-24 00:00:00                 0       70435  2016-04-07 03:16:57  \n",
       "1  2016-03-24 00:00:00                 0       66954  2016-04-07 01:46:50  \n",
       "2  2016-03-14 00:00:00                 0       90480  2016-04-05 12:47:46  \n",
       "3  2016-03-17 00:00:00                 0       91074  2016-03-17 17:40:17  \n",
       "4  2016-03-31 00:00:00                 0       60437  2016-04-06 10:17:21  \n",
       "5  2016-04-04 00:00:00                 0       33775  2016-04-06 19:17:07  \n",
       "6  2016-04-01 00:00:00                 0       67112  2016-04-05 18:18:39  \n",
       "7  2016-03-21 00:00:00                 0       19348  2016-03-25 16:47:58  \n",
       "8  2016-04-04 00:00:00                 0       94505  2016-04-04 23:42:13  \n",
       "9  2016-03-17 00:00:00                 0       27472  2016-03-31 17:17:06  "
      ]
     },
     "execution_count": 3,
     "metadata": {},
     "output_type": "execute_result"
    }
   ],
   "source": [
    "data.head(10)"
   ]
  },
  {
   "cell_type": "code",
   "execution_count": 4,
   "metadata": {
    "scrolled": true
   },
   "outputs": [
    {
     "name": "stdout",
     "output_type": "stream",
     "text": [
      "<class 'pandas.core.frame.DataFrame'>\n",
      "RangeIndex: 354369 entries, 0 to 354368\n",
      "Data columns (total 16 columns):\n",
      " #   Column             Non-Null Count   Dtype \n",
      "---  ------             --------------   ----- \n",
      " 0   DateCrawled        354369 non-null  object\n",
      " 1   Price              354369 non-null  int64 \n",
      " 2   VehicleType        316879 non-null  object\n",
      " 3   RegistrationYear   354369 non-null  int64 \n",
      " 4   Gearbox            334536 non-null  object\n",
      " 5   Power              354369 non-null  int64 \n",
      " 6   Model              334664 non-null  object\n",
      " 7   Kilometer          354369 non-null  int64 \n",
      " 8   RegistrationMonth  354369 non-null  int64 \n",
      " 9   FuelType           321474 non-null  object\n",
      " 10  Brand              354369 non-null  object\n",
      " 11  Repaired           283215 non-null  object\n",
      " 12  DateCreated        354369 non-null  object\n",
      " 13  NumberOfPictures   354369 non-null  int64 \n",
      " 14  PostalCode         354369 non-null  int64 \n",
      " 15  LastSeen           354369 non-null  object\n",
      "dtypes: int64(7), object(9)\n",
      "memory usage: 43.3+ MB\n"
     ]
    }
   ],
   "source": [
    "data.info()"
   ]
  },
  {
   "cell_type": "code",
   "execution_count": 5,
   "metadata": {},
   "outputs": [
    {
     "data": {
      "text/html": [
       "<div>\n",
       "<style scoped>\n",
       "    .dataframe tbody tr th:only-of-type {\n",
       "        vertical-align: middle;\n",
       "    }\n",
       "\n",
       "    .dataframe tbody tr th {\n",
       "        vertical-align: top;\n",
       "    }\n",
       "\n",
       "    .dataframe thead th {\n",
       "        text-align: right;\n",
       "    }\n",
       "</style>\n",
       "<table border=\"1\" class=\"dataframe\">\n",
       "  <thead>\n",
       "    <tr style=\"text-align: right;\">\n",
       "      <th></th>\n",
       "      <th>nans_count</th>\n",
       "      <th>nans_percent</th>\n",
       "    </tr>\n",
       "  </thead>\n",
       "  <tbody>\n",
       "    <tr>\n",
       "      <th>Repaired</th>\n",
       "      <td>71154</td>\n",
       "      <td>20.079070</td>\n",
       "    </tr>\n",
       "    <tr>\n",
       "      <th>VehicleType</th>\n",
       "      <td>37490</td>\n",
       "      <td>10.579368</td>\n",
       "    </tr>\n",
       "    <tr>\n",
       "      <th>FuelType</th>\n",
       "      <td>32895</td>\n",
       "      <td>9.282697</td>\n",
       "    </tr>\n",
       "    <tr>\n",
       "      <th>Gearbox</th>\n",
       "      <td>19833</td>\n",
       "      <td>5.596709</td>\n",
       "    </tr>\n",
       "    <tr>\n",
       "      <th>Model</th>\n",
       "      <td>19705</td>\n",
       "      <td>5.560588</td>\n",
       "    </tr>\n",
       "  </tbody>\n",
       "</table>\n",
       "</div>"
      ],
      "text/plain": [
       "             nans_count  nans_percent\n",
       "Repaired          71154     20.079070\n",
       "VehicleType       37490     10.579368\n",
       "FuelType          32895      9.282697\n",
       "Gearbox           19833      5.596709\n",
       "Model             19705      5.560588"
      ]
     },
     "execution_count": 5,
     "metadata": {},
     "output_type": "execute_result"
    }
   ],
   "source": [
    "nans = data.isna().sum().to_frame().rename(\n",
    "    columns = {0:'nans_count'}).query('nans_count > 0').sort_values(by='nans_count', ascending=False)\n",
    "nans['nans_percent'] = nans['nans_count']*100/len(data)\n",
    "nans"
   ]
  },
  {
   "cell_type": "markdown",
   "metadata": {},
   "source": [
    "Вывод: пропусков очень много: 20% в колонке Repaired, 10,5% в типе кузова, 9.3% в типе топлива, по 5,6% в типе коробки передач и модели автомобиля. Можно предположить, что пропуски в данных Repaired не были заполнены по причине отсутсвия ремонта или наоборот, собственник не хочет указывать факт ремонта,  эти пропуски можно заполунить значнием no_data (нет данных). Тип кузова можно определить. Также видно что есть нулевые значения в колонке price."
   ]
  },
  {
   "cell_type": "markdown",
   "metadata": {},
   "source": [
    "Далее поищем полные дубликаты в данных"
   ]
  },
  {
   "cell_type": "code",
   "execution_count": 6,
   "metadata": {
    "scrolled": true
   },
   "outputs": [
    {
     "data": {
      "text/plain": [
       "4"
      ]
     },
     "execution_count": 6,
     "metadata": {},
     "output_type": "execute_result"
    }
   ],
   "source": [
    "data.duplicated().sum()\n",
    "#data[data.duplicated()]"
   ]
  },
  {
   "cell_type": "code",
   "execution_count": 7,
   "metadata": {},
   "outputs": [
    {
     "name": "stdout",
     "output_type": "stream",
     "text": [
      "354365\n"
     ]
    }
   ],
   "source": [
    "data = data.drop_duplicates()\n",
    "print(len(data))"
   ]
  },
  {
   "cell_type": "code",
   "execution_count": 8,
   "metadata": {},
   "outputs": [
    {
     "data": {
      "text/plain": [
       "array(['petrol', 'gasoline', nan, 'lpg', 'other', 'hybrid', 'cng',\n",
       "       'electric'], dtype=object)"
      ]
     },
     "execution_count": 8,
     "metadata": {},
     "output_type": "execute_result"
    }
   ],
   "source": [
    "data['FuelType'].unique()"
   ]
  },
  {
   "cell_type": "markdown",
   "metadata": {},
   "source": [
    "Среди уникальных значений типа топлива есть 2 значения, которые оба означают бензин. Объединим их в одно значение petrol. Странно что нет категории дизельное топливо."
   ]
  },
  {
   "cell_type": "code",
   "execution_count": 9,
   "metadata": {},
   "outputs": [],
   "source": [
    "data['FuelType'] = data['FuelType'].replace('gasoline','petrol')"
   ]
  },
  {
   "cell_type": "code",
   "execution_count": 10,
   "metadata": {},
   "outputs": [
    {
     "data": {
      "text/plain": [
       "array(['petrol', nan, 'lpg', 'other', 'hybrid', 'cng', 'electric'],\n",
       "      dtype=object)"
      ]
     },
     "execution_count": 10,
     "metadata": {},
     "output_type": "execute_result"
    }
   ],
   "source": [
    "data['FuelType'].unique()"
   ]
  },
  {
   "cell_type": "code",
   "execution_count": 11,
   "metadata": {},
   "outputs": [
    {
     "data": {
      "text/plain": [
       "array([0], dtype=int64)"
      ]
     },
     "execution_count": 11,
     "metadata": {},
     "output_type": "execute_result"
    }
   ],
   "source": [
    "data['NumberOfPictures'].unique()"
   ]
  },
  {
   "cell_type": "markdown",
   "metadata": {},
   "source": [
    "Столбцы  DateCreated, NumberOfPictures, PostalCode, LastSeen , \tDateCrawled и RegistrationMonth не являются информативными для нашей задачи обучения, удалим их. Оставшиеся колонки переименуем в соответствии со змеиным регистром."
   ]
  },
  {
   "cell_type": "code",
   "execution_count": 12,
   "metadata": {},
   "outputs": [],
   "source": [
    "data.drop(['DateCreated', 'NumberOfPictures', 'PostalCode', 'LastSeen',\n",
    "           'DateCrawled', 'RegistrationMonth'], axis=1, inplace=True)"
   ]
  },
  {
   "cell_type": "code",
   "execution_count": 13,
   "metadata": {},
   "outputs": [
    {
     "data": {
      "text/plain": [
       "45883"
      ]
     },
     "execution_count": 13,
     "metadata": {},
     "output_type": "execute_result"
    }
   ],
   "source": [
    "data.duplicated().sum()\n"
   ]
  },
  {
   "cell_type": "markdown",
   "metadata": {},
   "source": [
    "Почти 46 тысяч дубликатов! Но это логично, учитывая что пробег указывается с точностью до 5000 км. Придется их удалить."
   ]
  },
  {
   "cell_type": "code",
   "execution_count": 14,
   "metadata": {},
   "outputs": [
    {
     "name": "stdout",
     "output_type": "stream",
     "text": [
      "308482\n"
     ]
    }
   ],
   "source": [
    "data = data.drop_duplicates()\n",
    "print(len(data))"
   ]
  },
  {
   "cell_type": "code",
   "execution_count": 15,
   "metadata": {},
   "outputs": [
    {
     "data": {
      "text/plain": [
       "Index(['price', 'vehicletype', 'registrationyear', 'gearbox', 'power', 'model',\n",
       "       'kilometer', 'fueltype', 'brand', 'repaired'],\n",
       "      dtype='object')"
      ]
     },
     "execution_count": 15,
     "metadata": {},
     "output_type": "execute_result"
    }
   ],
   "source": [
    "data.columns = data.columns.str.lower()\n",
    "data.columns"
   ]
  },
  {
   "cell_type": "code",
   "execution_count": 16,
   "metadata": {},
   "outputs": [
    {
     "data": {
      "text/plain": [
       "Index(['price', 'vehicle_type', 'registration_year', 'gearbox', 'power',\n",
       "       'model', 'kilometer', 'fuel_type', 'brand', 'repaired'],\n",
       "      dtype='object')"
      ]
     },
     "execution_count": 16,
     "metadata": {},
     "output_type": "execute_result"
    }
   ],
   "source": [
    "data.rename(columns = {'vehicletype':'vehicle_type',\n",
    "                       'registrationyear':'registration_year',\n",
    "                        'fueltype': 'fuel_type'}, inplace = True )\n",
    "data.columns"
   ]
  },
  {
   "cell_type": "markdown",
   "metadata": {},
   "source": [
    "ДАлее заполним пропуски. Пропуски в 'repaired', vehicle_type, fuel_type, gearbox и model значениями unknow. Но сначала проверим есть ли объекты, где все эти параметры не указаны."
   ]
  },
  {
   "cell_type": "code",
   "execution_count": 17,
   "metadata": {},
   "outputs": [
    {
     "data": {
      "text/html": [
       "<div>\n",
       "<style scoped>\n",
       "    .dataframe tbody tr th:only-of-type {\n",
       "        vertical-align: middle;\n",
       "    }\n",
       "\n",
       "    .dataframe tbody tr th {\n",
       "        vertical-align: top;\n",
       "    }\n",
       "\n",
       "    .dataframe thead th {\n",
       "        text-align: right;\n",
       "    }\n",
       "</style>\n",
       "<table border=\"1\" class=\"dataframe\">\n",
       "  <thead>\n",
       "    <tr style=\"text-align: right;\">\n",
       "      <th></th>\n",
       "      <th>price</th>\n",
       "      <th>vehicle_type</th>\n",
       "      <th>registration_year</th>\n",
       "      <th>gearbox</th>\n",
       "      <th>power</th>\n",
       "      <th>model</th>\n",
       "      <th>kilometer</th>\n",
       "      <th>fuel_type</th>\n",
       "      <th>brand</th>\n",
       "      <th>repaired</th>\n",
       "    </tr>\n",
       "  </thead>\n",
       "  <tbody>\n",
       "    <tr>\n",
       "      <th>306</th>\n",
       "      <td>200</td>\n",
       "      <td>NaN</td>\n",
       "      <td>2009</td>\n",
       "      <td>NaN</td>\n",
       "      <td>0</td>\n",
       "      <td>NaN</td>\n",
       "      <td>10000</td>\n",
       "      <td>NaN</td>\n",
       "      <td>sonstige_autos</td>\n",
       "      <td>NaN</td>\n",
       "    </tr>\n",
       "    <tr>\n",
       "      <th>522</th>\n",
       "      <td>0</td>\n",
       "      <td>NaN</td>\n",
       "      <td>2000</td>\n",
       "      <td>NaN</td>\n",
       "      <td>0</td>\n",
       "      <td>NaN</td>\n",
       "      <td>150000</td>\n",
       "      <td>NaN</td>\n",
       "      <td>volvo</td>\n",
       "      <td>NaN</td>\n",
       "    </tr>\n",
       "    <tr>\n",
       "      <th>538</th>\n",
       "      <td>2600</td>\n",
       "      <td>NaN</td>\n",
       "      <td>2005</td>\n",
       "      <td>NaN</td>\n",
       "      <td>0</td>\n",
       "      <td>NaN</td>\n",
       "      <td>125000</td>\n",
       "      <td>NaN</td>\n",
       "      <td>chevrolet</td>\n",
       "      <td>NaN</td>\n",
       "    </tr>\n",
       "    <tr>\n",
       "      <th>552</th>\n",
       "      <td>50</td>\n",
       "      <td>NaN</td>\n",
       "      <td>1985</td>\n",
       "      <td>NaN</td>\n",
       "      <td>0</td>\n",
       "      <td>NaN</td>\n",
       "      <td>150000</td>\n",
       "      <td>NaN</td>\n",
       "      <td>trabant</td>\n",
       "      <td>NaN</td>\n",
       "    </tr>\n",
       "    <tr>\n",
       "      <th>622</th>\n",
       "      <td>0</td>\n",
       "      <td>NaN</td>\n",
       "      <td>1111</td>\n",
       "      <td>NaN</td>\n",
       "      <td>0</td>\n",
       "      <td>NaN</td>\n",
       "      <td>5000</td>\n",
       "      <td>NaN</td>\n",
       "      <td>opel</td>\n",
       "      <td>NaN</td>\n",
       "    </tr>\n",
       "    <tr>\n",
       "      <th>...</th>\n",
       "      <td>...</td>\n",
       "      <td>...</td>\n",
       "      <td>...</td>\n",
       "      <td>...</td>\n",
       "      <td>...</td>\n",
       "      <td>...</td>\n",
       "      <td>...</td>\n",
       "      <td>...</td>\n",
       "      <td>...</td>\n",
       "      <td>...</td>\n",
       "    </tr>\n",
       "    <tr>\n",
       "      <th>353104</th>\n",
       "      <td>1200</td>\n",
       "      <td>NaN</td>\n",
       "      <td>2000</td>\n",
       "      <td>NaN</td>\n",
       "      <td>75</td>\n",
       "      <td>NaN</td>\n",
       "      <td>150000</td>\n",
       "      <td>NaN</td>\n",
       "      <td>volkswagen</td>\n",
       "      <td>NaN</td>\n",
       "    </tr>\n",
       "    <tr>\n",
       "      <th>353302</th>\n",
       "      <td>150</td>\n",
       "      <td>NaN</td>\n",
       "      <td>2000</td>\n",
       "      <td>NaN</td>\n",
       "      <td>0</td>\n",
       "      <td>NaN</td>\n",
       "      <td>150000</td>\n",
       "      <td>NaN</td>\n",
       "      <td>hyundai</td>\n",
       "      <td>yes</td>\n",
       "    </tr>\n",
       "    <tr>\n",
       "      <th>354073</th>\n",
       "      <td>1750</td>\n",
       "      <td>NaN</td>\n",
       "      <td>1995</td>\n",
       "      <td>NaN</td>\n",
       "      <td>0</td>\n",
       "      <td>NaN</td>\n",
       "      <td>100000</td>\n",
       "      <td>NaN</td>\n",
       "      <td>sonstige_autos</td>\n",
       "      <td>NaN</td>\n",
       "    </tr>\n",
       "    <tr>\n",
       "      <th>354162</th>\n",
       "      <td>1500</td>\n",
       "      <td>NaN</td>\n",
       "      <td>1995</td>\n",
       "      <td>NaN</td>\n",
       "      <td>0</td>\n",
       "      <td>NaN</td>\n",
       "      <td>150000</td>\n",
       "      <td>NaN</td>\n",
       "      <td>volkswagen</td>\n",
       "      <td>NaN</td>\n",
       "    </tr>\n",
       "    <tr>\n",
       "      <th>354365</th>\n",
       "      <td>2200</td>\n",
       "      <td>NaN</td>\n",
       "      <td>2005</td>\n",
       "      <td>NaN</td>\n",
       "      <td>0</td>\n",
       "      <td>NaN</td>\n",
       "      <td>20000</td>\n",
       "      <td>NaN</td>\n",
       "      <td>sonstige_autos</td>\n",
       "      <td>NaN</td>\n",
       "    </tr>\n",
       "  </tbody>\n",
       "</table>\n",
       "<p>1766 rows × 10 columns</p>\n",
       "</div>"
      ],
      "text/plain": [
       "        price vehicle_type  registration_year gearbox  power model  kilometer  \\\n",
       "306       200          NaN               2009     NaN      0   NaN      10000   \n",
       "522         0          NaN               2000     NaN      0   NaN     150000   \n",
       "538      2600          NaN               2005     NaN      0   NaN     125000   \n",
       "552        50          NaN               1985     NaN      0   NaN     150000   \n",
       "622         0          NaN               1111     NaN      0   NaN       5000   \n",
       "...       ...          ...                ...     ...    ...   ...        ...   \n",
       "353104   1200          NaN               2000     NaN     75   NaN     150000   \n",
       "353302    150          NaN               2000     NaN      0   NaN     150000   \n",
       "354073   1750          NaN               1995     NaN      0   NaN     100000   \n",
       "354162   1500          NaN               1995     NaN      0   NaN     150000   \n",
       "354365   2200          NaN               2005     NaN      0   NaN      20000   \n",
       "\n",
       "       fuel_type           brand repaired  \n",
       "306          NaN  sonstige_autos      NaN  \n",
       "522          NaN           volvo      NaN  \n",
       "538          NaN       chevrolet      NaN  \n",
       "552          NaN         trabant      NaN  \n",
       "622          NaN            opel      NaN  \n",
       "...          ...             ...      ...  \n",
       "353104       NaN      volkswagen      NaN  \n",
       "353302       NaN         hyundai      yes  \n",
       "354073       NaN  sonstige_autos      NaN  \n",
       "354162       NaN      volkswagen      NaN  \n",
       "354365       NaN  sonstige_autos      NaN  \n",
       "\n",
       "[1766 rows x 10 columns]"
      ]
     },
     "execution_count": 17,
     "metadata": {},
     "output_type": "execute_result"
    }
   ],
   "source": [
    "data.loc[data['vehicle_type'].isna() & data['fuel_type'].isna() \\\n",
    "         & data['model'].isna() & data['gearbox'].isna()]"
   ]
  },
  {
   "cell_type": "markdown",
   "metadata": {},
   "source": [
    "Эти 1766 строк не будут информативными, даже после заполнения этих пропусков. Видно, что много нулевых значениях в столбце power. Лучше удалить эти строки. "
   ]
  },
  {
   "cell_type": "code",
   "execution_count": 18,
   "metadata": {},
   "outputs": [
    {
     "data": {
      "text/plain": [
       "306716"
      ]
     },
     "execution_count": 18,
     "metadata": {},
     "output_type": "execute_result"
    }
   ],
   "source": [
    "data = data.loc[~(data['vehicle_type'].isna() & data['fuel_type'].isna() \\\n",
    "         & data['model'].isna() & data['gearbox'].isna())]\n",
    "data.shape[0]"
   ]
  },
  {
   "cell_type": "code",
   "execution_count": 19,
   "metadata": {},
   "outputs": [],
   "source": [
    "data['repaired'] = data['repaired'].fillna('unknown')\n",
    "data['fuel_type'] = data['fuel_type'].fillna('unknown')\n",
    "data['model'] = data['model'].fillna('unknown')\n",
    "data['gearbox'] = data['gearbox'].fillna('unknown')"
   ]
  },
  {
   "cell_type": "markdown",
   "metadata": {},
   "source": [
    "Пропуски в vehicle_type можно заполнить значениями из других строк с той же моделью."
   ]
  },
  {
   "cell_type": "code",
   "execution_count": 20,
   "metadata": {},
   "outputs": [],
   "source": [
    "for m in data['model'].unique():\n",
    "    data.loc[(data['model'] == m) & (data['vehicle_type'].isna()), 'vehicle_type'] = \\\n",
    "    data.loc[(data['model'] == m), 'vehicle_type'].mode()[0]"
   ]
  },
  {
   "cell_type": "code",
   "execution_count": 21,
   "metadata": {},
   "outputs": [
    {
     "name": "stdout",
     "output_type": "stream",
     "text": [
      "<class 'pandas.core.frame.DataFrame'>\n",
      "Int64Index: 306716 entries, 0 to 354368\n",
      "Data columns (total 10 columns):\n",
      " #   Column             Non-Null Count   Dtype \n",
      "---  ------             --------------   ----- \n",
      " 0   price              306716 non-null  int64 \n",
      " 1   vehicle_type       306716 non-null  object\n",
      " 2   registration_year  306716 non-null  int64 \n",
      " 3   gearbox            306716 non-null  object\n",
      " 4   power              306716 non-null  int64 \n",
      " 5   model              306716 non-null  object\n",
      " 6   kilometer          306716 non-null  int64 \n",
      " 7   fuel_type          306716 non-null  object\n",
      " 8   brand              306716 non-null  object\n",
      " 9   repaired           306716 non-null  object\n",
      "dtypes: int64(4), object(6)\n",
      "memory usage: 25.7+ MB\n"
     ]
    }
   ],
   "source": [
    "data.info()"
   ]
  },
  {
   "cell_type": "markdown",
   "metadata": {},
   "source": [
    "Проверим количественные признаки."
   ]
  },
  {
   "cell_type": "code",
   "execution_count": 22,
   "metadata": {},
   "outputs": [],
   "source": [
    "num_cols = ['registration_year', 'power', 'kilometer', 'price']"
   ]
  },
  {
   "cell_type": "code",
   "execution_count": 23,
   "metadata": {},
   "outputs": [
    {
     "data": {
      "image/png": "[encoded data removed]",
      "text/plain": [
       "<Figure size 1000x500 with 4 Axes>"
      ]
     },
     "metadata": {},
     "output_type": "display_data"
    }
   ],
   "source": [
    "data[num_cols].hist(bins=100, figsize=(10, 5))\n",
    "plt.suptitle('Распределения числовых признаков');"
   ]
  },
  {
   "cell_type": "markdown",
   "metadata": {},
   "source": [
    "По гистограмам видно что есть аномальные значения в годе регистрации (около 1000), мощности, а также надо проверить значения около 0 в цене."
   ]
  },
  {
   "cell_type": "code",
   "execution_count": 24,
   "metadata": {},
   "outputs": [
    {
     "name": "stdout",
     "output_type": "stream",
     "text": [
      "Количество нулей в \"price\": 8510\n",
      "Процент нулей: 2.774553658759243\n"
     ]
    }
   ],
   "source": [
    "print('Количество нулей в \"price\":', data.loc[data['price'] == 0, 'price'].count())\n",
    "print('Процент нулей:', data.loc[data['price'] == 0, 'price'].count()*100/len(data))"
   ]
  },
  {
   "cell_type": "markdown",
   "metadata": {},
   "source": [
    "Поскольку price - целевой признак, придется удалить сроки с нулевыми значениями. Однако и другие значения близкие к нулю выглядят сомнительно, проверим их."
   ]
  },
  {
   "cell_type": "code",
   "execution_count": 25,
   "metadata": {},
   "outputs": [
    {
     "data": {
      "image/png": "[encoded data removed]",
      "text/plain": [
       "<Figure size 700x400 with 1 Axes>"
      ]
     },
     "metadata": {},
     "output_type": "display_data"
    }
   ],
   "source": [
    "data['price'].hist(bins=150, figsize=(7, 4), edgecolor='black')\n",
    "plt.xlim(0, 2000)\n",
    "plt.title('Значния в price от 0 до 2000');"
   ]
  },
  {
   "cell_type": "markdown",
   "metadata": {},
   "source": [
    "Отбросим значения ниже 100 евро."
   ]
  },
  {
   "cell_type": "code",
   "execution_count": 26,
   "metadata": {},
   "outputs": [],
   "source": [
    "data = data.loc[data['price'] > 100]"
   ]
  },
  {
   "cell_type": "code",
   "execution_count": 27,
   "metadata": {},
   "outputs": [
    {
     "data": {
      "text/plain": [
       "295139"
      ]
     },
     "execution_count": 27,
     "metadata": {},
     "output_type": "execute_result"
    }
   ],
   "source": [
    "data.shape[0]"
   ]
  },
  {
   "cell_type": "code",
   "execution_count": 28,
   "metadata": {},
   "outputs": [
    {
     "name": "stdout",
     "output_type": "stream",
     "text": [
      "Процент нулей в колонке power: 10.285662010103714\n"
     ]
    }
   ],
   "source": [
    "data.loc[data['power'] == 0, 'power'].count()\n",
    "print('Процент нулей в колонке power:', \n",
    "      data.loc[data['power'] == 0, 'power'].count()*100/len(data))"
   ]
  },
  {
   "cell_type": "markdown",
   "metadata": {},
   "source": [
    "Выявлены нулевые значения в колонке power. Данных больше 10%. удалять их нельзя, заменим медианными значениями по моделям. После того как уберем аномальные значения."
   ]
  },
  {
   "cell_type": "code",
   "execution_count": 29,
   "metadata": {},
   "outputs": [
    {
     "data": {
      "image/png": "[encoded data removed]",
      "text/plain": [
       "<Figure size 1500x500 with 3 Axes>"
      ]
     },
     "metadata": {},
     "output_type": "display_data"
    }
   ],
   "source": [
    "fig, (ax1, ax2, ax3) = plt.subplots(1, 3, figsize=(15,5)) \n",
    "\n",
    "ax1.boxplot(data['registration_year'])\n",
    "ax2.boxplot(data['power'])\n",
    "ax3.boxplot(data['kilometer'])\n",
    "\n",
    "fig.suptitle(\"Распределение значений признаков\")\n",
    "ax1.set_xlabel('Год регистрации')\n",
    "ax1.set_ylim(1940,2020)\n",
    "ax2.set_xlabel('Мощность')\n",
    "ax3.set_xlabel('Пробег, км');"
   ]
  },
  {
   "cell_type": "code",
   "execution_count": 30,
   "metadata": {},
   "outputs": [
    {
     "data": {
      "text/plain": [
       "array([1993, 2011, 2004, 2001, 2008, 1995, 2014, 1998, 2005, 1910, 2016,\n",
       "       2007, 2009, 2002, 2018, 1997, 1990, 2017, 1981, 2003, 1994, 1991,\n",
       "       1984, 2006, 1999, 2012, 2010, 2000, 1992, 2013, 1996, 1985, 1989,\n",
       "       2015, 1982, 1976, 1983, 1973, 1969, 1971, 1987, 1986, 1988, 1980,\n",
       "       1965, 1970, 1945, 1925, 1974, 1979, 1955, 1978, 1972, 1968, 1977,\n",
       "       1961, 1966, 1975, 1963, 1964, 1960, 1958, 1967, 1956, 1000, 1941,\n",
       "       9999, 1500, 2200, 1962, 1929, 1957, 1940, 3000, 2066, 1949, 2019,\n",
       "       1937, 1951, 1959, 1953, 1954, 9000, 2900, 6000, 5900, 5911, 1400,\n",
       "       5000, 1950, 4000, 1948, 1952, 8500, 1932, 3700, 4800, 1942, 1935,\n",
       "       1933, 1936, 1923, 2290, 1930, 1001, 1234, 9450, 1944, 7000, 2500,\n",
       "       1943, 1938, 1934, 1928, 5555, 1800, 1039, 1300, 2800, 1931, 4500,\n",
       "       1602, 7800, 1947, 1927, 7100, 8200, 1946, 1600], dtype=int64)"
      ]
     },
     "execution_count": 30,
     "metadata": {},
     "output_type": "execute_result"
    }
   ],
   "source": [
    "#sorted(data['registration_year'].unique())\n",
    "data['registration_year'].unique()"
   ]
  },
  {
   "cell_type": "markdown",
   "metadata": {},
   "source": [
    "Много аномальных значений в registration_year и power. Год регистрации ограничим значениями от 1960 до 2016. Более поздние модели можно считать уже раритетом. В случае с мощностью возмножно были указаны не л.с. а ваты, этим можно объяснить очень большие значения. Самая мощная машина имеет двигатель с около 2000 л.с., но это исключение, будем считать аномальными значения выше 700 л.с. Отбросим данные превышающие это значение. Аномальные значения пробега оставим, тк они выглядят правдоподобно и значение пробега сильно влияют на цену автомобиля."
   ]
  },
  {
   "cell_type": "code",
   "execution_count": 31,
   "metadata": {},
   "outputs": [
    {
     "name": "stdout",
     "output_type": "stream",
     "text": [
      "<class 'pandas.core.frame.DataFrame'>\n",
      "Int64Index: 281944 entries, 0 to 354368\n",
      "Data columns (total 10 columns):\n",
      " #   Column             Non-Null Count   Dtype \n",
      "---  ------             --------------   ----- \n",
      " 0   price              281944 non-null  int64 \n",
      " 1   vehicle_type       281944 non-null  object\n",
      " 2   registration_year  281944 non-null  int64 \n",
      " 3   gearbox            281944 non-null  object\n",
      " 4   power              281944 non-null  int64 \n",
      " 5   model              281944 non-null  object\n",
      " 6   kilometer          281944 non-null  int64 \n",
      " 7   fuel_type          281944 non-null  object\n",
      " 8   brand              281944 non-null  object\n",
      " 9   repaired           281944 non-null  object\n",
      "dtypes: int64(4), object(6)\n",
      "memory usage: 23.7+ MB\n"
     ]
    }
   ],
   "source": [
    "data = data.loc[(data['registration_year'] <= 2016) & (data['registration_year'] >= 1960)]\n",
    "data = data.loc[(data['power'] <= 700)]\n",
    "\n",
    "data.info()"
   ]
  },
  {
   "cell_type": "code",
   "execution_count": 32,
   "metadata": {
    "scrolled": true
   },
   "outputs": [
    {
     "data": {
      "text/plain": [
       "27113"
      ]
     },
     "execution_count": 32,
     "metadata": {},
     "output_type": "execute_result"
    }
   ],
   "source": [
    "data.loc[data['power'] == 0, 'power'].count()"
   ]
  },
  {
   "cell_type": "markdown",
   "metadata": {},
   "source": [
    "27 тысяч нулевых значений признаков power, заменим их медианными значениями внутри категории модель."
   ]
  },
  {
   "cell_type": "code",
   "execution_count": 33,
   "metadata": {},
   "outputs": [],
   "source": [
    "for p in data['model'].unique():\n",
    "    data.loc[(data['model'] == p) & (data['power'] == 0),'power'] = \\\n",
    "    data.loc[(data['model'] == p), 'power'].median()"
   ]
  },
  {
   "cell_type": "code",
   "execution_count": 34,
   "metadata": {},
   "outputs": [
    {
     "name": "stdout",
     "output_type": "stream",
     "text": [
      "<class 'pandas.core.frame.DataFrame'>\n",
      "RangeIndex: 281577 entries, 0 to 281576\n",
      "Data columns (total 10 columns):\n",
      " #   Column             Non-Null Count   Dtype  \n",
      "---  ------             --------------   -----  \n",
      " 0   price              281577 non-null  int64  \n",
      " 1   vehicle_type       281577 non-null  object \n",
      " 2   registration_year  281577 non-null  int64  \n",
      " 3   gearbox            281577 non-null  object \n",
      " 4   power              281577 non-null  float64\n",
      " 5   model              281577 non-null  object \n",
      " 6   kilometer          281577 non-null  int64  \n",
      " 7   fuel_type          281577 non-null  object \n",
      " 8   brand              281577 non-null  object \n",
      " 9   repaired           281577 non-null  object \n",
      "dtypes: float64(1), int64(3), object(6)\n",
      "memory usage: 21.5+ MB\n"
     ]
    }
   ],
   "source": [
    "data = data.loc[(data['power'] > 20)]\n",
    "data.reset_index(drop=True, inplace=True)\n",
    "data.info()"
   ]
  },
  {
   "cell_type": "markdown",
   "metadata": {},
   "source": [
    "Проверим взаимосвязи признаков и корреляцию."
   ]
  },
  {
   "cell_type": "code",
   "execution_count": 35,
   "metadata": {},
   "outputs": [
    {
     "data": {
      "image/png": "[encoded data removed]",
      "text/plain": [
       "<Figure size 1000x1000 with 20 Axes>"
      ]
     },
     "metadata": {},
     "output_type": "display_data"
    }
   ],
   "source": [
    "sns.pairplot(data, kind='hist').fig.suptitle('Парные диаграммы', y=1.05)\n",
    "plt.show()"
   ]
  },
  {
   "cell_type": "markdown",
   "metadata": {},
   "source": [
    "Видно связь мощности  и годов выпуска, со временем мощность выпускаемых автомобилей становится выше.А также  видно что много автомобилей с высоким значение пробега и низкой ценой. Для изучения взаимосвязей категориальных и числовых признаков используем корреляцию  phik."
   ]
  },
  {
   "cell_type": "code",
   "execution_count": 36,
   "metadata": {},
   "outputs": [
    {
     "data": {
      "image/png": "[encoded data removed]",
      "text/plain": [
       "<Figure size 640x480 with 2 Axes>"
      ]
     },
     "metadata": {},
     "output_type": "display_data"
    }
   ],
   "source": [
    "matrix = data.phik_matrix(interval_cols=num_cols)\n",
    "sns.heatmap(matrix, annot=True, fmt=\".1f\")\n",
    "plt.title('Корелляция признаков');"
   ]
  },
  {
   "cell_type": "markdown",
   "metadata": {},
   "source": [
    "На тепловой карте корелляции видна сильная связь между парами признаков модель-мощность/тип кузова. Ожидаемая прямая связь между моделью и брендом. Умеренная связь между целевым признаком и годом регистрации и моделью. Мощность не так сильно влияет на цену, как ожидалось.  "
   ]
  },
  {
   "cell_type": "markdown",
   "metadata": {},
   "source": [
    "*Итог: Было выявлено занчительное количество пропусков: 20% в колонке Repaired, 10,5% в типе кузова, 9.3% в типе топлива, по 5,6% в типе коробки передач и модели автомобиля.  Пропуски в vehicle_type заполнили популярными значениями из других строк с той же моделью. Пропуски в 'repaired', 'fuel_type', 'model' и 'gearbox' заполнены значениями 'unknown'. Было удалено 4 дубликата, 2392 строки с попущеннымим значениями всех категориальных признаков и  8510 строк с нулями в целевом признаке price.Значения типов топлива petrol и gasoline oбъединили в одно значение petrol. Аномальные значения в колонках 'registration_year' и 'power' были удалены. Аномальных и неинофрмативных данных было удалено примерно 3.6 % от первоналального размера датафрейма.*\n",
    "\n",
    "*Были удалены неинформативные колонки 'DateCreated', 'NumberOfPictures', 'PostalCode', 'LastSeen','DateCrawled', 'RegistrationMonth'. После этого было удалено еще 45883 образовавшихся дубликатов. Названия оставшихся колонок были приведены к змеиному регистру. Выявлено более 27 тысяч строк с нулями в колонке 'power', нули были заменены на медианные значения внутри каждой модели. \n",
    "Всего было удалено 71427 строк, из них 45887 дубликатов.*"
   ]
  },
  {
   "cell_type": "markdown",
   "metadata": {},
   "source": [
    "## Обучение моделей"
   ]
  },
  {
   "cell_type": "markdown",
   "metadata": {},
   "source": [
    "Разделим данные на тренировочную и тестовую выборки. Обучим модели DesicionTreeRegressor и RandomForestRegressor а также модели с градентным бустингом CatBoostRegressor и LGBMRegressor. Поскольку в данных много категориальных признаков  с большим количеством разных значений используем порядковое кодирование для этих колонок. Для колонок с численными данными применим масштабирование. Признак kilometer отнесем к категориальным, так как значения кратны 5000 и их не очень много. Используем инструмент pipeline."
   ]
  },
  {
   "cell_type": "code",
   "execution_count": 37,
   "metadata": {},
   "outputs": [],
   "source": [
    "features = data.drop(['price'], axis=1)\n",
    "target = data['price']"
   ]
  },
  {
   "cell_type": "code",
   "execution_count": 38,
   "metadata": {},
   "outputs": [],
   "source": [
    "features_train, features_test, target_train, target_test = train_test_split(features,\n",
    "                                                                            target,\n",
    "                                                                            test_size=0.25,\n",
    "                                                                            random_state=125)"
   ]
  },
  {
   "cell_type": "code",
   "execution_count": 39,
   "metadata": {},
   "outputs": [
    {
     "name": "stdout",
     "output_type": "stream",
     "text": [
      "(211182, 9) (70395, 9)\n",
      "(211182,) (70395,)\n"
     ]
    }
   ],
   "source": [
    "print(features_train.shape, features_test.shape)\n",
    "print(target_train.shape, target_test.shape)"
   ]
  },
  {
   "cell_type": "code",
   "execution_count": 40,
   "metadata": {},
   "outputs": [],
   "source": [
    "cat_columns = ['vehicle_type', 'gearbox', 'model', 'fuel_type', 'brand', 'repaired', 'kilometer']\n",
    "num_columns = ['registration_year', 'power']"
   ]
  },
  {
   "cell_type": "code",
   "execution_count": 41,
   "metadata": {},
   "outputs": [
    {
     "data": {
      "text/plain": [
       "ColumnTransformer(remainder='passthrough',\n",
       "                  transformers=[('standardscaler', StandardScaler(),\n",
       "                                 ['registration_year', 'power']),\n",
       "                                ('ordinalencoder',\n",
       "                                 OrdinalEncoder(handle_unknown='use_encoded_value',\n",
       "                                                unknown_value=-1),\n",
       "                                 ['vehicle_type', 'gearbox', 'model',\n",
       "                                  'fuel_type', 'brand', 'repaired',\n",
       "                                  'kilometer'])])"
      ]
     },
     "execution_count": 41,
     "metadata": {},
     "output_type": "execute_result"
    }
   ],
   "source": [
    "column_transformer = make_column_transformer((StandardScaler(), num_columns),\n",
    "                                             (OrdinalEncoder(handle_unknown='use_encoded_value',\n",
    "                                                unknown_value=-1), cat_columns),\n",
    "                                              remainder='passthrough')\n",
    "column_transformer"
   ]
  },
  {
   "cell_type": "markdown",
   "metadata": {},
   "source": [
    "### Модель  DesicionTreeRegressor"
   ]
  },
  {
   "cell_type": "markdown",
   "metadata": {},
   "source": [
    "Cоздадим функцию для расчета RMSE и использования в GridSearchCV. Далее ячейки с GridSearchCV закомментированы, тк подбор параметров происходит достаточно долго."
   ]
  },
  {
   "cell_type": "code",
   "execution_count": 42,
   "metadata": {},
   "outputs": [
    {
     "data": {
      "text/plain": [
       "Pipeline(steps=[('columntransformer',\n",
       "                 ColumnTransformer(remainder='passthrough',\n",
       "                                   transformers=[('standardscaler',\n",
       "                                                  StandardScaler(),\n",
       "                                                  ['registration_year',\n",
       "                                                   'power']),\n",
       "                                                 ('ordinalencoder',\n",
       "                                                  OrdinalEncoder(handle_unknown='use_encoded_value',\n",
       "                                                                 unknown_value=-1),\n",
       "                                                  ['vehicle_type', 'gearbox',\n",
       "                                                   'model', 'fuel_type',\n",
       "                                                   'brand', 'repaired',\n",
       "                                                   'kilometer'])])),\n",
       "                ('decisiontreeregressor',\n",
       "                 DecisionTreeRegressor(random_state=125))])"
      ]
     },
     "execution_count": 42,
     "metadata": {},
     "output_type": "execute_result"
    }
   ],
   "source": [
    "dtr = DecisionTreeRegressor(random_state=125)\n",
    "pipeline_dtr = make_pipeline(column_transformer, dtr) \n",
    "pipeline_dtr"
   ]
  },
  {
   "cell_type": "code",
   "execution_count": 43,
   "metadata": {},
   "outputs": [],
   "source": [
    "param_grid_dtr = {'decisiontreeregressor__max_depth': range (2,11,1),\n",
    "                  'decisiontreeregressor__min_samples_leaf': range (1,12,1)}"
   ]
  },
  {
   "cell_type": "code",
   "execution_count": 44,
   "metadata": {
    "scrolled": true
   },
   "outputs": [
    {
     "name": "stdout",
     "output_type": "stream",
     "text": [
      "Лучшие гиперпараметры: {'decisiontreeregressor__max_depth': 10, 'decisiontreeregressor__min_samples_leaf': 11}\n",
      "Значение RMSE: 2017.1034104508321\n",
      "CPU times: total: 3min 13s\n",
      "Wall time: 3min 13s\n"
     ]
    }
   ],
   "source": [
    "%%time\n",
    "\n",
    "search_dtr = GridSearchCV(pipeline_dtr, param_grid_dtr, cv=4,\n",
    "                          scoring = 'neg_root_mean_squared_error')\n",
    "search_dtr.fit(features_train, target_train)\n",
    "\n",
    "print('Лучшие гиперпараметры:', search_dtr.best_params_)\n",
    "print('Значение RMSE:', -(search_dtr.best_score_))"
   ]
  },
  {
   "cell_type": "markdown",
   "metadata": {},
   "source": [
    "Лучшие гиперпараметры: {'decisiontreeregressor__max_depth': 10, 'decisiontreeregressor__min_samples_leaf': 11}\n",
    "Значение RMSE: 2017.1034104508321\n",
    "CPU times: total: 3min 3s\n",
    "Wall time: 3min 9s"
   ]
  },
  {
   "cell_type": "code",
   "execution_count": 45,
   "metadata": {},
   "outputs": [
    {
     "name": "stdout",
     "output_type": "stream",
     "text": [
      "CPU times: total: 750 ms\n",
      "Wall time: 749 ms\n"
     ]
    },
    {
     "data": {
      "text/plain": [
       "Pipeline(steps=[('columntransformer',\n",
       "                 ColumnTransformer(remainder='passthrough',\n",
       "                                   transformers=[('standardscaler',\n",
       "                                                  StandardScaler(),\n",
       "                                                  ['registration_year',\n",
       "                                                   'power']),\n",
       "                                                 ('ordinalencoder',\n",
       "                                                  OrdinalEncoder(handle_unknown='use_encoded_value',\n",
       "                                                                 unknown_value=-1),\n",
       "                                                  ['vehicle_type', 'gearbox',\n",
       "                                                   'model', 'fuel_type',\n",
       "                                                   'brand', 'repaired',\n",
       "                                                   'kilometer'])])),\n",
       "                ('decisiontreeregressor',\n",
       "                 DecisionTreeRegressor(max_depth=10, min_samples_leaf=11,\n",
       "                                       random_state=125))])"
      ]
     },
     "execution_count": 45,
     "metadata": {},
     "output_type": "execute_result"
    }
   ],
   "source": [
    "#время обучения\n",
    "%%time\n",
    "best_dtr = search_dtr.best_estimator_\n",
    "best_dtr.fit(features_train, target_train)"
   ]
  },
  {
   "cell_type": "code",
   "execution_count": 46,
   "metadata": {},
   "outputs": [
    {
     "name": "stdout",
     "output_type": "stream",
     "text": [
      "CPU times: total: 93.8 ms\n",
      "Wall time: 97.7 ms\n"
     ]
    }
   ],
   "source": [
    "%%time\n",
    "predict_dtr = search_dtr.best_estimator_.predict(features_test)"
   ]
  },
  {
   "cell_type": "markdown",
   "metadata": {},
   "source": [
    "### Модель RandomForestRegressor"
   ]
  },
  {
   "cell_type": "code",
   "execution_count": 47,
   "metadata": {},
   "outputs": [
    {
     "data": {
      "text/plain": [
       "Pipeline(steps=[('columntransformer',\n",
       "                 ColumnTransformer(remainder='passthrough',\n",
       "                                   transformers=[('standardscaler',\n",
       "                                                  StandardScaler(),\n",
       "                                                  ['registration_year',\n",
       "                                                   'power']),\n",
       "                                                 ('ordinalencoder',\n",
       "                                                  OrdinalEncoder(handle_unknown='use_encoded_value',\n",
       "                                                                 unknown_value=-1),\n",
       "                                                  ['vehicle_type', 'gearbox',\n",
       "                                                   'model', 'fuel_type',\n",
       "                                                   'brand', 'repaired',\n",
       "                                                   'kilometer'])])),\n",
       "                ('randomforestregressor',\n",
       "                 RandomForestRegressor(random_state=125))])"
      ]
     },
     "execution_count": 47,
     "metadata": {},
     "output_type": "execute_result"
    }
   ],
   "source": [
    "model_rfr = RandomForestRegressor(random_state=125)\n",
    "pipeline_rfr = make_pipeline(column_transformer, model_rfr) \n",
    "pipeline_rfr"
   ]
  },
  {
   "cell_type": "code",
   "execution_count": 48,
   "metadata": {},
   "outputs": [],
   "source": [
    "param_grid_rfr = {'randomforestregressor__max_depth': range (1,10,1),\n",
    "                  'randomforestregressor__min_samples_leaf': range (1,5,1),\n",
    "                  'randomforestregressor__n_estimators': range(10, 70, 10)}"
   ]
  },
  {
   "cell_type": "code",
   "execution_count": 49,
   "metadata": {},
   "outputs": [
    {
     "name": "stdout",
     "output_type": "stream",
     "text": [
      "Лучшие гиперпараметры: {'randomforestregressor__max_depth': 9, 'randomforestregressor__min_samples_leaf': 2, 'randomforestregressor__n_estimators': 60}\n",
      "Значение RMSE: 1987.5580254471668\n",
      "CPU times: total: 1h 15min 20s\n",
      "Wall time: 1h 15min 31s\n"
     ]
    }
   ],
   "source": [
    "%%time\n",
    "\n",
    "search_rfr = GridSearchCV(pipeline_rfr, param_grid_rfr, cv=5, \n",
    "                          scoring = 'neg_root_mean_squared_error')\n",
    "search_rfr.fit(features_train, target_train)\n",
    "\n",
    "print('Лучшие гиперпараметры:', search_rfr.best_params_)\n",
    "print('Значение RMSE:', -(search_rfr.best_score_))"
   ]
  },
  {
   "cell_type": "markdown",
   "metadata": {},
   "source": [
    "Лучшие гиперпараметры: {'max_depth': 9, 'min_samples_leaf': 2, 'n_estimators': 60}\n",
    "Значение RMSE: 1989.9753255336545\n",
    "CPU times: user 1h 18min 38s, sys: 11.2 s, total: 1h 18min 49s\n",
    "Wall time: 1h 18min 54s"
   ]
  },
  {
   "cell_type": "code",
   "execution_count": 50,
   "metadata": {},
   "outputs": [
    {
     "name": "stdout",
     "output_type": "stream",
     "text": [
      "CPU times: total: 15.2 s\n",
      "Wall time: 15.3 s\n"
     ]
    },
    {
     "data": {
      "text/plain": [
       "Pipeline(steps=[('columntransformer',\n",
       "                 ColumnTransformer(remainder='passthrough',\n",
       "                                   transformers=[('standardscaler',\n",
       "                                                  StandardScaler(),\n",
       "                                                  ['registration_year',\n",
       "                                                   'power']),\n",
       "                                                 ('ordinalencoder',\n",
       "                                                  OrdinalEncoder(handle_unknown='use_encoded_value',\n",
       "                                                                 unknown_value=-1),\n",
       "                                                  ['vehicle_type', 'gearbox',\n",
       "                                                   'model', 'fuel_type',\n",
       "                                                   'brand', 'repaired',\n",
       "                                                   'kilometer'])])),\n",
       "                ('randomforestregressor',\n",
       "                 RandomForestRegressor(max_depth=9, min_samples_leaf=2,\n",
       "                                       n_estimators=60, random_state=125))])"
      ]
     },
     "execution_count": 50,
     "metadata": {},
     "output_type": "execute_result"
    }
   ],
   "source": [
    "%%time\n",
    "best_rfr = search_rfr.best_estimator_\n",
    "best_rfr.fit(features_train, target_train)"
   ]
  },
  {
   "cell_type": "code",
   "execution_count": 51,
   "metadata": {},
   "outputs": [
    {
     "name": "stdout",
     "output_type": "stream",
     "text": [
      "CPU times: total: 406 ms\n",
      "Wall time: 399 ms\n"
     ]
    }
   ],
   "source": [
    "%%time\n",
    "predict_rfr = search_rfr.best_estimator_.predict(features_test)"
   ]
  },
  {
   "cell_type": "markdown",
   "metadata": {},
   "source": [
    "### Модель CatBoostRegressor\n",
    "\n",
    "По умолчанию CatBoostRegressor() использует loss_function='RMSE'. "
   ]
  },
  {
   "cell_type": "code",
   "execution_count": 52,
   "metadata": {},
   "outputs": [
    {
     "data": {
      "text/plain": [
       "Pipeline(steps=[('columntransformer',\n",
       "                 ColumnTransformer(remainder='passthrough',\n",
       "                                   transformers=[('standardscaler',\n",
       "                                                  StandardScaler(),\n",
       "                                                  ['registration_year',\n",
       "                                                   'power']),\n",
       "                                                 ('ordinalencoder',\n",
       "                                                  OrdinalEncoder(handle_unknown='use_encoded_value',\n",
       "                                                                 unknown_value=-1),\n",
       "                                                  ['vehicle_type', 'gearbox',\n",
       "                                                   'model', 'fuel_type',\n",
       "                                                   'brand', 'repaired',\n",
       "                                                   'kilometer'])])),\n",
       "                ('catboostregressor',\n",
       "                 <catboost.core.CatBoostRegressor object at 0x0000027660AE49A0>)])"
      ]
     },
     "execution_count": 52,
     "metadata": {},
     "output_type": "execute_result"
    }
   ],
   "source": [
    "model_сbr = CatBoostRegressor(verbose=50, iterations = 300, random_state=125)\n",
    "\n",
    "pipeline_сbr = make_pipeline(column_transformer, model_сbr) \n",
    "pipeline_сbr"
   ]
  },
  {
   "cell_type": "code",
   "execution_count": 53,
   "metadata": {},
   "outputs": [],
   "source": [
    "grid_cbr = {'catboostregressor__learning_rate': [0.05, 0.1, 0.3],\n",
    "            'catboostregressor__depth': range(3,9),\n",
    "            'catboostregressor__min_data_in_leaf': range(3,7)}"
   ]
  },
  {
   "cell_type": "code",
   "execution_count": 54,
   "metadata": {
    "scrolled": true
   },
   "outputs": [
    {
     "name": "stdout",
     "output_type": "stream",
     "text": [
      "0:\tlearn: 4480.4769621\ttotal: 210ms\tremaining: 1m 2s\n",
      "50:\tlearn: 2473.6054865\ttotal: 594ms\tremaining: 2.9s\n",
      "100:\tlearn: 2197.7353913\ttotal: 953ms\tremaining: 1.88s\n",
      "150:\tlearn: 2092.5453409\ttotal: 1.31s\tremaining: 1.29s\n",
      "200:\tlearn: 2026.6181356\ttotal: 1.68s\tremaining: 827ms\n",
      "250:\tlearn: 1981.8513147\ttotal: 2.04s\tremaining: 399ms\n",
      "299:\tlearn: 1947.8270604\ttotal: 2.4s\tremaining: 0us\n",
      "0:\tlearn: 4475.9129750\ttotal: 14.4ms\tremaining: 4.3s\n",
      "50:\tlearn: 2484.2123424\ttotal: 388ms\tremaining: 1.9s\n",
      "100:\tlearn: 2204.6732766\ttotal: 746ms\tremaining: 1.47s\n",
      "150:\tlearn: 2098.6443177\ttotal: 1.09s\tremaining: 1.08s\n",
      "200:\tlearn: 2031.7010525\ttotal: 1.45s\tremaining: 712ms\n",
      "250:\tlearn: 1985.0805940\ttotal: 1.81s\tremaining: 353ms\n",
      "299:\tlearn: 1952.9394967\ttotal: 2.16s\tremaining: 0us\n",
      "0:\tlearn: 4481.1070164\ttotal: 9.29ms\tremaining: 2.78s\n",
      "50:\tlearn: 2478.7391992\ttotal: 391ms\tremaining: 1.91s\n",
      "100:\tlearn: 2199.8978039\ttotal: 815ms\tremaining: 1.6s\n",
      "150:\tlearn: 2091.2744430\ttotal: 1.2s\tremaining: 1.19s\n",
      "200:\tlearn: 2025.5016591\ttotal: 1.55s\tremaining: 762ms\n",
      "250:\tlearn: 1978.2681848\ttotal: 1.9s\tremaining: 370ms\n",
      "299:\tlearn: 1945.7436657\ttotal: 2.24s\tremaining: 0us\n",
      "0:\tlearn: 4473.3084194\ttotal: 20.2ms\tremaining: 6.03s\n",
      "50:\tlearn: 2473.1053810\ttotal: 414ms\tremaining: 2.02s\n",
      "100:\tlearn: 2199.8956055\ttotal: 771ms\tremaining: 1.52s\n",
      "150:\tlearn: 2092.5147584\ttotal: 1.14s\tremaining: 1.13s\n",
      "200:\tlearn: 2029.6641674\ttotal: 1.49s\tremaining: 734ms\n",
      "250:\tlearn: 1983.7522948\ttotal: 1.84s\tremaining: 359ms\n",
      "299:\tlearn: 1952.6629679\ttotal: 2.2s\tremaining: 0us\n",
      "0:\tlearn: 4474.2169118\ttotal: 8.45ms\tremaining: 2.53s\n",
      "50:\tlearn: 2467.0718152\ttotal: 438ms\tremaining: 2.14s\n",
      "100:\tlearn: 2190.7753746\ttotal: 805ms\tremaining: 1.59s\n",
      "150:\tlearn: 2086.1749724\ttotal: 1.15s\tremaining: 1.14s\n",
      "200:\tlearn: 2019.1664686\ttotal: 1.51s\tremaining: 742ms\n",
      "250:\tlearn: 1973.2227648\ttotal: 1.9s\tremaining: 372ms\n",
      "299:\tlearn: 1940.6985999\ttotal: 2.25s\tremaining: 0us\n",
      "0:\tlearn: 4480.4769621\ttotal: 17.5ms\tremaining: 5.22s\n",
      "50:\tlearn: 2473.6054865\ttotal: 390ms\tremaining: 1.9s\n",
      "100:\tlearn: 2197.7353913\ttotal: 744ms\tremaining: 1.47s\n",
      "150:\tlearn: 2092.5453409\ttotal: 1.1s\tremaining: 1.08s\n",
      "200:\tlearn: 2026.6181356\ttotal: 1.46s\tremaining: 717ms\n",
      "250:\tlearn: 1981.8513147\ttotal: 1.81s\tremaining: 354ms\n",
      "299:\tlearn: 1947.8270604\ttotal: 2.19s\tremaining: 0us\n",
      "0:\tlearn: 4475.9129750\ttotal: 8.34ms\tremaining: 2.49s\n",
      "50:\tlearn: 2484.2123424\ttotal: 379ms\tremaining: 1.85s\n",
      "100:\tlearn: 2204.6732766\ttotal: 727ms\tremaining: 1.43s\n",
      "150:\tlearn: 2098.6443177\ttotal: 1.08s\tremaining: 1.07s\n",
      "200:\tlearn: 2031.7010525\ttotal: 1.43s\tremaining: 705ms\n",
      "250:\tlearn: 1985.0805940\ttotal: 1.79s\tremaining: 350ms\n",
      "299:\tlearn: 1952.9394967\ttotal: 2.15s\tremaining: 0us\n",
      "0:\tlearn: 4481.1070164\ttotal: 11.4ms\tremaining: 3.4s\n",
      "50:\tlearn: 2478.7391992\ttotal: 414ms\tremaining: 2.02s\n",
      "100:\tlearn: 2199.8978039\ttotal: 788ms\tremaining: 1.55s\n",
      "150:\tlearn: 2091.2744430\ttotal: 1.15s\tremaining: 1.14s\n",
      "200:\tlearn: 2025.5016591\ttotal: 1.53s\tremaining: 754ms\n",
      "250:\tlearn: 1978.2681848\ttotal: 1.92s\tremaining: 374ms\n",
      "299:\tlearn: 1945.7436657\ttotal: 2.29s\tremaining: 0us\n",
      "0:\tlearn: 4473.3084194\ttotal: 9.09ms\tremaining: 2.72s\n",
      "50:\tlearn: 2473.1053810\ttotal: 425ms\tremaining: 2.07s\n",
      "100:\tlearn: 2199.8956055\ttotal: 793ms\tremaining: 1.56s\n",
      "150:\tlearn: 2092.5147584\ttotal: 1.17s\tremaining: 1.16s\n",
      "200:\tlearn: 2029.6641674\ttotal: 1.53s\tremaining: 754ms\n",
      "250:\tlearn: 1983.7522948\ttotal: 1.9s\tremaining: 370ms\n",
      "299:\tlearn: 1952.6629679\ttotal: 2.25s\tremaining: 0us\n",
      "0:\tlearn: 4474.2169118\ttotal: 15.7ms\tremaining: 4.71s\n",
      "50:\tlearn: 2467.0718152\ttotal: 403ms\tremaining: 1.97s\n",
      "100:\tlearn: 2190.7753746\ttotal: 776ms\tremaining: 1.53s\n",
      "150:\tlearn: 2086.1749724\ttotal: 1.16s\tremaining: 1.14s\n",
      "200:\tlearn: 2019.1664686\ttotal: 1.51s\tremaining: 742ms\n",
      "250:\tlearn: 1973.2227648\ttotal: 1.86s\tremaining: 364ms\n",
      "299:\tlearn: 1940.6985999\ttotal: 2.21s\tremaining: 0us\n",
      "0:\tlearn: 4480.4769621\ttotal: 8.67ms\tremaining: 2.59s\n",
      "50:\tlearn: 2473.6054865\ttotal: 384ms\tremaining: 1.87s\n",
      "100:\tlearn: 2197.7353913\ttotal: 744ms\tremaining: 1.47s\n",
      "150:\tlearn: 2092.5453409\ttotal: 1.1s\tremaining: 1.09s\n",
      "200:\tlearn: 2026.6181356\ttotal: 1.45s\tremaining: 717ms\n",
      "250:\tlearn: 1981.8513147\ttotal: 1.81s\tremaining: 353ms\n",
      "299:\tlearn: 1947.8270604\ttotal: 2.18s\tremaining: 0us\n",
      "0:\tlearn: 4475.9129750\ttotal: 12.5ms\tremaining: 3.72s\n",
      "50:\tlearn: 2484.2123424\ttotal: 387ms\tremaining: 1.89s\n",
      "100:\tlearn: 2204.6732766\ttotal: 744ms\tremaining: 1.47s\n",
      "150:\tlearn: 2098.6443177\ttotal: 1.1s\tremaining: 1.08s\n",
      "200:\tlearn: 2031.7010525\ttotal: 1.46s\tremaining: 720ms\n",
      "250:\tlearn: 1985.0805940\ttotal: 1.82s\tremaining: 355ms\n",
      "299:\tlearn: 1952.9394967\ttotal: 2.17s\tremaining: 0us\n",
      "0:\tlearn: 4481.1070164\ttotal: 11.6ms\tremaining: 3.47s\n",
      "50:\tlearn: 2478.7391992\ttotal: 388ms\tremaining: 1.9s\n",
      "100:\tlearn: 2199.8978039\ttotal: 764ms\tremaining: 1.51s\n",
      "150:\tlearn: 2091.2744430\ttotal: 1.13s\tremaining: 1.11s\n",
      "200:\tlearn: 2025.5016591\ttotal: 1.49s\tremaining: 732ms\n",
      "250:\tlearn: 1978.2681848\ttotal: 1.85s\tremaining: 361ms\n",
      "299:\tlearn: 1945.7436657\ttotal: 2.23s\tremaining: 0us\n",
      "0:\tlearn: 4473.3084194\ttotal: 13.4ms\tremaining: 3.99s\n",
      "50:\tlearn: 2473.1053810\ttotal: 395ms\tremaining: 1.93s\n",
      "100:\tlearn: 2199.8956055\ttotal: 747ms\tremaining: 1.47s\n",
      "150:\tlearn: 2092.5147584\ttotal: 1.16s\tremaining: 1.14s\n",
      "200:\tlearn: 2029.6641674\ttotal: 1.53s\tremaining: 753ms\n",
      "250:\tlearn: 1983.7522948\ttotal: 1.89s\tremaining: 369ms\n",
      "299:\tlearn: 1952.6629679\ttotal: 2.24s\tremaining: 0us\n",
      "0:\tlearn: 4474.2169118\ttotal: 15.2ms\tremaining: 4.54s\n",
      "50:\tlearn: 2467.0718152\ttotal: 399ms\tremaining: 1.95s\n",
      "100:\tlearn: 2190.7753746\ttotal: 750ms\tremaining: 1.48s\n",
      "150:\tlearn: 2086.1749724\ttotal: 1.1s\tremaining: 1.09s\n",
      "200:\tlearn: 2019.1664686\ttotal: 1.48s\tremaining: 730ms\n",
      "250:\tlearn: 1973.2227648\ttotal: 1.84s\tremaining: 359ms\n",
      "299:\tlearn: 1940.6985999\ttotal: 2.19s\tremaining: 0us\n",
      "0:\tlearn: 4480.4769621\ttotal: 10.5ms\tremaining: 3.14s\n",
      "50:\tlearn: 2473.6054865\ttotal: 418ms\tremaining: 2.04s\n",
      "100:\tlearn: 2197.7353913\ttotal: 857ms\tremaining: 1.69s\n",
      "150:\tlearn: 2092.5453409\ttotal: 1.23s\tremaining: 1.22s\n",
      "200:\tlearn: 2026.6181356\ttotal: 1.6s\tremaining: 790ms\n",
      "250:\tlearn: 1981.8513147\ttotal: 1.98s\tremaining: 386ms\n",
      "299:\tlearn: 1947.8270604\ttotal: 2.35s\tremaining: 0us\n",
      "0:\tlearn: 4475.9129750\ttotal: 13.5ms\tremaining: 4.03s\n",
      "50:\tlearn: 2484.2123424\ttotal: 389ms\tremaining: 1.9s\n",
      "100:\tlearn: 2204.6732766\ttotal: 767ms\tremaining: 1.51s\n",
      "150:\tlearn: 2098.6443177\ttotal: 1.12s\tremaining: 1.1s\n",
      "200:\tlearn: 2031.7010525\ttotal: 1.47s\tremaining: 723ms\n",
      "250:\tlearn: 1985.0805940\ttotal: 1.82s\tremaining: 356ms\n",
      "299:\tlearn: 1952.9394967\ttotal: 2.17s\tremaining: 0us\n",
      "0:\tlearn: 4481.1070164\ttotal: 15.2ms\tremaining: 4.54s\n",
      "50:\tlearn: 2478.7391992\ttotal: 410ms\tremaining: 2s\n",
      "100:\tlearn: 2199.8978039\ttotal: 767ms\tremaining: 1.51s\n",
      "150:\tlearn: 2091.2744430\ttotal: 1.12s\tremaining: 1.11s\n",
      "200:\tlearn: 2025.5016591\ttotal: 1.47s\tremaining: 724ms\n",
      "250:\tlearn: 1978.2681848\ttotal: 1.82s\tremaining: 355ms\n",
      "299:\tlearn: 1945.7436657\ttotal: 2.17s\tremaining: 0us\n",
      "0:\tlearn: 4473.3084194\ttotal: 8.66ms\tremaining: 2.59s\n",
      "50:\tlearn: 2473.1053810\ttotal: 396ms\tremaining: 1.93s\n",
      "100:\tlearn: 2199.8956055\ttotal: 770ms\tremaining: 1.52s\n",
      "150:\tlearn: 2092.5147584\ttotal: 1.13s\tremaining: 1.12s\n",
      "200:\tlearn: 2029.6641674\ttotal: 1.55s\tremaining: 765ms\n",
      "250:\tlearn: 1983.7522948\ttotal: 1.92s\tremaining: 376ms\n",
      "299:\tlearn: 1952.6629679\ttotal: 2.29s\tremaining: 0us\n",
      "0:\tlearn: 4474.2169118\ttotal: 19.7ms\tremaining: 5.9s\n",
      "50:\tlearn: 2467.0718152\ttotal: 496ms\tremaining: 2.42s\n",
      "100:\tlearn: 2190.7753746\ttotal: 946ms\tremaining: 1.86s\n",
      "150:\tlearn: 2086.1749724\ttotal: 1.35s\tremaining: 1.33s\n",
      "200:\tlearn: 2019.1664686\ttotal: 1.74s\tremaining: 858ms\n",
      "250:\tlearn: 1973.2227648\ttotal: 2.15s\tremaining: 419ms\n",
      "299:\tlearn: 1940.6985999\ttotal: 2.51s\tremaining: 0us\n",
      "0:\tlearn: 4360.2837964\ttotal: 12ms\tremaining: 3.58s\n",
      "50:\tlearn: 2190.9929448\ttotal: 403ms\tremaining: 1.97s\n",
      "100:\tlearn: 2022.9787391\ttotal: 768ms\tremaining: 1.51s\n",
      "150:\tlearn: 1944.1186170\ttotal: 1.15s\tremaining: 1.14s\n",
      "200:\tlearn: 1900.3295639\ttotal: 1.53s\tremaining: 753ms\n",
      "250:\tlearn: 1870.9462443\ttotal: 1.91s\tremaining: 372ms\n",
      "299:\tlearn: 1849.3036312\ttotal: 2.26s\tremaining: 0us\n",
      "0:\tlearn: 4355.7791681\ttotal: 18.5ms\tremaining: 5.53s\n",
      "50:\tlearn: 2195.8735166\ttotal: 387ms\tremaining: 1.89s\n",
      "100:\tlearn: 2027.6165031\ttotal: 752ms\tremaining: 1.48s\n",
      "150:\tlearn: 1953.1240321\ttotal: 1.12s\tremaining: 1.1s\n",
      "200:\tlearn: 1906.8707702\ttotal: 1.49s\tremaining: 734ms\n"
     ]
    },
    {
     "name": "stdout",
     "output_type": "stream",
     "text": [
      "250:\tlearn: 1875.5223140\ttotal: 1.87s\tremaining: 364ms\n",
      "299:\tlearn: 1853.6121608\ttotal: 2.27s\tremaining: 0us\n",
      "0:\tlearn: 4360.5115540\ttotal: 10.3ms\tremaining: 3.08s\n",
      "50:\tlearn: 2191.6556155\ttotal: 473ms\tremaining: 2.31s\n",
      "100:\tlearn: 2020.0978790\ttotal: 881ms\tremaining: 1.74s\n",
      "150:\tlearn: 1942.0500857\ttotal: 1.25s\tremaining: 1.23s\n",
      "200:\tlearn: 1899.6012326\ttotal: 1.61s\tremaining: 794ms\n",
      "250:\tlearn: 1869.6549577\ttotal: 1.98s\tremaining: 387ms\n",
      "299:\tlearn: 1846.7742286\ttotal: 2.35s\tremaining: 0us\n",
      "0:\tlearn: 4353.4119437\ttotal: 15.3ms\tremaining: 4.56s\n",
      "50:\tlearn: 2189.3208012\ttotal: 399ms\tremaining: 1.95s\n",
      "100:\tlearn: 2021.5410473\ttotal: 782ms\tremaining: 1.54s\n",
      "150:\tlearn: 1946.3374431\ttotal: 1.16s\tremaining: 1.14s\n",
      "200:\tlearn: 1900.1450014\ttotal: 1.53s\tremaining: 756ms\n",
      "250:\tlearn: 1868.6562404\ttotal: 1.92s\tremaining: 375ms\n",
      "299:\tlearn: 1846.9264834\ttotal: 2.27s\tremaining: 0us\n",
      "0:\tlearn: 4354.1387979\ttotal: 8.51ms\tremaining: 2.54s\n",
      "50:\tlearn: 2189.6800787\ttotal: 399ms\tremaining: 1.95s\n",
      "100:\tlearn: 2021.9002552\ttotal: 803ms\tremaining: 1.58s\n",
      "150:\tlearn: 1939.4124401\ttotal: 1.26s\tremaining: 1.25s\n",
      "200:\tlearn: 1894.5372116\ttotal: 1.67s\tremaining: 825ms\n",
      "250:\tlearn: 1863.2240492\ttotal: 2.06s\tremaining: 402ms\n",
      "299:\tlearn: 1843.6012051\ttotal: 2.42s\tremaining: 0us\n",
      "0:\tlearn: 4360.2837964\ttotal: 15.1ms\tremaining: 4.52s\n",
      "50:\tlearn: 2190.9929448\ttotal: 394ms\tremaining: 1.92s\n",
      "100:\tlearn: 2022.9787391\ttotal: 761ms\tremaining: 1.5s\n",
      "150:\tlearn: 1944.1186170\ttotal: 1.13s\tremaining: 1.12s\n",
      "200:\tlearn: 1900.3295639\ttotal: 1.51s\tremaining: 744ms\n",
      "250:\tlearn: 1870.9462443\ttotal: 1.89s\tremaining: 369ms\n",
      "299:\tlearn: 1849.3036312\ttotal: 2.25s\tremaining: 0us\n",
      "0:\tlearn: 4355.7791681\ttotal: 17.5ms\tremaining: 5.23s\n",
      "50:\tlearn: 2195.8735166\ttotal: 404ms\tremaining: 1.97s\n",
      "100:\tlearn: 2027.6165031\ttotal: 761ms\tremaining: 1.5s\n",
      "150:\tlearn: 1953.1240321\ttotal: 1.12s\tremaining: 1.11s\n",
      "200:\tlearn: 1906.8707702\ttotal: 1.5s\tremaining: 736ms\n",
      "250:\tlearn: 1875.5223140\ttotal: 1.86s\tremaining: 363ms\n",
      "299:\tlearn: 1853.6121608\ttotal: 2.21s\tremaining: 0us\n",
      "0:\tlearn: 4360.5115540\ttotal: 13.5ms\tremaining: 4.03s\n",
      "50:\tlearn: 2191.6556155\ttotal: 396ms\tremaining: 1.93s\n",
      "100:\tlearn: 2020.0978790\ttotal: 759ms\tremaining: 1.5s\n",
      "150:\tlearn: 1942.0500857\ttotal: 1.13s\tremaining: 1.12s\n",
      "200:\tlearn: 1899.6012326\ttotal: 1.51s\tremaining: 746ms\n",
      "250:\tlearn: 1869.6549577\ttotal: 1.88s\tremaining: 368ms\n",
      "299:\tlearn: 1846.7742286\ttotal: 2.25s\tremaining: 0us\n",
      "0:\tlearn: 4353.4119437\ttotal: 13.9ms\tremaining: 4.17s\n",
      "50:\tlearn: 2189.3208012\ttotal: 394ms\tremaining: 1.92s\n",
      "100:\tlearn: 2021.5410473\ttotal: 778ms\tremaining: 1.53s\n",
      "150:\tlearn: 1946.3374431\ttotal: 1.16s\tremaining: 1.14s\n",
      "200:\tlearn: 1900.1450014\ttotal: 1.53s\tremaining: 755ms\n",
      "250:\tlearn: 1868.6562404\ttotal: 1.91s\tremaining: 373ms\n",
      "299:\tlearn: 1846.9264834\ttotal: 2.27s\tremaining: 0us\n",
      "0:\tlearn: 4354.1387979\ttotal: 12.3ms\tremaining: 3.66s\n",
      "50:\tlearn: 2189.6800787\ttotal: 407ms\tremaining: 1.99s\n",
      "100:\tlearn: 2021.9002552\ttotal: 770ms\tremaining: 1.52s\n",
      "150:\tlearn: 1939.4124401\ttotal: 1.14s\tremaining: 1.12s\n",
      "200:\tlearn: 1894.5372116\ttotal: 1.5s\tremaining: 739ms\n",
      "250:\tlearn: 1863.2240492\ttotal: 1.87s\tremaining: 365ms\n",
      "299:\tlearn: 1843.6012051\ttotal: 2.23s\tremaining: 0us\n",
      "0:\tlearn: 4360.2837964\ttotal: 8.69ms\tremaining: 2.6s\n",
      "50:\tlearn: 2190.9929448\ttotal: 389ms\tremaining: 1.9s\n",
      "100:\tlearn: 2022.9787391\ttotal: 778ms\tremaining: 1.53s\n",
      "150:\tlearn: 1944.1186170\ttotal: 1.16s\tremaining: 1.14s\n",
      "200:\tlearn: 1900.3295639\ttotal: 1.53s\tremaining: 753ms\n",
      "250:\tlearn: 1870.9462443\ttotal: 1.95s\tremaining: 381ms\n",
      "299:\tlearn: 1849.3036312\ttotal: 2.31s\tremaining: 0us\n",
      "0:\tlearn: 4355.7791681\ttotal: 9.01ms\tremaining: 2.69s\n",
      "50:\tlearn: 2195.8735166\ttotal: 386ms\tremaining: 1.88s\n",
      "100:\tlearn: 2027.6165031\ttotal: 759ms\tremaining: 1.5s\n",
      "150:\tlearn: 1953.1240321\ttotal: 1.13s\tremaining: 1.11s\n",
      "200:\tlearn: 1906.8707702\ttotal: 1.5s\tremaining: 741ms\n",
      "250:\tlearn: 1875.5223140\ttotal: 1.88s\tremaining: 367ms\n",
      "299:\tlearn: 1853.6121608\ttotal: 2.26s\tremaining: 0us\n",
      "0:\tlearn: 4360.5115540\ttotal: 8.97ms\tremaining: 2.68s\n",
      "50:\tlearn: 2191.6556155\ttotal: 383ms\tremaining: 1.87s\n",
      "100:\tlearn: 2020.0978790\ttotal: 746ms\tremaining: 1.47s\n",
      "150:\tlearn: 1942.0500857\ttotal: 1.11s\tremaining: 1.1s\n",
      "200:\tlearn: 1899.6012326\ttotal: 1.48s\tremaining: 729ms\n",
      "250:\tlearn: 1869.6549577\ttotal: 1.85s\tremaining: 361ms\n",
      "299:\tlearn: 1846.7742286\ttotal: 2.23s\tremaining: 0us\n",
      "0:\tlearn: 4353.4119437\ttotal: 10.4ms\tremaining: 3.1s\n",
      "50:\tlearn: 2189.3208012\ttotal: 397ms\tremaining: 1.94s\n",
      "100:\tlearn: 2021.5410473\ttotal: 767ms\tremaining: 1.51s\n",
      "150:\tlearn: 1946.3374431\ttotal: 1.13s\tremaining: 1.12s\n",
      "200:\tlearn: 1900.1450014\ttotal: 1.5s\tremaining: 737ms\n",
      "250:\tlearn: 1868.6562404\ttotal: 1.86s\tremaining: 364ms\n",
      "299:\tlearn: 1846.9264834\ttotal: 2.22s\tremaining: 0us\n",
      "0:\tlearn: 4354.1387979\ttotal: 9.11ms\tremaining: 2.72s\n",
      "50:\tlearn: 2189.6800787\ttotal: 390ms\tremaining: 1.9s\n",
      "100:\tlearn: 2021.9002552\ttotal: 758ms\tremaining: 1.49s\n",
      "150:\tlearn: 1939.4124401\ttotal: 1.13s\tremaining: 1.11s\n",
      "200:\tlearn: 1894.5372116\ttotal: 1.5s\tremaining: 739ms\n",
      "250:\tlearn: 1863.2240492\ttotal: 1.88s\tremaining: 367ms\n",
      "299:\tlearn: 1843.6012051\ttotal: 2.25s\tremaining: 0us\n",
      "0:\tlearn: 4360.2837964\ttotal: 9.22ms\tremaining: 2.76s\n",
      "50:\tlearn: 2190.9929448\ttotal: 380ms\tremaining: 1.86s\n",
      "100:\tlearn: 2022.9787391\ttotal: 744ms\tremaining: 1.46s\n",
      "150:\tlearn: 1944.1186170\ttotal: 1.11s\tremaining: 1.09s\n",
      "200:\tlearn: 1900.3295639\ttotal: 1.47s\tremaining: 726ms\n",
      "250:\tlearn: 1870.9462443\ttotal: 1.84s\tremaining: 359ms\n",
      "299:\tlearn: 1849.3036312\ttotal: 2.2s\tremaining: 0us\n",
      "0:\tlearn: 4355.7791681\ttotal: 12.1ms\tremaining: 3.63s\n",
      "50:\tlearn: 2195.8735166\ttotal: 398ms\tremaining: 1.94s\n",
      "100:\tlearn: 2027.6165031\ttotal: 772ms\tremaining: 1.52s\n",
      "150:\tlearn: 1953.1240321\ttotal: 1.14s\tremaining: 1.13s\n",
      "200:\tlearn: 1906.8707702\ttotal: 1.52s\tremaining: 751ms\n",
      "250:\tlearn: 1875.5223140\ttotal: 1.91s\tremaining: 373ms\n",
      "299:\tlearn: 1853.6121608\ttotal: 2.27s\tremaining: 0us\n",
      "0:\tlearn: 4360.5115540\ttotal: 14.4ms\tremaining: 4.32s\n",
      "50:\tlearn: 2191.6556155\ttotal: 410ms\tremaining: 2s\n",
      "100:\tlearn: 2020.0978790\ttotal: 784ms\tremaining: 1.54s\n",
      "150:\tlearn: 1942.0500857\ttotal: 1.15s\tremaining: 1.14s\n",
      "200:\tlearn: 1899.6012326\ttotal: 1.52s\tremaining: 750ms\n",
      "250:\tlearn: 1869.6549577\ttotal: 1.89s\tremaining: 369ms\n",
      "299:\tlearn: 1846.7742286\ttotal: 2.26s\tremaining: 0us\n",
      "0:\tlearn: 4353.4119437\ttotal: 17.4ms\tremaining: 5.2s\n",
      "50:\tlearn: 2189.3208012\ttotal: 408ms\tremaining: 1.99s\n",
      "100:\tlearn: 2021.5410473\ttotal: 801ms\tremaining: 1.58s\n",
      "150:\tlearn: 1946.3374431\ttotal: 1.18s\tremaining: 1.17s\n",
      "200:\tlearn: 1900.1450014\ttotal: 1.57s\tremaining: 775ms\n",
      "250:\tlearn: 1868.6562404\ttotal: 1.97s\tremaining: 385ms\n",
      "299:\tlearn: 1846.9264834\ttotal: 2.37s\tremaining: 0us\n",
      "0:\tlearn: 4354.1387979\ttotal: 21.9ms\tremaining: 6.56s\n",
      "50:\tlearn: 2189.6800787\ttotal: 406ms\tremaining: 1.98s\n",
      "100:\tlearn: 2021.9002552\ttotal: 767ms\tremaining: 1.51s\n",
      "150:\tlearn: 1939.4124401\ttotal: 1.14s\tremaining: 1.12s\n",
      "200:\tlearn: 1894.5372116\ttotal: 1.5s\tremaining: 738ms\n",
      "250:\tlearn: 1863.2240492\ttotal: 1.88s\tremaining: 366ms\n",
      "299:\tlearn: 1843.6012051\ttotal: 2.23s\tremaining: 0us\n",
      "0:\tlearn: 3916.1078131\ttotal: 9.09ms\tremaining: 2.72s\n",
      "50:\tlearn: 1951.5883347\ttotal: 373ms\tremaining: 1.82s\n",
      "100:\tlearn: 1858.0253985\ttotal: 737ms\tremaining: 1.45s\n",
      "150:\tlearn: 1813.9149777\ttotal: 1.1s\tremaining: 1.08s\n",
      "200:\tlearn: 1783.2916477\ttotal: 1.47s\tremaining: 722ms\n",
      "250:\tlearn: 1763.2995252\ttotal: 1.83s\tremaining: 356ms\n",
      "299:\tlearn: 1745.2122045\ttotal: 2.19s\tremaining: 0us\n",
      "0:\tlearn: 3911.8056713\ttotal: 9.37ms\tremaining: 2.8s\n",
      "50:\tlearn: 1965.9174932\ttotal: 372ms\tremaining: 1.81s\n",
      "100:\tlearn: 1863.5444357\ttotal: 732ms\tremaining: 1.44s\n",
      "150:\tlearn: 1819.6660852\ttotal: 1.1s\tremaining: 1.08s\n",
      "200:\tlearn: 1791.5909367\ttotal: 1.46s\tremaining: 719ms\n",
      "250:\tlearn: 1770.9521530\ttotal: 1.83s\tremaining: 357ms\n",
      "299:\tlearn: 1754.0808793\ttotal: 2.21s\tremaining: 0us\n",
      "0:\tlearn: 3914.7445752\ttotal: 13.7ms\tremaining: 4.11s\n",
      "50:\tlearn: 1951.5906343\ttotal: 405ms\tremaining: 1.98s\n",
      "100:\tlearn: 1850.7421728\ttotal: 771ms\tremaining: 1.52s\n",
      "150:\tlearn: 1807.2963010\ttotal: 1.14s\tremaining: 1.13s\n",
      "200:\tlearn: 1779.6142137\ttotal: 1.51s\tremaining: 744ms\n",
      "250:\tlearn: 1757.5218537\ttotal: 1.87s\tremaining: 365ms\n",
      "299:\tlearn: 1741.9972390\ttotal: 2.22s\tremaining: 0us\n",
      "0:\tlearn: 3910.3606081\ttotal: 8.65ms\tremaining: 2.58s\n",
      "50:\tlearn: 1958.8514332\ttotal: 412ms\tremaining: 2.01s\n"
     ]
    },
    {
     "name": "stdout",
     "output_type": "stream",
     "text": [
      "100:\tlearn: 1860.8365531\ttotal: 782ms\tremaining: 1.54s\n",
      "150:\tlearn: 1815.9867132\ttotal: 1.15s\tremaining: 1.13s\n",
      "200:\tlearn: 1787.8451795\ttotal: 1.51s\tremaining: 743ms\n",
      "250:\tlearn: 1763.9280944\ttotal: 1.87s\tremaining: 366ms\n",
      "299:\tlearn: 1746.2062008\ttotal: 2.23s\tremaining: 0us\n",
      "0:\tlearn: 3910.3737800\ttotal: 8.64ms\tremaining: 2.58s\n",
      "50:\tlearn: 1956.3467577\ttotal: 369ms\tremaining: 1.8s\n",
      "100:\tlearn: 1854.3865623\ttotal: 728ms\tremaining: 1.43s\n",
      "150:\tlearn: 1809.8909406\ttotal: 1.08s\tremaining: 1.07s\n",
      "200:\tlearn: 1781.6855480\ttotal: 1.44s\tremaining: 708ms\n",
      "250:\tlearn: 1759.3082150\ttotal: 1.79s\tremaining: 350ms\n",
      "299:\tlearn: 1742.6195428\ttotal: 2.15s\tremaining: 0us\n",
      "0:\tlearn: 3916.1078131\ttotal: 9.38ms\tremaining: 2.8s\n",
      "50:\tlearn: 1951.5883347\ttotal: 402ms\tremaining: 1.96s\n",
      "100:\tlearn: 1858.0253985\ttotal: 779ms\tremaining: 1.53s\n",
      "150:\tlearn: 1813.9149777\ttotal: 1.17s\tremaining: 1.16s\n",
      "200:\tlearn: 1783.2916477\ttotal: 1.56s\tremaining: 770ms\n",
      "250:\tlearn: 1763.2995252\ttotal: 1.93s\tremaining: 376ms\n",
      "299:\tlearn: 1745.2122045\ttotal: 2.29s\tremaining: 0us\n",
      "0:\tlearn: 3911.8056713\ttotal: 14.3ms\tremaining: 4.28s\n",
      "50:\tlearn: 1965.9174932\ttotal: 380ms\tremaining: 1.85s\n",
      "100:\tlearn: 1863.5444357\ttotal: 744ms\tremaining: 1.47s\n",
      "150:\tlearn: 1819.6660852\ttotal: 1.11s\tremaining: 1.1s\n",
      "200:\tlearn: 1791.5909367\ttotal: 1.47s\tremaining: 726ms\n",
      "250:\tlearn: 1770.9521530\ttotal: 1.83s\tremaining: 357ms\n",
      "299:\tlearn: 1754.0808793\ttotal: 2.18s\tremaining: 0us\n",
      "0:\tlearn: 3914.7445752\ttotal: 13.2ms\tremaining: 3.94s\n",
      "50:\tlearn: 1951.5906343\ttotal: 381ms\tremaining: 1.86s\n",
      "100:\tlearn: 1850.7421728\ttotal: 753ms\tremaining: 1.48s\n",
      "150:\tlearn: 1807.2963010\ttotal: 1.11s\tremaining: 1.09s\n",
      "200:\tlearn: 1779.6142137\ttotal: 1.46s\tremaining: 721ms\n",
      "250:\tlearn: 1757.5218537\ttotal: 1.82s\tremaining: 356ms\n",
      "299:\tlearn: 1741.9972390\ttotal: 2.17s\tremaining: 0us\n",
      "0:\tlearn: 3910.3606081\ttotal: 9.5ms\tremaining: 2.84s\n",
      "50:\tlearn: 1958.8514332\ttotal: 386ms\tremaining: 1.88s\n",
      "100:\tlearn: 1860.8365531\ttotal: 746ms\tremaining: 1.47s\n",
      "150:\tlearn: 1815.9867132\ttotal: 1.11s\tremaining: 1.09s\n",
      "200:\tlearn: 1787.8451795\ttotal: 1.47s\tremaining: 722ms\n",
      "250:\tlearn: 1763.9280944\ttotal: 1.83s\tremaining: 357ms\n",
      "299:\tlearn: 1746.2062008\ttotal: 2.18s\tremaining: 0us\n",
      "0:\tlearn: 3910.3737800\ttotal: 14.6ms\tremaining: 4.38s\n",
      "50:\tlearn: 1956.3467577\ttotal: 377ms\tremaining: 1.84s\n",
      "100:\tlearn: 1854.3865623\ttotal: 740ms\tremaining: 1.46s\n",
      "150:\tlearn: 1809.8909406\ttotal: 1.09s\tremaining: 1.08s\n",
      "200:\tlearn: 1781.6855480\ttotal: 1.45s\tremaining: 715ms\n",
      "250:\tlearn: 1759.3082150\ttotal: 1.81s\tremaining: 354ms\n",
      "299:\tlearn: 1742.6195428\ttotal: 2.17s\tremaining: 0us\n",
      "0:\tlearn: 3916.1078131\ttotal: 8.84ms\tremaining: 2.64s\n",
      "50:\tlearn: 1951.5883347\ttotal: 368ms\tremaining: 1.79s\n",
      "100:\tlearn: 1858.0253985\ttotal: 726ms\tremaining: 1.43s\n",
      "150:\tlearn: 1813.9149777\ttotal: 1.09s\tremaining: 1.08s\n",
      "200:\tlearn: 1783.2916477\ttotal: 1.46s\tremaining: 721ms\n",
      "250:\tlearn: 1763.2995252\ttotal: 1.83s\tremaining: 358ms\n",
      "299:\tlearn: 1745.2122045\ttotal: 2.2s\tremaining: 0us\n",
      "0:\tlearn: 3911.8056713\ttotal: 15.1ms\tremaining: 4.51s\n",
      "50:\tlearn: 1965.9174932\ttotal: 375ms\tremaining: 1.83s\n",
      "100:\tlearn: 1863.5444357\ttotal: 733ms\tremaining: 1.45s\n",
      "150:\tlearn: 1819.6660852\ttotal: 1.11s\tremaining: 1.1s\n",
      "200:\tlearn: 1791.5909367\ttotal: 1.47s\tremaining: 725ms\n",
      "250:\tlearn: 1770.9521530\ttotal: 1.86s\tremaining: 363ms\n",
      "299:\tlearn: 1754.0808793\ttotal: 2.22s\tremaining: 0us\n",
      "0:\tlearn: 3914.7445752\ttotal: 14.4ms\tremaining: 4.3s\n",
      "50:\tlearn: 1951.5906343\ttotal: 389ms\tremaining: 1.9s\n",
      "100:\tlearn: 1850.7421728\ttotal: 747ms\tremaining: 1.47s\n",
      "150:\tlearn: 1807.2963010\ttotal: 1.1s\tremaining: 1.09s\n",
      "200:\tlearn: 1779.6142137\ttotal: 1.46s\tremaining: 718ms\n",
      "250:\tlearn: 1757.5218537\ttotal: 1.82s\tremaining: 355ms\n",
      "299:\tlearn: 1741.9972390\ttotal: 2.17s\tremaining: 0us\n",
      "0:\tlearn: 3910.3606081\ttotal: 8.85ms\tremaining: 2.65s\n",
      "50:\tlearn: 1958.8514332\ttotal: 370ms\tremaining: 1.8s\n",
      "100:\tlearn: 1860.8365531\ttotal: 726ms\tremaining: 1.43s\n",
      "150:\tlearn: 1815.9867132\ttotal: 1.08s\tremaining: 1.07s\n",
      "200:\tlearn: 1787.8451795\ttotal: 1.45s\tremaining: 714ms\n",
      "250:\tlearn: 1763.9280944\ttotal: 1.81s\tremaining: 353ms\n",
      "299:\tlearn: 1746.2062008\ttotal: 2.17s\tremaining: 0us\n",
      "0:\tlearn: 3910.3737800\ttotal: 12ms\tremaining: 3.58s\n",
      "50:\tlearn: 1956.3467577\ttotal: 381ms\tremaining: 1.86s\n",
      "100:\tlearn: 1854.3865623\ttotal: 747ms\tremaining: 1.47s\n",
      "150:\tlearn: 1809.8909406\ttotal: 1.11s\tremaining: 1.1s\n",
      "200:\tlearn: 1781.6855480\ttotal: 1.49s\tremaining: 733ms\n",
      "250:\tlearn: 1759.3082150\ttotal: 1.92s\tremaining: 374ms\n",
      "299:\tlearn: 1742.6195428\ttotal: 2.28s\tremaining: 0us\n",
      "0:\tlearn: 3916.1078131\ttotal: 14.7ms\tremaining: 4.38s\n",
      "50:\tlearn: 1951.5883347\ttotal: 385ms\tremaining: 1.88s\n",
      "100:\tlearn: 1858.0253985\ttotal: 751ms\tremaining: 1.48s\n",
      "150:\tlearn: 1813.9149777\ttotal: 1.12s\tremaining: 1.11s\n",
      "200:\tlearn: 1783.2916477\ttotal: 1.5s\tremaining: 742ms\n",
      "250:\tlearn: 1763.2995252\ttotal: 1.87s\tremaining: 366ms\n",
      "299:\tlearn: 1745.2122045\ttotal: 2.24s\tremaining: 0us\n",
      "0:\tlearn: 3911.8056713\ttotal: 8.98ms\tremaining: 2.69s\n",
      "50:\tlearn: 1965.9174932\ttotal: 374ms\tremaining: 1.83s\n",
      "100:\tlearn: 1863.5444357\ttotal: 737ms\tremaining: 1.45s\n",
      "150:\tlearn: 1819.6660852\ttotal: 1.1s\tremaining: 1.09s\n",
      "200:\tlearn: 1791.5909367\ttotal: 1.46s\tremaining: 721ms\n",
      "250:\tlearn: 1770.9521530\ttotal: 1.83s\tremaining: 357ms\n",
      "299:\tlearn: 1754.0808793\ttotal: 2.2s\tremaining: 0us\n",
      "0:\tlearn: 3914.7445752\ttotal: 11.4ms\tremaining: 3.42s\n",
      "50:\tlearn: 1951.5906343\ttotal: 404ms\tremaining: 1.97s\n",
      "100:\tlearn: 1850.7421728\ttotal: 787ms\tremaining: 1.55s\n",
      "150:\tlearn: 1807.2963010\ttotal: 1.16s\tremaining: 1.14s\n",
      "200:\tlearn: 1779.6142137\ttotal: 1.52s\tremaining: 750ms\n",
      "250:\tlearn: 1757.5218537\ttotal: 1.91s\tremaining: 373ms\n",
      "299:\tlearn: 1741.9972390\ttotal: 2.26s\tremaining: 0us\n",
      "0:\tlearn: 3910.3606081\ttotal: 8.87ms\tremaining: 2.65s\n",
      "50:\tlearn: 1958.8514332\ttotal: 383ms\tremaining: 1.87s\n",
      "100:\tlearn: 1860.8365531\ttotal: 753ms\tremaining: 1.48s\n",
      "150:\tlearn: 1815.9867132\ttotal: 1.11s\tremaining: 1.09s\n",
      "200:\tlearn: 1787.8451795\ttotal: 1.48s\tremaining: 728ms\n",
      "250:\tlearn: 1763.9280944\ttotal: 1.85s\tremaining: 361ms\n",
      "299:\tlearn: 1746.2062008\ttotal: 2.22s\tremaining: 0us\n",
      "0:\tlearn: 3910.3737800\ttotal: 8.93ms\tremaining: 2.67s\n",
      "50:\tlearn: 1956.3467577\ttotal: 373ms\tremaining: 1.82s\n",
      "100:\tlearn: 1854.3865623\ttotal: 735ms\tremaining: 1.45s\n",
      "150:\tlearn: 1809.8909406\ttotal: 1.09s\tremaining: 1.08s\n",
      "200:\tlearn: 1781.6855480\ttotal: 1.45s\tremaining: 714ms\n",
      "250:\tlearn: 1759.3082150\ttotal: 1.81s\tremaining: 354ms\n",
      "299:\tlearn: 1742.6195428\ttotal: 2.17s\tremaining: 0us\n",
      "0:\tlearn: 4472.1412738\ttotal: 23ms\tremaining: 6.86s\n",
      "50:\tlearn: 2347.8496265\ttotal: 447ms\tremaining: 2.18s\n",
      "100:\tlearn: 2099.8031152\ttotal: 846ms\tremaining: 1.67s\n",
      "150:\tlearn: 1997.0318866\ttotal: 1.25s\tremaining: 1.23s\n",
      "200:\tlearn: 1938.4790274\ttotal: 1.67s\tremaining: 823ms\n",
      "250:\tlearn: 1897.8710323\ttotal: 2.09s\tremaining: 409ms\n",
      "299:\tlearn: 1871.2491673\ttotal: 2.48s\tremaining: 0us\n",
      "0:\tlearn: 4467.6955351\ttotal: 11.9ms\tremaining: 3.56s\n",
      "50:\tlearn: 2349.3038453\ttotal: 445ms\tremaining: 2.17s\n",
      "100:\tlearn: 2105.2706062\ttotal: 868ms\tremaining: 1.71s\n",
      "150:\tlearn: 2003.9770453\ttotal: 1.27s\tremaining: 1.26s\n",
      "200:\tlearn: 1945.2548966\ttotal: 1.68s\tremaining: 827ms\n",
      "250:\tlearn: 1904.7739928\ttotal: 2.08s\tremaining: 406ms\n",
      "299:\tlearn: 1876.5247592\ttotal: 2.47s\tremaining: 0us\n",
      "0:\tlearn: 4472.7588552\ttotal: 19.3ms\tremaining: 5.76s\n",
      "50:\tlearn: 2342.1515920\ttotal: 441ms\tremaining: 2.15s\n",
      "100:\tlearn: 2097.8699768\ttotal: 842ms\tremaining: 1.66s\n",
      "150:\tlearn: 1997.0957981\ttotal: 1.25s\tremaining: 1.23s\n",
      "200:\tlearn: 1936.6314024\ttotal: 1.65s\tremaining: 814ms\n",
      "250:\tlearn: 1897.1671253\ttotal: 2.06s\tremaining: 403ms\n",
      "299:\tlearn: 1868.1699745\ttotal: 2.48s\tremaining: 0us\n",
      "0:\tlearn: 4464.9277389\ttotal: 9.57ms\tremaining: 2.86s\n",
      "50:\tlearn: 2349.9086020\ttotal: 436ms\tremaining: 2.13s\n",
      "100:\tlearn: 2097.7847548\ttotal: 835ms\tremaining: 1.65s\n",
      "150:\tlearn: 1997.0704984\ttotal: 1.23s\tremaining: 1.22s\n",
      "200:\tlearn: 1939.6032147\ttotal: 1.64s\tremaining: 806ms\n",
      "250:\tlearn: 1899.3589795\ttotal: 2.04s\tremaining: 398ms\n",
      "299:\tlearn: 1869.7864567\ttotal: 2.44s\tremaining: 0us\n",
      "0:\tlearn: 4465.7577921\ttotal: 9.93ms\tremaining: 2.97s\n",
      "50:\tlearn: 2338.6153607\ttotal: 439ms\tremaining: 2.14s\n",
      "100:\tlearn: 2092.6545381\ttotal: 857ms\tremaining: 1.69s\n",
      "150:\tlearn: 1988.1602249\ttotal: 1.28s\tremaining: 1.26s\n",
      "200:\tlearn: 1928.9683432\ttotal: 1.69s\tremaining: 831ms\n",
      "250:\tlearn: 1889.3625092\ttotal: 2.09s\tremaining: 408ms\n"
     ]
    },
    {
     "name": "stdout",
     "output_type": "stream",
     "text": [
      "299:\tlearn: 1861.2668672\ttotal: 2.49s\tremaining: 0us\n",
      "0:\tlearn: 4472.1412738\ttotal: 10.9ms\tremaining: 3.26s\n",
      "50:\tlearn: 2347.8496265\ttotal: 438ms\tremaining: 2.14s\n",
      "100:\tlearn: 2099.8031152\ttotal: 839ms\tremaining: 1.65s\n",
      "150:\tlearn: 1997.0318866\ttotal: 1.24s\tremaining: 1.22s\n",
      "200:\tlearn: 1938.4790274\ttotal: 1.66s\tremaining: 816ms\n",
      "250:\tlearn: 1897.8710323\ttotal: 2.08s\tremaining: 406ms\n",
      "299:\tlearn: 1871.2491673\ttotal: 2.49s\tremaining: 0us\n",
      "0:\tlearn: 4467.6955351\ttotal: 9.75ms\tremaining: 2.92s\n",
      "50:\tlearn: 2349.3038453\ttotal: 436ms\tremaining: 2.13s\n",
      "100:\tlearn: 2105.2706062\ttotal: 836ms\tremaining: 1.65s\n",
      "150:\tlearn: 2003.9770453\ttotal: 1.24s\tremaining: 1.22s\n",
      "200:\tlearn: 1945.2548966\ttotal: 1.63s\tremaining: 805ms\n",
      "250:\tlearn: 1904.7739928\ttotal: 2.03s\tremaining: 397ms\n",
      "299:\tlearn: 1876.5247592\ttotal: 2.46s\tremaining: 0us\n",
      "0:\tlearn: 4472.7588552\ttotal: 9.92ms\tremaining: 2.97s\n",
      "50:\tlearn: 2342.1515920\ttotal: 430ms\tremaining: 2.1s\n",
      "100:\tlearn: 2097.8699768\ttotal: 842ms\tremaining: 1.66s\n",
      "150:\tlearn: 1997.0957981\ttotal: 1.24s\tremaining: 1.22s\n",
      "200:\tlearn: 1936.6314024\ttotal: 1.64s\tremaining: 807ms\n",
      "250:\tlearn: 1897.1671253\ttotal: 2.05s\tremaining: 399ms\n",
      "299:\tlearn: 1868.1699745\ttotal: 2.45s\tremaining: 0us\n",
      "0:\tlearn: 4464.9277389\ttotal: 11.3ms\tremaining: 3.37s\n",
      "50:\tlearn: 2349.9086020\ttotal: 460ms\tremaining: 2.25s\n",
      "100:\tlearn: 2097.7847548\ttotal: 861ms\tremaining: 1.7s\n",
      "150:\tlearn: 1997.0704984\ttotal: 1.26s\tremaining: 1.24s\n",
      "200:\tlearn: 1939.6032147\ttotal: 1.66s\tremaining: 818ms\n",
      "250:\tlearn: 1899.3589795\ttotal: 2.06s\tremaining: 402ms\n",
      "299:\tlearn: 1869.7864567\ttotal: 2.47s\tremaining: 0us\n",
      "0:\tlearn: 4465.7577921\ttotal: 16.1ms\tremaining: 4.81s\n",
      "50:\tlearn: 2338.6153607\ttotal: 438ms\tremaining: 2.14s\n",
      "100:\tlearn: 2092.6545381\ttotal: 843ms\tremaining: 1.66s\n",
      "150:\tlearn: 1988.1602249\ttotal: 1.26s\tremaining: 1.24s\n",
      "200:\tlearn: 1928.9683432\ttotal: 1.66s\tremaining: 819ms\n",
      "250:\tlearn: 1889.3625092\ttotal: 2.07s\tremaining: 405ms\n",
      "299:\tlearn: 1861.2668672\ttotal: 2.48s\tremaining: 0us\n",
      "0:\tlearn: 4472.1412738\ttotal: 9.86ms\tremaining: 2.95s\n",
      "50:\tlearn: 2347.8496265\ttotal: 440ms\tremaining: 2.15s\n",
      "100:\tlearn: 2099.8031152\ttotal: 858ms\tremaining: 1.69s\n",
      "150:\tlearn: 1997.0318866\ttotal: 1.27s\tremaining: 1.25s\n",
      "200:\tlearn: 1938.4790274\ttotal: 1.69s\tremaining: 831ms\n",
      "250:\tlearn: 1897.8710323\ttotal: 2.1s\tremaining: 410ms\n",
      "299:\tlearn: 1871.2491673\ttotal: 2.51s\tremaining: 0us\n",
      "0:\tlearn: 4467.6955351\ttotal: 9.54ms\tremaining: 2.85s\n",
      "50:\tlearn: 2349.3038453\ttotal: 444ms\tremaining: 2.17s\n",
      "100:\tlearn: 2105.2706062\ttotal: 844ms\tremaining: 1.66s\n",
      "150:\tlearn: 2003.9770453\ttotal: 1.24s\tremaining: 1.23s\n",
      "200:\tlearn: 1945.2548966\ttotal: 1.66s\tremaining: 817ms\n",
      "250:\tlearn: 1904.7739928\ttotal: 2.07s\tremaining: 403ms\n",
      "299:\tlearn: 1876.5247592\ttotal: 2.49s\tremaining: 0us\n",
      "0:\tlearn: 4472.7588552\ttotal: 12.1ms\tremaining: 3.62s\n",
      "50:\tlearn: 2342.1515920\ttotal: 458ms\tremaining: 2.24s\n",
      "100:\tlearn: 2097.8699768\ttotal: 894ms\tremaining: 1.76s\n",
      "150:\tlearn: 1997.0957981\ttotal: 1.34s\tremaining: 1.32s\n",
      "200:\tlearn: 1936.6314024\ttotal: 1.77s\tremaining: 873ms\n",
      "250:\tlearn: 1897.1671253\ttotal: 2.21s\tremaining: 431ms\n",
      "299:\tlearn: 1868.1699745\ttotal: 2.64s\tremaining: 0us\n",
      "0:\tlearn: 4464.9277389\ttotal: 18ms\tremaining: 5.38s\n",
      "50:\tlearn: 2349.9086020\ttotal: 562ms\tremaining: 2.75s\n",
      "100:\tlearn: 2097.7847548\ttotal: 998ms\tremaining: 1.97s\n",
      "150:\tlearn: 1997.0704984\ttotal: 1.49s\tremaining: 1.47s\n",
      "200:\tlearn: 1939.6032147\ttotal: 2s\tremaining: 983ms\n",
      "250:\tlearn: 1899.3589795\ttotal: 2.51s\tremaining: 490ms\n",
      "299:\tlearn: 1869.7864567\ttotal: 3.04s\tremaining: 0us\n",
      "0:\tlearn: 4465.7577921\ttotal: 11.5ms\tremaining: 3.43s\n",
      "50:\tlearn: 2338.6153607\ttotal: 551ms\tremaining: 2.69s\n",
      "100:\tlearn: 2092.6545381\ttotal: 1.02s\tremaining: 2.02s\n",
      "150:\tlearn: 1988.1602249\ttotal: 1.46s\tremaining: 1.44s\n",
      "200:\tlearn: 1928.9683432\ttotal: 1.89s\tremaining: 932ms\n",
      "250:\tlearn: 1889.3625092\ttotal: 2.33s\tremaining: 454ms\n",
      "299:\tlearn: 1861.2668672\ttotal: 2.76s\tremaining: 0us\n",
      "0:\tlearn: 4472.1412738\ttotal: 9.55ms\tremaining: 2.86s\n",
      "50:\tlearn: 2347.8496265\ttotal: 447ms\tremaining: 2.18s\n",
      "100:\tlearn: 2099.8031152\ttotal: 874ms\tremaining: 1.72s\n",
      "150:\tlearn: 1997.0318866\ttotal: 1.28s\tremaining: 1.26s\n",
      "200:\tlearn: 1938.4790274\ttotal: 1.68s\tremaining: 830ms\n",
      "250:\tlearn: 1897.8710323\ttotal: 2.09s\tremaining: 408ms\n",
      "299:\tlearn: 1871.2491673\ttotal: 2.5s\tremaining: 0us\n",
      "0:\tlearn: 4467.6955351\ttotal: 24.5ms\tremaining: 7.33s\n",
      "50:\tlearn: 2349.3038453\ttotal: 450ms\tremaining: 2.2s\n",
      "100:\tlearn: 2105.2706062\ttotal: 860ms\tremaining: 1.69s\n",
      "150:\tlearn: 2003.9770453\ttotal: 1.26s\tremaining: 1.24s\n",
      "200:\tlearn: 1945.2548966\ttotal: 1.68s\tremaining: 826ms\n",
      "250:\tlearn: 1904.7739928\ttotal: 2.12s\tremaining: 414ms\n",
      "299:\tlearn: 1876.5247592\ttotal: 2.54s\tremaining: 0us\n",
      "0:\tlearn: 4472.7588552\ttotal: 10.8ms\tremaining: 3.24s\n",
      "50:\tlearn: 2342.1515920\ttotal: 497ms\tremaining: 2.43s\n",
      "100:\tlearn: 2097.8699768\ttotal: 909ms\tremaining: 1.79s\n",
      "150:\tlearn: 1997.0957981\ttotal: 1.32s\tremaining: 1.3s\n",
      "200:\tlearn: 1936.6314024\ttotal: 1.73s\tremaining: 850ms\n",
      "250:\tlearn: 1897.1671253\ttotal: 2.14s\tremaining: 417ms\n",
      "299:\tlearn: 1868.1699745\ttotal: 2.54s\tremaining: 0us\n",
      "0:\tlearn: 4464.9277389\ttotal: 24.6ms\tremaining: 7.36s\n",
      "50:\tlearn: 2349.9086020\ttotal: 447ms\tremaining: 2.18s\n",
      "100:\tlearn: 2097.7847548\ttotal: 843ms\tremaining: 1.66s\n",
      "150:\tlearn: 1997.0704984\ttotal: 1.24s\tremaining: 1.22s\n",
      "200:\tlearn: 1939.6032147\ttotal: 1.63s\tremaining: 803ms\n",
      "250:\tlearn: 1899.3589795\ttotal: 2.05s\tremaining: 400ms\n",
      "299:\tlearn: 1869.7864567\ttotal: 2.44s\tremaining: 0us\n",
      "0:\tlearn: 4465.7577921\ttotal: 9.72ms\tremaining: 2.9s\n",
      "50:\tlearn: 2338.6153607\ttotal: 436ms\tremaining: 2.13s\n",
      "100:\tlearn: 2092.6545381\ttotal: 846ms\tremaining: 1.67s\n",
      "150:\tlearn: 1988.1602249\ttotal: 1.25s\tremaining: 1.23s\n",
      "200:\tlearn: 1928.9683432\ttotal: 1.64s\tremaining: 807ms\n",
      "250:\tlearn: 1889.3625092\ttotal: 2.05s\tremaining: 400ms\n",
      "299:\tlearn: 1861.2668672\ttotal: 2.44s\tremaining: 0us\n",
      "0:\tlearn: 4343.5751737\ttotal: 9.9ms\tremaining: 2.96s\n",
      "50:\tlearn: 2093.7787139\ttotal: 416ms\tremaining: 2.03s\n",
      "100:\tlearn: 1938.4353287\ttotal: 810ms\tremaining: 1.6s\n",
      "150:\tlearn: 1867.9173712\ttotal: 1.22s\tremaining: 1.2s\n",
      "200:\tlearn: 1827.6595496\ttotal: 1.64s\tremaining: 807ms\n",
      "250:\tlearn: 1802.5306145\ttotal: 2.06s\tremaining: 402ms\n",
      "299:\tlearn: 1784.0124902\ttotal: 2.46s\tremaining: 0us\n",
      "0:\tlearn: 4339.3075397\ttotal: 10.1ms\tremaining: 3.03s\n",
      "50:\tlearn: 2099.6100060\ttotal: 443ms\tremaining: 2.16s\n",
      "100:\tlearn: 1940.8987330\ttotal: 904ms\tremaining: 1.78s\n",
      "150:\tlearn: 1874.4123077\ttotal: 1.32s\tremaining: 1.3s\n",
      "200:\tlearn: 1834.7476997\ttotal: 1.74s\tremaining: 857ms\n",
      "250:\tlearn: 1809.2871539\ttotal: 2.21s\tremaining: 432ms\n",
      "299:\tlearn: 1789.6181286\ttotal: 2.64s\tremaining: 0us\n",
      "0:\tlearn: 4343.7764215\ttotal: 10.1ms\tremaining: 3.03s\n",
      "50:\tlearn: 2087.9214620\ttotal: 469ms\tremaining: 2.29s\n",
      "100:\tlearn: 1931.2844454\ttotal: 877ms\tremaining: 1.73s\n",
      "150:\tlearn: 1862.5509880\ttotal: 1.28s\tremaining: 1.26s\n",
      "200:\tlearn: 1824.0863927\ttotal: 1.69s\tremaining: 830ms\n",
      "250:\tlearn: 1796.9670105\ttotal: 2.09s\tremaining: 408ms\n",
      "299:\tlearn: 1778.1513810\ttotal: 2.48s\tremaining: 0us\n",
      "0:\tlearn: 4336.6134040\ttotal: 13.9ms\tremaining: 4.15s\n",
      "50:\tlearn: 2089.7127068\ttotal: 419ms\tremaining: 2.05s\n",
      "100:\tlearn: 1935.8484836\ttotal: 831ms\tremaining: 1.64s\n",
      "150:\tlearn: 1867.8282379\ttotal: 1.26s\tremaining: 1.25s\n",
      "200:\tlearn: 1828.2154121\ttotal: 1.73s\tremaining: 852ms\n",
      "250:\tlearn: 1802.5834782\ttotal: 2.13s\tremaining: 417ms\n",
      "299:\tlearn: 1783.5783932\ttotal: 2.54s\tremaining: 0us\n",
      "0:\tlearn: 4337.1822846\ttotal: 10.4ms\tremaining: 3.11s\n",
      "50:\tlearn: 2082.9878316\ttotal: 424ms\tremaining: 2.07s\n",
      "100:\tlearn: 1929.6544503\ttotal: 828ms\tremaining: 1.63s\n",
      "150:\tlearn: 1862.3391866\ttotal: 1.24s\tremaining: 1.22s\n",
      "200:\tlearn: 1823.3435516\ttotal: 1.66s\tremaining: 816ms\n",
      "250:\tlearn: 1797.0118741\ttotal: 2.08s\tremaining: 407ms\n",
      "299:\tlearn: 1779.3213495\ttotal: 2.5s\tremaining: 0us\n",
      "0:\tlearn: 4343.5751737\ttotal: 14.5ms\tremaining: 4.32s\n",
      "50:\tlearn: 2093.7787139\ttotal: 427ms\tremaining: 2.08s\n",
      "100:\tlearn: 1938.4353287\ttotal: 824ms\tremaining: 1.62s\n",
      "150:\tlearn: 1867.9173712\ttotal: 1.23s\tremaining: 1.22s\n",
      "200:\tlearn: 1827.6595496\ttotal: 1.66s\tremaining: 816ms\n",
      "250:\tlearn: 1802.5306145\ttotal: 2.06s\tremaining: 402ms\n",
      "299:\tlearn: 1784.0124902\ttotal: 2.45s\tremaining: 0us\n",
      "0:\tlearn: 4339.3075397\ttotal: 10.6ms\tremaining: 3.18s\n",
      "50:\tlearn: 2099.6100060\ttotal: 472ms\tremaining: 2.31s\n",
      "100:\tlearn: 1940.8987330\ttotal: 921ms\tremaining: 1.81s\n"
     ]
    },
    {
     "name": "stdout",
     "output_type": "stream",
     "text": [
      "150:\tlearn: 1874.4123077\ttotal: 1.36s\tremaining: 1.34s\n",
      "200:\tlearn: 1834.7476997\ttotal: 1.78s\tremaining: 875ms\n",
      "250:\tlearn: 1809.2871539\ttotal: 2.19s\tremaining: 428ms\n",
      "299:\tlearn: 1789.6181286\ttotal: 2.62s\tremaining: 0us\n",
      "0:\tlearn: 4343.7764215\ttotal: 12.2ms\tremaining: 3.63s\n",
      "50:\tlearn: 2087.9214620\ttotal: 452ms\tremaining: 2.21s\n",
      "100:\tlearn: 1931.2844454\ttotal: 849ms\tremaining: 1.67s\n",
      "150:\tlearn: 1862.5509880\ttotal: 1.26s\tremaining: 1.24s\n",
      "200:\tlearn: 1824.0863927\ttotal: 1.68s\tremaining: 828ms\n",
      "250:\tlearn: 1796.9670105\ttotal: 2.09s\tremaining: 408ms\n",
      "299:\tlearn: 1778.1513810\ttotal: 2.5s\tremaining: 0us\n",
      "0:\tlearn: 4336.6134040\ttotal: 14.1ms\tremaining: 4.21s\n",
      "50:\tlearn: 2089.7127068\ttotal: 432ms\tremaining: 2.11s\n",
      "100:\tlearn: 1935.8484836\ttotal: 840ms\tremaining: 1.66s\n",
      "150:\tlearn: 1867.8282379\ttotal: 1.25s\tremaining: 1.24s\n",
      "200:\tlearn: 1828.2154121\ttotal: 1.67s\tremaining: 824ms\n",
      "250:\tlearn: 1802.5834782\ttotal: 2.09s\tremaining: 408ms\n",
      "299:\tlearn: 1783.5783932\ttotal: 2.5s\tremaining: 0us\n",
      "0:\tlearn: 4337.1822846\ttotal: 19.2ms\tremaining: 5.73s\n",
      "50:\tlearn: 2082.9878316\ttotal: 477ms\tremaining: 2.33s\n",
      "100:\tlearn: 1929.6544503\ttotal: 902ms\tremaining: 1.78s\n",
      "150:\tlearn: 1862.3391866\ttotal: 1.32s\tremaining: 1.3s\n",
      "200:\tlearn: 1823.3435516\ttotal: 1.75s\tremaining: 863ms\n",
      "250:\tlearn: 1797.0118741\ttotal: 2.17s\tremaining: 424ms\n",
      "299:\tlearn: 1779.3213495\ttotal: 2.57s\tremaining: 0us\n",
      "0:\tlearn: 4343.5751737\ttotal: 11.2ms\tremaining: 3.34s\n",
      "50:\tlearn: 2093.7787139\ttotal: 463ms\tremaining: 2.26s\n",
      "100:\tlearn: 1938.4353287\ttotal: 1.04s\tremaining: 2.05s\n",
      "150:\tlearn: 1867.9173712\ttotal: 1.64s\tremaining: 1.62s\n",
      "200:\tlearn: 1827.6595496\ttotal: 2.13s\tremaining: 1.05s\n",
      "250:\tlearn: 1802.5306145\ttotal: 2.7s\tremaining: 526ms\n",
      "299:\tlearn: 1784.0124902\ttotal: 3.19s\tremaining: 0us\n",
      "0:\tlearn: 4339.3075397\ttotal: 11.7ms\tremaining: 3.49s\n",
      "50:\tlearn: 2099.6100060\ttotal: 477ms\tremaining: 2.33s\n",
      "100:\tlearn: 1940.8987330\ttotal: 908ms\tremaining: 1.79s\n",
      "150:\tlearn: 1874.4123077\ttotal: 1.34s\tremaining: 1.33s\n",
      "200:\tlearn: 1834.7476997\ttotal: 1.77s\tremaining: 871ms\n",
      "250:\tlearn: 1809.2871539\ttotal: 2.22s\tremaining: 434ms\n",
      "299:\tlearn: 1789.6181286\ttotal: 2.63s\tremaining: 0us\n",
      "0:\tlearn: 4343.7764215\ttotal: 16.8ms\tremaining: 5.03s\n",
      "50:\tlearn: 2087.9214620\ttotal: 455ms\tremaining: 2.22s\n",
      "100:\tlearn: 1931.2844454\ttotal: 879ms\tremaining: 1.73s\n",
      "150:\tlearn: 1862.5509880\ttotal: 1.32s\tremaining: 1.3s\n",
      "200:\tlearn: 1824.0863927\ttotal: 1.78s\tremaining: 879ms\n",
      "250:\tlearn: 1796.9670105\ttotal: 2.24s\tremaining: 438ms\n",
      "299:\tlearn: 1778.1513810\ttotal: 2.82s\tremaining: 0us\n",
      "0:\tlearn: 4336.6134040\ttotal: 10ms\tremaining: 3s\n",
      "50:\tlearn: 2089.7127068\ttotal: 428ms\tremaining: 2.09s\n",
      "100:\tlearn: 1935.8484836\ttotal: 844ms\tremaining: 1.66s\n",
      "150:\tlearn: 1867.8282379\ttotal: 1.29s\tremaining: 1.27s\n",
      "200:\tlearn: 1828.2154121\ttotal: 1.77s\tremaining: 874ms\n",
      "250:\tlearn: 1802.5834782\ttotal: 2.27s\tremaining: 442ms\n",
      "299:\tlearn: 1783.5783932\ttotal: 2.71s\tremaining: 0us\n",
      "0:\tlearn: 4337.1822846\ttotal: 10.9ms\tremaining: 3.27s\n",
      "50:\tlearn: 2082.9878316\ttotal: 455ms\tremaining: 2.22s\n",
      "100:\tlearn: 1929.6544503\ttotal: 891ms\tremaining: 1.75s\n",
      "150:\tlearn: 1862.3391866\ttotal: 1.31s\tremaining: 1.29s\n",
      "200:\tlearn: 1823.3435516\ttotal: 1.74s\tremaining: 856ms\n",
      "250:\tlearn: 1797.0118741\ttotal: 2.16s\tremaining: 422ms\n",
      "299:\tlearn: 1779.3213495\ttotal: 2.58s\tremaining: 0us\n",
      "0:\tlearn: 4343.5751737\ttotal: 10.8ms\tremaining: 3.22s\n",
      "50:\tlearn: 2093.7787139\ttotal: 491ms\tremaining: 2.4s\n",
      "100:\tlearn: 1938.4353287\ttotal: 1.05s\tremaining: 2.08s\n",
      "150:\tlearn: 1867.9173712\ttotal: 1.56s\tremaining: 1.54s\n",
      "200:\tlearn: 1827.6595496\ttotal: 2.12s\tremaining: 1.04s\n",
      "250:\tlearn: 1802.5306145\ttotal: 2.66s\tremaining: 519ms\n",
      "299:\tlearn: 1784.0124902\ttotal: 3.07s\tremaining: 0us\n",
      "0:\tlearn: 4339.3075397\ttotal: 10.8ms\tremaining: 3.22s\n",
      "50:\tlearn: 2099.6100060\ttotal: 504ms\tremaining: 2.46s\n",
      "100:\tlearn: 1940.8987330\ttotal: 968ms\tremaining: 1.91s\n",
      "150:\tlearn: 1874.4123077\ttotal: 1.48s\tremaining: 1.47s\n",
      "200:\tlearn: 1834.7476997\ttotal: 2.02s\tremaining: 997ms\n",
      "250:\tlearn: 1809.2871539\ttotal: 2.47s\tremaining: 482ms\n",
      "299:\tlearn: 1789.6181286\ttotal: 2.9s\tremaining: 0us\n",
      "0:\tlearn: 4343.7764215\ttotal: 9.83ms\tremaining: 2.94s\n",
      "50:\tlearn: 2087.9214620\ttotal: 418ms\tremaining: 2.04s\n",
      "100:\tlearn: 1931.2844454\ttotal: 812ms\tremaining: 1.6s\n",
      "150:\tlearn: 1862.5509880\ttotal: 1.21s\tremaining: 1.19s\n",
      "200:\tlearn: 1824.0863927\ttotal: 1.61s\tremaining: 795ms\n",
      "250:\tlearn: 1796.9670105\ttotal: 2.03s\tremaining: 397ms\n",
      "299:\tlearn: 1778.1513810\ttotal: 2.5s\tremaining: 0us\n",
      "0:\tlearn: 4336.6134040\ttotal: 9.72ms\tremaining: 2.9s\n",
      "50:\tlearn: 2089.7127068\ttotal: 427ms\tremaining: 2.08s\n",
      "100:\tlearn: 1935.8484836\ttotal: 823ms\tremaining: 1.62s\n",
      "150:\tlearn: 1867.8282379\ttotal: 1.22s\tremaining: 1.21s\n",
      "200:\tlearn: 1828.2154121\ttotal: 1.62s\tremaining: 800ms\n",
      "250:\tlearn: 1802.5834782\ttotal: 2.02s\tremaining: 394ms\n",
      "299:\tlearn: 1783.5783932\ttotal: 2.41s\tremaining: 0us\n",
      "0:\tlearn: 4337.1822846\ttotal: 9.55ms\tremaining: 2.86s\n",
      "50:\tlearn: 2082.9878316\ttotal: 452ms\tremaining: 2.2s\n",
      "100:\tlearn: 1929.6544503\ttotal: 860ms\tremaining: 1.69s\n",
      "150:\tlearn: 1862.3391866\ttotal: 1.28s\tremaining: 1.26s\n",
      "200:\tlearn: 1823.3435516\ttotal: 1.71s\tremaining: 840ms\n",
      "250:\tlearn: 1797.0118741\ttotal: 2.16s\tremaining: 421ms\n",
      "299:\tlearn: 1779.3213495\ttotal: 2.55s\tremaining: 0us\n",
      "0:\tlearn: 3865.9394200\ttotal: 17.4ms\tremaining: 5.22s\n",
      "50:\tlearn: 1875.3497042\ttotal: 444ms\tremaining: 2.17s\n",
      "100:\tlearn: 1792.8953434\ttotal: 879ms\tremaining: 1.73s\n",
      "150:\tlearn: 1751.2377520\ttotal: 1.29s\tremaining: 1.27s\n",
      "200:\tlearn: 1723.3526792\ttotal: 1.7s\tremaining: 835ms\n",
      "250:\tlearn: 1701.0134778\ttotal: 2.1s\tremaining: 411ms\n",
      "299:\tlearn: 1685.8539999\ttotal: 2.5s\tremaining: 0us\n",
      "0:\tlearn: 3862.3484581\ttotal: 10.4ms\tremaining: 3.12s\n",
      "50:\tlearn: 1883.9234609\ttotal: 454ms\tremaining: 2.22s\n",
      "100:\tlearn: 1797.5641612\ttotal: 873ms\tremaining: 1.72s\n",
      "150:\tlearn: 1755.6939940\ttotal: 1.28s\tremaining: 1.26s\n",
      "200:\tlearn: 1728.5009478\ttotal: 1.68s\tremaining: 829ms\n",
      "250:\tlearn: 1709.1194209\ttotal: 2.08s\tremaining: 407ms\n",
      "299:\tlearn: 1692.1425213\ttotal: 2.52s\tremaining: 0us\n",
      "0:\tlearn: 3864.4758337\ttotal: 9.54ms\tremaining: 2.85s\n",
      "50:\tlearn: 1874.2220820\ttotal: 422ms\tremaining: 2.06s\n",
      "100:\tlearn: 1784.9965565\ttotal: 853ms\tremaining: 1.68s\n",
      "150:\tlearn: 1747.2989482\ttotal: 1.26s\tremaining: 1.24s\n",
      "200:\tlearn: 1718.5493321\ttotal: 1.67s\tremaining: 824ms\n",
      "250:\tlearn: 1698.1189129\ttotal: 2.1s\tremaining: 410ms\n",
      "299:\tlearn: 1681.4701611\ttotal: 2.5s\tremaining: 0us\n",
      "0:\tlearn: 3859.9259167\ttotal: 10.4ms\tremaining: 3.12s\n",
      "50:\tlearn: 1877.2603623\ttotal: 455ms\tremaining: 2.22s\n",
      "100:\tlearn: 1795.1393597\ttotal: 918ms\tremaining: 1.81s\n",
      "150:\tlearn: 1758.7335396\ttotal: 1.36s\tremaining: 1.35s\n",
      "200:\tlearn: 1729.5047715\ttotal: 1.79s\tremaining: 883ms\n",
      "250:\tlearn: 1705.8707177\ttotal: 2.27s\tremaining: 444ms\n",
      "299:\tlearn: 1688.0542601\ttotal: 2.68s\tremaining: 0us\n",
      "0:\tlearn: 3859.4545180\ttotal: 14.6ms\tremaining: 4.37s\n",
      "50:\tlearn: 1872.3749453\ttotal: 432ms\tremaining: 2.11s\n",
      "100:\tlearn: 1789.1320351\ttotal: 834ms\tremaining: 1.64s\n",
      "150:\tlearn: 1750.2818715\ttotal: 1.24s\tremaining: 1.23s\n",
      "200:\tlearn: 1721.2625230\ttotal: 1.68s\tremaining: 825ms\n",
      "250:\tlearn: 1699.7055643\ttotal: 2.09s\tremaining: 409ms\n",
      "299:\tlearn: 1683.7468058\ttotal: 2.5s\tremaining: 0us\n",
      "0:\tlearn: 3865.9394200\ttotal: 11.8ms\tremaining: 3.53s\n",
      "50:\tlearn: 1875.3497042\ttotal: 433ms\tremaining: 2.12s\n",
      "100:\tlearn: 1792.8953434\ttotal: 863ms\tremaining: 1.7s\n",
      "150:\tlearn: 1751.2377520\ttotal: 1.3s\tremaining: 1.28s\n",
      "200:\tlearn: 1723.3526792\ttotal: 1.71s\tremaining: 841ms\n",
      "250:\tlearn: 1701.0134778\ttotal: 2.16s\tremaining: 421ms\n",
      "299:\tlearn: 1685.8539999\ttotal: 2.58s\tremaining: 0us\n",
      "0:\tlearn: 3862.3484581\ttotal: 9.61ms\tremaining: 2.87s\n",
      "50:\tlearn: 1883.9234609\ttotal: 413ms\tremaining: 2.02s\n",
      "100:\tlearn: 1797.5641612\ttotal: 822ms\tremaining: 1.62s\n",
      "150:\tlearn: 1755.6939940\ttotal: 1.23s\tremaining: 1.21s\n",
      "200:\tlearn: 1728.5009478\ttotal: 1.63s\tremaining: 804ms\n",
      "250:\tlearn: 1709.1194209\ttotal: 2.03s\tremaining: 397ms\n",
      "299:\tlearn: 1692.1425213\ttotal: 2.43s\tremaining: 0us\n",
      "0:\tlearn: 3864.4758337\ttotal: 10.5ms\tremaining: 3.13s\n",
      "50:\tlearn: 1874.2220820\ttotal: 504ms\tremaining: 2.46s\n",
      "100:\tlearn: 1784.9965565\ttotal: 981ms\tremaining: 1.93s\n",
      "150:\tlearn: 1747.2989482\ttotal: 1.47s\tremaining: 1.45s\n",
      "200:\tlearn: 1718.5493321\ttotal: 2.03s\tremaining: 999ms\n",
      "250:\tlearn: 1698.1189129\ttotal: 2.52s\tremaining: 492ms\n",
      "299:\tlearn: 1681.4701611\ttotal: 3.01s\tremaining: 0us\n"
     ]
    },
    {
     "name": "stdout",
     "output_type": "stream",
     "text": [
      "0:\tlearn: 3859.9259167\ttotal: 10.2ms\tremaining: 3.05s\n",
      "50:\tlearn: 1877.2603623\ttotal: 433ms\tremaining: 2.11s\n",
      "100:\tlearn: 1795.1393597\ttotal: 838ms\tremaining: 1.65s\n",
      "150:\tlearn: 1758.7335396\ttotal: 1.24s\tremaining: 1.23s\n",
      "200:\tlearn: 1729.5047715\ttotal: 1.65s\tremaining: 815ms\n",
      "250:\tlearn: 1705.8707177\ttotal: 2.07s\tremaining: 404ms\n",
      "299:\tlearn: 1688.0542601\ttotal: 2.47s\tremaining: 0us\n",
      "0:\tlearn: 3859.4545180\ttotal: 10.5ms\tremaining: 3.14s\n",
      "50:\tlearn: 1872.3749453\ttotal: 427ms\tremaining: 2.09s\n",
      "100:\tlearn: 1789.1320351\ttotal: 851ms\tremaining: 1.68s\n",
      "150:\tlearn: 1750.2818715\ttotal: 1.29s\tremaining: 1.27s\n",
      "200:\tlearn: 1721.2625230\ttotal: 1.7s\tremaining: 837ms\n",
      "250:\tlearn: 1699.7055643\ttotal: 2.13s\tremaining: 416ms\n",
      "299:\tlearn: 1683.7468058\ttotal: 2.54s\tremaining: 0us\n",
      "0:\tlearn: 3865.9394200\ttotal: 9.75ms\tremaining: 2.91s\n",
      "50:\tlearn: 1875.3497042\ttotal: 425ms\tremaining: 2.08s\n",
      "100:\tlearn: 1792.8953434\ttotal: 836ms\tremaining: 1.65s\n",
      "150:\tlearn: 1751.2377520\ttotal: 1.25s\tremaining: 1.23s\n",
      "200:\tlearn: 1723.3526792\ttotal: 1.66s\tremaining: 818ms\n",
      "250:\tlearn: 1701.0134778\ttotal: 2.08s\tremaining: 407ms\n",
      "299:\tlearn: 1685.8539999\ttotal: 2.5s\tremaining: 0us\n",
      "0:\tlearn: 3862.3484581\ttotal: 11.7ms\tremaining: 3.49s\n",
      "50:\tlearn: 1883.9234609\ttotal: 453ms\tremaining: 2.21s\n",
      "100:\tlearn: 1797.5641612\ttotal: 898ms\tremaining: 1.77s\n",
      "150:\tlearn: 1755.6939940\ttotal: 1.35s\tremaining: 1.33s\n",
      "200:\tlearn: 1728.5009478\ttotal: 1.78s\tremaining: 876ms\n",
      "250:\tlearn: 1709.1194209\ttotal: 2.19s\tremaining: 427ms\n",
      "299:\tlearn: 1692.1425213\ttotal: 2.59s\tremaining: 0us\n",
      "0:\tlearn: 3864.4758337\ttotal: 10.3ms\tremaining: 3.07s\n",
      "50:\tlearn: 1874.2220820\ttotal: 421ms\tremaining: 2.05s\n",
      "100:\tlearn: 1784.9965565\ttotal: 843ms\tremaining: 1.66s\n",
      "150:\tlearn: 1747.2989482\ttotal: 1.26s\tremaining: 1.24s\n",
      "200:\tlearn: 1718.5493321\ttotal: 1.68s\tremaining: 827ms\n",
      "250:\tlearn: 1698.1189129\ttotal: 2.09s\tremaining: 408ms\n",
      "299:\tlearn: 1681.4701611\ttotal: 2.49s\tremaining: 0us\n",
      "0:\tlearn: 3859.9259167\ttotal: 20ms\tremaining: 5.98s\n",
      "50:\tlearn: 1877.2603623\ttotal: 434ms\tremaining: 2.12s\n",
      "100:\tlearn: 1795.1393597\ttotal: 860ms\tremaining: 1.69s\n",
      "150:\tlearn: 1758.7335396\ttotal: 1.3s\tremaining: 1.28s\n",
      "200:\tlearn: 1729.5047715\ttotal: 1.71s\tremaining: 843ms\n",
      "250:\tlearn: 1705.8707177\ttotal: 2.13s\tremaining: 416ms\n",
      "299:\tlearn: 1688.0542601\ttotal: 2.53s\tremaining: 0us\n",
      "0:\tlearn: 3859.4545180\ttotal: 11.7ms\tremaining: 3.49s\n",
      "50:\tlearn: 1872.3749453\ttotal: 426ms\tremaining: 2.08s\n",
      "100:\tlearn: 1789.1320351\ttotal: 839ms\tremaining: 1.65s\n",
      "150:\tlearn: 1750.2818715\ttotal: 1.25s\tremaining: 1.24s\n",
      "200:\tlearn: 1721.2625230\ttotal: 1.7s\tremaining: 839ms\n",
      "250:\tlearn: 1699.7055643\ttotal: 2.11s\tremaining: 412ms\n",
      "299:\tlearn: 1683.7468058\ttotal: 2.5s\tremaining: 0us\n",
      "0:\tlearn: 3865.9394200\ttotal: 10.4ms\tremaining: 3.1s\n",
      "50:\tlearn: 1875.3497042\ttotal: 434ms\tremaining: 2.12s\n",
      "100:\tlearn: 1792.8953434\ttotal: 852ms\tremaining: 1.68s\n",
      "150:\tlearn: 1751.2377520\ttotal: 1.27s\tremaining: 1.25s\n",
      "200:\tlearn: 1723.3526792\ttotal: 1.68s\tremaining: 826ms\n",
      "250:\tlearn: 1701.0134778\ttotal: 2.09s\tremaining: 408ms\n",
      "299:\tlearn: 1685.8539999\ttotal: 2.5s\tremaining: 0us\n",
      "0:\tlearn: 3862.3484581\ttotal: 12.4ms\tremaining: 3.69s\n",
      "50:\tlearn: 1883.9234609\ttotal: 417ms\tremaining: 2.03s\n",
      "100:\tlearn: 1797.5641612\ttotal: 823ms\tremaining: 1.62s\n",
      "150:\tlearn: 1755.6939940\ttotal: 1.24s\tremaining: 1.23s\n",
      "200:\tlearn: 1728.5009478\ttotal: 1.66s\tremaining: 820ms\n",
      "250:\tlearn: 1709.1194209\ttotal: 2.1s\tremaining: 411ms\n",
      "299:\tlearn: 1692.1425213\ttotal: 2.51s\tremaining: 0us\n",
      "0:\tlearn: 3864.4758337\ttotal: 10.3ms\tremaining: 3.09s\n",
      "50:\tlearn: 1874.2220820\ttotal: 431ms\tremaining: 2.1s\n",
      "100:\tlearn: 1784.9965565\ttotal: 864ms\tremaining: 1.7s\n",
      "150:\tlearn: 1747.2989482\ttotal: 1.3s\tremaining: 1.28s\n",
      "200:\tlearn: 1718.5493321\ttotal: 1.72s\tremaining: 849ms\n",
      "250:\tlearn: 1698.1189129\ttotal: 2.15s\tremaining: 420ms\n",
      "299:\tlearn: 1681.4701611\ttotal: 2.55s\tremaining: 0us\n",
      "0:\tlearn: 3859.9259167\ttotal: 15.6ms\tremaining: 4.67s\n",
      "50:\tlearn: 1877.2603623\ttotal: 439ms\tremaining: 2.14s\n",
      "100:\tlearn: 1795.1393597\ttotal: 850ms\tremaining: 1.68s\n",
      "150:\tlearn: 1758.7335396\ttotal: 1.25s\tremaining: 1.23s\n",
      "200:\tlearn: 1729.5047715\ttotal: 1.66s\tremaining: 818ms\n",
      "250:\tlearn: 1705.8707177\ttotal: 2.07s\tremaining: 404ms\n",
      "299:\tlearn: 1688.0542601\ttotal: 2.47s\tremaining: 0us\n",
      "0:\tlearn: 3859.4545180\ttotal: 10.5ms\tremaining: 3.13s\n",
      "50:\tlearn: 1872.3749453\ttotal: 430ms\tremaining: 2.1s\n",
      "100:\tlearn: 1789.1320351\ttotal: 840ms\tremaining: 1.66s\n",
      "150:\tlearn: 1750.2818715\ttotal: 1.26s\tremaining: 1.25s\n",
      "200:\tlearn: 1721.2625230\ttotal: 1.67s\tremaining: 824ms\n",
      "250:\tlearn: 1699.7055643\ttotal: 2.08s\tremaining: 406ms\n",
      "299:\tlearn: 1683.7468058\ttotal: 2.48s\tremaining: 0us\n",
      "0:\tlearn: 4465.4956109\ttotal: 16.2ms\tremaining: 4.84s\n",
      "50:\tlearn: 2256.1462369\ttotal: 504ms\tremaining: 2.46s\n",
      "100:\tlearn: 2020.8579880\ttotal: 956ms\tremaining: 1.88s\n",
      "150:\tlearn: 1928.6808363\ttotal: 1.41s\tremaining: 1.4s\n",
      "200:\tlearn: 1879.5493944\ttotal: 1.86s\tremaining: 919ms\n",
      "250:\tlearn: 1844.7480421\ttotal: 2.32s\tremaining: 452ms\n",
      "299:\tlearn: 1818.8759618\ttotal: 2.77s\tremaining: 0us\n",
      "0:\tlearn: 4460.4678477\ttotal: 19ms\tremaining: 5.68s\n",
      "50:\tlearn: 2261.3340795\ttotal: 519ms\tremaining: 2.53s\n",
      "100:\tlearn: 2028.2358746\ttotal: 988ms\tremaining: 1.95s\n",
      "150:\tlearn: 1934.3756628\ttotal: 1.45s\tremaining: 1.44s\n",
      "200:\tlearn: 1882.5408734\ttotal: 1.95s\tremaining: 962ms\n",
      "250:\tlearn: 1848.9691429\ttotal: 2.46s\tremaining: 481ms\n",
      "299:\tlearn: 1823.4082725\ttotal: 2.93s\tremaining: 0us\n",
      "0:\tlearn: 4465.5471390\ttotal: 17.7ms\tremaining: 5.3s\n",
      "50:\tlearn: 2255.9466384\ttotal: 494ms\tremaining: 2.41s\n",
      "100:\tlearn: 2018.8860748\ttotal: 952ms\tremaining: 1.88s\n",
      "150:\tlearn: 1927.9538375\ttotal: 1.4s\tremaining: 1.38s\n",
      "200:\tlearn: 1876.2369155\ttotal: 1.85s\tremaining: 913ms\n",
      "250:\tlearn: 1841.4476462\ttotal: 2.31s\tremaining: 451ms\n",
      "299:\tlearn: 1814.7017356\ttotal: 2.77s\tremaining: 0us\n",
      "0:\tlearn: 4457.5990913\ttotal: 11.3ms\tremaining: 3.39s\n",
      "50:\tlearn: 2252.6941199\ttotal: 495ms\tremaining: 2.42s\n",
      "100:\tlearn: 2020.6384044\ttotal: 958ms\tremaining: 1.89s\n",
      "150:\tlearn: 1928.6771497\ttotal: 1.41s\tremaining: 1.39s\n",
      "200:\tlearn: 1876.6081209\ttotal: 1.86s\tremaining: 917ms\n",
      "250:\tlearn: 1842.5484716\ttotal: 2.32s\tremaining: 453ms\n",
      "299:\tlearn: 1817.8085143\ttotal: 2.77s\tremaining: 0us\n",
      "0:\tlearn: 4458.4698885\ttotal: 19.3ms\tremaining: 5.77s\n",
      "50:\tlearn: 2245.8418382\ttotal: 516ms\tremaining: 2.52s\n",
      "100:\tlearn: 2011.8483480\ttotal: 978ms\tremaining: 1.93s\n",
      "150:\tlearn: 1922.0873784\ttotal: 1.46s\tremaining: 1.44s\n",
      "200:\tlearn: 1872.7281577\ttotal: 1.94s\tremaining: 953ms\n",
      "250:\tlearn: 1836.6301309\ttotal: 2.4s\tremaining: 468ms\n",
      "299:\tlearn: 1811.0753869\ttotal: 2.85s\tremaining: 0us\n",
      "0:\tlearn: 4465.4956109\ttotal: 11.3ms\tremaining: 3.37s\n",
      "50:\tlearn: 2256.1462369\ttotal: 496ms\tremaining: 2.42s\n",
      "100:\tlearn: 2020.8579880\ttotal: 955ms\tremaining: 1.88s\n",
      "150:\tlearn: 1928.6808363\ttotal: 1.41s\tremaining: 1.39s\n",
      "200:\tlearn: 1879.5493944\ttotal: 1.86s\tremaining: 919ms\n",
      "250:\tlearn: 1844.7480421\ttotal: 2.31s\tremaining: 452ms\n",
      "299:\tlearn: 1818.8759618\ttotal: 2.77s\tremaining: 0us\n",
      "0:\tlearn: 4460.4678477\ttotal: 14.3ms\tremaining: 4.27s\n",
      "50:\tlearn: 2261.3340795\ttotal: 502ms\tremaining: 2.45s\n",
      "100:\tlearn: 2028.2358746\ttotal: 958ms\tremaining: 1.89s\n",
      "150:\tlearn: 1934.3756628\ttotal: 1.42s\tremaining: 1.4s\n",
      "200:\tlearn: 1882.5408734\ttotal: 1.89s\tremaining: 933ms\n",
      "250:\tlearn: 1848.9691429\ttotal: 2.35s\tremaining: 459ms\n",
      "299:\tlearn: 1823.4082725\ttotal: 2.82s\tremaining: 0us\n",
      "0:\tlearn: 4465.5471390\ttotal: 11.3ms\tremaining: 3.38s\n",
      "50:\tlearn: 2255.9466384\ttotal: 501ms\tremaining: 2.45s\n",
      "100:\tlearn: 2018.8860748\ttotal: 966ms\tremaining: 1.9s\n",
      "150:\tlearn: 1927.9538375\ttotal: 1.42s\tremaining: 1.41s\n",
      "200:\tlearn: 1876.2369155\ttotal: 1.88s\tremaining: 926ms\n",
      "250:\tlearn: 1841.4476462\ttotal: 2.33s\tremaining: 455ms\n",
      "299:\tlearn: 1814.7017356\ttotal: 2.78s\tremaining: 0us\n",
      "0:\tlearn: 4457.5990913\ttotal: 17.8ms\tremaining: 5.32s\n",
      "50:\tlearn: 2252.6941199\ttotal: 506ms\tremaining: 2.47s\n",
      "100:\tlearn: 2020.6384044\ttotal: 971ms\tremaining: 1.91s\n",
      "150:\tlearn: 1928.6771497\ttotal: 1.45s\tremaining: 1.43s\n",
      "200:\tlearn: 1876.6081209\ttotal: 1.92s\tremaining: 946ms\n",
      "250:\tlearn: 1842.5484716\ttotal: 2.39s\tremaining: 467ms\n",
      "299:\tlearn: 1817.8085143\ttotal: 2.87s\tremaining: 0us\n",
      "0:\tlearn: 4458.4698885\ttotal: 23.7ms\tremaining: 7.07s\n",
      "50:\tlearn: 2245.8418382\ttotal: 540ms\tremaining: 2.63s\n",
      "100:\tlearn: 2011.8483480\ttotal: 997ms\tremaining: 1.96s\n",
      "150:\tlearn: 1922.0873784\ttotal: 1.45s\tremaining: 1.43s\n"
     ]
    },
    {
     "name": "stdout",
     "output_type": "stream",
     "text": [
      "200:\tlearn: 1872.7281577\ttotal: 1.91s\tremaining: 939ms\n",
      "250:\tlearn: 1836.6301309\ttotal: 2.38s\tremaining: 464ms\n",
      "299:\tlearn: 1811.0753869\ttotal: 2.83s\tremaining: 0us\n",
      "0:\tlearn: 4465.4956109\ttotal: 17.1ms\tremaining: 5.11s\n",
      "50:\tlearn: 2256.1462369\ttotal: 500ms\tremaining: 2.44s\n",
      "100:\tlearn: 2020.8579880\ttotal: 969ms\tremaining: 1.91s\n",
      "150:\tlearn: 1928.6808363\ttotal: 1.42s\tremaining: 1.4s\n",
      "200:\tlearn: 1879.5493944\ttotal: 1.87s\tremaining: 922ms\n",
      "250:\tlearn: 1844.7480421\ttotal: 2.33s\tremaining: 454ms\n",
      "299:\tlearn: 1818.8759618\ttotal: 2.79s\tremaining: 0us\n",
      "0:\tlearn: 4460.4678477\ttotal: 24.8ms\tremaining: 7.41s\n",
      "50:\tlearn: 2261.3340795\ttotal: 512ms\tremaining: 2.5s\n",
      "100:\tlearn: 2028.2358746\ttotal: 965ms\tremaining: 1.9s\n",
      "150:\tlearn: 1934.3756628\ttotal: 1.43s\tremaining: 1.41s\n",
      "200:\tlearn: 1882.5408734\ttotal: 1.9s\tremaining: 935ms\n",
      "250:\tlearn: 1848.9691429\ttotal: 2.38s\tremaining: 465ms\n",
      "299:\tlearn: 1823.4082725\ttotal: 2.83s\tremaining: 0us\n",
      "0:\tlearn: 4465.5471390\ttotal: 17ms\tremaining: 5.07s\n",
      "50:\tlearn: 2255.9466384\ttotal: 515ms\tremaining: 2.51s\n",
      "100:\tlearn: 2018.8860748\ttotal: 1s\tremaining: 1.98s\n",
      "150:\tlearn: 1927.9538375\ttotal: 1.46s\tremaining: 1.44s\n",
      "200:\tlearn: 1876.2369155\ttotal: 1.93s\tremaining: 952ms\n",
      "250:\tlearn: 1841.4476462\ttotal: 2.42s\tremaining: 473ms\n",
      "299:\tlearn: 1814.7017356\ttotal: 2.87s\tremaining: 0us\n",
      "0:\tlearn: 4457.5990913\ttotal: 10.9ms\tremaining: 3.25s\n",
      "50:\tlearn: 2252.6941199\ttotal: 480ms\tremaining: 2.34s\n",
      "100:\tlearn: 2020.6384044\ttotal: 927ms\tremaining: 1.83s\n",
      "150:\tlearn: 1928.6771497\ttotal: 1.37s\tremaining: 1.35s\n",
      "200:\tlearn: 1876.6081209\ttotal: 1.83s\tremaining: 901ms\n",
      "250:\tlearn: 1842.5484716\ttotal: 2.29s\tremaining: 447ms\n",
      "299:\tlearn: 1817.8085143\ttotal: 2.76s\tremaining: 0us\n",
      "0:\tlearn: 4458.4698885\ttotal: 15.1ms\tremaining: 4.51s\n",
      "50:\tlearn: 2245.8418382\ttotal: 499ms\tremaining: 2.43s\n",
      "100:\tlearn: 2011.8483480\ttotal: 976ms\tremaining: 1.92s\n",
      "150:\tlearn: 1922.0873784\ttotal: 1.42s\tremaining: 1.4s\n",
      "200:\tlearn: 1872.7281577\ttotal: 1.89s\tremaining: 931ms\n",
      "250:\tlearn: 1836.6301309\ttotal: 2.36s\tremaining: 461ms\n",
      "299:\tlearn: 1811.0753869\ttotal: 2.81s\tremaining: 0us\n",
      "0:\tlearn: 4465.4956109\ttotal: 18.6ms\tremaining: 5.55s\n",
      "50:\tlearn: 2256.1462369\ttotal: 497ms\tremaining: 2.42s\n",
      "100:\tlearn: 2020.8579880\ttotal: 996ms\tremaining: 1.96s\n",
      "150:\tlearn: 1928.6808363\ttotal: 1.44s\tremaining: 1.42s\n",
      "200:\tlearn: 1879.5493944\ttotal: 1.89s\tremaining: 931ms\n",
      "250:\tlearn: 1844.7480421\ttotal: 2.34s\tremaining: 457ms\n",
      "299:\tlearn: 1818.8759618\ttotal: 2.79s\tremaining: 0us\n",
      "0:\tlearn: 4460.4678477\ttotal: 11.3ms\tremaining: 3.38s\n",
      "50:\tlearn: 2261.3340795\ttotal: 485ms\tremaining: 2.37s\n",
      "100:\tlearn: 2028.2358746\ttotal: 936ms\tremaining: 1.84s\n",
      "150:\tlearn: 1934.3756628\ttotal: 1.39s\tremaining: 1.37s\n",
      "200:\tlearn: 1882.5408734\ttotal: 1.84s\tremaining: 909ms\n",
      "250:\tlearn: 1848.9691429\ttotal: 2.3s\tremaining: 449ms\n",
      "299:\tlearn: 1823.4082725\ttotal: 2.75s\tremaining: 0us\n",
      "0:\tlearn: 4465.5471390\ttotal: 13.3ms\tremaining: 3.96s\n",
      "50:\tlearn: 2255.9466384\ttotal: 497ms\tremaining: 2.42s\n",
      "100:\tlearn: 2018.8860748\ttotal: 944ms\tremaining: 1.86s\n",
      "150:\tlearn: 1927.9538375\ttotal: 1.39s\tremaining: 1.37s\n",
      "200:\tlearn: 1876.2369155\ttotal: 1.85s\tremaining: 912ms\n",
      "250:\tlearn: 1841.4476462\ttotal: 2.33s\tremaining: 454ms\n",
      "299:\tlearn: 1814.7017356\ttotal: 2.79s\tremaining: 0us\n",
      "0:\tlearn: 4457.5990913\ttotal: 25.6ms\tremaining: 7.64s\n",
      "50:\tlearn: 2252.6941199\ttotal: 491ms\tremaining: 2.4s\n",
      "100:\tlearn: 2020.6384044\ttotal: 934ms\tremaining: 1.84s\n",
      "150:\tlearn: 1928.6771497\ttotal: 1.37s\tremaining: 1.36s\n",
      "200:\tlearn: 1876.6081209\ttotal: 1.82s\tremaining: 899ms\n",
      "250:\tlearn: 1842.5484716\ttotal: 2.27s\tremaining: 444ms\n",
      "299:\tlearn: 1817.8085143\ttotal: 2.71s\tremaining: 0us\n",
      "0:\tlearn: 4458.4698885\ttotal: 11.7ms\tremaining: 3.49s\n",
      "50:\tlearn: 2245.8418382\ttotal: 515ms\tremaining: 2.51s\n",
      "100:\tlearn: 2011.8483480\ttotal: 987ms\tremaining: 1.94s\n",
      "150:\tlearn: 1922.0873784\ttotal: 1.44s\tremaining: 1.42s\n",
      "200:\tlearn: 1872.7281577\ttotal: 1.89s\tremaining: 932ms\n",
      "250:\tlearn: 1836.6301309\ttotal: 2.36s\tremaining: 461ms\n",
      "299:\tlearn: 1811.0753869\ttotal: 2.82s\tremaining: 0us\n",
      "0:\tlearn: 4330.2283073\ttotal: 18.4ms\tremaining: 5.5s\n",
      "50:\tlearn: 2015.3110865\ttotal: 480ms\tremaining: 2.34s\n",
      "100:\tlearn: 1876.9893814\ttotal: 941ms\tremaining: 1.85s\n",
      "150:\tlearn: 1814.2816846\ttotal: 1.4s\tremaining: 1.38s\n",
      "200:\tlearn: 1779.9337057\ttotal: 1.86s\tremaining: 917ms\n",
      "250:\tlearn: 1755.7117548\ttotal: 2.31s\tremaining: 452ms\n",
      "299:\tlearn: 1736.7930733\ttotal: 2.76s\tremaining: 0us\n",
      "0:\tlearn: 4324.7912274\ttotal: 20ms\tremaining: 5.99s\n",
      "50:\tlearn: 2017.5774833\ttotal: 501ms\tremaining: 2.44s\n",
      "100:\tlearn: 1882.0259861\ttotal: 977ms\tremaining: 1.93s\n",
      "150:\tlearn: 1819.8900588\ttotal: 1.43s\tremaining: 1.41s\n",
      "200:\tlearn: 1784.3133034\ttotal: 1.88s\tremaining: 928ms\n",
      "250:\tlearn: 1759.1920598\ttotal: 2.34s\tremaining: 457ms\n",
      "299:\tlearn: 1741.6535561\ttotal: 2.77s\tremaining: 0us\n",
      "0:\tlearn: 4329.2906878\ttotal: 10.9ms\tremaining: 3.27s\n",
      "50:\tlearn: 2016.1827737\ttotal: 472ms\tremaining: 2.31s\n",
      "100:\tlearn: 1875.2590243\ttotal: 920ms\tremaining: 1.81s\n",
      "150:\tlearn: 1814.7770325\ttotal: 1.39s\tremaining: 1.38s\n",
      "200:\tlearn: 1777.9404432\ttotal: 1.87s\tremaining: 922ms\n",
      "250:\tlearn: 1754.1673549\ttotal: 2.34s\tremaining: 458ms\n",
      "299:\tlearn: 1735.7335227\ttotal: 2.81s\tremaining: 0us\n",
      "0:\tlearn: 4321.8941284\ttotal: 11.1ms\tremaining: 3.32s\n",
      "50:\tlearn: 2012.4708771\ttotal: 475ms\tremaining: 2.32s\n",
      "100:\tlearn: 1877.9344857\ttotal: 935ms\tremaining: 1.84s\n",
      "150:\tlearn: 1816.8863980\ttotal: 1.38s\tremaining: 1.37s\n",
      "200:\tlearn: 1779.2646771\ttotal: 1.85s\tremaining: 913ms\n",
      "250:\tlearn: 1754.4816409\ttotal: 2.32s\tremaining: 452ms\n",
      "299:\tlearn: 1736.1686385\ttotal: 2.77s\tremaining: 0us\n",
      "0:\tlearn: 4322.5441028\ttotal: 11ms\tremaining: 3.29s\n",
      "50:\tlearn: 2013.8946864\ttotal: 468ms\tremaining: 2.28s\n",
      "100:\tlearn: 1874.7648765\ttotal: 911ms\tremaining: 1.79s\n",
      "150:\tlearn: 1811.6082149\ttotal: 1.36s\tremaining: 1.34s\n",
      "200:\tlearn: 1776.7709870\ttotal: 1.81s\tremaining: 892ms\n",
      "250:\tlearn: 1752.7401086\ttotal: 2.26s\tremaining: 441ms\n",
      "299:\tlearn: 1734.7210969\ttotal: 2.7s\tremaining: 0us\n",
      "0:\tlearn: 4330.2283073\ttotal: 11.1ms\tremaining: 3.31s\n",
      "50:\tlearn: 2015.3110865\ttotal: 477ms\tremaining: 2.33s\n",
      "100:\tlearn: 1876.9893814\ttotal: 928ms\tremaining: 1.83s\n",
      "150:\tlearn: 1814.2816846\ttotal: 1.4s\tremaining: 1.38s\n",
      "200:\tlearn: 1779.9337057\ttotal: 1.86s\tremaining: 918ms\n",
      "250:\tlearn: 1755.7117548\ttotal: 2.34s\tremaining: 457ms\n",
      "299:\tlearn: 1736.7930733\ttotal: 2.78s\tremaining: 0us\n",
      "0:\tlearn: 4324.7912274\ttotal: 10.8ms\tremaining: 3.22s\n",
      "50:\tlearn: 2017.5774833\ttotal: 480ms\tremaining: 2.35s\n",
      "100:\tlearn: 1882.0259861\ttotal: 939ms\tremaining: 1.85s\n",
      "150:\tlearn: 1819.8900588\ttotal: 1.41s\tremaining: 1.39s\n",
      "200:\tlearn: 1784.3133034\ttotal: 1.87s\tremaining: 921ms\n",
      "250:\tlearn: 1759.1920598\ttotal: 2.32s\tremaining: 454ms\n",
      "299:\tlearn: 1741.6535561\ttotal: 2.77s\tremaining: 0us\n",
      "0:\tlearn: 4329.2906878\ttotal: 17.2ms\tremaining: 5.15s\n",
      "50:\tlearn: 2016.1827737\ttotal: 473ms\tremaining: 2.31s\n",
      "100:\tlearn: 1875.2590243\ttotal: 919ms\tremaining: 1.81s\n",
      "150:\tlearn: 1814.7770325\ttotal: 1.37s\tremaining: 1.35s\n",
      "200:\tlearn: 1777.9404432\ttotal: 1.82s\tremaining: 899ms\n",
      "250:\tlearn: 1754.1673549\ttotal: 2.28s\tremaining: 445ms\n",
      "299:\tlearn: 1735.7335227\ttotal: 2.72s\tremaining: 0us\n",
      "0:\tlearn: 4321.8941284\ttotal: 11.2ms\tremaining: 3.35s\n",
      "50:\tlearn: 2012.4708771\ttotal: 469ms\tremaining: 2.29s\n",
      "100:\tlearn: 1877.9344857\ttotal: 919ms\tremaining: 1.81s\n",
      "150:\tlearn: 1816.8863980\ttotal: 1.38s\tremaining: 1.36s\n",
      "200:\tlearn: 1779.2646771\ttotal: 1.83s\tremaining: 903ms\n",
      "250:\tlearn: 1754.4816409\ttotal: 2.29s\tremaining: 448ms\n",
      "299:\tlearn: 1736.1686385\ttotal: 2.74s\tremaining: 0us\n",
      "0:\tlearn: 4322.5441028\ttotal: 11.1ms\tremaining: 3.33s\n",
      "50:\tlearn: 2013.8946864\ttotal: 477ms\tremaining: 2.33s\n",
      "100:\tlearn: 1874.7648765\ttotal: 930ms\tremaining: 1.83s\n",
      "150:\tlearn: 1811.6082149\ttotal: 1.38s\tremaining: 1.36s\n",
      "200:\tlearn: 1776.7709870\ttotal: 1.87s\tremaining: 923ms\n",
      "250:\tlearn: 1752.7401086\ttotal: 2.34s\tremaining: 457ms\n",
      "299:\tlearn: 1734.7210969\ttotal: 2.78s\tremaining: 0us\n",
      "0:\tlearn: 4330.2283073\ttotal: 11.1ms\tremaining: 3.31s\n",
      "50:\tlearn: 2015.3110865\ttotal: 468ms\tremaining: 2.28s\n",
      "100:\tlearn: 1876.9893814\ttotal: 913ms\tremaining: 1.8s\n",
      "150:\tlearn: 1814.2816846\ttotal: 1.37s\tremaining: 1.35s\n",
      "200:\tlearn: 1779.9337057\ttotal: 1.83s\tremaining: 899ms\n",
      "250:\tlearn: 1755.7117548\ttotal: 2.28s\tremaining: 446ms\n",
      "299:\tlearn: 1736.7930733\ttotal: 2.74s\tremaining: 0us\n",
      "0:\tlearn: 4324.7912274\ttotal: 19.1ms\tremaining: 5.7s\n"
     ]
    },
    {
     "name": "stdout",
     "output_type": "stream",
     "text": [
      "50:\tlearn: 2017.5774833\ttotal: 479ms\tremaining: 2.34s\n",
      "100:\tlearn: 1882.0259861\ttotal: 922ms\tremaining: 1.81s\n",
      "150:\tlearn: 1819.8900588\ttotal: 1.38s\tremaining: 1.36s\n",
      "200:\tlearn: 1784.3133034\ttotal: 1.84s\tremaining: 907ms\n",
      "250:\tlearn: 1759.1920598\ttotal: 2.31s\tremaining: 450ms\n",
      "299:\tlearn: 1741.6535561\ttotal: 2.76s\tremaining: 0us\n",
      "0:\tlearn: 4329.2906878\ttotal: 11ms\tremaining: 3.28s\n",
      "50:\tlearn: 2016.1827737\ttotal: 481ms\tremaining: 2.35s\n",
      "100:\tlearn: 1875.2590243\ttotal: 1.03s\tremaining: 2.02s\n",
      "150:\tlearn: 1814.7770325\ttotal: 1.6s\tremaining: 1.58s\n",
      "200:\tlearn: 1777.9404432\ttotal: 2.17s\tremaining: 1.07s\n",
      "250:\tlearn: 1754.1673549\ttotal: 2.74s\tremaining: 535ms\n",
      "299:\tlearn: 1735.7335227\ttotal: 3.29s\tremaining: 0us\n",
      "0:\tlearn: 4321.8941284\ttotal: 12.1ms\tremaining: 3.61s\n",
      "50:\tlearn: 2012.4708771\ttotal: 476ms\tremaining: 2.32s\n",
      "100:\tlearn: 1877.9344857\ttotal: 922ms\tremaining: 1.82s\n",
      "150:\tlearn: 1816.8863980\ttotal: 1.37s\tremaining: 1.35s\n",
      "200:\tlearn: 1779.2646771\ttotal: 1.82s\tremaining: 896ms\n",
      "250:\tlearn: 1754.4816409\ttotal: 2.27s\tremaining: 443ms\n",
      "299:\tlearn: 1736.1686385\ttotal: 2.71s\tremaining: 0us\n",
      "0:\tlearn: 4322.5441028\ttotal: 10.7ms\tremaining: 3.2s\n",
      "50:\tlearn: 2013.8946864\ttotal: 483ms\tremaining: 2.36s\n",
      "100:\tlearn: 1874.7648765\ttotal: 928ms\tremaining: 1.83s\n",
      "150:\tlearn: 1811.6082149\ttotal: 1.38s\tremaining: 1.36s\n",
      "200:\tlearn: 1776.7709870\ttotal: 1.83s\tremaining: 903ms\n",
      "250:\tlearn: 1752.7401086\ttotal: 2.29s\tremaining: 446ms\n",
      "299:\tlearn: 1734.7210969\ttotal: 2.73s\tremaining: 0us\n",
      "0:\tlearn: 4330.2283073\ttotal: 11ms\tremaining: 3.3s\n",
      "50:\tlearn: 2015.3110865\ttotal: 472ms\tremaining: 2.3s\n",
      "100:\tlearn: 1876.9893814\ttotal: 922ms\tremaining: 1.82s\n",
      "150:\tlearn: 1814.2816846\ttotal: 1.39s\tremaining: 1.37s\n",
      "200:\tlearn: 1779.9337057\ttotal: 1.85s\tremaining: 910ms\n",
      "250:\tlearn: 1755.7117548\ttotal: 2.31s\tremaining: 451ms\n",
      "299:\tlearn: 1736.7930733\ttotal: 2.76s\tremaining: 0us\n",
      "0:\tlearn: 4324.7912274\ttotal: 11.3ms\tremaining: 3.37s\n",
      "50:\tlearn: 2017.5774833\ttotal: 485ms\tremaining: 2.37s\n",
      "100:\tlearn: 1882.0259861\ttotal: 951ms\tremaining: 1.87s\n",
      "150:\tlearn: 1819.8900588\ttotal: 1.41s\tremaining: 1.39s\n",
      "200:\tlearn: 1784.3133034\ttotal: 1.86s\tremaining: 916ms\n",
      "250:\tlearn: 1759.1920598\ttotal: 2.31s\tremaining: 452ms\n",
      "299:\tlearn: 1741.6535561\ttotal: 2.75s\tremaining: 0us\n",
      "0:\tlearn: 4329.2906878\ttotal: 10.6ms\tremaining: 3.17s\n",
      "50:\tlearn: 2016.1827737\ttotal: 478ms\tremaining: 2.33s\n",
      "100:\tlearn: 1875.2590243\ttotal: 921ms\tremaining: 1.81s\n",
      "150:\tlearn: 1814.7770325\ttotal: 1.37s\tremaining: 1.35s\n",
      "200:\tlearn: 1777.9404432\ttotal: 1.83s\tremaining: 901ms\n",
      "250:\tlearn: 1754.1673549\ttotal: 2.3s\tremaining: 448ms\n",
      "299:\tlearn: 1735.7335227\ttotal: 2.75s\tremaining: 0us\n",
      "0:\tlearn: 4321.8941284\ttotal: 18.2ms\tremaining: 5.44s\n",
      "50:\tlearn: 2012.4708771\ttotal: 484ms\tremaining: 2.36s\n",
      "100:\tlearn: 1877.9344857\ttotal: 927ms\tremaining: 1.83s\n",
      "150:\tlearn: 1816.8863980\ttotal: 1.41s\tremaining: 1.39s\n",
      "200:\tlearn: 1779.2646771\ttotal: 1.88s\tremaining: 925ms\n",
      "250:\tlearn: 1754.4816409\ttotal: 2.33s\tremaining: 455ms\n",
      "299:\tlearn: 1736.1686385\ttotal: 2.77s\tremaining: 0us\n",
      "0:\tlearn: 4322.5441028\ttotal: 15.9ms\tremaining: 4.76s\n",
      "50:\tlearn: 2013.8946864\ttotal: 485ms\tremaining: 2.37s\n",
      "100:\tlearn: 1874.7648765\ttotal: 951ms\tremaining: 1.87s\n",
      "150:\tlearn: 1811.6082149\ttotal: 1.41s\tremaining: 1.4s\n",
      "200:\tlearn: 1776.7709870\ttotal: 1.89s\tremaining: 930ms\n",
      "250:\tlearn: 1752.7401086\ttotal: 2.35s\tremaining: 458ms\n",
      "299:\tlearn: 1734.7210969\ttotal: 2.79s\tremaining: 0us\n",
      "0:\tlearn: 3825.5042382\ttotal: 10.9ms\tremaining: 3.25s\n",
      "50:\tlearn: 1829.9494342\ttotal: 478ms\tremaining: 2.33s\n",
      "100:\tlearn: 1747.3701285\ttotal: 940ms\tremaining: 1.85s\n",
      "150:\tlearn: 1706.2202348\ttotal: 1.4s\tremaining: 1.38s\n",
      "200:\tlearn: 1674.6260863\ttotal: 1.88s\tremaining: 924ms\n",
      "250:\tlearn: 1653.4046822\ttotal: 2.35s\tremaining: 458ms\n",
      "299:\tlearn: 1636.7900560\ttotal: 2.83s\tremaining: 0us\n",
      "0:\tlearn: 3818.3626773\ttotal: 11.2ms\tremaining: 3.33s\n",
      "50:\tlearn: 1837.7021413\ttotal: 463ms\tremaining: 2.26s\n",
      "100:\tlearn: 1751.6964960\ttotal: 927ms\tremaining: 1.83s\n",
      "150:\tlearn: 1709.0900882\ttotal: 1.38s\tremaining: 1.36s\n",
      "200:\tlearn: 1680.4119558\ttotal: 1.83s\tremaining: 904ms\n",
      "250:\tlearn: 1658.2512406\ttotal: 2.28s\tremaining: 446ms\n",
      "299:\tlearn: 1638.7971393\ttotal: 2.73s\tremaining: 0us\n",
      "0:\tlearn: 3820.5614733\ttotal: 11ms\tremaining: 3.3s\n",
      "50:\tlearn: 1821.0021517\ttotal: 484ms\tremaining: 2.36s\n",
      "100:\tlearn: 1740.4032612\ttotal: 939ms\tremaining: 1.85s\n",
      "150:\tlearn: 1699.3912628\ttotal: 1.39s\tremaining: 1.37s\n",
      "200:\tlearn: 1670.6331600\ttotal: 1.84s\tremaining: 908ms\n",
      "250:\tlearn: 1650.4928260\ttotal: 2.3s\tremaining: 448ms\n",
      "299:\tlearn: 1632.3856591\ttotal: 2.75s\tremaining: 0us\n",
      "0:\tlearn: 3815.3223971\ttotal: 11.5ms\tremaining: 3.45s\n",
      "50:\tlearn: 1829.9192078\ttotal: 479ms\tremaining: 2.34s\n",
      "100:\tlearn: 1748.5186684\ttotal: 948ms\tremaining: 1.87s\n",
      "150:\tlearn: 1704.3636742\ttotal: 1.41s\tremaining: 1.39s\n",
      "200:\tlearn: 1673.6222569\ttotal: 1.89s\tremaining: 929ms\n",
      "250:\tlearn: 1651.3644388\ttotal: 2.35s\tremaining: 458ms\n",
      "299:\tlearn: 1632.3045930\ttotal: 2.8s\tremaining: 0us\n",
      "0:\tlearn: 3815.0862752\ttotal: 11.3ms\tremaining: 3.38s\n",
      "50:\tlearn: 1817.7206566\ttotal: 484ms\tremaining: 2.36s\n",
      "100:\tlearn: 1743.7821098\ttotal: 948ms\tremaining: 1.87s\n",
      "150:\tlearn: 1703.0506560\ttotal: 1.4s\tremaining: 1.39s\n",
      "200:\tlearn: 1675.3295218\ttotal: 1.86s\tremaining: 917ms\n",
      "250:\tlearn: 1650.9047862\ttotal: 2.31s\tremaining: 451ms\n",
      "299:\tlearn: 1631.6360909\ttotal: 2.75s\tremaining: 0us\n",
      "0:\tlearn: 3825.5042382\ttotal: 11.6ms\tremaining: 3.46s\n",
      "50:\tlearn: 1829.9494342\ttotal: 492ms\tremaining: 2.4s\n",
      "100:\tlearn: 1747.3701285\ttotal: 949ms\tremaining: 1.87s\n",
      "150:\tlearn: 1706.2202348\ttotal: 1.43s\tremaining: 1.41s\n",
      "200:\tlearn: 1674.6260863\ttotal: 1.89s\tremaining: 930ms\n",
      "250:\tlearn: 1653.4046822\ttotal: 2.35s\tremaining: 459ms\n",
      "299:\tlearn: 1636.7900560\ttotal: 2.8s\tremaining: 0us\n",
      "0:\tlearn: 3818.3626773\ttotal: 11ms\tremaining: 3.27s\n",
      "50:\tlearn: 1837.7021413\ttotal: 495ms\tremaining: 2.41s\n",
      "100:\tlearn: 1751.6964960\ttotal: 1.01s\tremaining: 1.99s\n",
      "150:\tlearn: 1709.0900882\ttotal: 1.48s\tremaining: 1.46s\n",
      "200:\tlearn: 1680.4119558\ttotal: 1.94s\tremaining: 956ms\n",
      "250:\tlearn: 1658.2512406\ttotal: 2.39s\tremaining: 466ms\n",
      "299:\tlearn: 1638.7971393\ttotal: 2.83s\tremaining: 0us\n",
      "0:\tlearn: 3820.5614733\ttotal: 17.8ms\tremaining: 5.33s\n",
      "50:\tlearn: 1821.0021517\ttotal: 475ms\tremaining: 2.32s\n",
      "100:\tlearn: 1740.4032612\ttotal: 929ms\tremaining: 1.83s\n",
      "150:\tlearn: 1699.3912628\ttotal: 1.38s\tremaining: 1.36s\n",
      "200:\tlearn: 1670.6331600\ttotal: 1.83s\tremaining: 901ms\n",
      "250:\tlearn: 1650.4928260\ttotal: 2.27s\tremaining: 444ms\n",
      "299:\tlearn: 1632.3856591\ttotal: 2.71s\tremaining: 0us\n",
      "0:\tlearn: 3815.3223971\ttotal: 10.8ms\tremaining: 3.23s\n",
      "50:\tlearn: 1829.9192078\ttotal: 473ms\tremaining: 2.31s\n",
      "100:\tlearn: 1748.5186684\ttotal: 936ms\tremaining: 1.84s\n",
      "150:\tlearn: 1704.3636742\ttotal: 1.4s\tremaining: 1.38s\n",
      "200:\tlearn: 1673.6222569\ttotal: 1.86s\tremaining: 916ms\n",
      "250:\tlearn: 1651.3644388\ttotal: 2.32s\tremaining: 453ms\n",
      "299:\tlearn: 1632.3045930\ttotal: 2.76s\tremaining: 0us\n",
      "0:\tlearn: 3815.0862752\ttotal: 10.9ms\tremaining: 3.27s\n",
      "50:\tlearn: 1817.7206566\ttotal: 469ms\tremaining: 2.29s\n",
      "100:\tlearn: 1743.7821098\ttotal: 921ms\tremaining: 1.81s\n",
      "150:\tlearn: 1703.0506560\ttotal: 1.37s\tremaining: 1.36s\n",
      "200:\tlearn: 1675.3295218\ttotal: 1.84s\tremaining: 907ms\n",
      "250:\tlearn: 1650.9047862\ttotal: 2.31s\tremaining: 450ms\n",
      "299:\tlearn: 1631.6360909\ttotal: 2.75s\tremaining: 0us\n",
      "0:\tlearn: 3825.5042382\ttotal: 12.1ms\tremaining: 3.62s\n",
      "50:\tlearn: 1829.9494342\ttotal: 479ms\tremaining: 2.34s\n",
      "100:\tlearn: 1747.3701285\ttotal: 935ms\tremaining: 1.84s\n",
      "150:\tlearn: 1706.2202348\ttotal: 1.38s\tremaining: 1.36s\n",
      "200:\tlearn: 1674.6260863\ttotal: 1.84s\tremaining: 905ms\n",
      "250:\tlearn: 1653.4046822\ttotal: 2.29s\tremaining: 447ms\n",
      "299:\tlearn: 1636.7900560\ttotal: 2.72s\tremaining: 0us\n",
      "0:\tlearn: 3818.3626773\ttotal: 15.9ms\tremaining: 4.75s\n",
      "50:\tlearn: 1837.7021413\ttotal: 470ms\tremaining: 2.29s\n",
      "100:\tlearn: 1751.6964960\ttotal: 923ms\tremaining: 1.82s\n",
      "150:\tlearn: 1709.0900882\ttotal: 1.38s\tremaining: 1.36s\n",
      "200:\tlearn: 1680.4119558\ttotal: 1.83s\tremaining: 899ms\n",
      "250:\tlearn: 1658.2512406\ttotal: 2.36s\tremaining: 461ms\n",
      "299:\tlearn: 1638.7971393\ttotal: 2.85s\tremaining: 0us\n",
      "0:\tlearn: 3820.5614733\ttotal: 11.4ms\tremaining: 3.4s\n",
      "50:\tlearn: 1821.0021517\ttotal: 497ms\tremaining: 2.43s\n",
      "100:\tlearn: 1740.4032612\ttotal: 949ms\tremaining: 1.87s\n",
      "150:\tlearn: 1699.3912628\ttotal: 1.4s\tremaining: 1.38s\n",
      "200:\tlearn: 1670.6331600\ttotal: 1.85s\tremaining: 910ms\n"
     ]
    },
    {
     "name": "stdout",
     "output_type": "stream",
     "text": [
      "250:\tlearn: 1650.4928260\ttotal: 2.29s\tremaining: 448ms\n",
      "299:\tlearn: 1632.3856591\ttotal: 2.73s\tremaining: 0us\n",
      "0:\tlearn: 3815.3223971\ttotal: 16.2ms\tremaining: 4.84s\n",
      "50:\tlearn: 1829.9192078\ttotal: 489ms\tremaining: 2.38s\n",
      "100:\tlearn: 1748.5186684\ttotal: 958ms\tremaining: 1.89s\n",
      "150:\tlearn: 1704.3636742\ttotal: 1.41s\tremaining: 1.4s\n",
      "200:\tlearn: 1673.6222569\ttotal: 1.94s\tremaining: 958ms\n",
      "250:\tlearn: 1651.3644388\ttotal: 2.39s\tremaining: 467ms\n",
      "299:\tlearn: 1632.3045930\ttotal: 2.84s\tremaining: 0us\n",
      "0:\tlearn: 3815.0862752\ttotal: 18.7ms\tremaining: 5.59s\n",
      "50:\tlearn: 1817.7206566\ttotal: 480ms\tremaining: 2.34s\n",
      "100:\tlearn: 1743.7821098\ttotal: 957ms\tremaining: 1.89s\n",
      "150:\tlearn: 1703.0506560\ttotal: 1.43s\tremaining: 1.41s\n",
      "200:\tlearn: 1675.3295218\ttotal: 1.89s\tremaining: 929ms\n",
      "250:\tlearn: 1650.9047862\ttotal: 2.37s\tremaining: 462ms\n",
      "299:\tlearn: 1631.6360909\ttotal: 2.83s\tremaining: 0us\n",
      "0:\tlearn: 3825.5042382\ttotal: 11.1ms\tremaining: 3.3s\n",
      "50:\tlearn: 1829.9494342\ttotal: 480ms\tremaining: 2.35s\n",
      "100:\tlearn: 1747.3701285\ttotal: 964ms\tremaining: 1.9s\n",
      "150:\tlearn: 1706.2202348\ttotal: 1.44s\tremaining: 1.42s\n",
      "200:\tlearn: 1674.6260863\ttotal: 1.94s\tremaining: 956ms\n",
      "250:\tlearn: 1653.4046822\ttotal: 2.41s\tremaining: 471ms\n",
      "299:\tlearn: 1636.7900560\ttotal: 2.86s\tremaining: 0us\n",
      "0:\tlearn: 3818.3626773\ttotal: 11ms\tremaining: 3.27s\n",
      "50:\tlearn: 1837.7021413\ttotal: 503ms\tremaining: 2.46s\n",
      "100:\tlearn: 1751.6964960\ttotal: 968ms\tremaining: 1.91s\n",
      "150:\tlearn: 1709.0900882\ttotal: 1.42s\tremaining: 1.4s\n",
      "200:\tlearn: 1680.4119558\ttotal: 1.88s\tremaining: 924ms\n",
      "250:\tlearn: 1658.2512406\ttotal: 2.33s\tremaining: 454ms\n",
      "299:\tlearn: 1638.7971393\ttotal: 2.77s\tremaining: 0us\n",
      "0:\tlearn: 3820.5614733\ttotal: 11ms\tremaining: 3.28s\n",
      "50:\tlearn: 1821.0021517\ttotal: 495ms\tremaining: 2.42s\n",
      "100:\tlearn: 1740.4032612\ttotal: 975ms\tremaining: 1.92s\n",
      "150:\tlearn: 1699.3912628\ttotal: 1.45s\tremaining: 1.43s\n",
      "200:\tlearn: 1670.6331600\ttotal: 1.9s\tremaining: 935ms\n",
      "250:\tlearn: 1650.4928260\ttotal: 2.35s\tremaining: 458ms\n",
      "299:\tlearn: 1632.3856591\ttotal: 2.78s\tremaining: 0us\n",
      "0:\tlearn: 3815.3223971\ttotal: 20.3ms\tremaining: 6.07s\n",
      "50:\tlearn: 1829.9192078\ttotal: 504ms\tremaining: 2.46s\n",
      "100:\tlearn: 1748.5186684\ttotal: 975ms\tremaining: 1.92s\n",
      "150:\tlearn: 1704.3636742\ttotal: 1.45s\tremaining: 1.43s\n",
      "200:\tlearn: 1673.6222569\ttotal: 1.93s\tremaining: 948ms\n",
      "250:\tlearn: 1651.3644388\ttotal: 2.39s\tremaining: 466ms\n",
      "299:\tlearn: 1632.3045930\ttotal: 2.86s\tremaining: 0us\n",
      "0:\tlearn: 3815.0862752\ttotal: 11ms\tremaining: 3.3s\n",
      "50:\tlearn: 1817.7206566\ttotal: 476ms\tremaining: 2.33s\n",
      "100:\tlearn: 1743.7821098\ttotal: 939ms\tremaining: 1.85s\n",
      "150:\tlearn: 1703.0506560\ttotal: 1.4s\tremaining: 1.38s\n",
      "200:\tlearn: 1675.3295218\ttotal: 1.91s\tremaining: 940ms\n",
      "250:\tlearn: 1650.9047862\ttotal: 2.38s\tremaining: 466ms\n",
      "299:\tlearn: 1631.6360909\ttotal: 2.84s\tremaining: 0us\n",
      "0:\tlearn: 4459.5173943\ttotal: 12.2ms\tremaining: 3.65s\n",
      "50:\tlearn: 2189.3535556\ttotal: 586ms\tremaining: 2.86s\n",
      "100:\tlearn: 1963.1104938\ttotal: 1.11s\tremaining: 2.19s\n",
      "150:\tlearn: 1878.1244131\ttotal: 1.61s\tremaining: 1.59s\n",
      "200:\tlearn: 1831.1957007\ttotal: 2.12s\tremaining: 1.05s\n",
      "250:\tlearn: 1799.9924721\ttotal: 2.65s\tremaining: 517ms\n",
      "299:\tlearn: 1776.1563321\ttotal: 3.15s\tremaining: 0us\n",
      "0:\tlearn: 4454.3052827\ttotal: 12.5ms\tremaining: 3.74s\n",
      "50:\tlearn: 2193.0869433\ttotal: 570ms\tremaining: 2.78s\n",
      "100:\tlearn: 1966.0804905\ttotal: 1.07s\tremaining: 2.12s\n",
      "150:\tlearn: 1882.9370526\ttotal: 1.59s\tremaining: 1.57s\n",
      "200:\tlearn: 1835.9328519\ttotal: 2.1s\tremaining: 1.03s\n",
      "250:\tlearn: 1804.9253541\ttotal: 2.62s\tremaining: 512ms\n",
      "299:\tlearn: 1781.2164448\ttotal: 3.15s\tremaining: 0us\n",
      "0:\tlearn: 4459.5263054\ttotal: 12.2ms\tremaining: 3.63s\n",
      "50:\tlearn: 2186.2028866\ttotal: 535ms\tremaining: 2.61s\n",
      "100:\tlearn: 1961.9222221\ttotal: 1.03s\tremaining: 2.03s\n",
      "150:\tlearn: 1876.1880825\ttotal: 1.53s\tremaining: 1.51s\n",
      "200:\tlearn: 1827.2194368\ttotal: 2.03s\tremaining: 1s\n",
      "250:\tlearn: 1794.8301434\ttotal: 2.54s\tremaining: 496ms\n",
      "299:\tlearn: 1769.8604799\ttotal: 3.04s\tremaining: 0us\n",
      "0:\tlearn: 4451.5885366\ttotal: 18.7ms\tremaining: 5.59s\n",
      "50:\tlearn: 2182.7491219\ttotal: 540ms\tremaining: 2.64s\n",
      "100:\tlearn: 1963.8929619\ttotal: 1.04s\tremaining: 2.05s\n",
      "150:\tlearn: 1879.8558610\ttotal: 1.54s\tremaining: 1.52s\n",
      "200:\tlearn: 1832.1296860\ttotal: 2.05s\tremaining: 1.01s\n",
      "250:\tlearn: 1799.7980367\ttotal: 2.55s\tremaining: 498ms\n",
      "299:\tlearn: 1776.8076564\ttotal: 3.04s\tremaining: 0us\n",
      "0:\tlearn: 4452.2432521\ttotal: 13ms\tremaining: 3.88s\n",
      "50:\tlearn: 2181.4759621\ttotal: 578ms\tremaining: 2.82s\n",
      "100:\tlearn: 1957.7429506\ttotal: 1.13s\tremaining: 2.22s\n",
      "150:\tlearn: 1873.8734349\ttotal: 1.68s\tremaining: 1.66s\n",
      "200:\tlearn: 1825.3690181\ttotal: 2.21s\tremaining: 1.09s\n",
      "250:\tlearn: 1795.6610119\ttotal: 2.73s\tremaining: 533ms\n",
      "299:\tlearn: 1772.2305334\ttotal: 3.25s\tremaining: 0us\n",
      "0:\tlearn: 4459.5173943\ttotal: 12.3ms\tremaining: 3.68s\n",
      "50:\tlearn: 2189.3535556\ttotal: 566ms\tremaining: 2.76s\n",
      "100:\tlearn: 1963.1104938\ttotal: 1.07s\tremaining: 2.1s\n",
      "150:\tlearn: 1878.1244131\ttotal: 1.57s\tremaining: 1.55s\n",
      "200:\tlearn: 1831.1957007\ttotal: 2.08s\tremaining: 1.03s\n",
      "250:\tlearn: 1799.9924721\ttotal: 2.62s\tremaining: 511ms\n",
      "299:\tlearn: 1776.1563321\ttotal: 3.15s\tremaining: 0us\n",
      "0:\tlearn: 4454.3052827\ttotal: 12.4ms\tremaining: 3.69s\n",
      "50:\tlearn: 2193.0869433\ttotal: 559ms\tremaining: 2.73s\n",
      "100:\tlearn: 1966.0804905\ttotal: 1.06s\tremaining: 2.09s\n",
      "150:\tlearn: 1882.9370526\ttotal: 1.57s\tremaining: 1.55s\n",
      "200:\tlearn: 1835.9328519\ttotal: 2.1s\tremaining: 1.03s\n",
      "250:\tlearn: 1804.9253541\ttotal: 2.64s\tremaining: 516ms\n",
      "299:\tlearn: 1781.2164448\ttotal: 3.17s\tremaining: 0us\n",
      "0:\tlearn: 4459.5263054\ttotal: 12.3ms\tremaining: 3.67s\n",
      "50:\tlearn: 2186.2028866\ttotal: 538ms\tremaining: 2.63s\n",
      "100:\tlearn: 1961.9222221\ttotal: 1.04s\tremaining: 2.04s\n",
      "150:\tlearn: 1876.1880825\ttotal: 1.54s\tremaining: 1.52s\n",
      "200:\tlearn: 1827.2194368\ttotal: 2.04s\tremaining: 1s\n",
      "250:\tlearn: 1794.8301434\ttotal: 2.55s\tremaining: 498ms\n",
      "299:\tlearn: 1769.8604799\ttotal: 3.06s\tremaining: 0us\n",
      "0:\tlearn: 4451.5885366\ttotal: 13.1ms\tremaining: 3.9s\n",
      "50:\tlearn: 2182.7491219\ttotal: 561ms\tremaining: 2.74s\n",
      "100:\tlearn: 1963.8929619\ttotal: 1.06s\tremaining: 2.09s\n",
      "150:\tlearn: 1879.8558610\ttotal: 1.55s\tremaining: 1.53s\n",
      "200:\tlearn: 1832.1296860\ttotal: 2.06s\tremaining: 1.02s\n",
      "250:\tlearn: 1799.7980367\ttotal: 2.57s\tremaining: 502ms\n",
      "299:\tlearn: 1776.8076564\ttotal: 3.08s\tremaining: 0us\n",
      "0:\tlearn: 4452.2432521\ttotal: 16.6ms\tremaining: 4.97s\n",
      "50:\tlearn: 2181.4759621\ttotal: 550ms\tremaining: 2.68s\n",
      "100:\tlearn: 1957.7429506\ttotal: 1.06s\tremaining: 2.1s\n",
      "150:\tlearn: 1873.8734349\ttotal: 1.57s\tremaining: 1.55s\n",
      "200:\tlearn: 1825.3690181\ttotal: 2.1s\tremaining: 1.03s\n",
      "250:\tlearn: 1795.6610119\ttotal: 2.62s\tremaining: 511ms\n",
      "299:\tlearn: 1772.2305334\ttotal: 3.13s\tremaining: 0us\n",
      "0:\tlearn: 4459.5173943\ttotal: 13.3ms\tremaining: 3.97s\n",
      "50:\tlearn: 2189.3535556\ttotal: 554ms\tremaining: 2.71s\n",
      "100:\tlearn: 1963.1104938\ttotal: 1.07s\tremaining: 2.1s\n",
      "150:\tlearn: 1878.1244131\ttotal: 1.59s\tremaining: 1.56s\n",
      "200:\tlearn: 1831.1957007\ttotal: 2.12s\tremaining: 1.04s\n",
      "250:\tlearn: 1799.9924721\ttotal: 2.64s\tremaining: 516ms\n",
      "299:\tlearn: 1776.1563321\ttotal: 3.16s\tremaining: 0us\n",
      "0:\tlearn: 4454.3052827\ttotal: 11.8ms\tremaining: 3.54s\n",
      "50:\tlearn: 2193.0869433\ttotal: 552ms\tremaining: 2.69s\n",
      "100:\tlearn: 1966.0804905\ttotal: 1.08s\tremaining: 2.13s\n",
      "150:\tlearn: 1882.9370526\ttotal: 1.58s\tremaining: 1.56s\n",
      "200:\tlearn: 1835.9328519\ttotal: 2.08s\tremaining: 1.03s\n",
      "250:\tlearn: 1804.9253541\ttotal: 2.62s\tremaining: 511ms\n",
      "299:\tlearn: 1781.2164448\ttotal: 3.14s\tremaining: 0us\n",
      "0:\tlearn: 4459.5263054\ttotal: 13.4ms\tremaining: 4s\n",
      "50:\tlearn: 2186.2028866\ttotal: 542ms\tremaining: 2.65s\n",
      "100:\tlearn: 1961.9222221\ttotal: 1.05s\tremaining: 2.06s\n",
      "150:\tlearn: 1876.1880825\ttotal: 1.56s\tremaining: 1.54s\n",
      "200:\tlearn: 1827.2194368\ttotal: 2.08s\tremaining: 1.02s\n",
      "250:\tlearn: 1794.8301434\ttotal: 2.61s\tremaining: 510ms\n",
      "299:\tlearn: 1769.8604799\ttotal: 3.12s\tremaining: 0us\n",
      "0:\tlearn: 4451.5885366\ttotal: 12.2ms\tremaining: 3.65s\n",
      "50:\tlearn: 2182.7491219\ttotal: 549ms\tremaining: 2.68s\n",
      "100:\tlearn: 1963.8929619\ttotal: 1.08s\tremaining: 2.13s\n",
      "150:\tlearn: 1879.8558610\ttotal: 1.61s\tremaining: 1.58s\n",
      "200:\tlearn: 1832.1296860\ttotal: 2.13s\tremaining: 1.05s\n",
      "250:\tlearn: 1799.7980367\ttotal: 2.65s\tremaining: 517ms\n",
      "299:\tlearn: 1776.8076564\ttotal: 3.15s\tremaining: 0us\n",
      "0:\tlearn: 4452.2432521\ttotal: 13.4ms\tremaining: 4.01s\n",
      "50:\tlearn: 2181.4759621\ttotal: 548ms\tremaining: 2.67s\n",
      "100:\tlearn: 1957.7429506\ttotal: 1.08s\tremaining: 2.12s\n"
     ]
    },
    {
     "name": "stdout",
     "output_type": "stream",
     "text": [
      "150:\tlearn: 1873.8734349\ttotal: 1.6s\tremaining: 1.58s\n",
      "200:\tlearn: 1825.3690181\ttotal: 2.16s\tremaining: 1.06s\n",
      "250:\tlearn: 1795.6610119\ttotal: 2.72s\tremaining: 532ms\n",
      "299:\tlearn: 1772.2305334\ttotal: 3.26s\tremaining: 0us\n",
      "0:\tlearn: 4459.5173943\ttotal: 17.7ms\tremaining: 5.28s\n",
      "50:\tlearn: 2189.3535556\ttotal: 548ms\tremaining: 2.67s\n",
      "100:\tlearn: 1963.1104938\ttotal: 1.11s\tremaining: 2.19s\n",
      "150:\tlearn: 1878.1244131\ttotal: 1.63s\tremaining: 1.61s\n",
      "200:\tlearn: 1831.1957007\ttotal: 2.17s\tremaining: 1.07s\n",
      "250:\tlearn: 1799.9924721\ttotal: 2.71s\tremaining: 530ms\n",
      "299:\tlearn: 1776.1563321\ttotal: 3.23s\tremaining: 0us\n",
      "0:\tlearn: 4454.3052827\ttotal: 12.8ms\tremaining: 3.82s\n",
      "50:\tlearn: 2193.0869433\ttotal: 561ms\tremaining: 2.74s\n",
      "100:\tlearn: 1966.0804905\ttotal: 1.08s\tremaining: 2.12s\n",
      "150:\tlearn: 1882.9370526\ttotal: 1.6s\tremaining: 1.58s\n",
      "200:\tlearn: 1835.9328519\ttotal: 2.13s\tremaining: 1.05s\n",
      "250:\tlearn: 1804.9253541\ttotal: 2.65s\tremaining: 517ms\n",
      "299:\tlearn: 1781.2164448\ttotal: 3.18s\tremaining: 0us\n",
      "0:\tlearn: 4459.5263054\ttotal: 17.3ms\tremaining: 5.16s\n",
      "50:\tlearn: 2186.2028866\ttotal: 543ms\tremaining: 2.65s\n",
      "100:\tlearn: 1961.9222221\ttotal: 1.08s\tremaining: 2.13s\n",
      "150:\tlearn: 1876.1880825\ttotal: 1.59s\tremaining: 1.57s\n",
      "200:\tlearn: 1827.2194368\ttotal: 2.12s\tremaining: 1.04s\n",
      "250:\tlearn: 1794.8301434\ttotal: 2.64s\tremaining: 515ms\n",
      "299:\tlearn: 1769.8604799\ttotal: 3.16s\tremaining: 0us\n",
      "0:\tlearn: 4451.5885366\ttotal: 17.6ms\tremaining: 5.27s\n",
      "50:\tlearn: 2182.7491219\ttotal: 577ms\tremaining: 2.81s\n",
      "100:\tlearn: 1963.8929619\ttotal: 1.09s\tremaining: 2.16s\n",
      "150:\tlearn: 1879.8558610\ttotal: 1.61s\tremaining: 1.59s\n",
      "200:\tlearn: 1832.1296860\ttotal: 2.13s\tremaining: 1.05s\n",
      "250:\tlearn: 1799.7980367\ttotal: 2.66s\tremaining: 519ms\n",
      "299:\tlearn: 1776.8076564\ttotal: 3.17s\tremaining: 0us\n",
      "0:\tlearn: 4452.2432521\ttotal: 12.1ms\tremaining: 3.62s\n",
      "50:\tlearn: 2181.4759621\ttotal: 540ms\tremaining: 2.64s\n",
      "100:\tlearn: 1957.7429506\ttotal: 1.04s\tremaining: 2.05s\n",
      "150:\tlearn: 1873.8734349\ttotal: 1.54s\tremaining: 1.52s\n",
      "200:\tlearn: 1825.3690181\ttotal: 2.05s\tremaining: 1.01s\n",
      "250:\tlearn: 1795.6610119\ttotal: 2.55s\tremaining: 499ms\n",
      "299:\tlearn: 1772.2305334\ttotal: 3.06s\tremaining: 0us\n",
      "0:\tlearn: 4318.2024539\ttotal: 12.7ms\tremaining: 3.79s\n",
      "50:\tlearn: 1960.3060721\ttotal: 523ms\tremaining: 2.55s\n",
      "100:\tlearn: 1829.8050280\ttotal: 1.03s\tremaining: 2.03s\n",
      "150:\tlearn: 1778.1215293\ttotal: 1.55s\tremaining: 1.53s\n",
      "200:\tlearn: 1743.5547475\ttotal: 2.08s\tremaining: 1.03s\n",
      "250:\tlearn: 1718.5884906\ttotal: 2.61s\tremaining: 510ms\n",
      "299:\tlearn: 1699.3946640\ttotal: 3.12s\tremaining: 0us\n",
      "0:\tlearn: 4312.3928190\ttotal: 12ms\tremaining: 3.58s\n",
      "50:\tlearn: 1965.5238168\ttotal: 528ms\tremaining: 2.58s\n",
      "100:\tlearn: 1835.7736216\ttotal: 1.03s\tremaining: 2.04s\n",
      "150:\tlearn: 1780.1386557\ttotal: 1.55s\tremaining: 1.53s\n",
      "200:\tlearn: 1746.5761525\ttotal: 2.06s\tremaining: 1.01s\n",
      "250:\tlearn: 1720.5709202\ttotal: 2.57s\tremaining: 502ms\n",
      "299:\tlearn: 1702.5930520\ttotal: 3.06s\tremaining: 0us\n",
      "0:\tlearn: 4317.1763274\ttotal: 12.1ms\tremaining: 3.62s\n",
      "50:\tlearn: 1953.7279861\ttotal: 538ms\tremaining: 2.63s\n",
      "100:\tlearn: 1824.8896602\ttotal: 1.05s\tremaining: 2.07s\n",
      "150:\tlearn: 1768.6243106\ttotal: 1.59s\tremaining: 1.57s\n",
      "200:\tlearn: 1735.0324888\ttotal: 2.12s\tremaining: 1.04s\n",
      "250:\tlearn: 1712.1236760\ttotal: 2.66s\tremaining: 519ms\n",
      "299:\tlearn: 1691.9056390\ttotal: 3.19s\tremaining: 0us\n",
      "0:\tlearn: 4309.8013185\ttotal: 12.4ms\tremaining: 3.72s\n",
      "50:\tlearn: 1954.6910680\ttotal: 539ms\tremaining: 2.63s\n",
      "100:\tlearn: 1832.5685907\ttotal: 1.05s\tremaining: 2.07s\n",
      "150:\tlearn: 1776.5144752\ttotal: 1.59s\tremaining: 1.57s\n",
      "200:\tlearn: 1742.8616992\ttotal: 2.11s\tremaining: 1.04s\n",
      "250:\tlearn: 1717.2321726\ttotal: 2.63s\tremaining: 513ms\n",
      "299:\tlearn: 1696.7954639\ttotal: 3.13s\tremaining: 0us\n",
      "0:\tlearn: 4310.0157539\ttotal: 12ms\tremaining: 3.58s\n",
      "50:\tlearn: 1949.1642193\ttotal: 535ms\tremaining: 2.61s\n",
      "100:\tlearn: 1826.6274848\ttotal: 1.04s\tremaining: 2.06s\n",
      "150:\tlearn: 1769.1624496\ttotal: 1.6s\tremaining: 1.58s\n",
      "200:\tlearn: 1736.8118963\ttotal: 2.12s\tremaining: 1.04s\n",
      "250:\tlearn: 1713.4745470\ttotal: 2.63s\tremaining: 514ms\n",
      "299:\tlearn: 1694.7772634\ttotal: 3.16s\tremaining: 0us\n",
      "0:\tlearn: 4318.2024539\ttotal: 12.2ms\tremaining: 3.64s\n",
      "50:\tlearn: 1960.3060721\ttotal: 568ms\tremaining: 2.77s\n",
      "100:\tlearn: 1829.8050280\ttotal: 1.12s\tremaining: 2.21s\n",
      "150:\tlearn: 1778.1215293\ttotal: 1.67s\tremaining: 1.65s\n",
      "200:\tlearn: 1743.5547475\ttotal: 2.19s\tremaining: 1.08s\n",
      "250:\tlearn: 1718.5884906\ttotal: 2.71s\tremaining: 529ms\n",
      "299:\tlearn: 1699.3946640\ttotal: 3.21s\tremaining: 0us\n",
      "0:\tlearn: 4312.3928190\ttotal: 13.6ms\tremaining: 4.08s\n",
      "50:\tlearn: 1965.5238168\ttotal: 557ms\tremaining: 2.72s\n",
      "100:\tlearn: 1835.7736216\ttotal: 1.07s\tremaining: 2.1s\n",
      "150:\tlearn: 1780.1386557\ttotal: 1.62s\tremaining: 1.59s\n",
      "200:\tlearn: 1746.5761525\ttotal: 2.13s\tremaining: 1.05s\n",
      "250:\tlearn: 1720.5709202\ttotal: 2.67s\tremaining: 521ms\n",
      "299:\tlearn: 1702.5930520\ttotal: 3.19s\tremaining: 0us\n",
      "0:\tlearn: 4317.1763274\ttotal: 12.1ms\tremaining: 3.61s\n",
      "50:\tlearn: 1953.7279861\ttotal: 533ms\tremaining: 2.6s\n",
      "100:\tlearn: 1824.8896602\ttotal: 1.04s\tremaining: 2.05s\n",
      "150:\tlearn: 1768.6243106\ttotal: 1.56s\tremaining: 1.53s\n",
      "200:\tlearn: 1735.0324888\ttotal: 2.07s\tremaining: 1.02s\n",
      "250:\tlearn: 1712.1236760\ttotal: 2.59s\tremaining: 505ms\n",
      "299:\tlearn: 1691.9056390\ttotal: 3.09s\tremaining: 0us\n",
      "0:\tlearn: 4309.8013185\ttotal: 12.2ms\tremaining: 3.64s\n",
      "50:\tlearn: 1954.6910680\ttotal: 535ms\tremaining: 2.61s\n",
      "100:\tlearn: 1832.5685907\ttotal: 1.06s\tremaining: 2.09s\n",
      "150:\tlearn: 1776.5144752\ttotal: 1.58s\tremaining: 1.56s\n",
      "200:\tlearn: 1742.8616992\ttotal: 2.13s\tremaining: 1.05s\n",
      "250:\tlearn: 1717.2321726\ttotal: 2.66s\tremaining: 520ms\n",
      "299:\tlearn: 1696.7954639\ttotal: 3.17s\tremaining: 0us\n",
      "0:\tlearn: 4310.0157539\ttotal: 12.1ms\tremaining: 3.61s\n",
      "50:\tlearn: 1949.1642193\ttotal: 534ms\tremaining: 2.61s\n",
      "100:\tlearn: 1826.6274848\ttotal: 1.04s\tremaining: 2.05s\n",
      "150:\tlearn: 1769.1624496\ttotal: 1.56s\tremaining: 1.54s\n",
      "200:\tlearn: 1736.8118963\ttotal: 2.08s\tremaining: 1.03s\n",
      "250:\tlearn: 1713.4745470\ttotal: 2.6s\tremaining: 508ms\n",
      "299:\tlearn: 1694.7772634\ttotal: 3.11s\tremaining: 0us\n",
      "0:\tlearn: 4318.2024539\ttotal: 11.8ms\tremaining: 3.54s\n",
      "50:\tlearn: 1960.3060721\ttotal: 537ms\tremaining: 2.62s\n",
      "100:\tlearn: 1829.8050280\ttotal: 1.06s\tremaining: 2.08s\n",
      "150:\tlearn: 1778.1215293\ttotal: 1.58s\tremaining: 1.56s\n",
      "200:\tlearn: 1743.5547475\ttotal: 2.11s\tremaining: 1.04s\n",
      "250:\tlearn: 1718.5884906\ttotal: 2.64s\tremaining: 515ms\n",
      "299:\tlearn: 1699.3946640\ttotal: 3.15s\tremaining: 0us\n",
      "0:\tlearn: 4312.3928190\ttotal: 12.3ms\tremaining: 3.68s\n",
      "50:\tlearn: 1965.5238168\ttotal: 536ms\tremaining: 2.62s\n",
      "100:\tlearn: 1835.7736216\ttotal: 1.07s\tremaining: 2.1s\n",
      "150:\tlearn: 1780.1386557\ttotal: 1.6s\tremaining: 1.58s\n",
      "200:\tlearn: 1746.5761525\ttotal: 2.15s\tremaining: 1.06s\n",
      "250:\tlearn: 1720.5709202\ttotal: 2.68s\tremaining: 524ms\n",
      "299:\tlearn: 1702.5930520\ttotal: 3.2s\tremaining: 0us\n",
      "0:\tlearn: 4317.1763274\ttotal: 12.3ms\tremaining: 3.68s\n",
      "50:\tlearn: 1953.7279861\ttotal: 529ms\tremaining: 2.58s\n",
      "100:\tlearn: 1824.8896602\ttotal: 1.04s\tremaining: 2.05s\n",
      "150:\tlearn: 1768.6243106\ttotal: 1.58s\tremaining: 1.56s\n",
      "200:\tlearn: 1735.0324888\ttotal: 2.13s\tremaining: 1.05s\n",
      "250:\tlearn: 1712.1236760\ttotal: 2.63s\tremaining: 514ms\n",
      "299:\tlearn: 1691.9056390\ttotal: 3.14s\tremaining: 0us\n",
      "0:\tlearn: 4309.8013185\ttotal: 12.4ms\tremaining: 3.71s\n",
      "50:\tlearn: 1954.6910680\ttotal: 557ms\tremaining: 2.72s\n",
      "100:\tlearn: 1832.5685907\ttotal: 1.11s\tremaining: 2.19s\n",
      "150:\tlearn: 1776.5144752\ttotal: 1.66s\tremaining: 1.64s\n",
      "200:\tlearn: 1742.8616992\ttotal: 2.27s\tremaining: 1.12s\n",
      "250:\tlearn: 1717.2321726\ttotal: 2.81s\tremaining: 548ms\n",
      "299:\tlearn: 1696.7954639\ttotal: 3.34s\tremaining: 0us\n",
      "0:\tlearn: 4310.0157539\ttotal: 13.1ms\tremaining: 3.91s\n",
      "50:\tlearn: 1949.1642193\ttotal: 582ms\tremaining: 2.84s\n",
      "100:\tlearn: 1826.6274848\ttotal: 1.13s\tremaining: 2.22s\n",
      "150:\tlearn: 1769.1624496\ttotal: 1.67s\tremaining: 1.65s\n",
      "200:\tlearn: 1736.8118963\ttotal: 2.24s\tremaining: 1.1s\n",
      "250:\tlearn: 1713.4745470\ttotal: 2.78s\tremaining: 543ms\n",
      "299:\tlearn: 1694.7772634\ttotal: 3.3s\tremaining: 0us\n",
      "0:\tlearn: 4318.2024539\ttotal: 12.4ms\tremaining: 3.7s\n",
      "50:\tlearn: 1960.3060721\ttotal: 549ms\tremaining: 2.68s\n",
      "100:\tlearn: 1829.8050280\ttotal: 1.09s\tremaining: 2.15s\n",
      "150:\tlearn: 1778.1215293\ttotal: 1.61s\tremaining: 1.59s\n",
      "200:\tlearn: 1743.5547475\ttotal: 2.16s\tremaining: 1.06s\n",
      "250:\tlearn: 1718.5884906\ttotal: 2.68s\tremaining: 523ms\n",
      "299:\tlearn: 1699.3946640\ttotal: 3.19s\tremaining: 0us\n"
     ]
    },
    {
     "name": "stdout",
     "output_type": "stream",
     "text": [
      "0:\tlearn: 4312.3928190\ttotal: 12.3ms\tremaining: 3.67s\n",
      "50:\tlearn: 1965.5238168\ttotal: 526ms\tremaining: 2.57s\n",
      "100:\tlearn: 1835.7736216\ttotal: 1.04s\tremaining: 2.04s\n",
      "150:\tlearn: 1780.1386557\ttotal: 1.56s\tremaining: 1.54s\n",
      "200:\tlearn: 1746.5761525\ttotal: 2.09s\tremaining: 1.03s\n",
      "250:\tlearn: 1720.5709202\ttotal: 2.61s\tremaining: 509ms\n",
      "299:\tlearn: 1702.5930520\ttotal: 3.15s\tremaining: 0us\n",
      "0:\tlearn: 4317.1763274\ttotal: 13.1ms\tremaining: 3.92s\n",
      "50:\tlearn: 1953.7279861\ttotal: 535ms\tremaining: 2.61s\n",
      "100:\tlearn: 1824.8896602\ttotal: 1.07s\tremaining: 2.11s\n",
      "150:\tlearn: 1768.6243106\ttotal: 1.59s\tremaining: 1.57s\n",
      "200:\tlearn: 1735.0324888\ttotal: 2.12s\tremaining: 1.04s\n",
      "250:\tlearn: 1712.1236760\ttotal: 2.63s\tremaining: 514ms\n",
      "299:\tlearn: 1691.9056390\ttotal: 3.15s\tremaining: 0us\n",
      "0:\tlearn: 4309.8013185\ttotal: 12.4ms\tremaining: 3.7s\n",
      "50:\tlearn: 1954.6910680\ttotal: 533ms\tremaining: 2.6s\n",
      "100:\tlearn: 1832.5685907\ttotal: 1.06s\tremaining: 2.09s\n",
      "150:\tlearn: 1776.5144752\ttotal: 1.59s\tremaining: 1.57s\n",
      "200:\tlearn: 1742.8616992\ttotal: 2.11s\tremaining: 1.04s\n",
      "250:\tlearn: 1717.2321726\ttotal: 2.63s\tremaining: 513ms\n",
      "299:\tlearn: 1696.7954639\ttotal: 3.14s\tremaining: 0us\n",
      "0:\tlearn: 4310.0157539\ttotal: 11.9ms\tremaining: 3.55s\n",
      "50:\tlearn: 1949.1642193\ttotal: 527ms\tremaining: 2.57s\n",
      "100:\tlearn: 1826.6274848\ttotal: 1.03s\tremaining: 2.02s\n",
      "150:\tlearn: 1769.1624496\ttotal: 1.55s\tremaining: 1.53s\n",
      "200:\tlearn: 1736.8118963\ttotal: 2.08s\tremaining: 1.02s\n",
      "250:\tlearn: 1713.4745470\ttotal: 2.61s\tremaining: 509ms\n",
      "299:\tlearn: 1694.7772634\ttotal: 3.1s\tremaining: 0us\n",
      "0:\tlearn: 3788.7923039\ttotal: 12ms\tremaining: 3.6s\n",
      "50:\tlearn: 1783.1732735\ttotal: 524ms\tremaining: 2.56s\n",
      "100:\tlearn: 1704.3635412\ttotal: 1.02s\tremaining: 2.02s\n",
      "150:\tlearn: 1663.1733694\ttotal: 1.54s\tremaining: 1.52s\n",
      "200:\tlearn: 1629.6066522\ttotal: 2.04s\tremaining: 1.01s\n",
      "250:\tlearn: 1605.1160031\ttotal: 2.58s\tremaining: 503ms\n",
      "299:\tlearn: 1584.5680796\ttotal: 3.08s\tremaining: 0us\n",
      "0:\tlearn: 3780.4883759\ttotal: 12.3ms\tremaining: 3.67s\n",
      "50:\tlearn: 1787.1537855\ttotal: 544ms\tremaining: 2.66s\n",
      "100:\tlearn: 1709.2519700\ttotal: 1.05s\tremaining: 2.08s\n",
      "150:\tlearn: 1667.8618729\ttotal: 1.56s\tremaining: 1.54s\n",
      "200:\tlearn: 1638.1110936\ttotal: 2.06s\tremaining: 1.01s\n",
      "250:\tlearn: 1613.1705887\ttotal: 2.57s\tremaining: 503ms\n",
      "299:\tlearn: 1592.2275461\ttotal: 3.06s\tremaining: 0us\n",
      "0:\tlearn: 3783.5389373\ttotal: 14.9ms\tremaining: 4.46s\n",
      "50:\tlearn: 1782.6872617\ttotal: 538ms\tremaining: 2.63s\n",
      "100:\tlearn: 1701.6658790\ttotal: 1.07s\tremaining: 2.11s\n",
      "150:\tlearn: 1661.3973517\ttotal: 1.63s\tremaining: 1.61s\n",
      "200:\tlearn: 1629.7414587\ttotal: 2.14s\tremaining: 1.05s\n",
      "250:\tlearn: 1604.1722817\ttotal: 2.65s\tremaining: 517ms\n",
      "299:\tlearn: 1584.6887524\ttotal: 3.14s\tremaining: 0us\n",
      "0:\tlearn: 3778.3783621\ttotal: 15.7ms\tremaining: 4.71s\n",
      "50:\tlearn: 1783.4465920\ttotal: 540ms\tremaining: 2.64s\n",
      "100:\tlearn: 1703.2071456\ttotal: 1.07s\tremaining: 2.11s\n",
      "150:\tlearn: 1660.7836521\ttotal: 1.59s\tremaining: 1.57s\n",
      "200:\tlearn: 1630.2146347\ttotal: 2.1s\tremaining: 1.03s\n",
      "250:\tlearn: 1605.1481424\ttotal: 2.61s\tremaining: 509ms\n",
      "299:\tlearn: 1585.3980410\ttotal: 3.11s\tremaining: 0us\n",
      "0:\tlearn: 3776.7999635\ttotal: 13ms\tremaining: 3.88s\n",
      "50:\tlearn: 1776.9934777\ttotal: 520ms\tremaining: 2.54s\n",
      "100:\tlearn: 1699.4148430\ttotal: 1.03s\tremaining: 2.04s\n",
      "150:\tlearn: 1656.4137633\ttotal: 1.54s\tremaining: 1.52s\n",
      "200:\tlearn: 1626.1509547\ttotal: 2.04s\tremaining: 1s\n",
      "250:\tlearn: 1602.2873912\ttotal: 2.56s\tremaining: 499ms\n",
      "299:\tlearn: 1581.8028654\ttotal: 3.05s\tremaining: 0us\n",
      "0:\tlearn: 3788.7923039\ttotal: 26.7ms\tremaining: 7.99s\n",
      "50:\tlearn: 1783.1732735\ttotal: 610ms\tremaining: 2.98s\n",
      "100:\tlearn: 1704.3635412\ttotal: 1.27s\tremaining: 2.51s\n",
      "150:\tlearn: 1663.1733694\ttotal: 1.96s\tremaining: 1.94s\n",
      "200:\tlearn: 1629.6066522\ttotal: 2.59s\tremaining: 1.27s\n",
      "250:\tlearn: 1605.1160031\ttotal: 3.22s\tremaining: 628ms\n",
      "299:\tlearn: 1584.5680796\ttotal: 3.84s\tremaining: 0us\n",
      "0:\tlearn: 3780.4883759\ttotal: 20ms\tremaining: 5.99s\n",
      "50:\tlearn: 1787.1537855\ttotal: 559ms\tremaining: 2.73s\n",
      "100:\tlearn: 1709.2519700\ttotal: 1.09s\tremaining: 2.16s\n",
      "150:\tlearn: 1667.8618729\ttotal: 1.62s\tremaining: 1.6s\n",
      "200:\tlearn: 1638.1110936\ttotal: 2.15s\tremaining: 1.06s\n",
      "250:\tlearn: 1613.1705887\ttotal: 2.68s\tremaining: 523ms\n",
      "299:\tlearn: 1592.2275461\ttotal: 3.2s\tremaining: 0us\n",
      "0:\tlearn: 3783.5389373\ttotal: 13ms\tremaining: 3.87s\n",
      "50:\tlearn: 1782.6872617\ttotal: 570ms\tremaining: 2.78s\n",
      "100:\tlearn: 1701.6658790\ttotal: 1.12s\tremaining: 2.21s\n",
      "150:\tlearn: 1661.3973517\ttotal: 1.69s\tremaining: 1.66s\n",
      "200:\tlearn: 1629.7414587\ttotal: 2.26s\tremaining: 1.11s\n",
      "250:\tlearn: 1604.1722817\ttotal: 2.79s\tremaining: 545ms\n",
      "299:\tlearn: 1584.6887524\ttotal: 3.33s\tremaining: 0us\n",
      "0:\tlearn: 3778.3783621\ttotal: 12.5ms\tremaining: 3.73s\n",
      "50:\tlearn: 1783.4465920\ttotal: 550ms\tremaining: 2.68s\n",
      "100:\tlearn: 1703.2071456\ttotal: 1.08s\tremaining: 2.13s\n",
      "150:\tlearn: 1660.7836521\ttotal: 1.62s\tremaining: 1.6s\n",
      "200:\tlearn: 1630.2146347\ttotal: 2.15s\tremaining: 1.06s\n",
      "250:\tlearn: 1605.1481424\ttotal: 2.69s\tremaining: 526ms\n",
      "299:\tlearn: 1585.3980410\ttotal: 3.23s\tremaining: 0us\n",
      "0:\tlearn: 3776.7999635\ttotal: 12.5ms\tremaining: 3.74s\n",
      "50:\tlearn: 1776.9934777\ttotal: 542ms\tremaining: 2.65s\n",
      "100:\tlearn: 1699.4148430\ttotal: 1.07s\tremaining: 2.1s\n",
      "150:\tlearn: 1656.4137633\ttotal: 1.59s\tremaining: 1.57s\n",
      "200:\tlearn: 1626.1509547\ttotal: 2.12s\tremaining: 1.04s\n",
      "250:\tlearn: 1602.2873912\ttotal: 2.64s\tremaining: 516ms\n",
      "299:\tlearn: 1581.8028654\ttotal: 3.15s\tremaining: 0us\n",
      "0:\tlearn: 3788.7923039\ttotal: 12.5ms\tremaining: 3.73s\n",
      "50:\tlearn: 1783.1732735\ttotal: 567ms\tremaining: 2.77s\n",
      "100:\tlearn: 1704.3635412\ttotal: 1.15s\tremaining: 2.26s\n",
      "150:\tlearn: 1663.1733694\ttotal: 1.67s\tremaining: 1.65s\n",
      "200:\tlearn: 1629.6066522\ttotal: 2.23s\tremaining: 1.1s\n",
      "250:\tlearn: 1605.1160031\ttotal: 2.76s\tremaining: 539ms\n",
      "299:\tlearn: 1584.5680796\ttotal: 3.27s\tremaining: 0us\n",
      "0:\tlearn: 3780.4883759\ttotal: 30.1ms\tremaining: 9s\n",
      "50:\tlearn: 1787.1537855\ttotal: 572ms\tremaining: 2.79s\n",
      "100:\tlearn: 1709.2519700\ttotal: 1.14s\tremaining: 2.24s\n",
      "150:\tlearn: 1667.8618729\ttotal: 1.68s\tremaining: 1.66s\n",
      "200:\tlearn: 1638.1110936\ttotal: 2.24s\tremaining: 1.1s\n",
      "250:\tlearn: 1613.1705887\ttotal: 2.77s\tremaining: 541ms\n",
      "299:\tlearn: 1592.2275461\ttotal: 3.29s\tremaining: 0us\n",
      "0:\tlearn: 3783.5389373\ttotal: 22.9ms\tremaining: 6.85s\n",
      "50:\tlearn: 1782.6872617\ttotal: 555ms\tremaining: 2.71s\n",
      "100:\tlearn: 1701.6658790\ttotal: 1.1s\tremaining: 2.17s\n",
      "150:\tlearn: 1661.3973517\ttotal: 1.7s\tremaining: 1.68s\n",
      "200:\tlearn: 1629.7414587\ttotal: 2.34s\tremaining: 1.15s\n",
      "250:\tlearn: 1604.1722817\ttotal: 2.88s\tremaining: 562ms\n",
      "299:\tlearn: 1584.6887524\ttotal: 3.4s\tremaining: 0us\n",
      "0:\tlearn: 3778.3783621\ttotal: 15.1ms\tremaining: 4.51s\n",
      "50:\tlearn: 1783.4465920\ttotal: 592ms\tremaining: 2.89s\n",
      "100:\tlearn: 1703.2071456\ttotal: 1.17s\tremaining: 2.3s\n",
      "150:\tlearn: 1660.7836521\ttotal: 1.72s\tremaining: 1.69s\n",
      "200:\tlearn: 1630.2146347\ttotal: 2.27s\tremaining: 1.12s\n",
      "250:\tlearn: 1605.1481424\ttotal: 2.87s\tremaining: 561ms\n",
      "299:\tlearn: 1585.3980410\ttotal: 3.42s\tremaining: 0us\n",
      "0:\tlearn: 3776.7999635\ttotal: 16.6ms\tremaining: 4.95s\n",
      "50:\tlearn: 1776.9934777\ttotal: 568ms\tremaining: 2.77s\n",
      "100:\tlearn: 1699.4148430\ttotal: 1.15s\tremaining: 2.27s\n",
      "150:\tlearn: 1656.4137633\ttotal: 1.68s\tremaining: 1.66s\n",
      "200:\tlearn: 1626.1509547\ttotal: 2.18s\tremaining: 1.07s\n",
      "250:\tlearn: 1602.2873912\ttotal: 2.71s\tremaining: 528ms\n",
      "299:\tlearn: 1581.8028654\ttotal: 3.21s\tremaining: 0us\n",
      "0:\tlearn: 3788.7923039\ttotal: 12.6ms\tremaining: 3.76s\n",
      "50:\tlearn: 1783.1732735\ttotal: 549ms\tremaining: 2.68s\n",
      "100:\tlearn: 1704.3635412\ttotal: 1.08s\tremaining: 2.13s\n",
      "150:\tlearn: 1663.1733694\ttotal: 1.61s\tremaining: 1.58s\n",
      "200:\tlearn: 1629.6066522\ttotal: 2.16s\tremaining: 1.06s\n",
      "250:\tlearn: 1605.1160031\ttotal: 2.69s\tremaining: 526ms\n",
      "299:\tlearn: 1584.5680796\ttotal: 3.21s\tremaining: 0us\n",
      "0:\tlearn: 3780.4883759\ttotal: 12.4ms\tremaining: 3.69s\n",
      "50:\tlearn: 1787.1537855\ttotal: 551ms\tremaining: 2.69s\n",
      "100:\tlearn: 1709.2519700\ttotal: 1.09s\tremaining: 2.15s\n",
      "150:\tlearn: 1667.8618729\ttotal: 1.63s\tremaining: 1.6s\n",
      "200:\tlearn: 1638.1110936\ttotal: 2.12s\tremaining: 1.05s\n",
      "250:\tlearn: 1613.1705887\ttotal: 2.63s\tremaining: 514ms\n",
      "299:\tlearn: 1592.2275461\ttotal: 3.15s\tremaining: 0us\n",
      "0:\tlearn: 3783.5389373\ttotal: 11.8ms\tremaining: 3.52s\n",
      "50:\tlearn: 1782.6872617\ttotal: 526ms\tremaining: 2.56s\n",
      "100:\tlearn: 1701.6658790\ttotal: 1.06s\tremaining: 2.09s\n",
      "150:\tlearn: 1661.3973517\ttotal: 1.57s\tremaining: 1.55s\n",
      "200:\tlearn: 1629.7414587\ttotal: 2.08s\tremaining: 1.02s\n"
     ]
    },
    {
     "name": "stdout",
     "output_type": "stream",
     "text": [
      "250:\tlearn: 1604.1722817\ttotal: 2.59s\tremaining: 505ms\n",
      "299:\tlearn: 1584.6887524\ttotal: 3.08s\tremaining: 0us\n",
      "0:\tlearn: 3778.3783621\ttotal: 12.1ms\tremaining: 3.61s\n",
      "50:\tlearn: 1783.4465920\ttotal: 532ms\tremaining: 2.6s\n",
      "100:\tlearn: 1703.2071456\ttotal: 1.07s\tremaining: 2.11s\n",
      "150:\tlearn: 1660.7836521\ttotal: 1.6s\tremaining: 1.58s\n",
      "200:\tlearn: 1630.2146347\ttotal: 2.13s\tremaining: 1.05s\n",
      "250:\tlearn: 1605.1481424\ttotal: 2.65s\tremaining: 517ms\n",
      "299:\tlearn: 1585.3980410\ttotal: 3.14s\tremaining: 0us\n",
      "0:\tlearn: 3776.7999635\ttotal: 22.6ms\tremaining: 6.77s\n",
      "50:\tlearn: 1776.9934777\ttotal: 560ms\tremaining: 2.73s\n",
      "100:\tlearn: 1699.4148430\ttotal: 1.12s\tremaining: 2.21s\n",
      "150:\tlearn: 1656.4137633\ttotal: 1.79s\tremaining: 1.76s\n",
      "200:\tlearn: 1626.1509547\ttotal: 2.32s\tremaining: 1.14s\n",
      "250:\tlearn: 1602.2873912\ttotal: 2.85s\tremaining: 555ms\n",
      "299:\tlearn: 1581.8028654\ttotal: 3.36s\tremaining: 0us\n",
      "0:\tlearn: 4451.1009107\ttotal: 13.4ms\tremaining: 4s\n",
      "50:\tlearn: 2128.4032707\ttotal: 602ms\tremaining: 2.94s\n",
      "100:\tlearn: 1914.5969567\ttotal: 1.18s\tremaining: 2.33s\n",
      "150:\tlearn: 1837.2826274\ttotal: 1.76s\tremaining: 1.73s\n",
      "200:\tlearn: 1792.6116530\ttotal: 2.33s\tremaining: 1.15s\n",
      "250:\tlearn: 1762.0936681\ttotal: 2.91s\tremaining: 568ms\n",
      "299:\tlearn: 1738.9134014\ttotal: 3.49s\tremaining: 0us\n",
      "0:\tlearn: 4446.5596604\ttotal: 13.6ms\tremaining: 4.05s\n",
      "50:\tlearn: 2131.4434973\ttotal: 626ms\tremaining: 3.06s\n",
      "100:\tlearn: 1918.4933890\ttotal: 1.24s\tremaining: 2.43s\n",
      "150:\tlearn: 1840.7130864\ttotal: 1.82s\tremaining: 1.8s\n",
      "200:\tlearn: 1795.4349669\ttotal: 2.4s\tremaining: 1.18s\n",
      "250:\tlearn: 1764.6002335\ttotal: 2.99s\tremaining: 583ms\n",
      "299:\tlearn: 1741.8742274\ttotal: 3.56s\tremaining: 0us\n",
      "0:\tlearn: 4451.1793580\ttotal: 14.1ms\tremaining: 4.21s\n",
      "50:\tlearn: 2126.6010748\ttotal: 626ms\tremaining: 3.06s\n",
      "100:\tlearn: 1911.9239386\ttotal: 1.21s\tremaining: 2.39s\n",
      "150:\tlearn: 1832.4461869\ttotal: 1.81s\tremaining: 1.78s\n",
      "200:\tlearn: 1787.1690454\ttotal: 2.39s\tremaining: 1.18s\n",
      "250:\tlearn: 1756.4260819\ttotal: 2.97s\tremaining: 581ms\n",
      "299:\tlearn: 1733.3815865\ttotal: 3.55s\tremaining: 0us\n",
      "0:\tlearn: 4443.0691537\ttotal: 13.6ms\tremaining: 4.06s\n",
      "50:\tlearn: 2126.2820915\ttotal: 612ms\tremaining: 2.99s\n",
      "100:\tlearn: 1912.5840914\ttotal: 1.19s\tremaining: 2.35s\n",
      "150:\tlearn: 1835.5546548\ttotal: 1.77s\tremaining: 1.75s\n",
      "200:\tlearn: 1790.8776358\ttotal: 2.4s\tremaining: 1.18s\n",
      "250:\tlearn: 1760.9549504\ttotal: 3s\tremaining: 586ms\n",
      "299:\tlearn: 1739.2593265\ttotal: 3.58s\tremaining: 0us\n",
      "0:\tlearn: 4443.9068308\ttotal: 15.2ms\tremaining: 4.55s\n",
      "50:\tlearn: 2123.4191444\ttotal: 641ms\tremaining: 3.13s\n",
      "100:\tlearn: 1909.0205373\ttotal: 1.25s\tremaining: 2.46s\n",
      "150:\tlearn: 1830.3181151\ttotal: 1.85s\tremaining: 1.83s\n",
      "200:\tlearn: 1785.4997885\ttotal: 2.48s\tremaining: 1.22s\n",
      "250:\tlearn: 1753.9678367\ttotal: 3.09s\tremaining: 604ms\n",
      "299:\tlearn: 1732.0855452\ttotal: 3.67s\tremaining: 0us\n",
      "0:\tlearn: 4451.1009107\ttotal: 19.3ms\tremaining: 5.78s\n",
      "50:\tlearn: 2128.4032707\ttotal: 630ms\tremaining: 3.08s\n",
      "100:\tlearn: 1914.5969567\ttotal: 1.21s\tremaining: 2.38s\n",
      "150:\tlearn: 1837.2826274\ttotal: 1.78s\tremaining: 1.76s\n",
      "200:\tlearn: 1792.6116530\ttotal: 2.36s\tremaining: 1.16s\n",
      "250:\tlearn: 1762.0936681\ttotal: 2.96s\tremaining: 578ms\n",
      "299:\tlearn: 1738.9134014\ttotal: 3.56s\tremaining: 0us\n",
      "0:\tlearn: 4446.5596604\ttotal: 14.1ms\tremaining: 4.2s\n",
      "50:\tlearn: 2131.4434973\ttotal: 647ms\tremaining: 3.16s\n",
      "100:\tlearn: 1918.4933890\ttotal: 1.24s\tremaining: 2.44s\n",
      "150:\tlearn: 1840.7130864\ttotal: 1.83s\tremaining: 1.81s\n",
      "200:\tlearn: 1795.4349669\ttotal: 2.46s\tremaining: 1.21s\n",
      "250:\tlearn: 1764.6002335\ttotal: 3.07s\tremaining: 600ms\n",
      "299:\tlearn: 1741.8742274\ttotal: 3.69s\tremaining: 0us\n",
      "0:\tlearn: 4451.1793580\ttotal: 13.8ms\tremaining: 4.11s\n",
      "50:\tlearn: 2126.6010748\ttotal: 604ms\tremaining: 2.95s\n",
      "100:\tlearn: 1911.9239386\ttotal: 1.18s\tremaining: 2.32s\n",
      "150:\tlearn: 1832.4461869\ttotal: 1.75s\tremaining: 1.73s\n",
      "200:\tlearn: 1787.1690454\ttotal: 2.33s\tremaining: 1.15s\n",
      "250:\tlearn: 1756.4260819\ttotal: 2.92s\tremaining: 570ms\n",
      "299:\tlearn: 1733.3815865\ttotal: 3.52s\tremaining: 0us\n",
      "0:\tlearn: 4443.0691537\ttotal: 13.1ms\tremaining: 3.91s\n",
      "50:\tlearn: 2126.2820915\ttotal: 616ms\tremaining: 3.01s\n",
      "100:\tlearn: 1912.5840914\ttotal: 1.19s\tremaining: 2.35s\n",
      "150:\tlearn: 1835.5546548\ttotal: 1.79s\tremaining: 1.77s\n",
      "200:\tlearn: 1790.8776358\ttotal: 2.38s\tremaining: 1.17s\n",
      "250:\tlearn: 1760.9549504\ttotal: 2.98s\tremaining: 583ms\n",
      "299:\tlearn: 1739.2593265\ttotal: 3.56s\tremaining: 0us\n",
      "0:\tlearn: 4443.9068308\ttotal: 29.4ms\tremaining: 8.78s\n",
      "50:\tlearn: 2123.4191444\ttotal: 656ms\tremaining: 3.2s\n",
      "100:\tlearn: 1909.0205373\ttotal: 1.22s\tremaining: 2.4s\n",
      "150:\tlearn: 1830.3181151\ttotal: 1.78s\tremaining: 1.76s\n",
      "200:\tlearn: 1785.4997885\ttotal: 2.35s\tremaining: 1.16s\n",
      "250:\tlearn: 1753.9678367\ttotal: 2.94s\tremaining: 574ms\n",
      "299:\tlearn: 1732.0855452\ttotal: 3.52s\tremaining: 0us\n",
      "0:\tlearn: 4451.1009107\ttotal: 13.3ms\tremaining: 3.98s\n",
      "50:\tlearn: 2128.4032707\ttotal: 614ms\tremaining: 3s\n",
      "100:\tlearn: 1914.5969567\ttotal: 1.19s\tremaining: 2.34s\n",
      "150:\tlearn: 1837.2826274\ttotal: 1.77s\tremaining: 1.74s\n",
      "200:\tlearn: 1792.6116530\ttotal: 2.38s\tremaining: 1.17s\n",
      "250:\tlearn: 1762.0936681\ttotal: 2.98s\tremaining: 581ms\n",
      "299:\tlearn: 1738.9134014\ttotal: 3.56s\tremaining: 0us\n",
      "0:\tlearn: 4446.5596604\ttotal: 19.7ms\tremaining: 5.9s\n",
      "50:\tlearn: 2131.4434973\ttotal: 624ms\tremaining: 3.05s\n",
      "100:\tlearn: 1918.4933890\ttotal: 1.21s\tremaining: 2.38s\n",
      "150:\tlearn: 1840.7130864\ttotal: 1.81s\tremaining: 1.78s\n",
      "200:\tlearn: 1795.4349669\ttotal: 2.4s\tremaining: 1.18s\n",
      "250:\tlearn: 1764.6002335\ttotal: 2.99s\tremaining: 585ms\n",
      "299:\tlearn: 1741.8742274\ttotal: 3.56s\tremaining: 0us\n",
      "0:\tlearn: 4451.1793580\ttotal: 13.5ms\tremaining: 4.02s\n",
      "50:\tlearn: 2126.6010748\ttotal: 632ms\tremaining: 3.08s\n",
      "100:\tlearn: 1911.9239386\ttotal: 1.23s\tremaining: 2.42s\n",
      "150:\tlearn: 1832.4461869\ttotal: 1.8s\tremaining: 1.77s\n",
      "200:\tlearn: 1787.1690454\ttotal: 2.39s\tremaining: 1.18s\n",
      "250:\tlearn: 1756.4260819\ttotal: 2.98s\tremaining: 582ms\n",
      "299:\tlearn: 1733.3815865\ttotal: 3.55s\tremaining: 0us\n",
      "0:\tlearn: 4443.0691537\ttotal: 19.7ms\tremaining: 5.9s\n",
      "50:\tlearn: 2126.2820915\ttotal: 631ms\tremaining: 3.08s\n",
      "100:\tlearn: 1912.5840914\ttotal: 1.21s\tremaining: 2.38s\n",
      "150:\tlearn: 1835.5546548\ttotal: 1.78s\tremaining: 1.76s\n",
      "200:\tlearn: 1790.8776358\ttotal: 2.37s\tremaining: 1.17s\n",
      "250:\tlearn: 1760.9549504\ttotal: 2.96s\tremaining: 577ms\n",
      "299:\tlearn: 1739.2593265\ttotal: 3.54s\tremaining: 0us\n",
      "0:\tlearn: 4443.9068308\ttotal: 13.6ms\tremaining: 4.08s\n",
      "50:\tlearn: 2123.4191444\ttotal: 627ms\tremaining: 3.06s\n",
      "100:\tlearn: 1909.0205373\ttotal: 1.2s\tremaining: 2.37s\n",
      "150:\tlearn: 1830.3181151\ttotal: 1.78s\tremaining: 1.75s\n",
      "200:\tlearn: 1785.4997885\ttotal: 2.37s\tremaining: 1.17s\n",
      "250:\tlearn: 1753.9678367\ttotal: 2.95s\tremaining: 577ms\n",
      "299:\tlearn: 1732.0855452\ttotal: 3.56s\tremaining: 0us\n",
      "0:\tlearn: 4451.1009107\ttotal: 23.4ms\tremaining: 7.01s\n",
      "50:\tlearn: 2128.4032707\ttotal: 619ms\tremaining: 3.02s\n",
      "100:\tlearn: 1914.5969567\ttotal: 1.19s\tremaining: 2.35s\n",
      "150:\tlearn: 1837.2826274\ttotal: 1.77s\tremaining: 1.75s\n",
      "200:\tlearn: 1792.6116530\ttotal: 2.35s\tremaining: 1.16s\n",
      "250:\tlearn: 1762.0936681\ttotal: 2.93s\tremaining: 571ms\n",
      "299:\tlearn: 1738.9134014\ttotal: 3.5s\tremaining: 0us\n",
      "0:\tlearn: 4446.5596604\ttotal: 13.6ms\tremaining: 4.08s\n",
      "50:\tlearn: 2131.4434973\ttotal: 607ms\tremaining: 2.96s\n",
      "100:\tlearn: 1918.4933890\ttotal: 1.17s\tremaining: 2.31s\n",
      "150:\tlearn: 1840.7130864\ttotal: 1.74s\tremaining: 1.72s\n",
      "200:\tlearn: 1795.4349669\ttotal: 2.31s\tremaining: 1.14s\n",
      "250:\tlearn: 1764.6002335\ttotal: 2.9s\tremaining: 565ms\n",
      "299:\tlearn: 1741.8742274\ttotal: 3.46s\tremaining: 0us\n",
      "0:\tlearn: 4451.1793580\ttotal: 25.9ms\tremaining: 7.75s\n",
      "50:\tlearn: 2126.6010748\ttotal: 643ms\tremaining: 3.14s\n",
      "100:\tlearn: 1911.9239386\ttotal: 1.23s\tremaining: 2.43s\n",
      "150:\tlearn: 1832.4461869\ttotal: 1.81s\tremaining: 1.79s\n",
      "200:\tlearn: 1787.1690454\ttotal: 2.44s\tremaining: 1.2s\n",
      "250:\tlearn: 1756.4260819\ttotal: 3.02s\tremaining: 590ms\n",
      "299:\tlearn: 1733.3815865\ttotal: 3.6s\tremaining: 0us\n",
      "0:\tlearn: 4443.0691537\ttotal: 13.6ms\tremaining: 4.06s\n",
      "50:\tlearn: 2126.2820915\ttotal: 608ms\tremaining: 2.97s\n",
      "100:\tlearn: 1912.5840914\ttotal: 1.19s\tremaining: 2.34s\n",
      "150:\tlearn: 1835.5546548\ttotal: 1.76s\tremaining: 1.74s\n",
      "200:\tlearn: 1790.8776358\ttotal: 2.36s\tremaining: 1.16s\n",
      "250:\tlearn: 1760.9549504\ttotal: 2.97s\tremaining: 580ms\n",
      "299:\tlearn: 1739.2593265\ttotal: 3.55s\tremaining: 0us\n",
      "0:\tlearn: 4443.9068308\ttotal: 14ms\tremaining: 4.2s\n",
      "50:\tlearn: 2123.4191444\ttotal: 601ms\tremaining: 2.94s\n",
      "100:\tlearn: 1909.0205373\ttotal: 1.17s\tremaining: 2.3s\n"
     ]
    },
    {
     "name": "stdout",
     "output_type": "stream",
     "text": [
      "150:\tlearn: 1830.3181151\ttotal: 1.74s\tremaining: 1.71s\n",
      "200:\tlearn: 1785.4997885\ttotal: 2.32s\tremaining: 1.14s\n",
      "250:\tlearn: 1753.9678367\ttotal: 2.92s\tremaining: 571ms\n",
      "299:\tlearn: 1732.0855452\ttotal: 3.49s\tremaining: 0us\n",
      "0:\tlearn: 4301.2457919\ttotal: 18.7ms\tremaining: 5.6s\n",
      "50:\tlearn: 1909.6805587\ttotal: 602ms\tremaining: 2.94s\n",
      "100:\tlearn: 1795.1191247\ttotal: 1.17s\tremaining: 2.31s\n",
      "150:\tlearn: 1739.0290252\ttotal: 1.75s\tremaining: 1.73s\n",
      "200:\tlearn: 1705.7264141\ttotal: 2.35s\tremaining: 1.16s\n",
      "250:\tlearn: 1680.2980274\ttotal: 2.93s\tremaining: 573ms\n",
      "299:\tlearn: 1659.7894641\ttotal: 3.52s\tremaining: 0us\n",
      "0:\tlearn: 4296.7852990\ttotal: 13.9ms\tremaining: 4.15s\n",
      "50:\tlearn: 1913.7704307\ttotal: 599ms\tremaining: 2.93s\n",
      "100:\tlearn: 1795.7889530\ttotal: 1.17s\tremaining: 2.31s\n",
      "150:\tlearn: 1745.1914460\ttotal: 1.74s\tremaining: 1.72s\n",
      "200:\tlearn: 1710.2403371\ttotal: 2.33s\tremaining: 1.15s\n",
      "250:\tlearn: 1684.4047036\ttotal: 2.9s\tremaining: 566ms\n",
      "299:\tlearn: 1664.5771882\ttotal: 3.45s\tremaining: 0us\n",
      "0:\tlearn: 4300.3560664\ttotal: 13.7ms\tremaining: 4.09s\n",
      "50:\tlearn: 1908.3753312\ttotal: 605ms\tremaining: 2.95s\n",
      "100:\tlearn: 1789.9255834\ttotal: 1.19s\tremaining: 2.35s\n",
      "150:\tlearn: 1735.3938157\ttotal: 1.78s\tremaining: 1.76s\n",
      "200:\tlearn: 1701.3415878\ttotal: 2.37s\tremaining: 1.17s\n",
      "250:\tlearn: 1676.9082854\ttotal: 3.01s\tremaining: 587ms\n",
      "299:\tlearn: 1658.4753703\ttotal: 3.59s\tremaining: 0us\n",
      "0:\tlearn: 4292.6342955\ttotal: 14.2ms\tremaining: 4.24s\n",
      "50:\tlearn: 1906.2400626\ttotal: 604ms\tremaining: 2.95s\n",
      "100:\tlearn: 1786.4358252\ttotal: 1.18s\tremaining: 2.32s\n",
      "150:\tlearn: 1736.5109907\ttotal: 1.78s\tremaining: 1.76s\n",
      "200:\tlearn: 1702.0110662\ttotal: 2.37s\tremaining: 1.17s\n",
      "250:\tlearn: 1676.8724480\ttotal: 2.93s\tremaining: 573ms\n",
      "299:\tlearn: 1655.7024847\ttotal: 3.5s\tremaining: 0us\n",
      "0:\tlearn: 4293.2160281\ttotal: 13.6ms\tremaining: 4.07s\n",
      "50:\tlearn: 1907.1157746\ttotal: 610ms\tremaining: 2.98s\n",
      "100:\tlearn: 1790.4549247\ttotal: 1.2s\tremaining: 2.35s\n",
      "150:\tlearn: 1733.9487832\ttotal: 1.78s\tremaining: 1.76s\n",
      "200:\tlearn: 1699.3797944\ttotal: 2.37s\tremaining: 1.17s\n",
      "250:\tlearn: 1673.7275183\ttotal: 2.96s\tremaining: 577ms\n",
      "299:\tlearn: 1654.5311437\ttotal: 3.51s\tremaining: 0us\n",
      "0:\tlearn: 4301.2457919\ttotal: 13.7ms\tremaining: 4.1s\n",
      "50:\tlearn: 1909.6805587\ttotal: 593ms\tremaining: 2.89s\n",
      "100:\tlearn: 1795.1191247\ttotal: 1.16s\tremaining: 2.29s\n",
      "150:\tlearn: 1739.0290252\ttotal: 1.76s\tremaining: 1.73s\n",
      "200:\tlearn: 1705.7264141\ttotal: 2.35s\tremaining: 1.16s\n",
      "250:\tlearn: 1680.2980274\ttotal: 2.92s\tremaining: 571ms\n",
      "299:\tlearn: 1659.7894641\ttotal: 3.49s\tremaining: 0us\n",
      "0:\tlearn: 4296.7852990\ttotal: 13.7ms\tremaining: 4.11s\n",
      "50:\tlearn: 1913.7704307\ttotal: 601ms\tremaining: 2.94s\n",
      "100:\tlearn: 1795.7889530\ttotal: 1.18s\tremaining: 2.32s\n",
      "150:\tlearn: 1745.1914460\ttotal: 1.76s\tremaining: 1.74s\n",
      "200:\tlearn: 1710.2403371\ttotal: 2.35s\tremaining: 1.16s\n",
      "250:\tlearn: 1684.4047036\ttotal: 2.92s\tremaining: 571ms\n",
      "299:\tlearn: 1664.5771882\ttotal: 3.51s\tremaining: 0us\n",
      "0:\tlearn: 4300.3560664\ttotal: 14.8ms\tremaining: 4.43s\n",
      "50:\tlearn: 1908.3753312\ttotal: 605ms\tremaining: 2.96s\n",
      "100:\tlearn: 1789.9255834\ttotal: 1.21s\tremaining: 2.38s\n",
      "150:\tlearn: 1735.3938157\ttotal: 1.79s\tremaining: 1.77s\n",
      "200:\tlearn: 1701.3415878\ttotal: 2.38s\tremaining: 1.17s\n",
      "250:\tlearn: 1676.9082854\ttotal: 2.95s\tremaining: 576ms\n",
      "299:\tlearn: 1658.4753703\ttotal: 3.51s\tremaining: 0us\n",
      "0:\tlearn: 4292.6342955\ttotal: 35.5ms\tremaining: 10.6s\n",
      "50:\tlearn: 1906.2400626\ttotal: 647ms\tremaining: 3.16s\n",
      "100:\tlearn: 1786.4358252\ttotal: 1.26s\tremaining: 2.48s\n",
      "150:\tlearn: 1736.5109907\ttotal: 1.88s\tremaining: 1.85s\n",
      "200:\tlearn: 1702.0110662\ttotal: 2.46s\tremaining: 1.21s\n",
      "250:\tlearn: 1676.8724480\ttotal: 3.05s\tremaining: 596ms\n",
      "299:\tlearn: 1655.7024847\ttotal: 3.63s\tremaining: 0us\n",
      "0:\tlearn: 4293.2160281\ttotal: 13.9ms\tremaining: 4.16s\n",
      "50:\tlearn: 1907.1157746\ttotal: 614ms\tremaining: 3s\n",
      "100:\tlearn: 1790.4549247\ttotal: 1.21s\tremaining: 2.39s\n",
      "150:\tlearn: 1733.9487832\ttotal: 1.82s\tremaining: 1.8s\n",
      "200:\tlearn: 1699.3797944\ttotal: 2.43s\tremaining: 1.2s\n",
      "250:\tlearn: 1673.7275183\ttotal: 3.06s\tremaining: 597ms\n",
      "299:\tlearn: 1654.5311437\ttotal: 3.65s\tremaining: 0us\n",
      "0:\tlearn: 4301.2457919\ttotal: 14.3ms\tremaining: 4.29s\n",
      "50:\tlearn: 1909.6805587\ttotal: 639ms\tremaining: 3.12s\n",
      "100:\tlearn: 1795.1191247\ttotal: 1.28s\tremaining: 2.53s\n",
      "150:\tlearn: 1739.0290252\ttotal: 1.91s\tremaining: 1.89s\n",
      "200:\tlearn: 1705.7264141\ttotal: 2.51s\tremaining: 1.23s\n",
      "250:\tlearn: 1680.2980274\ttotal: 3.25s\tremaining: 636ms\n",
      "299:\tlearn: 1659.7894641\ttotal: 3.98s\tremaining: 0us\n",
      "0:\tlearn: 4296.7852990\ttotal: 32.4ms\tremaining: 9.69s\n",
      "50:\tlearn: 1913.7704307\ttotal: 622ms\tremaining: 3.04s\n",
      "100:\tlearn: 1795.7889530\ttotal: 1.19s\tremaining: 2.34s\n",
      "150:\tlearn: 1745.1914460\ttotal: 1.78s\tremaining: 1.75s\n",
      "200:\tlearn: 1710.2403371\ttotal: 2.38s\tremaining: 1.17s\n",
      "250:\tlearn: 1684.4047036\ttotal: 2.96s\tremaining: 579ms\n",
      "299:\tlearn: 1664.5771882\ttotal: 3.53s\tremaining: 0us\n",
      "0:\tlearn: 4300.3560664\ttotal: 13.5ms\tremaining: 4.03s\n",
      "50:\tlearn: 1908.3753312\ttotal: 599ms\tremaining: 2.92s\n",
      "100:\tlearn: 1789.9255834\ttotal: 1.18s\tremaining: 2.33s\n",
      "150:\tlearn: 1735.3938157\ttotal: 1.82s\tremaining: 1.8s\n",
      "200:\tlearn: 1701.3415878\ttotal: 2.51s\tremaining: 1.23s\n",
      "250:\tlearn: 1676.9082854\ttotal: 3.19s\tremaining: 623ms\n",
      "299:\tlearn: 1658.4753703\ttotal: 3.77s\tremaining: 0us\n",
      "0:\tlearn: 4292.6342955\ttotal: 16.3ms\tremaining: 4.88s\n",
      "50:\tlearn: 1906.2400626\ttotal: 699ms\tremaining: 3.41s\n",
      "100:\tlearn: 1786.4358252\ttotal: 1.31s\tremaining: 2.58s\n",
      "150:\tlearn: 1736.5109907\ttotal: 1.95s\tremaining: 1.92s\n",
      "200:\tlearn: 1702.0110662\ttotal: 2.55s\tremaining: 1.25s\n",
      "250:\tlearn: 1676.8724480\ttotal: 3.13s\tremaining: 611ms\n",
      "299:\tlearn: 1655.7024847\ttotal: 3.7s\tremaining: 0us\n",
      "0:\tlearn: 4293.2160281\ttotal: 18.5ms\tremaining: 5.54s\n",
      "50:\tlearn: 1907.1157746\ttotal: 614ms\tremaining: 3s\n",
      "100:\tlearn: 1790.4549247\ttotal: 1.25s\tremaining: 2.47s\n",
      "150:\tlearn: 1733.9487832\ttotal: 1.9s\tremaining: 1.87s\n",
      "200:\tlearn: 1699.3797944\ttotal: 2.52s\tremaining: 1.24s\n",
      "250:\tlearn: 1673.7275183\ttotal: 3.11s\tremaining: 607ms\n",
      "299:\tlearn: 1654.5311437\ttotal: 3.7s\tremaining: 0us\n",
      "0:\tlearn: 4301.2457919\ttotal: 15.5ms\tremaining: 4.64s\n",
      "50:\tlearn: 1909.6805587\ttotal: 745ms\tremaining: 3.64s\n",
      "100:\tlearn: 1795.1191247\ttotal: 1.34s\tremaining: 2.64s\n",
      "150:\tlearn: 1739.0290252\ttotal: 1.95s\tremaining: 1.93s\n",
      "200:\tlearn: 1705.7264141\ttotal: 2.56s\tremaining: 1.26s\n",
      "250:\tlearn: 1680.2980274\ttotal: 3.15s\tremaining: 614ms\n",
      "299:\tlearn: 1659.7894641\ttotal: 3.73s\tremaining: 0us\n",
      "0:\tlearn: 4296.7852990\ttotal: 13.5ms\tremaining: 4.04s\n",
      "50:\tlearn: 1913.7704307\ttotal: 627ms\tremaining: 3.06s\n",
      "100:\tlearn: 1795.7889530\ttotal: 1.24s\tremaining: 2.44s\n",
      "150:\tlearn: 1745.1914460\ttotal: 1.91s\tremaining: 1.88s\n",
      "200:\tlearn: 1710.2403371\ttotal: 2.52s\tremaining: 1.24s\n",
      "250:\tlearn: 1684.4047036\ttotal: 3.13s\tremaining: 611ms\n",
      "299:\tlearn: 1664.5771882\ttotal: 3.77s\tremaining: 0us\n",
      "0:\tlearn: 4300.3560664\ttotal: 25.8ms\tremaining: 7.72s\n",
      "50:\tlearn: 1908.3753312\ttotal: 639ms\tremaining: 3.12s\n",
      "100:\tlearn: 1789.9255834\ttotal: 1.21s\tremaining: 2.38s\n",
      "150:\tlearn: 1735.3938157\ttotal: 1.79s\tremaining: 1.76s\n",
      "200:\tlearn: 1701.3415878\ttotal: 2.38s\tremaining: 1.17s\n",
      "250:\tlearn: 1676.9082854\ttotal: 2.98s\tremaining: 581ms\n",
      "299:\tlearn: 1658.4753703\ttotal: 3.57s\tremaining: 0us\n",
      "0:\tlearn: 4292.6342955\ttotal: 13.3ms\tremaining: 3.99s\n",
      "50:\tlearn: 1906.2400626\ttotal: 599ms\tremaining: 2.92s\n",
      "100:\tlearn: 1786.4358252\ttotal: 1.17s\tremaining: 2.31s\n",
      "150:\tlearn: 1736.5109907\ttotal: 1.74s\tremaining: 1.72s\n",
      "200:\tlearn: 1702.0110662\ttotal: 2.32s\tremaining: 1.14s\n",
      "250:\tlearn: 1676.8724480\ttotal: 2.88s\tremaining: 563ms\n",
      "299:\tlearn: 1655.7024847\ttotal: 3.45s\tremaining: 0us\n",
      "0:\tlearn: 4293.2160281\ttotal: 13.8ms\tremaining: 4.12s\n",
      "50:\tlearn: 1907.1157746\ttotal: 630ms\tremaining: 3.08s\n",
      "100:\tlearn: 1790.4549247\ttotal: 1.2s\tremaining: 2.36s\n",
      "150:\tlearn: 1733.9487832\ttotal: 1.78s\tremaining: 1.75s\n",
      "200:\tlearn: 1699.3797944\ttotal: 2.36s\tremaining: 1.16s\n",
      "250:\tlearn: 1673.7275183\ttotal: 2.94s\tremaining: 573ms\n",
      "299:\tlearn: 1654.5311437\ttotal: 3.5s\tremaining: 0us\n",
      "0:\tlearn: 3736.6424494\ttotal: 13.3ms\tremaining: 3.98s\n",
      "50:\tlearn: 1747.0820271\ttotal: 620ms\tremaining: 3.03s\n",
      "100:\tlearn: 1667.5706704\ttotal: 1.21s\tremaining: 2.38s\n",
      "150:\tlearn: 1620.8216888\ttotal: 1.79s\tremaining: 1.77s\n",
      "200:\tlearn: 1586.8262839\ttotal: 2.37s\tremaining: 1.17s\n",
      "250:\tlearn: 1560.6544363\ttotal: 2.98s\tremaining: 583ms\n",
      "299:\tlearn: 1540.5242095\ttotal: 3.56s\tremaining: 0us\n"
     ]
    },
    {
     "name": "stdout",
     "output_type": "stream",
     "text": [
      "0:\tlearn: 3732.4521773\ttotal: 14.8ms\tremaining: 4.41s\n",
      "50:\tlearn: 1752.2799348\ttotal: 596ms\tremaining: 2.91s\n",
      "100:\tlearn: 1669.2128553\ttotal: 1.19s\tremaining: 2.34s\n",
      "150:\tlearn: 1622.6323054\ttotal: 1.78s\tremaining: 1.75s\n",
      "200:\tlearn: 1588.7175514\ttotal: 2.34s\tremaining: 1.15s\n",
      "250:\tlearn: 1561.0813155\ttotal: 2.92s\tremaining: 571ms\n",
      "299:\tlearn: 1538.5706252\ttotal: 3.52s\tremaining: 0us\n",
      "0:\tlearn: 3731.7532487\ttotal: 14.5ms\tremaining: 4.32s\n",
      "50:\tlearn: 1743.2911524\ttotal: 625ms\tremaining: 3.05s\n",
      "100:\tlearn: 1663.1729620\ttotal: 1.21s\tremaining: 2.38s\n",
      "150:\tlearn: 1616.6225406\ttotal: 1.79s\tremaining: 1.77s\n",
      "200:\tlearn: 1582.1940815\ttotal: 2.44s\tremaining: 1.2s\n",
      "250:\tlearn: 1554.7200072\ttotal: 3.04s\tremaining: 593ms\n",
      "299:\tlearn: 1532.5510263\ttotal: 3.63s\tremaining: 0us\n",
      "0:\tlearn: 3725.5359017\ttotal: 19ms\tremaining: 5.69s\n",
      "50:\tlearn: 1751.2249241\ttotal: 603ms\tremaining: 2.94s\n",
      "100:\tlearn: 1665.6338945\ttotal: 1.19s\tremaining: 2.33s\n",
      "150:\tlearn: 1616.1284415\ttotal: 1.76s\tremaining: 1.74s\n",
      "200:\tlearn: 1583.4859153\ttotal: 2.34s\tremaining: 1.15s\n",
      "250:\tlearn: 1555.5570193\ttotal: 2.92s\tremaining: 571ms\n",
      "299:\tlearn: 1534.4331124\ttotal: 3.5s\tremaining: 0us\n",
      "0:\tlearn: 3725.0675489\ttotal: 13.8ms\tremaining: 4.14s\n",
      "50:\tlearn: 1737.8730437\ttotal: 624ms\tremaining: 3.04s\n",
      "100:\tlearn: 1660.1451466\ttotal: 1.21s\tremaining: 2.39s\n",
      "150:\tlearn: 1616.9566454\ttotal: 1.78s\tremaining: 1.76s\n",
      "200:\tlearn: 1582.7435101\ttotal: 2.36s\tremaining: 1.16s\n",
      "250:\tlearn: 1556.4211090\ttotal: 2.93s\tremaining: 573ms\n",
      "299:\tlearn: 1534.7721435\ttotal: 3.55s\tremaining: 0us\n",
      "0:\tlearn: 3736.6424494\ttotal: 13.7ms\tremaining: 4.08s\n",
      "50:\tlearn: 1747.0820271\ttotal: 608ms\tremaining: 2.97s\n",
      "100:\tlearn: 1667.5706704\ttotal: 1.2s\tremaining: 2.37s\n",
      "150:\tlearn: 1620.8216888\ttotal: 1.8s\tremaining: 1.78s\n",
      "200:\tlearn: 1586.8262839\ttotal: 2.4s\tremaining: 1.18s\n",
      "250:\tlearn: 1560.6544363\ttotal: 3s\tremaining: 586ms\n",
      "299:\tlearn: 1540.5242095\ttotal: 3.56s\tremaining: 0us\n",
      "0:\tlearn: 3732.4521773\ttotal: 14.2ms\tremaining: 4.24s\n",
      "50:\tlearn: 1752.2799348\ttotal: 613ms\tremaining: 2.99s\n",
      "100:\tlearn: 1669.2128553\ttotal: 1.22s\tremaining: 2.41s\n",
      "150:\tlearn: 1622.6323054\ttotal: 1.81s\tremaining: 1.78s\n",
      "200:\tlearn: 1588.7175514\ttotal: 2.38s\tremaining: 1.17s\n",
      "250:\tlearn: 1561.0813155\ttotal: 2.97s\tremaining: 579ms\n",
      "299:\tlearn: 1538.5706252\ttotal: 3.59s\tremaining: 0us\n",
      "0:\tlearn: 3731.7532487\ttotal: 14ms\tremaining: 4.18s\n",
      "50:\tlearn: 1743.2911524\ttotal: 604ms\tremaining: 2.95s\n",
      "100:\tlearn: 1663.1729620\ttotal: 1.19s\tremaining: 2.34s\n",
      "150:\tlearn: 1616.6225406\ttotal: 1.77s\tremaining: 1.75s\n",
      "200:\tlearn: 1582.1940815\ttotal: 2.36s\tremaining: 1.16s\n",
      "250:\tlearn: 1554.7200072\ttotal: 2.96s\tremaining: 577ms\n",
      "299:\tlearn: 1532.5510263\ttotal: 3.53s\tremaining: 0us\n",
      "0:\tlearn: 3725.5359017\ttotal: 13.6ms\tremaining: 4.08s\n",
      "50:\tlearn: 1751.2249241\ttotal: 598ms\tremaining: 2.92s\n",
      "100:\tlearn: 1665.6338945\ttotal: 1.21s\tremaining: 2.39s\n",
      "150:\tlearn: 1616.1284415\ttotal: 1.81s\tremaining: 1.79s\n",
      "200:\tlearn: 1583.4859153\ttotal: 2.47s\tremaining: 1.22s\n",
      "250:\tlearn: 1555.5570193\ttotal: 3.07s\tremaining: 599ms\n",
      "299:\tlearn: 1534.4331124\ttotal: 3.63s\tremaining: 0us\n",
      "0:\tlearn: 3725.0675489\ttotal: 13.9ms\tremaining: 4.16s\n",
      "50:\tlearn: 1737.8730437\ttotal: 619ms\tremaining: 3.02s\n",
      "100:\tlearn: 1660.1451466\ttotal: 1.25s\tremaining: 2.47s\n",
      "150:\tlearn: 1616.9566454\ttotal: 1.91s\tremaining: 1.89s\n",
      "200:\tlearn: 1582.7435101\ttotal: 2.52s\tremaining: 1.24s\n",
      "250:\tlearn: 1556.4211090\ttotal: 3.1s\tremaining: 605ms\n",
      "299:\tlearn: 1534.7721435\ttotal: 3.66s\tremaining: 0us\n",
      "0:\tlearn: 3736.6424494\ttotal: 15.8ms\tremaining: 4.72s\n",
      "50:\tlearn: 1747.0820271\ttotal: 744ms\tremaining: 3.63s\n",
      "100:\tlearn: 1667.5706704\ttotal: 1.46s\tremaining: 2.88s\n",
      "150:\tlearn: 1620.8216888\ttotal: 2.18s\tremaining: 2.15s\n",
      "200:\tlearn: 1586.8262839\ttotal: 2.9s\tremaining: 1.43s\n",
      "250:\tlearn: 1560.6544363\ttotal: 3.61s\tremaining: 705ms\n",
      "299:\tlearn: 1540.5242095\ttotal: 4.32s\tremaining: 0us\n",
      "0:\tlearn: 3732.4521773\ttotal: 24ms\tremaining: 7.19s\n",
      "50:\tlearn: 1752.2799348\ttotal: 613ms\tremaining: 2.99s\n",
      "100:\tlearn: 1669.2128553\ttotal: 1.24s\tremaining: 2.45s\n",
      "150:\tlearn: 1622.6323054\ttotal: 1.82s\tremaining: 1.8s\n",
      "200:\tlearn: 1588.7175514\ttotal: 2.42s\tremaining: 1.19s\n",
      "250:\tlearn: 1561.0813155\ttotal: 3.01s\tremaining: 587ms\n",
      "299:\tlearn: 1538.5706252\ttotal: 3.57s\tremaining: 0us\n",
      "0:\tlearn: 3731.7532487\ttotal: 13.9ms\tremaining: 4.16s\n",
      "50:\tlearn: 1743.2911524\ttotal: 624ms\tremaining: 3.05s\n",
      "100:\tlearn: 1663.1729620\ttotal: 1.21s\tremaining: 2.39s\n",
      "150:\tlearn: 1616.6225406\ttotal: 1.8s\tremaining: 1.77s\n",
      "200:\tlearn: 1582.1940815\ttotal: 2.38s\tremaining: 1.17s\n",
      "250:\tlearn: 1554.7200072\ttotal: 2.98s\tremaining: 581ms\n",
      "299:\tlearn: 1532.5510263\ttotal: 3.58s\tremaining: 0us\n",
      "0:\tlearn: 3725.5359017\ttotal: 13.8ms\tremaining: 4.13s\n",
      "50:\tlearn: 1751.2249241\ttotal: 661ms\tremaining: 3.23s\n",
      "100:\tlearn: 1665.6338945\ttotal: 1.25s\tremaining: 2.47s\n",
      "150:\tlearn: 1616.1284415\ttotal: 1.83s\tremaining: 1.8s\n",
      "200:\tlearn: 1583.4859153\ttotal: 2.39s\tremaining: 1.18s\n",
      "250:\tlearn: 1555.5570193\ttotal: 2.96s\tremaining: 579ms\n",
      "299:\tlearn: 1534.4331124\ttotal: 3.52s\tremaining: 0us\n",
      "0:\tlearn: 3725.0675489\ttotal: 14.5ms\tremaining: 4.33s\n",
      "50:\tlearn: 1737.8730437\ttotal: 649ms\tremaining: 3.17s\n",
      "100:\tlearn: 1660.1451466\ttotal: 1.23s\tremaining: 2.42s\n",
      "150:\tlearn: 1616.9566454\ttotal: 1.81s\tremaining: 1.78s\n",
      "200:\tlearn: 1582.7435101\ttotal: 2.39s\tremaining: 1.18s\n",
      "250:\tlearn: 1556.4211090\ttotal: 2.96s\tremaining: 578ms\n",
      "299:\tlearn: 1534.7721435\ttotal: 3.52s\tremaining: 0us\n",
      "0:\tlearn: 3736.6424494\ttotal: 13.9ms\tremaining: 4.16s\n",
      "50:\tlearn: 1747.0820271\ttotal: 607ms\tremaining: 2.96s\n",
      "100:\tlearn: 1667.5706704\ttotal: 1.19s\tremaining: 2.35s\n",
      "150:\tlearn: 1620.8216888\ttotal: 1.78s\tremaining: 1.75s\n",
      "200:\tlearn: 1586.8262839\ttotal: 2.35s\tremaining: 1.16s\n",
      "250:\tlearn: 1560.6544363\ttotal: 2.94s\tremaining: 575ms\n",
      "299:\tlearn: 1540.5242095\ttotal: 3.5s\tremaining: 0us\n",
      "0:\tlearn: 3732.4521773\ttotal: 17.5ms\tremaining: 5.24s\n",
      "50:\tlearn: 1752.2799348\ttotal: 597ms\tremaining: 2.92s\n",
      "100:\tlearn: 1669.2128553\ttotal: 1.2s\tremaining: 2.36s\n",
      "150:\tlearn: 1622.6323054\ttotal: 1.79s\tremaining: 1.76s\n",
      "200:\tlearn: 1588.7175514\ttotal: 2.37s\tremaining: 1.17s\n",
      "250:\tlearn: 1561.0813155\ttotal: 2.98s\tremaining: 582ms\n",
      "299:\tlearn: 1538.5706252\ttotal: 3.55s\tremaining: 0us\n",
      "0:\tlearn: 3731.7532487\ttotal: 15.7ms\tremaining: 4.69s\n",
      "50:\tlearn: 1743.2911524\ttotal: 607ms\tremaining: 2.96s\n",
      "100:\tlearn: 1663.1729620\ttotal: 1.19s\tremaining: 2.35s\n",
      "150:\tlearn: 1616.6225406\ttotal: 1.77s\tremaining: 1.75s\n",
      "200:\tlearn: 1582.1940815\ttotal: 2.36s\tremaining: 1.16s\n",
      "250:\tlearn: 1554.7200072\ttotal: 2.96s\tremaining: 577ms\n",
      "299:\tlearn: 1532.5510263\ttotal: 3.54s\tremaining: 0us\n",
      "0:\tlearn: 3725.5359017\ttotal: 13.7ms\tremaining: 4.11s\n",
      "50:\tlearn: 1751.2249241\ttotal: 608ms\tremaining: 2.97s\n",
      "100:\tlearn: 1665.6338945\ttotal: 1.19s\tremaining: 2.35s\n",
      "150:\tlearn: 1616.1284415\ttotal: 1.78s\tremaining: 1.76s\n",
      "200:\tlearn: 1583.4859153\ttotal: 2.36s\tremaining: 1.16s\n",
      "250:\tlearn: 1555.5570193\ttotal: 2.94s\tremaining: 574ms\n",
      "299:\tlearn: 1534.4331124\ttotal: 3.52s\tremaining: 0us\n",
      "0:\tlearn: 3725.0675489\ttotal: 18ms\tremaining: 5.38s\n",
      "50:\tlearn: 1737.8730437\ttotal: 620ms\tremaining: 3.03s\n",
      "100:\tlearn: 1660.1451466\ttotal: 1.2s\tremaining: 2.36s\n",
      "150:\tlearn: 1616.9566454\ttotal: 1.77s\tremaining: 1.75s\n",
      "200:\tlearn: 1582.7435101\ttotal: 2.35s\tremaining: 1.16s\n",
      "250:\tlearn: 1556.4211090\ttotal: 2.93s\tremaining: 572ms\n",
      "299:\tlearn: 1534.7721435\ttotal: 3.49s\tremaining: 0us\n",
      "0:\tlearn: 4446.5683851\ttotal: 15.9ms\tremaining: 4.76s\n",
      "50:\tlearn: 2075.7459437\ttotal: 763ms\tremaining: 3.73s\n",
      "100:\tlearn: 1869.7650097\ttotal: 1.49s\tremaining: 2.93s\n",
      "150:\tlearn: 1797.4411415\ttotal: 2.19s\tremaining: 2.17s\n",
      "200:\tlearn: 1755.8161788\ttotal: 2.88s\tremaining: 1.42s\n",
      "250:\tlearn: 1725.9469482\ttotal: 3.56s\tremaining: 696ms\n",
      "299:\tlearn: 1703.9262218\ttotal: 4.22s\tremaining: 0us\n",
      "0:\tlearn: 4442.1654749\ttotal: 23.7ms\tremaining: 7.1s\n",
      "50:\tlearn: 2089.2425163\ttotal: 719ms\tremaining: 3.51s\n",
      "100:\tlearn: 1879.2395970\ttotal: 1.4s\tremaining: 2.76s\n",
      "150:\tlearn: 1806.5279067\ttotal: 2.11s\tremaining: 2.08s\n",
      "200:\tlearn: 1763.2473060\ttotal: 2.82s\tremaining: 1.39s\n",
      "250:\tlearn: 1733.6670679\ttotal: 3.51s\tremaining: 686ms\n",
      "299:\tlearn: 1711.5280476\ttotal: 4.29s\tremaining: 0us\n",
      "0:\tlearn: 4446.7019053\ttotal: 17.3ms\tremaining: 5.16s\n",
      "50:\tlearn: 2076.0108168\ttotal: 877ms\tremaining: 4.28s\n",
      "100:\tlearn: 1866.5749096\ttotal: 1.85s\tremaining: 3.64s\n",
      "150:\tlearn: 1794.3041642\ttotal: 2.66s\tremaining: 2.62s\n"
     ]
    },
    {
     "name": "stdout",
     "output_type": "stream",
     "text": [
      "200:\tlearn: 1752.9422610\ttotal: 3.34s\tremaining: 1.65s\n",
      "250:\tlearn: 1722.8465864\ttotal: 4.04s\tremaining: 788ms\n",
      "299:\tlearn: 1700.0415720\ttotal: 4.69s\tremaining: 0us\n",
      "0:\tlearn: 4438.5692096\ttotal: 15.5ms\tremaining: 4.65s\n",
      "50:\tlearn: 2079.4272019\ttotal: 732ms\tremaining: 3.57s\n",
      "100:\tlearn: 1871.6693003\ttotal: 1.4s\tremaining: 2.76s\n",
      "150:\tlearn: 1799.1640290\ttotal: 2.06s\tremaining: 2.03s\n",
      "200:\tlearn: 1756.7457845\ttotal: 2.72s\tremaining: 1.34s\n",
      "250:\tlearn: 1726.0950748\ttotal: 3.4s\tremaining: 663ms\n",
      "299:\tlearn: 1703.6744121\ttotal: 4.05s\tremaining: 0us\n",
      "0:\tlearn: 4439.4591801\ttotal: 18.7ms\tremaining: 5.6s\n",
      "50:\tlearn: 2075.2382587\ttotal: 713ms\tremaining: 3.48s\n",
      "100:\tlearn: 1867.1315130\ttotal: 1.38s\tremaining: 2.73s\n",
      "150:\tlearn: 1794.4352159\ttotal: 2.07s\tremaining: 2.04s\n",
      "200:\tlearn: 1751.6050393\ttotal: 2.77s\tremaining: 1.36s\n",
      "250:\tlearn: 1721.9182261\ttotal: 3.5s\tremaining: 684ms\n",
      "299:\tlearn: 1699.9345230\ttotal: 4.16s\tremaining: 0us\n",
      "0:\tlearn: 4446.5683851\ttotal: 15.5ms\tremaining: 4.64s\n",
      "50:\tlearn: 2075.7459437\ttotal: 729ms\tremaining: 3.56s\n",
      "100:\tlearn: 1869.7650097\ttotal: 1.44s\tremaining: 2.83s\n",
      "150:\tlearn: 1797.4411415\ttotal: 2.36s\tremaining: 2.33s\n",
      "200:\tlearn: 1755.8161788\ttotal: 3.15s\tremaining: 1.55s\n",
      "250:\tlearn: 1725.9469482\ttotal: 4.05s\tremaining: 790ms\n",
      "299:\tlearn: 1703.9262218\ttotal: 4.9s\tremaining: 0us\n",
      "0:\tlearn: 4442.1654749\ttotal: 16.1ms\tremaining: 4.81s\n",
      "50:\tlearn: 2089.2425163\ttotal: 710ms\tremaining: 3.46s\n",
      "100:\tlearn: 1879.2395970\ttotal: 1.41s\tremaining: 2.77s\n",
      "150:\tlearn: 1806.5279067\ttotal: 2.28s\tremaining: 2.25s\n",
      "200:\tlearn: 1763.2473060\ttotal: 3.23s\tremaining: 1.59s\n",
      "250:\tlearn: 1733.6670679\ttotal: 4.11s\tremaining: 803ms\n",
      "299:\tlearn: 1711.5280476\ttotal: 4.97s\tremaining: 0us\n",
      "0:\tlearn: 4446.7019053\ttotal: 18.4ms\tremaining: 5.5s\n",
      "50:\tlearn: 2076.0108168\ttotal: 827ms\tremaining: 4.04s\n",
      "100:\tlearn: 1866.5749096\ttotal: 1.64s\tremaining: 3.23s\n",
      "150:\tlearn: 1794.3041642\ttotal: 2.57s\tremaining: 2.54s\n",
      "200:\tlearn: 1752.9422610\ttotal: 3.37s\tremaining: 1.66s\n",
      "250:\tlearn: 1722.8465864\ttotal: 4.08s\tremaining: 796ms\n",
      "299:\tlearn: 1700.0415720\ttotal: 4.79s\tremaining: 0us\n",
      "0:\tlearn: 4438.5692096\ttotal: 22.2ms\tremaining: 6.63s\n",
      "50:\tlearn: 2079.4272019\ttotal: 732ms\tremaining: 3.57s\n",
      "100:\tlearn: 1871.6693003\ttotal: 1.42s\tremaining: 2.8s\n",
      "150:\tlearn: 1799.1640290\ttotal: 2.11s\tremaining: 2.08s\n",
      "200:\tlearn: 1756.7457845\ttotal: 2.79s\tremaining: 1.37s\n",
      "250:\tlearn: 1726.0950748\ttotal: 3.47s\tremaining: 677ms\n",
      "299:\tlearn: 1703.6744121\ttotal: 4.12s\tremaining: 0us\n",
      "0:\tlearn: 4439.4591801\ttotal: 20.6ms\tremaining: 6.16s\n",
      "50:\tlearn: 2075.2382587\ttotal: 724ms\tremaining: 3.54s\n",
      "100:\tlearn: 1867.1315130\ttotal: 1.51s\tremaining: 2.98s\n",
      "150:\tlearn: 1794.4352159\ttotal: 2.23s\tremaining: 2.2s\n",
      "200:\tlearn: 1751.6050393\ttotal: 3.01s\tremaining: 1.48s\n",
      "250:\tlearn: 1721.9182261\ttotal: 3.69s\tremaining: 721ms\n",
      "299:\tlearn: 1699.9345230\ttotal: 4.34s\tremaining: 0us\n",
      "0:\tlearn: 4446.5683851\ttotal: 15.3ms\tremaining: 4.57s\n",
      "50:\tlearn: 2075.7459437\ttotal: 718ms\tremaining: 3.5s\n",
      "100:\tlearn: 1869.7650097\ttotal: 1.39s\tremaining: 2.75s\n",
      "150:\tlearn: 1797.4411415\ttotal: 2.06s\tremaining: 2.03s\n",
      "200:\tlearn: 1755.8161788\ttotal: 2.75s\tremaining: 1.36s\n",
      "250:\tlearn: 1725.9469482\ttotal: 3.45s\tremaining: 674ms\n",
      "299:\tlearn: 1703.9262218\ttotal: 4.15s\tremaining: 0us\n",
      "0:\tlearn: 4442.1654749\ttotal: 16.1ms\tremaining: 4.82s\n",
      "50:\tlearn: 2089.2425163\ttotal: 705ms\tremaining: 3.44s\n",
      "100:\tlearn: 1879.2395970\ttotal: 1.38s\tremaining: 2.71s\n",
      "150:\tlearn: 1806.5279067\ttotal: 2.05s\tremaining: 2.03s\n",
      "200:\tlearn: 1763.2473060\ttotal: 2.78s\tremaining: 1.37s\n",
      "250:\tlearn: 1733.6670679\ttotal: 3.52s\tremaining: 687ms\n",
      "299:\tlearn: 1711.5280476\ttotal: 4.39s\tremaining: 0us\n",
      "0:\tlearn: 4446.7019053\ttotal: 21ms\tremaining: 6.27s\n",
      "50:\tlearn: 2076.0108168\ttotal: 735ms\tremaining: 3.59s\n",
      "100:\tlearn: 1866.5749096\ttotal: 1.43s\tremaining: 2.82s\n",
      "150:\tlearn: 1794.3041642\ttotal: 2.16s\tremaining: 2.13s\n",
      "200:\tlearn: 1752.9422610\ttotal: 2.88s\tremaining: 1.42s\n",
      "250:\tlearn: 1722.8465864\ttotal: 3.59s\tremaining: 702ms\n",
      "299:\tlearn: 1700.0415720\ttotal: 4.28s\tremaining: 0us\n",
      "0:\tlearn: 4438.5692096\ttotal: 15.7ms\tremaining: 4.68s\n",
      "50:\tlearn: 2079.4272019\ttotal: 723ms\tremaining: 3.53s\n",
      "100:\tlearn: 1871.6693003\ttotal: 1.42s\tremaining: 2.79s\n",
      "150:\tlearn: 1799.1640290\ttotal: 2.12s\tremaining: 2.09s\n",
      "200:\tlearn: 1756.7457845\ttotal: 2.81s\tremaining: 1.38s\n",
      "250:\tlearn: 1726.0950748\ttotal: 3.49s\tremaining: 682ms\n",
      "299:\tlearn: 1703.6744121\ttotal: 4.16s\tremaining: 0us\n",
      "0:\tlearn: 4439.4591801\ttotal: 26.1ms\tremaining: 7.82s\n",
      "50:\tlearn: 2075.2382587\ttotal: 744ms\tremaining: 3.63s\n",
      "100:\tlearn: 1867.1315130\ttotal: 1.46s\tremaining: 2.88s\n",
      "150:\tlearn: 1794.4352159\ttotal: 2.13s\tremaining: 2.1s\n",
      "200:\tlearn: 1751.6050393\ttotal: 2.8s\tremaining: 1.38s\n",
      "250:\tlearn: 1721.9182261\ttotal: 3.48s\tremaining: 679ms\n",
      "299:\tlearn: 1699.9345230\ttotal: 4.13s\tremaining: 0us\n",
      "0:\tlearn: 4446.5683851\ttotal: 16.3ms\tremaining: 4.87s\n",
      "50:\tlearn: 2075.7459437\ttotal: 733ms\tremaining: 3.58s\n",
      "100:\tlearn: 1869.7650097\ttotal: 1.42s\tremaining: 2.81s\n",
      "150:\tlearn: 1797.4411415\ttotal: 2.13s\tremaining: 2.1s\n",
      "200:\tlearn: 1755.8161788\ttotal: 2.83s\tremaining: 1.4s\n",
      "250:\tlearn: 1725.9469482\ttotal: 3.52s\tremaining: 686ms\n",
      "299:\tlearn: 1703.9262218\ttotal: 4.18s\tremaining: 0us\n",
      "0:\tlearn: 4442.1654749\ttotal: 15.6ms\tremaining: 4.66s\n",
      "50:\tlearn: 2089.2425163\ttotal: 766ms\tremaining: 3.74s\n",
      "100:\tlearn: 1879.2395970\ttotal: 1.47s\tremaining: 2.89s\n",
      "150:\tlearn: 1806.5279067\ttotal: 2.15s\tremaining: 2.13s\n",
      "200:\tlearn: 1763.2473060\ttotal: 2.88s\tremaining: 1.42s\n",
      "250:\tlearn: 1733.6670679\ttotal: 3.56s\tremaining: 696ms\n",
      "299:\tlearn: 1711.5280476\ttotal: 4.25s\tremaining: 0us\n",
      "0:\tlearn: 4446.7019053\ttotal: 29.3ms\tremaining: 8.76s\n",
      "50:\tlearn: 2076.0108168\ttotal: 927ms\tremaining: 4.53s\n",
      "100:\tlearn: 1866.5749096\ttotal: 1.82s\tremaining: 3.59s\n",
      "150:\tlearn: 1794.3041642\ttotal: 2.63s\tremaining: 2.59s\n",
      "200:\tlearn: 1752.9422610\ttotal: 3.33s\tremaining: 1.64s\n",
      "250:\tlearn: 1722.8465864\ttotal: 4.02s\tremaining: 785ms\n",
      "299:\tlearn: 1700.0415720\ttotal: 4.71s\tremaining: 0us\n",
      "0:\tlearn: 4438.5692096\ttotal: 20.9ms\tremaining: 6.26s\n",
      "50:\tlearn: 2079.4272019\ttotal: 744ms\tremaining: 3.63s\n",
      "100:\tlearn: 1871.6693003\ttotal: 1.43s\tremaining: 2.82s\n",
      "150:\tlearn: 1799.1640290\ttotal: 2.1s\tremaining: 2.08s\n",
      "200:\tlearn: 1756.7457845\ttotal: 2.79s\tremaining: 1.38s\n",
      "250:\tlearn: 1726.0950748\ttotal: 3.52s\tremaining: 687ms\n",
      "299:\tlearn: 1703.6744121\ttotal: 4.36s\tremaining: 0us\n",
      "0:\tlearn: 4439.4591801\ttotal: 34.5ms\tremaining: 10.3s\n",
      "50:\tlearn: 2075.2382587\ttotal: 751ms\tremaining: 3.66s\n",
      "100:\tlearn: 1867.1315130\ttotal: 1.44s\tremaining: 2.84s\n",
      "150:\tlearn: 1794.4352159\ttotal: 2.12s\tremaining: 2.09s\n",
      "200:\tlearn: 1751.6050393\ttotal: 2.82s\tremaining: 1.39s\n",
      "250:\tlearn: 1721.9182261\ttotal: 3.51s\tremaining: 685ms\n",
      "299:\tlearn: 1699.9345230\ttotal: 4.18s\tremaining: 0us\n",
      "0:\tlearn: 4292.0994299\ttotal: 26.1ms\tremaining: 7.81s\n",
      "50:\tlearn: 1875.7683085\ttotal: 744ms\tremaining: 3.63s\n",
      "100:\tlearn: 1761.6118530\ttotal: 1.45s\tremaining: 2.85s\n",
      "150:\tlearn: 1706.7111244\ttotal: 2.13s\tremaining: 2.11s\n",
      "200:\tlearn: 1671.1699832\ttotal: 2.81s\tremaining: 1.38s\n",
      "250:\tlearn: 1644.2673352\ttotal: 3.48s\tremaining: 680ms\n",
      "299:\tlearn: 1624.5340640\ttotal: 4.14s\tremaining: 0us\n",
      "0:\tlearn: 4287.9181260\ttotal: 20.8ms\tremaining: 6.21s\n",
      "50:\tlearn: 1876.1349577\ttotal: 702ms\tremaining: 3.43s\n",
      "100:\tlearn: 1761.2343745\ttotal: 1.37s\tremaining: 2.7s\n",
      "150:\tlearn: 1708.3215492\ttotal: 2.04s\tremaining: 2.02s\n",
      "200:\tlearn: 1672.9792082\ttotal: 2.71s\tremaining: 1.33s\n",
      "250:\tlearn: 1644.7952252\ttotal: 3.4s\tremaining: 663ms\n",
      "299:\tlearn: 1622.9797549\ttotal: 4.11s\tremaining: 0us\n",
      "0:\tlearn: 4291.3189069\ttotal: 15.6ms\tremaining: 4.66s\n",
      "50:\tlearn: 1869.2704607\ttotal: 692ms\tremaining: 3.38s\n",
      "100:\tlearn: 1753.9033564\ttotal: 1.37s\tremaining: 2.7s\n",
      "150:\tlearn: 1702.7592758\ttotal: 2.08s\tremaining: 2.05s\n",
      "200:\tlearn: 1667.6219713\ttotal: 2.78s\tremaining: 1.37s\n",
      "250:\tlearn: 1641.7465614\ttotal: 3.45s\tremaining: 674ms\n",
      "299:\tlearn: 1620.9516977\ttotal: 4.1s\tremaining: 0us\n",
      "0:\tlearn: 4283.5519808\ttotal: 15.9ms\tremaining: 4.76s\n",
      "50:\tlearn: 1869.0471407\ttotal: 708ms\tremaining: 3.46s\n",
      "100:\tlearn: 1754.4372824\ttotal: 1.4s\tremaining: 2.75s\n",
      "150:\tlearn: 1703.0519905\ttotal: 2.06s\tremaining: 2.03s\n",
      "200:\tlearn: 1666.6399918\ttotal: 2.72s\tremaining: 1.34s\n",
      "250:\tlearn: 1638.9542566\ttotal: 3.39s\tremaining: 662ms\n",
      "299:\tlearn: 1617.7948807\ttotal: 4.04s\tremaining: 0us\n",
      "0:\tlearn: 4284.2388254\ttotal: 23.2ms\tremaining: 6.93s\n"
     ]
    },
    {
     "name": "stdout",
     "output_type": "stream",
     "text": [
      "50:\tlearn: 1862.7692440\ttotal: 801ms\tremaining: 3.91s\n",
      "100:\tlearn: 1754.3624537\ttotal: 1.51s\tremaining: 2.98s\n",
      "150:\tlearn: 1703.3274333\ttotal: 2.19s\tremaining: 2.16s\n",
      "200:\tlearn: 1669.4218096\ttotal: 2.86s\tremaining: 1.41s\n",
      "250:\tlearn: 1642.0745910\ttotal: 3.55s\tremaining: 692ms\n",
      "299:\tlearn: 1620.7403294\ttotal: 4.21s\tremaining: 0us\n",
      "0:\tlearn: 4292.0994299\ttotal: 17.2ms\tremaining: 5.14s\n",
      "50:\tlearn: 1875.7683085\ttotal: 837ms\tremaining: 4.08s\n",
      "100:\tlearn: 1761.6118530\ttotal: 1.57s\tremaining: 3.09s\n",
      "150:\tlearn: 1706.7111244\ttotal: 2.26s\tremaining: 2.23s\n",
      "200:\tlearn: 1671.1699832\ttotal: 2.96s\tremaining: 1.46s\n",
      "250:\tlearn: 1644.2673352\ttotal: 3.63s\tremaining: 709ms\n",
      "299:\tlearn: 1624.5340640\ttotal: 4.3s\tremaining: 0us\n",
      "0:\tlearn: 4287.9181260\ttotal: 17ms\tremaining: 5.08s\n",
      "50:\tlearn: 1876.1349577\ttotal: 694ms\tremaining: 3.39s\n",
      "100:\tlearn: 1761.2343745\ttotal: 1.36s\tremaining: 2.67s\n",
      "150:\tlearn: 1708.3215492\ttotal: 2.02s\tremaining: 2s\n",
      "200:\tlearn: 1672.9792082\ttotal: 2.68s\tremaining: 1.32s\n",
      "250:\tlearn: 1644.7952252\ttotal: 3.35s\tremaining: 654ms\n",
      "299:\tlearn: 1622.9797549\ttotal: 4.01s\tremaining: 0us\n",
      "0:\tlearn: 4291.3189069\ttotal: 22.4ms\tremaining: 6.69s\n",
      "50:\tlearn: 1869.2704607\ttotal: 708ms\tremaining: 3.46s\n",
      "100:\tlearn: 1753.9033564\ttotal: 1.41s\tremaining: 2.78s\n",
      "150:\tlearn: 1702.7592758\ttotal: 2.08s\tremaining: 2.06s\n",
      "200:\tlearn: 1667.6219713\ttotal: 2.82s\tremaining: 1.39s\n",
      "250:\tlearn: 1641.7465614\ttotal: 3.53s\tremaining: 688ms\n",
      "299:\tlearn: 1620.9516977\ttotal: 4.22s\tremaining: 0us\n",
      "0:\tlearn: 4283.5519808\ttotal: 15.5ms\tremaining: 4.64s\n",
      "50:\tlearn: 1869.0471407\ttotal: 725ms\tremaining: 3.54s\n",
      "100:\tlearn: 1754.4372824\ttotal: 1.45s\tremaining: 2.86s\n",
      "150:\tlearn: 1703.0519905\ttotal: 2.2s\tremaining: 2.17s\n",
      "200:\tlearn: 1666.6399918\ttotal: 2.9s\tremaining: 1.43s\n",
      "250:\tlearn: 1638.9542566\ttotal: 3.64s\tremaining: 710ms\n",
      "299:\tlearn: 1617.7948807\ttotal: 4.39s\tremaining: 0us\n",
      "0:\tlearn: 4284.2388254\ttotal: 16.2ms\tremaining: 4.84s\n",
      "50:\tlearn: 1862.7692440\ttotal: 779ms\tremaining: 3.8s\n",
      "100:\tlearn: 1754.3624537\ttotal: 1.55s\tremaining: 3.05s\n",
      "150:\tlearn: 1703.3274333\ttotal: 2.28s\tremaining: 2.25s\n",
      "200:\tlearn: 1669.4218096\ttotal: 3.04s\tremaining: 1.5s\n",
      "250:\tlearn: 1642.0745910\ttotal: 3.82s\tremaining: 746ms\n",
      "299:\tlearn: 1620.7403294\ttotal: 4.59s\tremaining: 0us\n",
      "0:\tlearn: 4292.0994299\ttotal: 15.9ms\tremaining: 4.75s\n",
      "50:\tlearn: 1875.7683085\ttotal: 699ms\tremaining: 3.41s\n",
      "100:\tlearn: 1761.6118530\ttotal: 1.39s\tremaining: 2.74s\n",
      "150:\tlearn: 1706.7111244\ttotal: 2.06s\tremaining: 2.03s\n",
      "200:\tlearn: 1671.1699832\ttotal: 2.72s\tremaining: 1.34s\n",
      "250:\tlearn: 1644.2673352\ttotal: 3.44s\tremaining: 672ms\n",
      "299:\tlearn: 1624.5340640\ttotal: 4.16s\tremaining: 0us\n",
      "0:\tlearn: 4287.9181260\ttotal: 28.9ms\tremaining: 8.63s\n",
      "50:\tlearn: 1876.1349577\ttotal: 709ms\tremaining: 3.46s\n",
      "100:\tlearn: 1761.2343745\ttotal: 1.38s\tremaining: 2.71s\n",
      "150:\tlearn: 1708.3215492\ttotal: 2.04s\tremaining: 2.02s\n",
      "200:\tlearn: 1672.9792082\ttotal: 2.7s\tremaining: 1.33s\n",
      "250:\tlearn: 1644.7952252\ttotal: 3.37s\tremaining: 659ms\n",
      "299:\tlearn: 1622.9797549\ttotal: 4.05s\tremaining: 0us\n",
      "0:\tlearn: 4291.3189069\ttotal: 37.6ms\tremaining: 11.2s\n",
      "50:\tlearn: 1869.2704607\ttotal: 719ms\tremaining: 3.51s\n",
      "100:\tlearn: 1753.9033564\ttotal: 1.39s\tremaining: 2.74s\n",
      "150:\tlearn: 1702.7592758\ttotal: 2.07s\tremaining: 2.05s\n",
      "200:\tlearn: 1667.6219713\ttotal: 2.75s\tremaining: 1.35s\n",
      "250:\tlearn: 1641.7465614\ttotal: 3.42s\tremaining: 668ms\n",
      "299:\tlearn: 1620.9516977\ttotal: 4.07s\tremaining: 0us\n",
      "0:\tlearn: 4283.5519808\ttotal: 15.9ms\tremaining: 4.76s\n",
      "50:\tlearn: 1869.0471407\ttotal: 703ms\tremaining: 3.43s\n",
      "100:\tlearn: 1754.4372824\ttotal: 1.39s\tremaining: 2.74s\n",
      "150:\tlearn: 1703.0519905\ttotal: 2.07s\tremaining: 2.05s\n",
      "200:\tlearn: 1666.6399918\ttotal: 2.74s\tremaining: 1.35s\n",
      "250:\tlearn: 1638.9542566\ttotal: 3.41s\tremaining: 666ms\n",
      "299:\tlearn: 1617.7948807\ttotal: 4.06s\tremaining: 0us\n",
      "0:\tlearn: 4284.2388254\ttotal: 16ms\tremaining: 4.78s\n",
      "50:\tlearn: 1862.7692440\ttotal: 696ms\tremaining: 3.4s\n",
      "100:\tlearn: 1754.3624537\ttotal: 1.37s\tremaining: 2.69s\n",
      "150:\tlearn: 1703.3274333\ttotal: 2.03s\tremaining: 2s\n",
      "200:\tlearn: 1669.4218096\ttotal: 2.69s\tremaining: 1.32s\n",
      "250:\tlearn: 1642.0745910\ttotal: 3.35s\tremaining: 654ms\n",
      "299:\tlearn: 1620.7403294\ttotal: 4s\tremaining: 0us\n",
      "0:\tlearn: 4292.0994299\ttotal: 32.4ms\tremaining: 9.69s\n",
      "50:\tlearn: 1875.7683085\ttotal: 697ms\tremaining: 3.4s\n",
      "100:\tlearn: 1761.6118530\ttotal: 1.35s\tremaining: 2.65s\n",
      "150:\tlearn: 1706.7111244\ttotal: 2s\tremaining: 1.98s\n",
      "200:\tlearn: 1671.1699832\ttotal: 2.66s\tremaining: 1.31s\n",
      "250:\tlearn: 1644.2673352\ttotal: 3.31s\tremaining: 647ms\n",
      "299:\tlearn: 1624.5340640\ttotal: 3.94s\tremaining: 0us\n",
      "0:\tlearn: 4287.9181260\ttotal: 36.1ms\tremaining: 10.8s\n",
      "50:\tlearn: 1876.1349577\ttotal: 699ms\tremaining: 3.41s\n",
      "100:\tlearn: 1761.2343745\ttotal: 1.36s\tremaining: 2.67s\n",
      "150:\tlearn: 1708.3215492\ttotal: 2.01s\tremaining: 1.99s\n",
      "200:\tlearn: 1672.9792082\ttotal: 2.66s\tremaining: 1.31s\n",
      "250:\tlearn: 1644.7952252\ttotal: 3.32s\tremaining: 648ms\n",
      "299:\tlearn: 1622.9797549\ttotal: 3.96s\tremaining: 0us\n",
      "0:\tlearn: 4291.3189069\ttotal: 19.1ms\tremaining: 5.7s\n",
      "50:\tlearn: 1869.2704607\ttotal: 686ms\tremaining: 3.35s\n",
      "100:\tlearn: 1753.9033564\ttotal: 1.35s\tremaining: 2.66s\n",
      "150:\tlearn: 1702.7592758\ttotal: 2.01s\tremaining: 1.98s\n",
      "200:\tlearn: 1667.6219713\ttotal: 2.67s\tremaining: 1.32s\n",
      "250:\tlearn: 1641.7465614\ttotal: 3.34s\tremaining: 652ms\n",
      "299:\tlearn: 1620.9516977\ttotal: 3.99s\tremaining: 0us\n",
      "0:\tlearn: 4283.5519808\ttotal: 15.5ms\tremaining: 4.64s\n",
      "50:\tlearn: 1869.0471407\ttotal: 679ms\tremaining: 3.31s\n",
      "100:\tlearn: 1754.4372824\ttotal: 1.33s\tremaining: 2.63s\n",
      "150:\tlearn: 1703.0519905\ttotal: 2s\tremaining: 1.97s\n",
      "200:\tlearn: 1666.6399918\ttotal: 2.65s\tremaining: 1.3s\n",
      "250:\tlearn: 1638.9542566\ttotal: 3.32s\tremaining: 648ms\n",
      "299:\tlearn: 1617.7948807\ttotal: 3.96s\tremaining: 0us\n",
      "0:\tlearn: 4284.2388254\ttotal: 15.7ms\tremaining: 4.71s\n",
      "50:\tlearn: 1862.7692440\ttotal: 679ms\tremaining: 3.32s\n",
      "100:\tlearn: 1754.3624537\ttotal: 1.35s\tremaining: 2.66s\n",
      "150:\tlearn: 1703.3274333\ttotal: 2s\tremaining: 1.97s\n",
      "200:\tlearn: 1669.4218096\ttotal: 2.65s\tremaining: 1.31s\n",
      "250:\tlearn: 1642.0745910\ttotal: 3.31s\tremaining: 646ms\n",
      "299:\tlearn: 1620.7403294\ttotal: 3.94s\tremaining: 0us\n",
      "0:\tlearn: 3708.2911201\ttotal: 15.6ms\tremaining: 4.67s\n",
      "50:\tlearn: 1718.9027036\ttotal: 676ms\tremaining: 3.3s\n",
      "100:\tlearn: 1631.1845317\ttotal: 1.33s\tremaining: 2.62s\n",
      "150:\tlearn: 1578.1723303\ttotal: 2s\tremaining: 1.98s\n",
      "200:\tlearn: 1542.6955937\ttotal: 2.67s\tremaining: 1.31s\n",
      "250:\tlearn: 1512.5648641\ttotal: 3.32s\tremaining: 648ms\n",
      "299:\tlearn: 1489.1062878\ttotal: 3.96s\tremaining: 0us\n",
      "0:\tlearn: 3704.9665952\ttotal: 36.3ms\tremaining: 10.9s\n",
      "50:\tlearn: 1718.0160569\ttotal: 711ms\tremaining: 3.47s\n",
      "100:\tlearn: 1633.9210698\ttotal: 1.43s\tremaining: 2.81s\n",
      "150:\tlearn: 1581.4055378\ttotal: 2.11s\tremaining: 2.08s\n",
      "200:\tlearn: 1544.1647891\ttotal: 2.78s\tremaining: 1.37s\n",
      "250:\tlearn: 1514.5968647\ttotal: 3.44s\tremaining: 671ms\n",
      "299:\tlearn: 1490.2598898\ttotal: 4.09s\tremaining: 0us\n",
      "0:\tlearn: 3703.7107687\ttotal: 15.5ms\tremaining: 4.64s\n",
      "50:\tlearn: 1710.7893678\ttotal: 710ms\tremaining: 3.47s\n",
      "100:\tlearn: 1627.1450859\ttotal: 1.36s\tremaining: 2.68s\n",
      "150:\tlearn: 1576.0799427\ttotal: 2.02s\tremaining: 1.99s\n",
      "200:\tlearn: 1541.2907824\ttotal: 2.71s\tremaining: 1.33s\n",
      "250:\tlearn: 1510.9812073\ttotal: 3.44s\tremaining: 671ms\n",
      "299:\tlearn: 1487.1304305\ttotal: 4.14s\tremaining: 0us\n",
      "0:\tlearn: 3697.3569539\ttotal: 18.8ms\tremaining: 5.63s\n",
      "50:\tlearn: 1709.3792832\ttotal: 742ms\tremaining: 3.62s\n",
      "100:\tlearn: 1624.3988431\ttotal: 1.41s\tremaining: 2.77s\n",
      "150:\tlearn: 1574.7010543\ttotal: 2.09s\tremaining: 2.06s\n",
      "200:\tlearn: 1535.5248512\ttotal: 2.76s\tremaining: 1.36s\n",
      "250:\tlearn: 1506.6509941\ttotal: 3.43s\tremaining: 670ms\n",
      "299:\tlearn: 1483.9343003\ttotal: 4.07s\tremaining: 0us\n",
      "0:\tlearn: 3697.2080812\ttotal: 15.5ms\tremaining: 4.63s\n",
      "50:\tlearn: 1707.9641241\ttotal: 707ms\tremaining: 3.45s\n",
      "100:\tlearn: 1624.9188444\ttotal: 1.37s\tremaining: 2.71s\n",
      "150:\tlearn: 1575.9261255\ttotal: 2.02s\tremaining: 2s\n",
      "200:\tlearn: 1539.2091638\ttotal: 2.7s\tremaining: 1.33s\n",
      "250:\tlearn: 1507.3704578\ttotal: 3.36s\tremaining: 656ms\n",
      "299:\tlearn: 1484.7568278\ttotal: 4s\tremaining: 0us\n",
      "0:\tlearn: 3708.2911201\ttotal: 18.5ms\tremaining: 5.53s\n",
      "50:\tlearn: 1718.9027036\ttotal: 709ms\tremaining: 3.46s\n",
      "100:\tlearn: 1631.1845317\ttotal: 1.37s\tremaining: 2.71s\n",
      "150:\tlearn: 1578.1723303\ttotal: 2.04s\tremaining: 2.01s\n",
      "200:\tlearn: 1542.6955937\ttotal: 2.71s\tremaining: 1.33s\n",
      "250:\tlearn: 1512.5648641\ttotal: 3.37s\tremaining: 658ms\n"
     ]
    },
    {
     "name": "stdout",
     "output_type": "stream",
     "text": [
      "299:\tlearn: 1489.1062878\ttotal: 4.04s\tremaining: 0us\n",
      "0:\tlearn: 3704.9665952\ttotal: 16.3ms\tremaining: 4.89s\n",
      "50:\tlearn: 1718.0160569\ttotal: 690ms\tremaining: 3.37s\n",
      "100:\tlearn: 1633.9210698\ttotal: 1.36s\tremaining: 2.69s\n",
      "150:\tlearn: 1581.4055378\ttotal: 2.04s\tremaining: 2.01s\n",
      "200:\tlearn: 1544.1647891\ttotal: 2.7s\tremaining: 1.33s\n",
      "250:\tlearn: 1514.5968647\ttotal: 3.36s\tremaining: 657ms\n",
      "299:\tlearn: 1490.2598898\ttotal: 4.03s\tremaining: 0us\n",
      "0:\tlearn: 3703.7107687\ttotal: 18.1ms\tremaining: 5.42s\n",
      "50:\tlearn: 1710.7893678\ttotal: 856ms\tremaining: 4.18s\n",
      "100:\tlearn: 1627.1450859\ttotal: 1.69s\tremaining: 3.32s\n",
      "150:\tlearn: 1576.0799427\ttotal: 2.52s\tremaining: 2.48s\n",
      "200:\tlearn: 1541.2907824\ttotal: 3.3s\tremaining: 1.63s\n",
      "250:\tlearn: 1510.9812073\ttotal: 3.96s\tremaining: 774ms\n",
      "299:\tlearn: 1487.1304305\ttotal: 4.61s\tremaining: 0us\n",
      "0:\tlearn: 3697.3569539\ttotal: 15.1ms\tremaining: 4.51s\n",
      "50:\tlearn: 1709.3792832\ttotal: 675ms\tremaining: 3.29s\n",
      "100:\tlearn: 1624.3988431\ttotal: 1.34s\tremaining: 2.64s\n",
      "150:\tlearn: 1574.7010543\ttotal: 1.99s\tremaining: 1.97s\n",
      "200:\tlearn: 1535.5248512\ttotal: 2.65s\tremaining: 1.31s\n",
      "250:\tlearn: 1506.6509941\ttotal: 3.31s\tremaining: 647ms\n",
      "299:\tlearn: 1483.9343003\ttotal: 3.95s\tremaining: 0us\n",
      "0:\tlearn: 3697.2080812\ttotal: 25ms\tremaining: 7.48s\n",
      "50:\tlearn: 1707.9641241\ttotal: 691ms\tremaining: 3.37s\n",
      "100:\tlearn: 1624.9188444\ttotal: 1.35s\tremaining: 2.67s\n",
      "150:\tlearn: 1575.9261255\ttotal: 2.01s\tremaining: 1.99s\n",
      "200:\tlearn: 1539.2091638\ttotal: 2.69s\tremaining: 1.33s\n",
      "250:\tlearn: 1507.3704578\ttotal: 3.36s\tremaining: 656ms\n",
      "299:\tlearn: 1484.7568278\ttotal: 4s\tremaining: 0us\n",
      "0:\tlearn: 3708.2911201\ttotal: 15.5ms\tremaining: 4.65s\n",
      "50:\tlearn: 1718.9027036\ttotal: 674ms\tremaining: 3.29s\n",
      "100:\tlearn: 1631.1845317\ttotal: 1.37s\tremaining: 2.7s\n",
      "150:\tlearn: 1578.1723303\ttotal: 2.04s\tremaining: 2.01s\n",
      "200:\tlearn: 1542.6955937\ttotal: 2.69s\tremaining: 1.32s\n",
      "250:\tlearn: 1512.5648641\ttotal: 3.35s\tremaining: 653ms\n",
      "299:\tlearn: 1489.1062878\ttotal: 4.03s\tremaining: 0us\n",
      "0:\tlearn: 3704.9665952\ttotal: 15.5ms\tremaining: 4.63s\n",
      "50:\tlearn: 1718.0160569\ttotal: 703ms\tremaining: 3.43s\n",
      "100:\tlearn: 1633.9210698\ttotal: 1.41s\tremaining: 2.77s\n",
      "150:\tlearn: 1581.4055378\ttotal: 2.08s\tremaining: 2.05s\n",
      "200:\tlearn: 1544.1647891\ttotal: 2.73s\tremaining: 1.35s\n",
      "250:\tlearn: 1514.5968647\ttotal: 3.42s\tremaining: 667ms\n",
      "299:\tlearn: 1490.2598898\ttotal: 4.07s\tremaining: 0us\n",
      "0:\tlearn: 3703.7107687\ttotal: 16.8ms\tremaining: 5.02s\n",
      "50:\tlearn: 1710.7893678\ttotal: 808ms\tremaining: 3.94s\n",
      "100:\tlearn: 1627.1450859\ttotal: 1.48s\tremaining: 2.92s\n",
      "150:\tlearn: 1576.0799427\ttotal: 2.16s\tremaining: 2.13s\n",
      "200:\tlearn: 1541.2907824\ttotal: 2.82s\tremaining: 1.39s\n",
      "250:\tlearn: 1510.9812073\ttotal: 3.48s\tremaining: 680ms\n",
      "299:\tlearn: 1487.1304305\ttotal: 4.14s\tremaining: 0us\n",
      "0:\tlearn: 3697.3569539\ttotal: 15.5ms\tremaining: 4.65s\n",
      "50:\tlearn: 1709.3792832\ttotal: 675ms\tremaining: 3.3s\n",
      "100:\tlearn: 1624.3988431\ttotal: 1.34s\tremaining: 2.64s\n",
      "150:\tlearn: 1574.7010543\ttotal: 1.99s\tremaining: 1.97s\n",
      "200:\tlearn: 1535.5248512\ttotal: 2.68s\tremaining: 1.32s\n",
      "250:\tlearn: 1506.6509941\ttotal: 3.38s\tremaining: 660ms\n",
      "299:\tlearn: 1483.9343003\ttotal: 4.01s\tremaining: 0us\n",
      "0:\tlearn: 3697.2080812\ttotal: 16.2ms\tremaining: 4.85s\n",
      "50:\tlearn: 1707.9641241\ttotal: 680ms\tremaining: 3.32s\n",
      "100:\tlearn: 1624.9188444\ttotal: 1.33s\tremaining: 2.62s\n",
      "150:\tlearn: 1575.9261255\ttotal: 1.98s\tremaining: 1.96s\n",
      "200:\tlearn: 1539.2091638\ttotal: 2.64s\tremaining: 1.3s\n",
      "250:\tlearn: 1507.3704578\ttotal: 3.29s\tremaining: 643ms\n",
      "299:\tlearn: 1484.7568278\ttotal: 3.93s\tremaining: 0us\n",
      "0:\tlearn: 3708.2911201\ttotal: 15.5ms\tremaining: 4.65s\n",
      "50:\tlearn: 1718.9027036\ttotal: 685ms\tremaining: 3.35s\n",
      "100:\tlearn: 1631.1845317\ttotal: 1.34s\tremaining: 2.65s\n",
      "150:\tlearn: 1578.1723303\ttotal: 2.01s\tremaining: 1.99s\n",
      "200:\tlearn: 1542.6955937\ttotal: 2.67s\tremaining: 1.31s\n",
      "250:\tlearn: 1512.5648641\ttotal: 3.36s\tremaining: 656ms\n",
      "299:\tlearn: 1489.1062878\ttotal: 4s\tremaining: 0us\n",
      "0:\tlearn: 3704.9665952\ttotal: 16.4ms\tremaining: 4.91s\n",
      "50:\tlearn: 1718.0160569\ttotal: 681ms\tremaining: 3.33s\n",
      "100:\tlearn: 1633.9210698\ttotal: 1.41s\tremaining: 2.78s\n",
      "150:\tlearn: 1581.4055378\ttotal: 2.07s\tremaining: 2.04s\n",
      "200:\tlearn: 1544.1647891\ttotal: 2.73s\tremaining: 1.34s\n",
      "250:\tlearn: 1514.5968647\ttotal: 3.38s\tremaining: 660ms\n",
      "299:\tlearn: 1490.2598898\ttotal: 4.05s\tremaining: 0us\n",
      "0:\tlearn: 3703.7107687\ttotal: 15.5ms\tremaining: 4.63s\n",
      "50:\tlearn: 1710.7893678\ttotal: 684ms\tremaining: 3.34s\n",
      "100:\tlearn: 1627.1450859\ttotal: 1.43s\tremaining: 2.81s\n",
      "150:\tlearn: 1576.0799427\ttotal: 2.09s\tremaining: 2.06s\n",
      "200:\tlearn: 1541.2907824\ttotal: 2.74s\tremaining: 1.35s\n",
      "250:\tlearn: 1510.9812073\ttotal: 3.46s\tremaining: 676ms\n",
      "299:\tlearn: 1487.1304305\ttotal: 4.11s\tremaining: 0us\n",
      "0:\tlearn: 3697.3569539\ttotal: 16.3ms\tremaining: 4.88s\n",
      "50:\tlearn: 1709.3792832\ttotal: 684ms\tremaining: 3.34s\n",
      "100:\tlearn: 1624.3988431\ttotal: 1.35s\tremaining: 2.67s\n",
      "150:\tlearn: 1574.7010543\ttotal: 2.01s\tremaining: 1.98s\n",
      "200:\tlearn: 1535.5248512\ttotal: 2.67s\tremaining: 1.31s\n",
      "250:\tlearn: 1506.6509941\ttotal: 3.33s\tremaining: 650ms\n",
      "299:\tlearn: 1483.9343003\ttotal: 3.96s\tremaining: 0us\n",
      "0:\tlearn: 3697.2080812\ttotal: 26.3ms\tremaining: 7.87s\n",
      "50:\tlearn: 1707.9641241\ttotal: 700ms\tremaining: 3.42s\n",
      "100:\tlearn: 1624.9188444\ttotal: 1.36s\tremaining: 2.69s\n",
      "150:\tlearn: 1575.9261255\ttotal: 2.03s\tremaining: 2s\n",
      "200:\tlearn: 1539.2091638\ttotal: 2.7s\tremaining: 1.33s\n",
      "250:\tlearn: 1507.3704578\ttotal: 3.36s\tremaining: 656ms\n",
      "299:\tlearn: 1484.7568278\ttotal: 4s\tremaining: 0us\n",
      "0:\tlearn: 3701.5430080\ttotal: 18.7ms\tremaining: 5.58s\n",
      "50:\tlearn: 1714.8490623\ttotal: 820ms\tremaining: 4s\n",
      "100:\tlearn: 1633.9039362\ttotal: 1.61s\tremaining: 3.17s\n",
      "150:\tlearn: 1585.9543276\ttotal: 2.41s\tremaining: 2.38s\n",
      "200:\tlearn: 1554.4198212\ttotal: 3.2s\tremaining: 1.58s\n",
      "250:\tlearn: 1527.1875192\ttotal: 4.01s\tremaining: 782ms\n",
      "299:\tlearn: 1504.2878322\ttotal: 4.82s\tremaining: 0us\n",
      "Лучшие гиперпараметры: {'catboostregressor__depth': 8, 'catboostregressor__learning_rate': 0.3, 'catboostregressor__min_data_in_leaf': 3}\n",
      "Значение RMSE: 1647.235999714651\n",
      "CPU times: total: 2h 10min 24s\n",
      "Wall time: 25min 25s\n"
     ]
    }
   ],
   "source": [
    "%%time\n",
    "\n",
    "search_cbr = GridSearchCV(pipeline_сbr, grid_cbr, cv=5, \n",
    "                          scoring = 'neg_root_mean_squared_error')\n",
    "search_cbr.fit(features_train, target_train)\n",
    "print('Лучшие гиперпараметры:', search_cbr.best_params_)\n",
    "print('Значение RMSE:', -(search_cbr.best_score_))"
   ]
  },
  {
   "cell_type": "markdown",
   "metadata": {},
   "source": [
    "Лучшие гиперпараметры: {'catboostregressor__depth': 8, 'catboostregressor__learning_rate': 0.3, 'catboostregressor__min_data_in_leaf': 3}\n",
    "Значение RMSE: 1803.827452301338\n",
    "CPU times: total: 2h 20min 46s\n",
    "Wall time: 28min 5s"
   ]
  },
  {
   "cell_type": "code",
   "execution_count": 55,
   "metadata": {},
   "outputs": [
    {
     "name": "stdout",
     "output_type": "stream",
     "text": [
      "0:\tlearn: 3701.5430080\ttotal: 22.4ms\tremaining: 6.7s\n",
      "50:\tlearn: 1714.8490623\ttotal: 821ms\tremaining: 4.01s\n",
      "100:\tlearn: 1633.9039362\ttotal: 1.62s\tremaining: 3.19s\n",
      "150:\tlearn: 1585.9543276\ttotal: 2.41s\tremaining: 2.38s\n",
      "200:\tlearn: 1554.4198212\ttotal: 3.19s\tremaining: 1.57s\n",
      "250:\tlearn: 1527.1875192\ttotal: 3.98s\tremaining: 776ms\n",
      "299:\tlearn: 1504.2878322\ttotal: 4.75s\tremaining: 0us\n",
      "CPU times: total: 34.4 s\n",
      "Wall time: 5.84 s\n"
     ]
    },
    {
     "data": {
      "text/plain": [
       "Pipeline(steps=[('columntransformer',\n",
       "                 ColumnTransformer(remainder='passthrough',\n",
       "                                   transformers=[('standardscaler',\n",
       "                                                  StandardScaler(),\n",
       "                                                  ['registration_year',\n",
       "                                                   'power']),\n",
       "                                                 ('ordinalencoder',\n",
       "                                                  OrdinalEncoder(handle_unknown='use_encoded_value',\n",
       "                                                                 unknown_value=-1),\n",
       "                                                  ['vehicle_type', 'gearbox',\n",
       "                                                   'model', 'fuel_type',\n",
       "                                                   'brand', 'repaired',\n",
       "                                                   'kilometer'])])),\n",
       "                ('catboostregressor',\n",
       "                 <catboost.core.CatBoostRegressor object at 0x0000027660FEF3A0>)])"
      ]
     },
     "execution_count": 55,
     "metadata": {},
     "output_type": "execute_result"
    }
   ],
   "source": [
    "%%time\n",
    "best_cbr = search_cbr.best_estimator_\n",
    "best_cbr.fit(features_train, target_train)"
   ]
  },
  {
   "cell_type": "code",
   "execution_count": 56,
   "metadata": {},
   "outputs": [
    {
     "name": "stdout",
     "output_type": "stream",
     "text": [
      "CPU times: total: 812 ms\n",
      "Wall time: 703 ms\n"
     ]
    }
   ],
   "source": [
    "%%time\n",
    "predict_cbr = search_cbr.best_estimator_.predict(features_train)"
   ]
  },
  {
   "cell_type": "markdown",
   "metadata": {},
   "source": [
    "### Модель LGBMRegressor"
   ]
  },
  {
   "cell_type": "raw",
   "metadata": {},
   "source": [
    "%%time\n",
    "model_lgb = LGBMRegressor(objective='regression', random_state=125)\n",
    "grid_lgb = {'n_estimators': [100, 150],\n",
    "        'max_depth': [7, 9],\n",
    "        'min_data_in_leaf': [20, 30]}\n",
    "\n",
    "\n",
    "search_lgb = GridSearchCV(model_lgb, grid_lgb,\n",
    "                     cv=5, scoring=rmse_scorer)\n",
    "search_lgb.fit(features_train, target_train)\n",
    "print('Лучшие гиперпараметры:', search_lgb.best_params_)\n",
    "print('Значение RMSE:', -(search_lgb.best_score_))"
   ]
  },
  {
   "cell_type": "markdown",
   "metadata": {},
   "source": [
    "Лучшие гиперпараметры: {'max_depth': 9, 'min_data_in_leaf': 20, 'n_estimators': 150}\n",
    "Значение RMSE: 1719.264754732308\n",
    "CPU times: user 10min 39s, sys: 7.05 s, total: 10min 46s\n",
    "Wall time: 10min 51s"
   ]
  },
  {
   "cell_type": "code",
   "execution_count": null,
   "metadata": {},
   "outputs": [],
   "source": [
    "%%time\n",
    "model_lgb =LGBMRegressor(objective='regression', max_depth=9, \n",
    "                         min_data_in_leaf=20, n_estimators=150,\n",
    "                         random_state=125) \n",
    "\n",
    "model_lgb.fit(features_train, target_train)"
   ]
  },
  {
   "cell_type": "raw",
   "metadata": {},
   "source": [
    "CPU times: user 8.32 s, sys: 65.7 ms, total: 8.39 s\n",
    "Wall time: 8.42 s"
   ]
  },
  {
   "cell_type": "code",
   "execution_count": null,
   "metadata": {},
   "outputs": [],
   "source": [
    "%%time\n",
    "predict_lgb = model_lgb.predict(features_test)"
   ]
  },
  {
   "cell_type": "markdown",
   "metadata": {},
   "source": [
    "Итог: Данные были подготовлены, категориальные признаки обработаны с помощью порядкового кодирования. \n",
    "Числовые параметры были промасштабированы. Обучено 4 модели регрессии. модели с градиентным бустингом CatBoostRegressor и LGBMRegressor показали лучший результат по качеству и времени обучения по сравнению с моделями Решающего дерева и Случайного леса. RMSE Случайного леса (1745) даже чуть лучше результата LGBMRegressor (1753), время обучения также лучше у Случайного леса, но стоит отметить, что очень много времени занимает подбор гиперпараметров для Случайного леса (больше часа).  "
   ]
  },
  {
   "cell_type": "markdown",
   "metadata": {},
   "source": [
    "## Анализ моделей"
   ]
  },
  {
   "cell_type": "code",
   "execution_count": 57,
   "metadata": {},
   "outputs": [
    {
     "data": {
      "text/html": [
       "<div>\n",
       "<style scoped>\n",
       "    .dataframe tbody tr th:only-of-type {\n",
       "        vertical-align: middle;\n",
       "    }\n",
       "\n",
       "    .dataframe tbody tr th {\n",
       "        vertical-align: top;\n",
       "    }\n",
       "\n",
       "    .dataframe thead th {\n",
       "        text-align: right;\n",
       "    }\n",
       "</style>\n",
       "<table border=\"1\" class=\"dataframe\">\n",
       "  <thead>\n",
       "    <tr style=\"text-align: right;\">\n",
       "      <th></th>\n",
       "      <th>model</th>\n",
       "      <th>rmse_train</th>\n",
       "      <th>train_time</th>\n",
       "      <th>predict_time</th>\n",
       "    </tr>\n",
       "  </thead>\n",
       "  <tbody>\n",
       "    <tr>\n",
       "      <th>0</th>\n",
       "      <td>desicion_tree</td>\n",
       "      <td>2017.000</td>\n",
       "      <td>0.75</td>\n",
       "      <td>0.097</td>\n",
       "    </tr>\n",
       "    <tr>\n",
       "      <th>1</th>\n",
       "      <td>random_forest</td>\n",
       "      <td>1987.000</td>\n",
       "      <td>15.30</td>\n",
       "      <td>0.400</td>\n",
       "    </tr>\n",
       "    <tr>\n",
       "      <th>2</th>\n",
       "      <td>catboost</td>\n",
       "      <td>1647.000</td>\n",
       "      <td>5.80</td>\n",
       "      <td>0.700</td>\n",
       "    </tr>\n",
       "    <tr>\n",
       "      <th>3</th>\n",
       "      <td>lgbm</td>\n",
       "      <td>1719.264</td>\n",
       "      <td>8.42</td>\n",
       "      <td>0.674</td>\n",
       "    </tr>\n",
       "  </tbody>\n",
       "</table>\n",
       "</div>"
      ],
      "text/plain": [
       "           model  rmse_train  train_time  predict_time\n",
       "0  desicion_tree    2017.000        0.75         0.097\n",
       "1  random_forest    1987.000       15.30         0.400\n",
       "2       catboost    1647.000        5.80         0.700\n",
       "3           lgbm    1719.264        8.42         0.674"
      ]
     },
     "execution_count": 57,
     "metadata": {},
     "output_type": "execute_result"
    }
   ],
   "source": [
    "data_list = {'model': ['desicion_tree', 'random_forest', 'catboost', 'lgbm'],\n",
    "             'rmse_train': [2017, 1987, 1647, 1719.264],\n",
    "             'train_time':[0.75, 15.3, 5.8, 8.42 ],\n",
    "             'predict_time':[0.097, 0.4, 0.7, 0.674]}\n",
    "             \n",
    "results = pd.DataFrame(data=data_list)\n",
    "results"
   ]
  },
  {
   "cell_type": "code",
   "execution_count": 63,
   "metadata": {},
   "outputs": [
    {
     "data": {
      "image/png": "[encoded data removed]",
      "text/plain": [
       "<Figure size 640x480 with 1 Axes>"
      ]
     },
     "metadata": {},
     "output_type": "display_data"
    }
   ],
   "source": [
    "sns.scatterplot(data=results, x=\"train_time\", y=\"rmse_train\", hue=\"model\", size=\"predict_time\", sizes=(20, 200))\n",
    "plt.legend(bbox_to_anchor=(1.02, 1), loc='upper left', borderaxespad=0)\n",
    "plt.xlabel('Время обучения')\n",
    "plt.ylabel('RMSE')\n",
    "plt.title(\"Распределение моделей по параметрам качества\");"
   ]
  },
  {
   "cell_type": "markdown",
   "metadata": {},
   "source": [
    "Из графика следует, что лучшие модели находятся ближе к началу координат, где меньше и значение RMSE и время обучения моделей. Размеры точек указывают на время предсказания моделей. CatBoostRegressor имеет лучшие показатели по 2 параметрам из трех: RMSE и время обучения, время предсказания у LGBM лучше на десятые доли секунды, поэтому лучшей моделью можно считать CatBoostRegressor."
   ]
  },
  {
   "cell_type": "code",
   "execution_count": 60,
   "metadata": {},
   "outputs": [],
   "source": [
    "predict_cbr_test = search_cbr.best_estimator_.predict(features_test)"
   ]
  },
  {
   "cell_type": "code",
   "execution_count": 61,
   "metadata": {},
   "outputs": [
    {
     "name": "stdout",
     "output_type": "stream",
     "text": [
      "RMSE Модели CatBoostRegressor на тестовой выборке: 1653.7411423420176\n"
     ]
    }
   ],
   "source": [
    "rmse_сbr = mean_squared_error(target_test, predict_cbr_test, squared=False)\n",
    "print('RMSE Модели CatBoostRegressor на тестовой выборке:', rmse_сbr)"
   ]
  },
  {
   "cell_type": "markdown",
   "metadata": {},
   "source": [
    "Качество на тестовой выборке изменилось не значительно."
   ]
  },
  {
   "cell_type": "markdown",
   "metadata": {},
   "source": []
  },
  {
   "cell_type": "markdown",
   "metadata": {},
   "source": [
    "### Общий вывод\n",
    "\n",
    "Было выявлено занчительное количество пропусков: 20% в колонке Repaired, 10,5% в типе кузова, 9.3% в типе топлива, по 5,6% в типе коробки передач и модели автомобиля. Пропуски в vehicle_type заполнили популярными значениями из других строк с той же моделью. Пропуски в 'repaired', 'fuel_type', 'model' и 'gearbox' заполнены значениями 'unknown'. Было удалено 4 дубликата, 2392 строки с попущеннымим значениями всех категориальных признаков и 8510 строк с нулями в целевом признаке price.Значения типов топлива petrol и gasoline oбъединили в одно значение petrol. Аномальные значения в колонках 'registration_year' и 'power' были удалены. Аномальных и неинофрмативных данных было удалено примерно 3.6 % от первоналального размера датафрейма.\n",
    "\n",
    "Были удалены неинформативные колонки 'DateCreated', 'NumberOfPictures', 'PostalCode', 'LastSeen','DateCrawled', 'RegistrationMonth'. После этого было удалено еще 45883 образовавшихся дубликатов. Названия оставшихся колонок были приведены к змеиному регистру. Выявлено более 30 000 строк с нулями в колонке 'power', нули были заменены на медианные значения для каждой модели. Всего было удалено 71427 строк, из них 45887 дубликатов.\n",
    "\n",
    "Данные были подготовлены, категориальные признаки обработаны с помощью порядкового кодирования. Числовые параметры были промасштабированы. Обучено 4 модели регрессии: модели с градиентным бустингом CatBoostRegressor и LGBMRegressor в целом показали лучший результат по качеству и времени обучения по сравнению с моделями Решающего дерева и Случайного леса. \n",
    "\n",
    "Были проанализированы следующие параметры моделей: время на подбор гиперпараметров,  время обучения, время предсказания и RMSE обучения. Лучшими по значениям  RMSE, времени обучения и предсказания оказалась модель CatBoostRegressor. Качество на тестовой выборке изменилось не значительно."
   ]
  }
 ],
 "metadata": {
  "ExecuteTimeLog": [
   {
    "duration": 1865,
    "start_time": "2023-09-26T06:41:00.526Z"
   },
   {
    "duration": 1227,
    "start_time": "2023-09-26T06:41:02.393Z"
   },
   {
    "duration": 16,
    "start_time": "2023-09-26T06:41:16.875Z"
   },
   {
    "duration": 183,
    "start_time": "2023-09-26T06:42:13.180Z"
   },
   {
    "duration": 133,
    "start_time": "2023-09-26T06:54:09.863Z"
   },
   {
    "duration": 132,
    "start_time": "2023-09-26T07:07:51.496Z"
   },
   {
    "duration": 1573,
    "start_time": "2023-09-26T07:09:17.351Z"
   },
   {
    "duration": 143,
    "start_time": "2023-09-26T07:09:53.335Z"
   },
   {
    "duration": 142,
    "start_time": "2023-09-26T07:09:59.526Z"
   },
   {
    "duration": 156,
    "start_time": "2023-09-26T07:10:17.734Z"
   },
   {
    "duration": 138,
    "start_time": "2023-09-26T07:10:28.358Z"
   },
   {
    "duration": 438,
    "start_time": "2023-09-26T08:07:18.315Z"
   },
   {
    "duration": 467,
    "start_time": "2023-09-26T08:07:26.156Z"
   },
   {
    "duration": 14,
    "start_time": "2023-09-26T08:10:56.618Z"
   },
   {
    "duration": 441,
    "start_time": "2023-09-26T08:11:39.339Z"
   },
   {
    "duration": 449,
    "start_time": "2023-09-26T08:11:54.265Z"
   },
   {
    "duration": 429,
    "start_time": "2023-09-26T08:12:37.914Z"
   },
   {
    "duration": 18,
    "start_time": "2023-09-26T08:15:12.398Z"
   },
   {
    "duration": 526,
    "start_time": "2023-09-26T08:17:32.504Z"
   },
   {
    "duration": 485,
    "start_time": "2023-09-26T08:17:51.432Z"
   },
   {
    "duration": 467,
    "start_time": "2023-09-26T08:18:30.073Z"
   },
   {
    "duration": 21,
    "start_time": "2023-09-26T08:24:47.783Z"
   },
   {
    "duration": 29,
    "start_time": "2023-09-26T08:33:43.557Z"
   },
   {
    "duration": 25,
    "start_time": "2023-09-26T08:34:02.517Z"
   },
   {
    "duration": 32,
    "start_time": "2023-09-26T08:39:34.837Z"
   },
   {
    "duration": 28,
    "start_time": "2023-09-26T08:39:43.284Z"
   },
   {
    "duration": 13,
    "start_time": "2023-09-26T08:41:30.435Z"
   },
   {
    "duration": 25,
    "start_time": "2023-09-26T08:44:35.188Z"
   },
   {
    "duration": 20,
    "start_time": "2023-09-26T08:44:42.978Z"
   },
   {
    "duration": 3,
    "start_time": "2023-09-26T08:44:48.974Z"
   },
   {
    "duration": 787,
    "start_time": "2023-09-26T08:44:48.979Z"
   },
   {
    "duration": 13,
    "start_time": "2023-09-26T08:44:49.768Z"
   },
   {
    "duration": 142,
    "start_time": "2023-09-26T08:44:49.783Z"
   },
   {
    "duration": 142,
    "start_time": "2023-09-26T08:44:49.927Z"
   },
   {
    "duration": 385,
    "start_time": "2023-09-26T08:44:50.071Z"
   },
   {
    "duration": 404,
    "start_time": "2023-09-26T08:44:50.458Z"
   },
   {
    "duration": 20,
    "start_time": "2023-09-26T08:44:53.427Z"
   },
   {
    "duration": 16,
    "start_time": "2023-09-26T08:44:55.732Z"
   },
   {
    "duration": 20,
    "start_time": "2023-09-26T08:44:57.827Z"
   },
   {
    "duration": 28,
    "start_time": "2023-09-26T08:45:44.675Z"
   },
   {
    "duration": 38,
    "start_time": "2023-09-26T08:46:05.780Z"
   },
   {
    "duration": 27,
    "start_time": "2023-09-26T08:47:06.677Z"
   },
   {
    "duration": 27,
    "start_time": "2023-09-26T08:48:02.220Z"
   },
   {
    "duration": 28,
    "start_time": "2023-09-26T08:48:16.946Z"
   },
   {
    "duration": 32,
    "start_time": "2023-09-26T08:51:12.066Z"
   },
   {
    "duration": 35,
    "start_time": "2023-09-26T08:57:14.705Z"
   },
   {
    "duration": 28,
    "start_time": "2023-09-26T08:57:48.480Z"
   },
   {
    "duration": 50,
    "start_time": "2023-09-26T08:57:54.464Z"
   },
   {
    "duration": 769,
    "start_time": "2023-09-26T10:30:56.724Z"
   },
   {
    "duration": 422,
    "start_time": "2023-09-26T10:31:05.539Z"
   },
   {
    "duration": 1955,
    "start_time": "2023-09-26T17:54:22.171Z"
   },
   {
    "duration": 1368,
    "start_time": "2023-09-26T17:54:24.129Z"
   },
   {
    "duration": 24,
    "start_time": "2023-09-26T17:54:25.499Z"
   },
   {
    "duration": 177,
    "start_time": "2023-09-26T17:54:25.525Z"
   },
   {
    "duration": 175,
    "start_time": "2023-09-26T17:54:25.704Z"
   },
   {
    "duration": 554,
    "start_time": "2023-09-26T17:54:25.881Z"
   },
   {
    "duration": 592,
    "start_time": "2023-09-26T17:54:26.436Z"
   },
   {
    "duration": 23,
    "start_time": "2023-09-26T17:54:27.030Z"
   },
   {
    "duration": 23,
    "start_time": "2023-09-26T17:54:27.055Z"
   },
   {
    "duration": 43,
    "start_time": "2023-09-26T17:54:27.079Z"
   },
   {
    "duration": 25,
    "start_time": "2023-09-26T17:54:27.125Z"
   },
   {
    "duration": 6,
    "start_time": "2023-09-26T17:54:27.152Z"
   },
   {
    "duration": 148,
    "start_time": "2023-09-26T18:20:45.638Z"
   },
   {
    "duration": 24,
    "start_time": "2023-09-26T18:22:16.099Z"
   },
   {
    "duration": 29,
    "start_time": "2023-09-26T18:22:38.087Z"
   },
   {
    "duration": 4,
    "start_time": "2023-09-26T18:22:49.964Z"
   },
   {
    "duration": 1032,
    "start_time": "2023-09-26T18:22:49.971Z"
   },
   {
    "duration": 23,
    "start_time": "2023-09-26T18:22:51.004Z"
   },
   {
    "duration": 178,
    "start_time": "2023-09-26T18:22:51.029Z"
   },
   {
    "duration": 166,
    "start_time": "2023-09-26T18:22:51.209Z"
   },
   {
    "duration": 532,
    "start_time": "2023-09-26T18:22:51.377Z"
   },
   {
    "duration": 592,
    "start_time": "2023-09-26T18:22:51.911Z"
   },
   {
    "duration": 38,
    "start_time": "2023-09-26T18:22:52.506Z"
   },
   {
    "duration": 23,
    "start_time": "2023-09-26T18:22:52.546Z"
   },
   {
    "duration": 58,
    "start_time": "2023-09-26T18:22:52.572Z"
   },
   {
    "duration": 33,
    "start_time": "2023-09-26T18:22:52.632Z"
   },
   {
    "duration": 55,
    "start_time": "2023-09-26T18:22:52.668Z"
   },
   {
    "duration": 15,
    "start_time": "2023-09-26T18:23:36.336Z"
   },
   {
    "duration": 19,
    "start_time": "2023-09-26T18:23:46.672Z"
   },
   {
    "duration": 13,
    "start_time": "2023-09-26T18:23:53.953Z"
   },
   {
    "duration": 4,
    "start_time": "2023-09-26T18:23:58.421Z"
   },
   {
    "duration": 1096,
    "start_time": "2023-09-26T18:23:58.427Z"
   },
   {
    "duration": 16,
    "start_time": "2023-09-26T18:23:59.524Z"
   },
   {
    "duration": 176,
    "start_time": "2023-09-26T18:23:59.543Z"
   },
   {
    "duration": 158,
    "start_time": "2023-09-26T18:23:59.722Z"
   },
   {
    "duration": 496,
    "start_time": "2023-09-26T18:23:59.882Z"
   },
   {
    "duration": 506,
    "start_time": "2023-09-26T18:24:00.380Z"
   },
   {
    "duration": 37,
    "start_time": "2023-09-26T18:24:00.888Z"
   },
   {
    "duration": 37,
    "start_time": "2023-09-26T18:24:00.927Z"
   },
   {
    "duration": 64,
    "start_time": "2023-09-26T18:24:00.966Z"
   },
   {
    "duration": 30,
    "start_time": "2023-09-26T18:24:13.706Z"
   },
   {
    "duration": 18,
    "start_time": "2023-09-26T18:24:16.233Z"
   },
   {
    "duration": 3,
    "start_time": "2023-09-26T18:25:41.715Z"
   },
   {
    "duration": 5,
    "start_time": "2023-09-26T18:32:41.275Z"
   },
   {
    "duration": 6,
    "start_time": "2023-09-26T18:35:12.052Z"
   },
   {
    "duration": 1269,
    "start_time": "2023-09-26T18:36:29.391Z"
   },
   {
    "duration": 4,
    "start_time": "2023-09-26T18:36:35.740Z"
   },
   {
    "duration": 932,
    "start_time": "2023-09-26T18:36:35.745Z"
   },
   {
    "duration": 17,
    "start_time": "2023-09-26T18:36:36.679Z"
   },
   {
    "duration": 171,
    "start_time": "2023-09-26T18:36:36.698Z"
   },
   {
    "duration": 159,
    "start_time": "2023-09-26T18:36:36.871Z"
   },
   {
    "duration": 462,
    "start_time": "2023-09-26T18:36:37.032Z"
   },
   {
    "duration": 473,
    "start_time": "2023-09-26T18:36:37.496Z"
   },
   {
    "duration": 25,
    "start_time": "2023-09-26T18:36:37.970Z"
   },
   {
    "duration": 28,
    "start_time": "2023-09-26T18:36:37.997Z"
   },
   {
    "duration": 23,
    "start_time": "2023-09-26T18:36:38.027Z"
   },
   {
    "duration": 7,
    "start_time": "2023-09-26T18:36:39.988Z"
   },
   {
    "duration": 3011,
    "start_time": "2023-09-26T18:43:02.831Z"
   },
   {
    "duration": 7,
    "start_time": "2023-09-26T18:43:17.359Z"
   },
   {
    "duration": 27,
    "start_time": "2023-09-26T18:43:19.136Z"
   },
   {
    "duration": 6,
    "start_time": "2023-09-26T18:43:20.919Z"
   },
   {
    "duration": 7,
    "start_time": "2023-09-26T18:43:22.792Z"
   },
   {
    "duration": 40,
    "start_time": "2023-09-26T18:43:25.008Z"
   },
   {
    "duration": 68,
    "start_time": "2023-09-26T19:02:39.834Z"
   },
   {
    "duration": 4,
    "start_time": "2023-09-26T19:02:56.316Z"
   },
   {
    "duration": 845,
    "start_time": "2023-09-26T19:02:56.322Z"
   },
   {
    "duration": 16,
    "start_time": "2023-09-26T19:02:57.169Z"
   },
   {
    "duration": 168,
    "start_time": "2023-09-26T19:02:57.187Z"
   },
   {
    "duration": 162,
    "start_time": "2023-09-26T19:02:57.358Z"
   },
   {
    "duration": 447,
    "start_time": "2023-09-26T19:02:57.522Z"
   },
   {
    "duration": 463,
    "start_time": "2023-09-26T19:02:57.971Z"
   },
   {
    "duration": 24,
    "start_time": "2023-09-26T19:02:58.436Z"
   },
   {
    "duration": 35,
    "start_time": "2023-09-26T19:02:58.462Z"
   },
   {
    "duration": 39,
    "start_time": "2023-09-26T19:02:58.499Z"
   },
   {
    "duration": 22,
    "start_time": "2023-09-26T19:02:58.540Z"
   },
   {
    "duration": 33,
    "start_time": "2023-09-26T19:02:58.564Z"
   },
   {
    "duration": 15,
    "start_time": "2023-09-26T19:02:58.600Z"
   },
   {
    "duration": 10,
    "start_time": "2023-09-26T19:02:58.616Z"
   },
   {
    "duration": 82,
    "start_time": "2023-09-26T19:03:02.746Z"
   },
   {
    "duration": 86,
    "start_time": "2023-09-26T19:04:20.159Z"
   },
   {
    "duration": 97,
    "start_time": "2023-09-26T19:04:30.596Z"
   },
   {
    "duration": 76,
    "start_time": "2023-09-26T19:05:11.816Z"
   },
   {
    "duration": 84,
    "start_time": "2023-09-26T19:10:57.382Z"
   },
   {
    "duration": 100,
    "start_time": "2023-09-26T19:11:11.991Z"
   },
   {
    "duration": 5,
    "start_time": "2023-09-26T19:11:47.918Z"
   },
   {
    "duration": 104,
    "start_time": "2023-09-26T19:11:53.470Z"
   },
   {
    "duration": 102,
    "start_time": "2023-09-26T19:14:05.456Z"
   },
   {
    "duration": 112,
    "start_time": "2023-09-26T19:14:13.824Z"
   },
   {
    "duration": 87,
    "start_time": "2023-09-26T19:14:59.393Z"
   },
   {
    "duration": 1295,
    "start_time": "2023-09-26T19:28:02.816Z"
   },
   {
    "duration": 1649,
    "start_time": "2023-09-26T19:28:20.704Z"
   },
   {
    "duration": 1222,
    "start_time": "2023-09-26T19:28:47.152Z"
   },
   {
    "duration": 543,
    "start_time": "2023-09-26T19:29:03.202Z"
   },
   {
    "duration": 954,
    "start_time": "2023-09-26T19:29:52.649Z"
   },
   {
    "duration": 7,
    "start_time": "2023-09-26T19:38:11.984Z"
   },
   {
    "duration": 16,
    "start_time": "2023-09-26T19:38:36.318Z"
   },
   {
    "duration": 7,
    "start_time": "2023-09-26T19:39:55.929Z"
   },
   {
    "duration": 6,
    "start_time": "2023-09-26T19:40:00.762Z"
   },
   {
    "duration": 8,
    "start_time": "2023-09-26T19:40:33.568Z"
   },
   {
    "duration": 12,
    "start_time": "2023-09-26T19:41:17.009Z"
   },
   {
    "duration": 8,
    "start_time": "2023-09-26T19:42:07.139Z"
   },
   {
    "duration": 6,
    "start_time": "2023-09-26T19:42:32.325Z"
   },
   {
    "duration": 1430,
    "start_time": "2023-09-26T19:43:12.035Z"
   },
   {
    "duration": 57,
    "start_time": "2023-09-27T13:00:57.018Z"
   },
   {
    "duration": 1854,
    "start_time": "2023-09-27T13:01:03.624Z"
   },
   {
    "duration": 3326,
    "start_time": "2023-09-27T13:01:05.481Z"
   },
   {
    "duration": 29,
    "start_time": "2023-09-27T13:01:08.810Z"
   },
   {
    "duration": 242,
    "start_time": "2023-09-27T13:01:08.841Z"
   },
   {
    "duration": 211,
    "start_time": "2023-09-27T13:01:09.086Z"
   },
   {
    "duration": 616,
    "start_time": "2023-09-27T13:01:09.298Z"
   },
   {
    "duration": 698,
    "start_time": "2023-09-27T13:01:09.916Z"
   },
   {
    "duration": 24,
    "start_time": "2023-09-27T13:01:10.616Z"
   },
   {
    "duration": 37,
    "start_time": "2023-09-27T13:01:10.641Z"
   },
   {
    "duration": 24,
    "start_time": "2023-09-27T13:01:10.683Z"
   },
   {
    "duration": 393,
    "start_time": "2023-09-27T13:01:10.709Z"
   },
   {
    "duration": 110,
    "start_time": "2023-09-27T13:01:11.103Z"
   },
   {
    "duration": 4,
    "start_time": "2023-09-27T13:01:11.215Z"
   },
   {
    "duration": 39,
    "start_time": "2023-09-27T13:01:11.221Z"
   },
   {
    "duration": 96,
    "start_time": "2023-09-27T13:01:11.263Z"
   },
   {
    "duration": 136,
    "start_time": "2023-09-27T13:01:11.362Z"
   },
   {
    "duration": 123,
    "start_time": "2023-09-27T13:01:11.500Z"
   },
   {
    "duration": 117,
    "start_time": "2023-09-27T13:01:11.625Z"
   },
   {
    "duration": 1220,
    "start_time": "2023-09-27T13:01:11.744Z"
   },
   {
    "duration": 499,
    "start_time": "2023-09-27T13:01:15.272Z"
   },
   {
    "duration": 455,
    "start_time": "2023-09-27T13:01:27.783Z"
   },
   {
    "duration": 467,
    "start_time": "2023-09-27T13:01:55.991Z"
   },
   {
    "duration": 462,
    "start_time": "2023-09-27T13:03:28.055Z"
   },
   {
    "duration": 379,
    "start_time": "2023-09-27T13:03:42.215Z"
   },
   {
    "duration": 816,
    "start_time": "2023-09-27T13:03:49.735Z"
   },
   {
    "duration": 4,
    "start_time": "2023-09-27T13:15:40.965Z"
   },
   {
    "duration": 378,
    "start_time": "2023-09-27T13:15:49.429Z"
   },
   {
    "duration": 536,
    "start_time": "2023-09-27T13:16:58.933Z"
   },
   {
    "duration": 415,
    "start_time": "2023-09-27T13:17:07.828Z"
   },
   {
    "duration": 350,
    "start_time": "2023-09-27T13:18:41.924Z"
   },
   {
    "duration": 275,
    "start_time": "2023-09-27T13:19:55.901Z"
   },
   {
    "duration": 272,
    "start_time": "2023-09-27T13:22:15.844Z"
   },
   {
    "duration": 13,
    "start_time": "2023-09-27T13:22:27.395Z"
   },
   {
    "duration": 12,
    "start_time": "2023-09-27T13:38:06.738Z"
   },
   {
    "duration": 11,
    "start_time": "2023-09-27T13:38:14.271Z"
   },
   {
    "duration": 397,
    "start_time": "2023-09-27T13:38:30.112Z"
   },
   {
    "duration": 398,
    "start_time": "2023-09-27T13:39:07.268Z"
   },
   {
    "duration": 7,
    "start_time": "2023-09-27T13:40:03.251Z"
   },
   {
    "duration": 1634,
    "start_time": "2023-09-27T13:44:38.429Z"
   },
   {
    "duration": 4,
    "start_time": "2023-09-27T13:44:48.792Z"
   },
   {
    "duration": 1012,
    "start_time": "2023-09-27T13:44:48.799Z"
   },
   {
    "duration": 16,
    "start_time": "2023-09-27T13:44:49.813Z"
   },
   {
    "duration": 172,
    "start_time": "2023-09-27T13:44:49.831Z"
   },
   {
    "duration": 167,
    "start_time": "2023-09-27T13:44:50.005Z"
   },
   {
    "duration": 169,
    "start_time": "2023-09-27T13:44:53.342Z"
   },
   {
    "duration": 331,
    "start_time": "2023-09-27T13:45:11.886Z"
   },
   {
    "duration": 171,
    "start_time": "2023-09-27T13:45:19.358Z"
   },
   {
    "duration": 280,
    "start_time": "2023-09-27T13:45:33.486Z"
   },
   {
    "duration": 157,
    "start_time": "2023-09-27T13:46:28.174Z"
   },
   {
    "duration": 7,
    "start_time": "2023-09-27T13:46:41.981Z"
   },
   {
    "duration": 6,
    "start_time": "2023-09-27T13:46:49.405Z"
   },
   {
    "duration": 8,
    "start_time": "2023-09-27T13:49:25.643Z"
   },
   {
    "duration": 11,
    "start_time": "2023-09-27T13:49:38.940Z"
   },
   {
    "duration": 10,
    "start_time": "2023-09-27T13:49:51.611Z"
   },
   {
    "duration": 8,
    "start_time": "2023-09-27T13:51:17.543Z"
   },
   {
    "duration": 10,
    "start_time": "2023-09-27T13:51:44.027Z"
   },
   {
    "duration": 80,
    "start_time": "2023-09-27T13:53:40.923Z"
   },
   {
    "duration": 73,
    "start_time": "2023-09-27T13:53:46.576Z"
   },
   {
    "duration": 8,
    "start_time": "2023-09-27T13:53:55.515Z"
   },
   {
    "duration": 2360,
    "start_time": "2023-09-27T18:38:19.623Z"
   },
   {
    "duration": 1775,
    "start_time": "2023-09-27T18:38:21.985Z"
   },
   {
    "duration": 23,
    "start_time": "2023-09-27T18:38:23.762Z"
   },
   {
    "duration": 254,
    "start_time": "2023-09-27T18:38:23.787Z"
   },
   {
    "duration": 216,
    "start_time": "2023-09-27T18:38:24.045Z"
   },
   {
    "duration": 9,
    "start_time": "2023-09-27T18:38:24.263Z"
   },
   {
    "duration": 661,
    "start_time": "2023-09-27T18:38:24.274Z"
   },
   {
    "duration": 837,
    "start_time": "2023-09-27T18:38:24.937Z"
   },
   {
    "duration": 46,
    "start_time": "2023-09-27T18:38:25.777Z"
   },
   {
    "duration": 29,
    "start_time": "2023-09-27T18:38:25.834Z"
   },
   {
    "duration": 30,
    "start_time": "2023-09-27T18:38:25.865Z"
   },
   {
    "duration": 26,
    "start_time": "2023-09-27T18:38:25.898Z"
   },
   {
    "duration": 52,
    "start_time": "2023-09-27T18:38:25.927Z"
   },
   {
    "duration": 7,
    "start_time": "2023-09-27T18:38:25.981Z"
   },
   {
    "duration": 25,
    "start_time": "2023-09-27T18:38:25.990Z"
   },
   {
    "duration": 102,
    "start_time": "2023-09-27T18:38:26.017Z"
   },
   {
    "duration": 151,
    "start_time": "2023-09-27T18:38:26.121Z"
   },
   {
    "duration": 176,
    "start_time": "2023-09-27T18:38:26.275Z"
   },
   {
    "duration": 145,
    "start_time": "2023-09-27T18:38:26.453Z"
   },
   {
    "duration": 454,
    "start_time": "2023-09-27T18:39:17.752Z"
   },
   {
    "duration": 659,
    "start_time": "2023-09-27T18:39:47.602Z"
   },
   {
    "duration": 1799,
    "start_time": "2023-09-27T18:39:56.777Z"
   },
   {
    "duration": 1804,
    "start_time": "2023-09-27T18:40:11.899Z"
   },
   {
    "duration": 1469,
    "start_time": "2023-09-27T18:43:25.037Z"
   },
   {
    "duration": 1643,
    "start_time": "2023-09-27T18:43:44.043Z"
   },
   {
    "duration": 1525,
    "start_time": "2023-09-27T18:44:03.944Z"
   },
   {
    "duration": 13,
    "start_time": "2023-09-27T18:44:16.429Z"
   },
   {
    "duration": 4,
    "start_time": "2023-09-27T18:48:59.670Z"
   },
   {
    "duration": 4,
    "start_time": "2023-09-27T18:49:17.638Z"
   },
   {
    "duration": 4,
    "start_time": "2023-09-27T18:49:21.703Z"
   },
   {
    "duration": 6,
    "start_time": "2023-09-27T18:49:41.738Z"
   },
   {
    "duration": 4,
    "start_time": "2023-09-27T18:49:43.869Z"
   },
   {
    "duration": 8,
    "start_time": "2023-09-27T18:49:48.741Z"
   },
   {
    "duration": 5,
    "start_time": "2023-09-27T18:53:55.535Z"
   },
   {
    "duration": 1047,
    "start_time": "2023-09-27T18:53:55.543Z"
   },
   {
    "duration": 40,
    "start_time": "2023-09-27T18:53:56.593Z"
   },
   {
    "duration": 207,
    "start_time": "2023-09-27T18:53:56.635Z"
   },
   {
    "duration": 180,
    "start_time": "2023-09-27T18:53:56.845Z"
   },
   {
    "duration": 520,
    "start_time": "2023-09-27T18:53:57.031Z"
   },
   {
    "duration": 544,
    "start_time": "2023-09-27T18:53:57.552Z"
   },
   {
    "duration": 44,
    "start_time": "2023-09-27T18:53:58.098Z"
   },
   {
    "duration": 23,
    "start_time": "2023-09-27T18:53:58.145Z"
   },
   {
    "duration": 65,
    "start_time": "2023-09-27T18:53:58.170Z"
   },
   {
    "duration": 7,
    "start_time": "2023-09-27T18:53:58.238Z"
   },
   {
    "duration": 30,
    "start_time": "2023-09-27T18:53:58.246Z"
   },
   {
    "duration": 4,
    "start_time": "2023-09-27T18:53:58.278Z"
   },
   {
    "duration": 6,
    "start_time": "2023-09-27T18:53:58.285Z"
   },
   {
    "duration": 113,
    "start_time": "2023-09-27T18:53:58.292Z"
   },
   {
    "duration": 113,
    "start_time": "2023-09-27T18:53:58.410Z"
   },
   {
    "duration": 133,
    "start_time": "2023-09-27T18:53:58.538Z"
   },
   {
    "duration": 122,
    "start_time": "2023-09-27T18:53:58.673Z"
   },
   {
    "duration": 1288,
    "start_time": "2023-09-27T18:53:58.796Z"
   },
   {
    "duration": 8,
    "start_time": "2023-09-27T18:54:00.086Z"
   },
   {
    "duration": 23,
    "start_time": "2023-09-27T18:54:04.585Z"
   },
   {
    "duration": 23,
    "start_time": "2023-09-27T18:54:06.829Z"
   },
   {
    "duration": 5,
    "start_time": "2023-09-27T19:17:52.753Z"
   },
   {
    "duration": 992,
    "start_time": "2023-09-27T19:17:52.760Z"
   },
   {
    "duration": 18,
    "start_time": "2023-09-27T19:17:53.754Z"
   },
   {
    "duration": 210,
    "start_time": "2023-09-27T19:17:53.774Z"
   },
   {
    "duration": 200,
    "start_time": "2023-09-27T19:17:53.987Z"
   },
   {
    "duration": 551,
    "start_time": "2023-09-27T19:17:54.189Z"
   },
   {
    "duration": 561,
    "start_time": "2023-09-27T19:17:54.743Z"
   },
   {
    "duration": 41,
    "start_time": "2023-09-27T19:17:55.310Z"
   },
   {
    "duration": 27,
    "start_time": "2023-09-27T19:17:55.353Z"
   },
   {
    "duration": 55,
    "start_time": "2023-09-27T19:17:55.383Z"
   },
   {
    "duration": 13,
    "start_time": "2023-09-27T19:17:55.442Z"
   },
   {
    "duration": 36,
    "start_time": "2023-09-27T19:17:55.458Z"
   },
   {
    "duration": 14,
    "start_time": "2023-09-27T19:17:55.512Z"
   },
   {
    "duration": 19,
    "start_time": "2023-09-27T19:17:55.529Z"
   },
   {
    "duration": 109,
    "start_time": "2023-09-27T19:17:55.550Z"
   },
   {
    "duration": 99,
    "start_time": "2023-09-27T19:18:07.435Z"
   },
   {
    "duration": 131,
    "start_time": "2023-09-27T19:18:09.808Z"
   },
   {
    "duration": 87,
    "start_time": "2023-09-27T19:18:13.759Z"
   },
   {
    "duration": 18472,
    "start_time": "2023-09-27T19:18:28.025Z"
   },
   {
    "duration": 196,
    "start_time": "2023-09-27T19:18:52.837Z"
   },
   {
    "duration": 47,
    "start_time": "2023-09-27T19:19:20.100Z"
   },
   {
    "duration": 63,
    "start_time": "2023-09-27T19:19:39.531Z"
   },
   {
    "duration": 27,
    "start_time": "2023-09-27T19:23:15.037Z"
   },
   {
    "duration": 26,
    "start_time": "2023-09-27T19:23:37.265Z"
   },
   {
    "duration": 32,
    "start_time": "2023-09-27T19:23:50.978Z"
   },
   {
    "duration": 30,
    "start_time": "2023-09-27T19:23:57.888Z"
   },
   {
    "duration": 57,
    "start_time": "2023-09-27T19:24:28.001Z"
   },
   {
    "duration": 43,
    "start_time": "2023-09-27T19:27:23.437Z"
   },
   {
    "duration": 72,
    "start_time": "2023-09-27T19:27:28.184Z"
   },
   {
    "duration": 18263,
    "start_time": "2023-09-27T19:27:35.731Z"
   },
   {
    "duration": 123,
    "start_time": "2023-09-27T19:27:58.065Z"
   },
   {
    "duration": 26,
    "start_time": "2023-09-27T19:28:24.667Z"
   },
   {
    "duration": 29,
    "start_time": "2023-09-27T19:28:41.735Z"
   },
   {
    "duration": 27,
    "start_time": "2023-09-27T19:28:55.860Z"
   },
   {
    "duration": 3,
    "start_time": "2023-09-27T19:29:04.764Z"
   },
   {
    "duration": 1239,
    "start_time": "2023-09-27T19:31:32.787Z"
   },
   {
    "duration": 8,
    "start_time": "2023-09-27T19:31:37.491Z"
   },
   {
    "duration": 27,
    "start_time": "2023-09-27T19:31:39.661Z"
   },
   {
    "duration": 10,
    "start_time": "2023-09-27T19:31:54.989Z"
   },
   {
    "duration": 14,
    "start_time": "2023-09-27T19:32:08.323Z"
   },
   {
    "duration": 4,
    "start_time": "2023-09-27T19:32:14.868Z"
   },
   {
    "duration": 541,
    "start_time": "2023-09-27T19:32:22.477Z"
   },
   {
    "duration": 158,
    "start_time": "2023-09-27T19:37:15.343Z"
   },
   {
    "duration": 7,
    "start_time": "2023-09-27T19:47:13.738Z"
   },
   {
    "duration": 171,
    "start_time": "2023-09-27T20:00:16.529Z"
   },
   {
    "duration": 1705,
    "start_time": "2023-09-28T13:53:17.191Z"
   },
   {
    "duration": 1220,
    "start_time": "2023-09-28T13:53:18.898Z"
   },
   {
    "duration": 20,
    "start_time": "2023-09-28T13:53:20.119Z"
   },
   {
    "duration": 173,
    "start_time": "2023-09-28T13:53:20.141Z"
   },
   {
    "duration": 166,
    "start_time": "2023-09-28T13:53:20.317Z"
   },
   {
    "duration": 492,
    "start_time": "2023-09-28T13:53:20.485Z"
   },
   {
    "duration": 556,
    "start_time": "2023-09-28T13:53:20.979Z"
   },
   {
    "duration": 29,
    "start_time": "2023-09-28T13:53:21.536Z"
   },
   {
    "duration": 52,
    "start_time": "2023-09-28T13:53:21.567Z"
   },
   {
    "duration": 22,
    "start_time": "2023-09-28T13:53:21.622Z"
   },
   {
    "duration": 21,
    "start_time": "2023-09-28T13:53:21.645Z"
   },
   {
    "duration": 56,
    "start_time": "2023-09-28T13:53:21.668Z"
   },
   {
    "duration": 42,
    "start_time": "2023-09-28T13:53:21.726Z"
   },
   {
    "duration": 31,
    "start_time": "2023-09-28T13:53:21.770Z"
   },
   {
    "duration": 96,
    "start_time": "2023-09-28T13:53:21.803Z"
   },
   {
    "duration": 100,
    "start_time": "2023-09-28T13:53:21.901Z"
   },
   {
    "duration": 106,
    "start_time": "2023-09-28T13:53:22.003Z"
   },
   {
    "duration": 3,
    "start_time": "2023-09-28T13:53:22.111Z"
   },
   {
    "duration": 26,
    "start_time": "2023-09-28T13:53:22.116Z"
   },
   {
    "duration": 14239,
    "start_time": "2023-09-28T13:53:22.144Z"
   },
   {
    "duration": 101,
    "start_time": "2023-09-28T13:53:36.385Z"
   },
   {
    "duration": 1073,
    "start_time": "2023-09-28T13:53:36.487Z"
   },
   {
    "duration": 8,
    "start_time": "2023-09-28T13:53:37.561Z"
   },
   {
    "duration": 26,
    "start_time": "2023-09-28T13:53:37.571Z"
   },
   {
    "duration": 5,
    "start_time": "2023-09-28T13:53:37.599Z"
   },
   {
    "duration": 411,
    "start_time": "2023-09-28T13:53:37.606Z"
   },
   {
    "duration": 6,
    "start_time": "2023-09-28T13:53:38.019Z"
   },
   {
    "duration": 157,
    "start_time": "2023-09-28T13:53:38.029Z"
   },
   {
    "duration": 18,
    "start_time": "2023-09-28T13:58:42.704Z"
   },
   {
    "duration": 3,
    "start_time": "2023-09-28T14:29:46.840Z"
   },
   {
    "duration": 112,
    "start_time": "2023-09-28T14:29:49.073Z"
   },
   {
    "duration": 4,
    "start_time": "2023-09-28T14:29:56.744Z"
   },
   {
    "duration": 16,
    "start_time": "2023-09-28T14:30:02.279Z"
   },
   {
    "duration": 3,
    "start_time": "2023-09-28T14:30:21.143Z"
   },
   {
    "duration": 538,
    "start_time": "2023-09-28T14:30:21.960Z"
   },
   {
    "duration": 485,
    "start_time": "2023-09-28T14:30:35.240Z"
   },
   {
    "duration": 551,
    "start_time": "2023-09-28T14:30:44.008Z"
   },
   {
    "duration": 9,
    "start_time": "2023-09-28T14:31:36.760Z"
   },
   {
    "duration": 189,
    "start_time": "2023-09-28T14:31:53.784Z"
   },
   {
    "duration": 184,
    "start_time": "2023-09-28T14:31:59.768Z"
   },
   {
    "duration": 201,
    "start_time": "2023-09-28T14:32:24.088Z"
   },
   {
    "duration": 16,
    "start_time": "2023-09-28T14:32:55.318Z"
   },
   {
    "duration": 2,
    "start_time": "2023-09-28T14:32:56.551Z"
   },
   {
    "duration": 540,
    "start_time": "2023-09-28T14:32:57.735Z"
   },
   {
    "duration": 183,
    "start_time": "2023-09-28T14:33:00.215Z"
   },
   {
    "duration": 181,
    "start_time": "2023-09-28T14:33:22.199Z"
   },
   {
    "duration": 645,
    "start_time": "2023-09-28T14:35:43.606Z"
   },
   {
    "duration": 1884,
    "start_time": "2023-09-28T17:59:07.832Z"
   },
   {
    "duration": 1356,
    "start_time": "2023-09-28T17:59:09.718Z"
   },
   {
    "duration": 30,
    "start_time": "2023-09-28T17:59:11.076Z"
   },
   {
    "duration": 199,
    "start_time": "2023-09-28T17:59:11.108Z"
   },
   {
    "duration": 185,
    "start_time": "2023-09-28T17:59:11.309Z"
   },
   {
    "duration": 551,
    "start_time": "2023-09-28T17:59:11.496Z"
   },
   {
    "duration": 606,
    "start_time": "2023-09-28T17:59:12.049Z"
   },
   {
    "duration": 50,
    "start_time": "2023-09-28T17:59:12.656Z"
   },
   {
    "duration": 21,
    "start_time": "2023-09-28T17:59:12.708Z"
   },
   {
    "duration": 25,
    "start_time": "2023-09-28T17:59:12.732Z"
   },
   {
    "duration": 43,
    "start_time": "2023-09-28T17:59:12.758Z"
   },
   {
    "duration": 35,
    "start_time": "2023-09-28T17:59:12.803Z"
   },
   {
    "duration": 9,
    "start_time": "2023-09-28T17:59:12.840Z"
   },
   {
    "duration": 10,
    "start_time": "2023-09-28T17:59:12.851Z"
   },
   {
    "duration": 100,
    "start_time": "2023-09-28T17:59:12.863Z"
   },
   {
    "duration": 146,
    "start_time": "2023-09-28T17:59:12.965Z"
   },
   {
    "duration": 103,
    "start_time": "2023-09-28T17:59:13.112Z"
   },
   {
    "duration": 5,
    "start_time": "2023-09-28T17:59:13.217Z"
   },
   {
    "duration": 8,
    "start_time": "2023-09-28T17:59:13.224Z"
   },
   {
    "duration": 17009,
    "start_time": "2023-09-28T17:59:13.233Z"
   },
   {
    "duration": 155,
    "start_time": "2023-09-28T17:59:30.244Z"
   },
   {
    "duration": 1225,
    "start_time": "2023-09-28T17:59:30.401Z"
   },
   {
    "duration": 7,
    "start_time": "2023-09-28T17:59:31.628Z"
   },
   {
    "duration": 77,
    "start_time": "2023-09-28T17:59:31.637Z"
   },
   {
    "duration": 4,
    "start_time": "2023-09-28T17:59:31.716Z"
   },
   {
    "duration": 455,
    "start_time": "2023-09-28T17:59:31.722Z"
   },
   {
    "duration": 9,
    "start_time": "2023-09-28T17:59:32.179Z"
   },
   {
    "duration": 181,
    "start_time": "2023-09-28T17:59:32.193Z"
   },
   {
    "duration": 21,
    "start_time": "2023-09-28T17:59:32.376Z"
   },
   {
    "duration": 39,
    "start_time": "2023-09-28T17:59:32.400Z"
   },
   {
    "duration": 2473,
    "start_time": "2023-09-28T18:02:17.879Z"
   },
   {
    "duration": 758,
    "start_time": "2023-09-28T18:05:32.584Z"
   },
   {
    "duration": 859,
    "start_time": "2023-09-28T18:07:31.162Z"
   },
   {
    "duration": 818,
    "start_time": "2023-09-28T18:07:47.947Z"
   },
   {
    "duration": 8,
    "start_time": "2023-09-28T18:15:04.393Z"
   },
   {
    "duration": 11,
    "start_time": "2023-09-28T18:19:01.174Z"
   },
   {
    "duration": 11,
    "start_time": "2023-09-28T18:19:07.181Z"
   },
   {
    "duration": 190,
    "start_time": "2023-09-28T18:19:09.608Z"
   },
   {
    "duration": 15,
    "start_time": "2023-09-28T18:25:17.958Z"
   },
   {
    "duration": 178,
    "start_time": "2023-09-28T18:25:34.704Z"
   },
   {
    "duration": 12,
    "start_time": "2023-09-28T18:27:25.654Z"
   },
   {
    "duration": 52,
    "start_time": "2023-09-28T18:27:44.061Z"
   },
   {
    "duration": 42,
    "start_time": "2023-09-28T18:27:59.662Z"
   },
   {
    "duration": 4,
    "start_time": "2023-09-28T18:34:18.209Z"
   },
   {
    "duration": 12,
    "start_time": "2023-09-28T18:34:41.285Z"
   },
   {
    "duration": 4,
    "start_time": "2023-09-28T18:35:13.031Z"
   },
   {
    "duration": 754,
    "start_time": "2023-09-28T18:37:08.794Z"
   },
   {
    "duration": 10,
    "start_time": "2023-09-28T18:39:47.278Z"
   },
   {
    "duration": 4,
    "start_time": "2023-09-28T18:40:21.122Z"
   },
   {
    "duration": 39,
    "start_time": "2023-09-28T18:40:32.183Z"
   },
   {
    "duration": 5,
    "start_time": "2023-09-28T18:41:02.383Z"
   },
   {
    "duration": 4,
    "start_time": "2023-09-28T18:41:21.566Z"
   },
   {
    "duration": 5,
    "start_time": "2023-09-28T18:42:03.579Z"
   },
   {
    "duration": 4,
    "start_time": "2023-09-28T18:42:47.461Z"
   },
   {
    "duration": 4,
    "start_time": "2023-09-28T18:42:59.532Z"
   },
   {
    "duration": 7,
    "start_time": "2023-09-28T18:43:04.777Z"
   },
   {
    "duration": 3,
    "start_time": "2023-09-28T18:57:50.783Z"
   },
   {
    "duration": 85,
    "start_time": "2023-09-28T18:57:53.776Z"
   },
   {
    "duration": 7649,
    "start_time": "2023-09-28T18:58:10.793Z"
   },
   {
    "duration": 15,
    "start_time": "2023-09-28T18:59:47.795Z"
   },
   {
    "duration": 13603,
    "start_time": "2023-09-28T18:59:59.644Z"
   },
   {
    "duration": 12979,
    "start_time": "2023-09-28T19:17:14.589Z"
   },
   {
    "duration": 12537,
    "start_time": "2023-09-28T19:19:48.814Z"
   },
   {
    "duration": 12401,
    "start_time": "2023-09-28T19:21:40.686Z"
   },
   {
    "duration": 82,
    "start_time": "2023-09-28T19:28:01.187Z"
   },
   {
    "duration": 99,
    "start_time": "2023-09-28T19:28:07.014Z"
   },
   {
    "duration": 99,
    "start_time": "2023-09-28T19:30:20.306Z"
   },
   {
    "duration": 111,
    "start_time": "2023-09-28T19:30:21.548Z"
   },
   {
    "duration": 3,
    "start_time": "2023-09-28T19:30:49.634Z"
   },
   {
    "duration": 104,
    "start_time": "2023-09-28T19:30:51.491Z"
   },
   {
    "duration": 3,
    "start_time": "2023-09-28T19:31:02.538Z"
   },
   {
    "duration": 12599,
    "start_time": "2023-09-28T19:31:04.434Z"
   },
   {
    "duration": 141,
    "start_time": "2023-09-28T19:31:46.612Z"
   },
   {
    "duration": 3,
    "start_time": "2023-09-28T19:31:49.342Z"
   },
   {
    "duration": 4352,
    "start_time": "2023-09-28T19:31:50.887Z"
   },
   {
    "duration": 4,
    "start_time": "2023-09-28T19:32:35.475Z"
   },
   {
    "duration": 4,
    "start_time": "2023-09-28T19:33:01.006Z"
   },
   {
    "duration": 12345,
    "start_time": "2023-09-28T19:33:03.900Z"
   },
   {
    "duration": 3,
    "start_time": "2023-09-28T19:34:24.823Z"
   },
   {
    "duration": 33148,
    "start_time": "2023-09-28T19:34:26.883Z"
   },
   {
    "duration": 33019,
    "start_time": "2023-09-28T19:35:22.435Z"
   },
   {
    "duration": 34540,
    "start_time": "2023-09-28T19:35:58.594Z"
   },
   {
    "duration": 1577439,
    "start_time": "2023-09-28T19:36:56.394Z"
   },
   {
    "duration": 3,
    "start_time": "2023-09-28T20:03:32.538Z"
   },
   {
    "duration": 1075478,
    "start_time": "2023-09-28T20:03:42.344Z"
   },
   {
    "duration": 1871,
    "start_time": "2023-09-29T06:28:12.285Z"
   },
   {
    "duration": 1119,
    "start_time": "2023-09-29T06:28:14.158Z"
   },
   {
    "duration": 18,
    "start_time": "2023-09-29T06:28:15.279Z"
   },
   {
    "duration": 246,
    "start_time": "2023-09-29T06:28:15.299Z"
   },
   {
    "duration": 145,
    "start_time": "2023-09-29T06:28:15.547Z"
   },
   {
    "duration": 672,
    "start_time": "2023-09-29T06:28:15.694Z"
   },
   {
    "duration": 495,
    "start_time": "2023-09-29T06:28:16.368Z"
   },
   {
    "duration": 22,
    "start_time": "2023-09-29T06:28:16.865Z"
   },
   {
    "duration": 189,
    "start_time": "2023-09-29T06:28:16.889Z"
   },
   {
    "duration": 65,
    "start_time": "2023-09-29T06:28:17.081Z"
   },
   {
    "duration": 59,
    "start_time": "2023-09-29T06:28:17.147Z"
   },
   {
    "duration": 59,
    "start_time": "2023-09-29T06:28:17.208Z"
   },
   {
    "duration": 5,
    "start_time": "2023-09-29T06:28:17.269Z"
   },
   {
    "duration": 30,
    "start_time": "2023-09-29T06:28:17.275Z"
   },
   {
    "duration": 91,
    "start_time": "2023-09-29T06:28:17.306Z"
   },
   {
    "duration": 87,
    "start_time": "2023-09-29T06:28:17.399Z"
   },
   {
    "duration": 85,
    "start_time": "2023-09-29T06:28:17.487Z"
   },
   {
    "duration": 2,
    "start_time": "2023-09-29T06:28:17.574Z"
   },
   {
    "duration": 11,
    "start_time": "2023-09-29T06:28:17.577Z"
   },
   {
    "duration": 13621,
    "start_time": "2023-09-29T06:28:17.590Z"
   },
   {
    "duration": 116,
    "start_time": "2023-09-29T06:28:31.214Z"
   },
   {
    "duration": 1461,
    "start_time": "2023-09-29T06:28:31.332Z"
   },
   {
    "duration": 8,
    "start_time": "2023-09-29T06:28:32.796Z"
   },
   {
    "duration": 263,
    "start_time": "2023-09-29T06:28:32.806Z"
   },
   {
    "duration": 73,
    "start_time": "2023-09-29T06:28:33.071Z"
   },
   {
    "duration": 444,
    "start_time": "2023-09-29T06:28:33.145Z"
   },
   {
    "duration": 5,
    "start_time": "2023-09-29T06:28:33.591Z"
   },
   {
    "duration": 239,
    "start_time": "2023-09-29T06:28:33.599Z"
   },
   {
    "duration": 15,
    "start_time": "2023-09-29T06:28:33.839Z"
   },
   {
    "duration": 261,
    "start_time": "2023-09-29T06:28:33.856Z"
   },
   {
    "duration": 729,
    "start_time": "2023-09-29T06:28:34.119Z"
   },
   {
    "duration": 37,
    "start_time": "2023-09-29T06:28:34.850Z"
   },
   {
    "duration": 17,
    "start_time": "2023-09-29T06:28:34.889Z"
   },
   {
    "duration": 11,
    "start_time": "2023-09-29T06:28:34.908Z"
   },
   {
    "duration": 27,
    "start_time": "2023-09-29T06:28:34.923Z"
   },
   {
    "duration": 47459,
    "start_time": "2023-09-29T06:28:34.952Z"
   },
   {
    "duration": 4,
    "start_time": "2023-09-29T06:29:22.412Z"
   },
   {
    "duration": 2600831,
    "start_time": "2023-09-29T06:29:22.424Z"
   },
   {
    "duration": 42,
    "start_time": "2023-09-29T07:12:43.257Z"
   },
   {
    "duration": 34,
    "start_time": "2023-09-29T07:15:27.473Z"
   },
   {
    "duration": 3,
    "start_time": "2023-09-29T07:15:29.248Z"
   },
   {
    "duration": 3,
    "start_time": "2023-09-29T07:15:33.968Z"
   },
   {
    "duration": 3,
    "start_time": "2023-09-29T07:16:35.551Z"
   },
   {
    "duration": 3,
    "start_time": "2023-09-29T07:16:37.888Z"
   },
   {
    "duration": 65584,
    "start_time": "2023-09-29T07:16:39.151Z"
   },
   {
    "duration": 3,
    "start_time": "2023-09-29T07:17:55.119Z"
   },
   {
    "duration": 3,
    "start_time": "2023-09-29T07:18:57.487Z"
   },
   {
    "duration": 931252,
    "start_time": "2023-09-29T07:19:01.743Z"
   },
   {
    "duration": 4,
    "start_time": "2023-09-29T07:39:28.009Z"
   },
   {
    "duration": 3305753,
    "start_time": "2023-09-29T07:39:30.488Z"
   },
   {
    "duration": 3,
    "start_time": "2023-09-29T08:45:18.986Z"
   },
   {
    "duration": 4373285,
    "start_time": "2023-09-29T08:45:20.922Z"
   },
   {
    "duration": 4161,
    "start_time": "2023-09-29T10:45:25.156Z"
   },
   {
    "duration": 6500,
    "start_time": "2023-09-29T10:45:39.092Z"
   },
   {
    "duration": 32075,
    "start_time": "2023-09-29T10:46:12.739Z"
   },
   {
    "duration": 4,
    "start_time": "2023-09-29T10:47:36.500Z"
   },
   {
    "duration": 29934,
    "start_time": "2023-09-29T10:48:13.763Z"
   },
   {
    "duration": 4,
    "start_time": "2023-09-29T10:50:19.554Z"
   },
   {
    "duration": 362,
    "start_time": "2023-09-29T11:09:39.419Z"
   },
   {
    "duration": 4,
    "start_time": "2023-09-29T11:09:44.878Z"
   },
   {
    "duration": 4,
    "start_time": "2023-09-29T11:10:16.610Z"
   },
   {
    "duration": 12,
    "start_time": "2023-09-29T11:10:32.460Z"
   },
   {
    "duration": 5,
    "start_time": "2023-09-29T11:10:37.420Z"
   },
   {
    "duration": 12,
    "start_time": "2023-09-29T11:12:21.003Z"
   },
   {
    "duration": 3,
    "start_time": "2023-09-29T11:12:30.186Z"
   },
   {
    "duration": 19,
    "start_time": "2023-09-29T11:12:42.314Z"
   },
   {
    "duration": 5430,
    "start_time": "2023-09-29T11:12:56.346Z"
   },
   {
    "duration": 103,
    "start_time": "2023-09-29T11:16:41.098Z"
   },
   {
    "duration": 5,
    "start_time": "2023-09-29T11:16:42.584Z"
   },
   {
    "duration": 5,
    "start_time": "2023-09-29T11:18:26.072Z"
   },
   {
    "duration": 376,
    "start_time": "2023-09-29T11:18:51.576Z"
   },
   {
    "duration": 5,
    "start_time": "2023-09-29T11:18:55.140Z"
   },
   {
    "duration": 249,
    "start_time": "2023-09-29T11:20:05.497Z"
   },
   {
    "duration": 80,
    "start_time": "2023-09-29T11:20:11.208Z"
   },
   {
    "duration": 83,
    "start_time": "2023-09-29T11:26:11.288Z"
   },
   {
    "duration": 96,
    "start_time": "2023-09-29T11:26:27.222Z"
   },
   {
    "duration": 87,
    "start_time": "2023-09-29T11:27:04.757Z"
   },
   {
    "duration": 103,
    "start_time": "2023-09-29T11:27:24.630Z"
   },
   {
    "duration": 35,
    "start_time": "2023-09-29T11:27:54.806Z"
   },
   {
    "duration": 14,
    "start_time": "2023-09-29T11:27:56.997Z"
   },
   {
    "duration": 13,
    "start_time": "2023-09-29T11:35:46.979Z"
   },
   {
    "duration": 15,
    "start_time": "2023-09-29T11:36:35.746Z"
   },
   {
    "duration": 24,
    "start_time": "2023-09-29T11:38:15.091Z"
   },
   {
    "duration": 91,
    "start_time": "2023-09-29T11:39:14.738Z"
   },
   {
    "duration": 4,
    "start_time": "2023-09-29T11:39:21.620Z"
   },
   {
    "duration": 43,
    "start_time": "2023-09-29T11:40:08.725Z"
   },
   {
    "duration": 81,
    "start_time": "2023-09-29T11:40:14.645Z"
   },
   {
    "duration": 182,
    "start_time": "2023-09-29T11:40:30.246Z"
   },
   {
    "duration": 108,
    "start_time": "2023-09-29T11:40:46.744Z"
   },
   {
    "duration": 64,
    "start_time": "2023-09-29T11:40:50.246Z"
   },
   {
    "duration": 39,
    "start_time": "2023-09-29T11:41:52.199Z"
   },
   {
    "duration": 50,
    "start_time": "2023-09-29T11:43:43.688Z"
   },
   {
    "duration": 77,
    "start_time": "2023-09-29T11:44:00.520Z"
   },
   {
    "duration": 3423,
    "start_time": "2023-09-29T11:44:11.016Z"
   },
   {
    "duration": 9888,
    "start_time": "2023-09-29T11:44:40.585Z"
   },
   {
    "duration": 32,
    "start_time": "2023-09-29T11:52:41.541Z"
   },
   {
    "duration": 8522,
    "start_time": "2023-09-29T11:56:25.114Z"
   },
   {
    "duration": 11,
    "start_time": "2023-09-29T12:02:58.026Z"
   },
   {
    "duration": 74885,
    "start_time": "2023-09-29T12:03:59.628Z"
   },
   {
    "duration": 1355471,
    "start_time": "2023-09-29T12:05:56.763Z"
   },
   {
    "duration": 78643,
    "start_time": "2023-09-29T12:28:51.819Z"
   },
   {
    "duration": 1028598,
    "start_time": "2023-09-29T12:30:13.835Z"
   },
   {
    "duration": 14260,
    "start_time": "2023-09-29T12:51:34.111Z"
   },
   {
    "duration": 14312,
    "start_time": "2023-09-29T12:52:26.887Z"
   },
   {
    "duration": 20896,
    "start_time": "2023-09-29T12:54:35.608Z"
   },
   {
    "duration": 100,
    "start_time": "2023-09-29T12:55:43.653Z"
   },
   {
    "duration": 1714,
    "start_time": "2023-09-29T15:27:27.330Z"
   },
   {
    "duration": 1156,
    "start_time": "2023-09-29T15:27:29.046Z"
   },
   {
    "duration": 19,
    "start_time": "2023-09-29T15:27:30.204Z"
   },
   {
    "duration": 184,
    "start_time": "2023-09-29T15:27:30.225Z"
   },
   {
    "duration": 156,
    "start_time": "2023-09-29T15:27:30.410Z"
   },
   {
    "duration": 472,
    "start_time": "2023-09-29T15:27:30.568Z"
   },
   {
    "duration": 505,
    "start_time": "2023-09-29T15:27:31.042Z"
   },
   {
    "duration": 22,
    "start_time": "2023-09-29T15:27:31.549Z"
   },
   {
    "duration": 57,
    "start_time": "2023-09-29T15:27:31.573Z"
   },
   {
    "duration": 54,
    "start_time": "2023-09-29T15:27:31.632Z"
   },
   {
    "duration": 90,
    "start_time": "2023-09-29T15:27:31.688Z"
   },
   {
    "duration": 88,
    "start_time": "2023-09-29T15:27:31.780Z"
   },
   {
    "duration": 62,
    "start_time": "2023-09-29T15:27:31.869Z"
   },
   {
    "duration": 58,
    "start_time": "2023-09-29T15:27:31.933Z"
   },
   {
    "duration": 116,
    "start_time": "2023-09-29T15:27:31.992Z"
   },
   {
    "duration": 100,
    "start_time": "2023-09-29T15:27:32.109Z"
   },
   {
    "duration": 77,
    "start_time": "2023-09-29T15:27:32.211Z"
   },
   {
    "duration": 3,
    "start_time": "2023-09-29T15:27:32.289Z"
   },
   {
    "duration": 24,
    "start_time": "2023-09-29T15:27:32.293Z"
   },
   {
    "duration": 6418,
    "start_time": "2023-09-29T15:27:32.319Z"
   },
   {
    "duration": 0,
    "start_time": "2023-09-29T15:27:38.739Z"
   },
   {
    "duration": 0,
    "start_time": "2023-09-29T15:27:38.740Z"
   },
   {
    "duration": 0,
    "start_time": "2023-09-29T15:27:38.750Z"
   },
   {
    "duration": 0,
    "start_time": "2023-09-29T15:27:38.751Z"
   },
   {
    "duration": 0,
    "start_time": "2023-09-29T15:27:38.752Z"
   },
   {
    "duration": 0,
    "start_time": "2023-09-29T15:27:38.753Z"
   },
   {
    "duration": 0,
    "start_time": "2023-09-29T15:27:38.754Z"
   },
   {
    "duration": 0,
    "start_time": "2023-09-29T15:27:38.755Z"
   },
   {
    "duration": 0,
    "start_time": "2023-09-29T15:27:38.756Z"
   },
   {
    "duration": 0,
    "start_time": "2023-09-29T15:27:38.757Z"
   },
   {
    "duration": 0,
    "start_time": "2023-09-29T15:27:38.759Z"
   },
   {
    "duration": 0,
    "start_time": "2023-09-29T15:27:38.760Z"
   },
   {
    "duration": 0,
    "start_time": "2023-09-29T15:27:38.761Z"
   },
   {
    "duration": 0,
    "start_time": "2023-09-29T15:27:38.762Z"
   },
   {
    "duration": 0,
    "start_time": "2023-09-29T15:27:38.763Z"
   },
   {
    "duration": 0,
    "start_time": "2023-09-29T15:27:38.764Z"
   },
   {
    "duration": 0,
    "start_time": "2023-09-29T15:27:38.765Z"
   },
   {
    "duration": 0,
    "start_time": "2023-09-29T15:27:38.766Z"
   },
   {
    "duration": 0,
    "start_time": "2023-09-29T15:27:38.768Z"
   },
   {
    "duration": 0,
    "start_time": "2023-09-29T15:27:38.768Z"
   },
   {
    "duration": 0,
    "start_time": "2023-09-29T15:27:38.769Z"
   },
   {
    "duration": 0,
    "start_time": "2023-09-29T15:27:38.770Z"
   },
   {
    "duration": 0,
    "start_time": "2023-09-29T15:27:38.771Z"
   },
   {
    "duration": 0,
    "start_time": "2023-09-29T15:27:38.772Z"
   },
   {
    "duration": 4,
    "start_time": "2023-09-29T15:28:06.501Z"
   },
   {
    "duration": 801,
    "start_time": "2023-09-29T15:28:06.509Z"
   },
   {
    "duration": 14,
    "start_time": "2023-09-29T15:28:07.311Z"
   },
   {
    "duration": 195,
    "start_time": "2023-09-29T15:28:07.327Z"
   },
   {
    "duration": 164,
    "start_time": "2023-09-29T15:28:07.524Z"
   },
   {
    "duration": 432,
    "start_time": "2023-09-29T15:28:07.690Z"
   },
   {
    "duration": 434,
    "start_time": "2023-09-29T15:28:08.124Z"
   },
   {
    "duration": 22,
    "start_time": "2023-09-29T15:28:08.559Z"
   },
   {
    "duration": 30,
    "start_time": "2023-09-29T15:28:08.583Z"
   },
   {
    "duration": 40,
    "start_time": "2023-09-29T15:28:08.614Z"
   },
   {
    "duration": 8,
    "start_time": "2023-09-29T15:28:08.656Z"
   },
   {
    "duration": 39,
    "start_time": "2023-09-29T15:28:08.665Z"
   },
   {
    "duration": 5,
    "start_time": "2023-09-29T15:28:08.706Z"
   },
   {
    "duration": 14,
    "start_time": "2023-09-29T15:28:08.712Z"
   },
   {
    "duration": 93,
    "start_time": "2023-09-29T15:28:08.729Z"
   },
   {
    "duration": 89,
    "start_time": "2023-09-29T15:28:08.823Z"
   },
   {
    "duration": 94,
    "start_time": "2023-09-29T15:28:08.914Z"
   },
   {
    "duration": 3,
    "start_time": "2023-09-29T15:28:09.010Z"
   },
   {
    "duration": 10,
    "start_time": "2023-09-29T15:28:09.014Z"
   },
   {
    "duration": 13741,
    "start_time": "2023-09-29T15:28:09.026Z"
   },
   {
    "duration": 94,
    "start_time": "2023-09-29T15:28:22.769Z"
   },
   {
    "duration": 952,
    "start_time": "2023-09-29T15:28:22.865Z"
   },
   {
    "duration": 6,
    "start_time": "2023-09-29T15:28:23.819Z"
   },
   {
    "duration": 46,
    "start_time": "2023-09-29T15:28:23.826Z"
   },
   {
    "duration": 4,
    "start_time": "2023-09-29T15:28:23.874Z"
   },
   {
    "duration": 373,
    "start_time": "2023-09-29T15:28:23.879Z"
   },
   {
    "duration": 5,
    "start_time": "2023-09-29T15:28:24.254Z"
   },
   {
    "duration": 151,
    "start_time": "2023-09-29T15:28:24.260Z"
   },
   {
    "duration": 14,
    "start_time": "2023-09-29T15:28:24.412Z"
   },
   {
    "duration": 64,
    "start_time": "2023-09-29T15:28:24.427Z"
   },
   {
    "duration": 608,
    "start_time": "2023-09-29T15:28:24.492Z"
   },
   {
    "duration": 26,
    "start_time": "2023-09-29T15:28:25.101Z"
   },
   {
    "duration": 21,
    "start_time": "2023-09-29T15:28:25.128Z"
   },
   {
    "duration": 39,
    "start_time": "2023-09-29T15:28:25.151Z"
   },
   {
    "duration": 60,
    "start_time": "2023-09-29T15:28:25.192Z"
   },
   {
    "duration": 5,
    "start_time": "2023-09-29T15:28:25.254Z"
   },
   {
    "duration": 82,
    "start_time": "2023-09-29T15:28:25.260Z"
   },
   {
    "duration": 12,
    "start_time": "2023-09-29T15:28:25.344Z"
   },
   {
    "duration": 155369,
    "start_time": "2023-09-29T15:28:48.631Z"
   },
   {
    "duration": 927787,
    "start_time": "2023-09-29T15:31:50.984Z"
   },
   {
    "duration": 963518,
    "start_time": "2023-09-29T15:54:22.525Z"
   },
   {
    "duration": 20723,
    "start_time": "2023-09-29T17:09:47.733Z"
   },
   {
    "duration": 117,
    "start_time": "2023-09-29T17:11:17.831Z"
   },
   {
    "duration": 89,
    "start_time": "2023-09-29T17:11:23.086Z"
   },
   {
    "duration": 99,
    "start_time": "2023-09-29T17:23:13.438Z"
   },
   {
    "duration": 89,
    "start_time": "2023-09-29T17:24:01.823Z"
   },
   {
    "duration": 175,
    "start_time": "2023-09-29T17:24:59.511Z"
   },
   {
    "duration": 253,
    "start_time": "2023-09-29T17:33:26.201Z"
   },
   {
    "duration": 490821,
    "start_time": "2023-09-29T17:34:20.836Z"
   },
   {
    "duration": 496614,
    "start_time": "2023-09-29T17:52:16.039Z"
   },
   {
    "duration": 861918,
    "start_time": "2023-09-29T18:02:14.739Z"
   },
   {
    "duration": 148,
    "start_time": "2023-09-29T18:18:42.872Z"
   },
   {
    "duration": 107,
    "start_time": "2023-09-29T18:19:07.649Z"
   },
   {
    "duration": 6333,
    "start_time": "2023-09-29T18:23:40.029Z"
   },
   {
    "duration": 2682,
    "start_time": "2023-09-29T18:23:53.830Z"
   },
   {
    "duration": 70,
    "start_time": "2023-09-29T18:25:57.414Z"
   },
   {
    "duration": 1007327,
    "start_time": "2023-09-29T18:26:11.355Z"
   },
   {
    "duration": 851241,
    "start_time": "2023-09-29T18:43:09.473Z"
   },
   {
    "duration": 14435,
    "start_time": "2023-09-29T19:02:23.948Z"
   },
   {
    "duration": 93,
    "start_time": "2023-09-29T19:04:02.316Z"
   },
   {
    "duration": 90,
    "start_time": "2023-09-29T19:09:23.774Z"
   },
   {
    "duration": 9810,
    "start_time": "2023-09-29T19:13:17.152Z"
   },
   {
    "duration": 101294,
    "start_time": "2023-09-29T19:14:35.220Z"
   },
   {
    "duration": 34,
    "start_time": "2023-09-29T19:16:24.003Z"
   },
   {
    "duration": 202065,
    "start_time": "2023-09-29T19:16:56.635Z"
   },
   {
    "duration": 470,
    "start_time": "2023-09-29T19:23:05.630Z"
   },
   {
    "duration": 4,
    "start_time": "2023-09-29T19:23:10.936Z"
   },
   {
    "duration": 3,
    "start_time": "2023-09-29T19:23:50.625Z"
   },
   {
    "duration": 751,
    "start_time": "2023-09-29T19:23:50.630Z"
   },
   {
    "duration": 14,
    "start_time": "2023-09-29T19:23:51.383Z"
   },
   {
    "duration": 173,
    "start_time": "2023-09-29T19:23:51.399Z"
   },
   {
    "duration": 136,
    "start_time": "2023-09-29T19:23:51.575Z"
   },
   {
    "duration": 376,
    "start_time": "2023-09-29T19:23:51.713Z"
   },
   {
    "duration": 413,
    "start_time": "2023-09-29T19:23:52.091Z"
   },
   {
    "duration": 21,
    "start_time": "2023-09-29T19:23:52.505Z"
   },
   {
    "duration": 26,
    "start_time": "2023-09-29T19:23:52.528Z"
   },
   {
    "duration": 59,
    "start_time": "2023-09-29T19:23:52.555Z"
   },
   {
    "duration": 17,
    "start_time": "2023-09-29T19:23:52.617Z"
   },
   {
    "duration": 28,
    "start_time": "2023-09-29T19:23:52.636Z"
   },
   {
    "duration": 10,
    "start_time": "2023-09-29T19:23:52.666Z"
   },
   {
    "duration": 24,
    "start_time": "2023-09-29T19:23:52.677Z"
   },
   {
    "duration": 82,
    "start_time": "2023-09-29T19:23:52.702Z"
   },
   {
    "duration": 78,
    "start_time": "2023-09-29T19:23:52.785Z"
   },
   {
    "duration": 69,
    "start_time": "2023-09-29T19:23:52.865Z"
   },
   {
    "duration": 12,
    "start_time": "2023-09-29T19:23:52.936Z"
   },
   {
    "duration": 32,
    "start_time": "2023-09-29T19:23:52.950Z"
   },
   {
    "duration": 13072,
    "start_time": "2023-09-29T19:23:52.984Z"
   },
   {
    "duration": 171,
    "start_time": "2023-09-29T19:24:06.059Z"
   },
   {
    "duration": 899,
    "start_time": "2023-09-29T19:24:06.231Z"
   },
   {
    "duration": 6,
    "start_time": "2023-09-29T19:24:07.132Z"
   },
   {
    "duration": 33,
    "start_time": "2023-09-29T19:24:07.139Z"
   },
   {
    "duration": 5,
    "start_time": "2023-09-29T19:24:07.173Z"
   },
   {
    "duration": 330,
    "start_time": "2023-09-29T19:24:07.180Z"
   },
   {
    "duration": 5,
    "start_time": "2023-09-29T19:24:07.512Z"
   },
   {
    "duration": 135,
    "start_time": "2023-09-29T19:24:07.519Z"
   },
   {
    "duration": 15,
    "start_time": "2023-09-29T19:24:07.658Z"
   },
   {
    "duration": 2,
    "start_time": "2023-09-29T19:24:07.675Z"
   },
   {
    "duration": 604,
    "start_time": "2023-09-29T19:24:07.679Z"
   },
   {
    "duration": 34,
    "start_time": "2023-09-29T19:24:08.284Z"
   },
   {
    "duration": 41,
    "start_time": "2023-09-29T19:24:08.320Z"
   },
   {
    "duration": 10,
    "start_time": "2023-09-29T19:24:08.363Z"
   },
   {
    "duration": 32,
    "start_time": "2023-09-29T19:24:08.375Z"
   },
   {
    "duration": 73,
    "start_time": "2023-09-29T19:24:08.409Z"
   },
   {
    "duration": 4,
    "start_time": "2023-09-29T19:24:08.484Z"
   },
   {
    "duration": 22,
    "start_time": "2023-09-29T19:24:08.489Z"
   },
   {
    "duration": 18,
    "start_time": "2023-09-29T19:24:08.512Z"
   },
   {
    "duration": 95835,
    "start_time": "2023-09-29T19:24:08.531Z"
   },
   {
    "duration": 454,
    "start_time": "2023-09-29T19:25:44.368Z"
   },
   {
    "duration": 3,
    "start_time": "2023-09-29T19:25:44.823Z"
   },
   {
    "duration": 22632,
    "start_time": "2023-09-29T19:25:44.827Z"
   },
   {
    "duration": 3,
    "start_time": "2023-09-29T19:26:07.460Z"
   },
   {
    "duration": 14029,
    "start_time": "2023-09-29T19:26:07.464Z"
   },
   {
    "duration": 78,
    "start_time": "2023-09-29T19:26:21.495Z"
   },
   {
    "duration": 7488,
    "start_time": "2023-09-29T19:26:21.574Z"
   },
   {
    "duration": 1659,
    "start_time": "2023-09-30T10:58:23.093Z"
   },
   {
    "duration": 1197,
    "start_time": "2023-09-30T10:58:24.754Z"
   },
   {
    "duration": 29,
    "start_time": "2023-09-30T10:58:25.953Z"
   },
   {
    "duration": 165,
    "start_time": "2023-09-30T10:58:25.984Z"
   },
   {
    "duration": 155,
    "start_time": "2023-09-30T10:58:26.151Z"
   },
   {
    "duration": 465,
    "start_time": "2023-09-30T10:58:26.307Z"
   },
   {
    "duration": 521,
    "start_time": "2023-09-30T10:58:26.774Z"
   },
   {
    "duration": 27,
    "start_time": "2023-09-30T10:58:27.297Z"
   },
   {
    "duration": 70,
    "start_time": "2023-09-30T10:58:27.325Z"
   },
   {
    "duration": 39,
    "start_time": "2023-09-30T10:58:27.397Z"
   },
   {
    "duration": 64,
    "start_time": "2023-09-30T10:58:27.438Z"
   },
   {
    "duration": 74,
    "start_time": "2023-09-30T10:58:27.503Z"
   },
   {
    "duration": 27,
    "start_time": "2023-09-30T10:58:27.579Z"
   },
   {
    "duration": 64,
    "start_time": "2023-09-30T10:58:27.608Z"
   },
   {
    "duration": 130,
    "start_time": "2023-09-30T10:58:27.674Z"
   },
   {
    "duration": 90,
    "start_time": "2023-09-30T10:58:27.806Z"
   },
   {
    "duration": 80,
    "start_time": "2023-09-30T10:58:27.898Z"
   },
   {
    "duration": 2,
    "start_time": "2023-09-30T10:58:27.980Z"
   },
   {
    "duration": 35,
    "start_time": "2023-09-30T10:58:27.984Z"
   },
   {
    "duration": 13619,
    "start_time": "2023-09-30T10:58:28.021Z"
   },
   {
    "duration": 93,
    "start_time": "2023-09-30T10:58:41.642Z"
   },
   {
    "duration": 990,
    "start_time": "2023-09-30T10:58:41.738Z"
   },
   {
    "duration": 7,
    "start_time": "2023-09-30T10:58:42.731Z"
   },
   {
    "duration": 25,
    "start_time": "2023-09-30T10:58:42.740Z"
   },
   {
    "duration": 5,
    "start_time": "2023-09-30T10:58:42.766Z"
   },
   {
    "duration": 397,
    "start_time": "2023-09-30T10:58:42.773Z"
   },
   {
    "duration": 5,
    "start_time": "2023-09-30T10:58:43.172Z"
   },
   {
    "duration": 148,
    "start_time": "2023-09-30T10:58:43.180Z"
   },
   {
    "duration": 14,
    "start_time": "2023-09-30T10:58:43.330Z"
   },
   {
    "duration": 3,
    "start_time": "2023-09-30T10:58:43.345Z"
   },
   {
    "duration": 621,
    "start_time": "2023-09-30T10:58:43.350Z"
   },
   {
    "duration": 52,
    "start_time": "2023-09-30T10:58:43.973Z"
   },
   {
    "duration": 35,
    "start_time": "2023-09-30T10:58:44.026Z"
   },
   {
    "duration": 11,
    "start_time": "2023-09-30T10:58:44.063Z"
   },
   {
    "duration": 61,
    "start_time": "2023-09-30T10:58:44.076Z"
   },
   {
    "duration": 70,
    "start_time": "2023-09-30T10:58:44.138Z"
   },
   {
    "duration": 14,
    "start_time": "2023-09-30T10:58:44.210Z"
   },
   {
    "duration": 31,
    "start_time": "2023-09-30T10:58:44.226Z"
   },
   {
    "duration": 23,
    "start_time": "2023-09-30T10:58:44.259Z"
   },
   {
    "duration": 124607,
    "start_time": "2023-09-30T10:58:44.284Z"
   },
   {
    "duration": 475,
    "start_time": "2023-09-30T11:00:48.893Z"
   },
   {
    "duration": 3,
    "start_time": "2023-09-30T11:00:49.369Z"
   },
   {
    "duration": 25741,
    "start_time": "2023-09-30T11:00:49.374Z"
   },
   {
    "duration": 2,
    "start_time": "2023-09-30T11:01:15.117Z"
   },
   {
    "duration": 15037,
    "start_time": "2023-09-30T11:01:15.124Z"
   },
   {
    "duration": 83,
    "start_time": "2023-09-30T11:01:30.163Z"
   },
   {
    "duration": 522590,
    "start_time": "2023-09-30T11:01:30.248Z"
   },
   {
    "duration": 987,
    "start_time": "2023-09-30T11:10:12.840Z"
   },
   {
    "duration": 130,
    "start_time": "2023-09-30T11:10:13.830Z"
   },
   {
    "duration": 0,
    "start_time": "2023-09-30T11:10:13.962Z"
   },
   {
    "duration": 122506,
    "start_time": "2023-09-30T11:14:08.991Z"
   },
   {
    "duration": 467,
    "start_time": "2023-09-30T11:16:56.223Z"
   },
   {
    "duration": 16,
    "start_time": "2023-09-30T11:17:20.577Z"
   },
   {
    "duration": 933484,
    "start_time": "2023-09-30T11:18:15.752Z"
   },
   {
    "duration": 85,
    "start_time": "2023-09-30T11:33:49.239Z"
   },
   {
    "duration": 15,
    "start_time": "2023-09-30T11:40:09.147Z"
   },
   {
    "duration": 15,
    "start_time": "2023-09-30T11:41:08.787Z"
   },
   {
    "duration": 22,
    "start_time": "2023-09-30T11:44:08.730Z"
   },
   {
    "duration": 267,
    "start_time": "2023-09-30T11:46:08.421Z"
   },
   {
    "duration": 242,
    "start_time": "2023-09-30T11:46:31.765Z"
   },
   {
    "duration": 340,
    "start_time": "2023-09-30T11:48:46.416Z"
   },
   {
    "duration": 483,
    "start_time": "2023-09-30T11:50:42.071Z"
   },
   {
    "duration": 389,
    "start_time": "2023-09-30T11:51:09.217Z"
   },
   {
    "duration": 30415,
    "start_time": "2023-09-30T11:54:49.667Z"
   },
   {
    "duration": 21,
    "start_time": "2023-09-30T11:55:26.355Z"
   },
   {
    "duration": 14,
    "start_time": "2023-09-30T11:55:34.490Z"
   },
   {
    "duration": 828,
    "start_time": "2023-09-30T11:56:47.420Z"
   },
   {
    "duration": 18,
    "start_time": "2023-09-30T11:57:15.037Z"
   },
   {
    "duration": 367,
    "start_time": "2023-09-30T11:57:18.316Z"
   },
   {
    "duration": 449,
    "start_time": "2023-09-30T11:57:32.979Z"
   },
   {
    "duration": 13,
    "start_time": "2023-09-30T12:11:51.843Z"
   },
   {
    "duration": 17,
    "start_time": "2023-09-30T12:11:53.979Z"
   },
   {
    "duration": 318,
    "start_time": "2023-09-30T12:12:12.214Z"
   },
   {
    "duration": 5,
    "start_time": "2023-09-30T12:15:58.139Z"
   },
   {
    "duration": 1382,
    "start_time": "2023-09-30T12:15:58.147Z"
   },
   {
    "duration": 24,
    "start_time": "2023-09-30T12:15:59.532Z"
   },
   {
    "duration": 171,
    "start_time": "2023-09-30T12:15:59.558Z"
   },
   {
    "duration": 219,
    "start_time": "2023-09-30T12:15:59.732Z"
   },
   {
    "duration": 544,
    "start_time": "2023-09-30T12:15:59.952Z"
   },
   {
    "duration": 589,
    "start_time": "2023-09-30T12:16:00.498Z"
   },
   {
    "duration": 36,
    "start_time": "2023-09-30T12:16:01.089Z"
   },
   {
    "duration": 75,
    "start_time": "2023-09-30T12:16:01.129Z"
   },
   {
    "duration": 90,
    "start_time": "2023-09-30T12:16:01.207Z"
   },
   {
    "duration": 131,
    "start_time": "2023-09-30T12:16:01.299Z"
   },
   {
    "duration": 213,
    "start_time": "2023-09-30T12:16:01.433Z"
   },
   {
    "duration": 18,
    "start_time": "2023-09-30T12:16:01.649Z"
   },
   {
    "duration": 74,
    "start_time": "2023-09-30T12:16:01.669Z"
   },
   {
    "duration": 115,
    "start_time": "2023-09-30T12:16:01.745Z"
   },
   {
    "duration": 113,
    "start_time": "2023-09-30T12:16:01.862Z"
   },
   {
    "duration": 107,
    "start_time": "2023-09-30T12:16:01.977Z"
   },
   {
    "duration": 4,
    "start_time": "2023-09-30T12:16:02.086Z"
   },
   {
    "duration": 113,
    "start_time": "2023-09-30T12:16:02.092Z"
   },
   {
    "duration": 16638,
    "start_time": "2023-09-30T12:16:02.207Z"
   },
   {
    "duration": 108,
    "start_time": "2023-09-30T12:16:18.847Z"
   },
   {
    "duration": 980,
    "start_time": "2023-09-30T12:16:18.957Z"
   },
   {
    "duration": 9,
    "start_time": "2023-09-30T12:16:19.939Z"
   },
   {
    "duration": 32,
    "start_time": "2023-09-30T12:16:19.952Z"
   },
   {
    "duration": 13,
    "start_time": "2023-09-30T12:16:19.985Z"
   },
   {
    "duration": 579,
    "start_time": "2023-09-30T12:16:20.000Z"
   },
   {
    "duration": 9,
    "start_time": "2023-09-30T12:16:20.582Z"
   },
   {
    "duration": 151,
    "start_time": "2023-09-30T12:16:20.592Z"
   },
   {
    "duration": 18,
    "start_time": "2023-09-30T12:16:20.745Z"
   },
   {
    "duration": 15,
    "start_time": "2023-09-30T12:16:20.765Z"
   },
   {
    "duration": 677,
    "start_time": "2023-09-30T12:16:20.781Z"
   },
   {
    "duration": 34,
    "start_time": "2023-09-30T12:16:21.460Z"
   },
   {
    "duration": 45,
    "start_time": "2023-09-30T12:16:21.496Z"
   },
   {
    "duration": 15,
    "start_time": "2023-09-30T12:16:21.543Z"
   },
   {
    "duration": 51,
    "start_time": "2023-09-30T12:16:21.560Z"
   },
   {
    "duration": 71,
    "start_time": "2023-09-30T12:16:21.612Z"
   },
   {
    "duration": 6,
    "start_time": "2023-09-30T12:16:21.684Z"
   },
   {
    "duration": 10,
    "start_time": "2023-09-30T12:16:21.692Z"
   },
   {
    "duration": 20,
    "start_time": "2023-09-30T12:16:21.704Z"
   },
   {
    "duration": 137286,
    "start_time": "2023-09-30T12:16:21.726Z"
   },
   {
    "duration": 592,
    "start_time": "2023-09-30T12:18:39.014Z"
   },
   {
    "duration": 32,
    "start_time": "2023-09-30T12:18:39.608Z"
   },
   {
    "duration": 28702,
    "start_time": "2023-09-30T12:18:39.644Z"
   },
   {
    "duration": 842,
    "start_time": "2023-09-30T12:19:08.348Z"
   },
   {
    "duration": 4139,
    "start_time": "2023-09-30T12:19:09.192Z"
   },
   {
    "duration": 103,
    "start_time": "2023-09-30T12:19:13.333Z"
   },
   {
    "duration": 252465,
    "start_time": "2023-09-30T12:19:13.439Z"
   },
   {
    "duration": 153,
    "start_time": "2023-09-30T12:23:25.906Z"
   },
   {
    "duration": 13,
    "start_time": "2023-09-30T12:23:26.061Z"
   },
   {
    "duration": 387,
    "start_time": "2023-09-30T12:23:26.075Z"
   },
   {
    "duration": 525,
    "start_time": "2023-09-30T12:23:26.467Z"
   },
   {
    "duration": 1612,
    "start_time": "2023-09-30T12:24:04.396Z"
   },
   {
    "duration": 905,
    "start_time": "2023-09-30T12:24:06.010Z"
   },
   {
    "duration": 25,
    "start_time": "2023-09-30T12:24:06.918Z"
   },
   {
    "duration": 167,
    "start_time": "2023-09-30T12:24:06.946Z"
   },
   {
    "duration": 191,
    "start_time": "2023-09-30T12:24:07.115Z"
   },
   {
    "duration": 479,
    "start_time": "2023-09-30T12:24:07.308Z"
   },
   {
    "duration": 540,
    "start_time": "2023-09-30T12:24:07.789Z"
   },
   {
    "duration": 22,
    "start_time": "2023-09-30T12:24:08.331Z"
   },
   {
    "duration": 50,
    "start_time": "2023-09-30T12:24:08.355Z"
   },
   {
    "duration": 30,
    "start_time": "2023-09-30T12:24:08.408Z"
   },
   {
    "duration": 22,
    "start_time": "2023-09-30T12:24:08.439Z"
   },
   {
    "duration": 78,
    "start_time": "2023-09-30T12:24:08.463Z"
   },
   {
    "duration": 44,
    "start_time": "2023-09-30T12:24:08.544Z"
   },
   {
    "duration": 53,
    "start_time": "2023-09-30T12:24:08.590Z"
   },
   {
    "duration": 146,
    "start_time": "2023-09-30T12:24:08.645Z"
   },
   {
    "duration": 110,
    "start_time": "2023-09-30T12:24:08.793Z"
   },
   {
    "duration": 87,
    "start_time": "2023-09-30T12:24:08.907Z"
   },
   {
    "duration": 3,
    "start_time": "2023-09-30T12:24:08.999Z"
   },
   {
    "duration": 10,
    "start_time": "2023-09-30T12:24:09.004Z"
   },
   {
    "duration": 14247,
    "start_time": "2023-09-30T12:24:09.023Z"
   },
   {
    "duration": 100,
    "start_time": "2023-09-30T12:24:23.272Z"
   },
   {
    "duration": 1058,
    "start_time": "2023-09-30T12:24:23.374Z"
   },
   {
    "duration": 7,
    "start_time": "2023-09-30T12:24:24.434Z"
   },
   {
    "duration": 64,
    "start_time": "2023-09-30T12:24:24.443Z"
   },
   {
    "duration": 16,
    "start_time": "2023-09-30T12:24:24.508Z"
   },
   {
    "duration": 365,
    "start_time": "2023-09-30T12:24:24.525Z"
   },
   {
    "duration": 6,
    "start_time": "2023-09-30T12:24:24.892Z"
   },
   {
    "duration": 149,
    "start_time": "2023-09-30T12:24:24.902Z"
   },
   {
    "duration": 13,
    "start_time": "2023-09-30T12:24:25.053Z"
   },
   {
    "duration": 14,
    "start_time": "2023-09-30T12:24:25.068Z"
   },
   {
    "duration": 695,
    "start_time": "2023-09-30T12:24:25.084Z"
   },
   {
    "duration": 57,
    "start_time": "2023-09-30T12:24:25.782Z"
   },
   {
    "duration": 209,
    "start_time": "2023-09-30T12:24:25.842Z"
   },
   {
    "duration": 205,
    "start_time": "2023-09-30T12:24:26.053Z"
   },
   {
    "duration": 68,
    "start_time": "2023-09-30T12:24:26.259Z"
   },
   {
    "duration": 61,
    "start_time": "2023-09-30T12:24:26.328Z"
   },
   {
    "duration": 4,
    "start_time": "2023-09-30T12:24:26.391Z"
   },
   {
    "duration": 8,
    "start_time": "2023-09-30T12:24:26.396Z"
   },
   {
    "duration": 3,
    "start_time": "2023-09-30T12:24:26.425Z"
   },
   {
    "duration": 134488,
    "start_time": "2023-09-30T12:24:26.429Z"
   },
   {
    "duration": 473,
    "start_time": "2023-09-30T12:26:40.919Z"
   },
   {
    "duration": 14,
    "start_time": "2023-09-30T12:26:41.394Z"
   },
   {
    "duration": 24961,
    "start_time": "2023-09-30T12:26:41.424Z"
   },
   {
    "duration": 782,
    "start_time": "2023-09-30T12:27:06.387Z"
   },
   {
    "duration": 16579,
    "start_time": "2023-09-30T12:27:07.171Z"
   },
   {
    "duration": 89,
    "start_time": "2023-09-30T12:27:23.752Z"
   },
   {
    "duration": 643594,
    "start_time": "2023-09-30T12:27:23.842Z"
   },
   {
    "duration": 1003,
    "start_time": "2023-09-30T12:38:07.438Z"
   },
   {
    "duration": 13,
    "start_time": "2023-09-30T12:38:08.442Z"
   },
   {
    "duration": 392,
    "start_time": "2023-09-30T12:38:08.457Z"
   },
   {
    "duration": 20,
    "start_time": "2023-09-30T12:40:18.466Z"
   },
   {
    "duration": 322,
    "start_time": "2023-09-30T12:40:21.359Z"
   },
   {
    "duration": 53,
    "start_time": "2023-10-01T07:08:48.412Z"
   },
   {
    "duration": 1762,
    "start_time": "2023-10-01T07:08:52.735Z"
   },
   {
    "duration": 1271,
    "start_time": "2023-10-01T07:08:54.499Z"
   },
   {
    "duration": 21,
    "start_time": "2023-10-01T07:08:55.772Z"
   },
   {
    "duration": 176,
    "start_time": "2023-10-01T07:08:55.796Z"
   },
   {
    "duration": 176,
    "start_time": "2023-10-01T07:08:55.974Z"
   },
   {
    "duration": 514,
    "start_time": "2023-10-01T07:08:56.152Z"
   },
   {
    "duration": 543,
    "start_time": "2023-10-01T07:08:56.668Z"
   },
   {
    "duration": 33,
    "start_time": "2023-10-01T07:08:57.213Z"
   },
   {
    "duration": 37,
    "start_time": "2023-10-01T07:08:57.248Z"
   },
   {
    "duration": 35,
    "start_time": "2023-10-01T07:08:57.287Z"
   },
   {
    "duration": 35,
    "start_time": "2023-10-01T07:08:57.324Z"
   },
   {
    "duration": 52,
    "start_time": "2023-10-01T07:08:57.361Z"
   },
   {
    "duration": 223,
    "start_time": "2023-10-01T07:09:01.659Z"
   },
   {
    "duration": 199,
    "start_time": "2023-10-01T07:09:37.579Z"
   },
   {
    "duration": 228,
    "start_time": "2023-10-01T07:39:36.057Z"
   },
   {
    "duration": 92,
    "start_time": "2023-10-01T07:52:13.286Z"
   },
   {
    "duration": 1906,
    "start_time": "2023-10-01T07:52:22.575Z"
   },
   {
    "duration": 1561,
    "start_time": "2023-10-01T07:54:06.619Z"
   },
   {
    "duration": 6,
    "start_time": "2023-10-01T07:54:18.953Z"
   },
   {
    "duration": 7,
    "start_time": "2023-10-01T07:54:20.793Z"
   },
   {
    "duration": 104,
    "start_time": "2023-10-01T07:54:23.232Z"
   },
   {
    "duration": 99,
    "start_time": "2023-10-01T07:54:48.389Z"
   },
   {
    "duration": 10,
    "start_time": "2023-10-01T07:54:56.463Z"
   },
   {
    "duration": 8,
    "start_time": "2023-10-01T07:59:06.498Z"
   },
   {
    "duration": 9,
    "start_time": "2023-10-01T07:59:41.010Z"
   },
   {
    "duration": 79,
    "start_time": "2023-10-01T08:15:31.230Z"
   },
   {
    "duration": 4,
    "start_time": "2023-10-01T08:15:56.908Z"
   },
   {
    "duration": 931,
    "start_time": "2023-10-01T08:15:56.915Z"
   },
   {
    "duration": 17,
    "start_time": "2023-10-01T08:15:57.848Z"
   },
   {
    "duration": 169,
    "start_time": "2023-10-01T08:15:57.866Z"
   },
   {
    "duration": 175,
    "start_time": "2023-10-01T08:15:58.037Z"
   },
   {
    "duration": 452,
    "start_time": "2023-10-01T08:15:58.213Z"
   },
   {
    "duration": 480,
    "start_time": "2023-10-01T08:15:58.667Z"
   },
   {
    "duration": 25,
    "start_time": "2023-10-01T08:15:59.149Z"
   },
   {
    "duration": 43,
    "start_time": "2023-10-01T08:15:59.175Z"
   },
   {
    "duration": 38,
    "start_time": "2023-10-01T08:15:59.219Z"
   },
   {
    "duration": 14,
    "start_time": "2023-10-01T08:15:59.259Z"
   },
   {
    "duration": 34,
    "start_time": "2023-10-01T08:15:59.274Z"
   },
   {
    "duration": 186,
    "start_time": "2023-10-01T08:15:59.311Z"
   },
   {
    "duration": 207,
    "start_time": "2023-10-01T08:15:59.499Z"
   },
   {
    "duration": 5,
    "start_time": "2023-10-01T08:15:59.708Z"
   },
   {
    "duration": 24,
    "start_time": "2023-10-01T08:15:59.715Z"
   },
   {
    "duration": 123,
    "start_time": "2023-10-01T08:15:59.741Z"
   },
   {
    "duration": 85,
    "start_time": "2023-10-01T08:15:59.865Z"
   },
   {
    "duration": 82,
    "start_time": "2023-10-01T08:16:04.053Z"
   },
   {
    "duration": 13438,
    "start_time": "2023-10-01T08:16:10.686Z"
   },
   {
    "duration": 115,
    "start_time": "2023-10-01T08:16:32.134Z"
   },
   {
    "duration": 1134,
    "start_time": "2023-10-01T08:16:36.516Z"
   },
   {
    "duration": 397,
    "start_time": "2023-10-01T08:17:39.646Z"
   },
   {
    "duration": 362,
    "start_time": "2023-10-01T08:19:25.105Z"
   },
   {
    "duration": 293,
    "start_time": "2023-10-01T08:20:31.957Z"
   },
   {
    "duration": 384,
    "start_time": "2023-10-01T08:20:41.703Z"
   },
   {
    "duration": 290,
    "start_time": "2023-10-01T08:21:02.538Z"
   },
   {
    "duration": 75,
    "start_time": "2023-10-01T08:22:10.545Z"
   },
   {
    "duration": 80,
    "start_time": "2023-10-01T08:22:25.033Z"
   },
   {
    "duration": 73,
    "start_time": "2023-10-01T08:22:27.775Z"
   },
   {
    "duration": 276,
    "start_time": "2023-10-01T08:22:34.488Z"
   },
   {
    "duration": 346,
    "start_time": "2023-10-01T08:24:29.176Z"
   },
   {
    "duration": 1164,
    "start_time": "2023-10-01T08:24:59.225Z"
   },
   {
    "duration": 20,
    "start_time": "2023-10-01T08:25:10.834Z"
   },
   {
    "duration": 6,
    "start_time": "2023-10-01T08:25:12.417Z"
   },
   {
    "duration": 4,
    "start_time": "2023-10-01T08:25:18.176Z"
   },
   {
    "duration": 886,
    "start_time": "2023-10-01T08:25:18.182Z"
   },
   {
    "duration": 17,
    "start_time": "2023-10-01T08:25:19.071Z"
   },
   {
    "duration": 169,
    "start_time": "2023-10-01T08:25:19.090Z"
   },
   {
    "duration": 163,
    "start_time": "2023-10-01T08:25:19.262Z"
   },
   {
    "duration": 450,
    "start_time": "2023-10-01T08:25:19.428Z"
   },
   {
    "duration": 513,
    "start_time": "2023-10-01T08:25:19.880Z"
   },
   {
    "duration": 27,
    "start_time": "2023-10-01T08:25:20.396Z"
   },
   {
    "duration": 30,
    "start_time": "2023-10-01T08:25:20.425Z"
   },
   {
    "duration": 34,
    "start_time": "2023-10-01T08:25:20.457Z"
   },
   {
    "duration": 18,
    "start_time": "2023-10-01T08:25:20.493Z"
   },
   {
    "duration": 52,
    "start_time": "2023-10-01T08:25:20.513Z"
   },
   {
    "duration": 192,
    "start_time": "2023-10-01T08:25:20.567Z"
   },
   {
    "duration": 208,
    "start_time": "2023-10-01T08:25:20.762Z"
   },
   {
    "duration": 6,
    "start_time": "2023-10-01T08:25:20.973Z"
   },
   {
    "duration": 28,
    "start_time": "2023-10-01T08:25:20.982Z"
   },
   {
    "duration": 86,
    "start_time": "2023-10-01T08:25:21.012Z"
   },
   {
    "duration": 87,
    "start_time": "2023-10-01T08:25:21.100Z"
   },
   {
    "duration": 85,
    "start_time": "2023-10-01T08:25:21.190Z"
   },
   {
    "duration": 157,
    "start_time": "2023-10-01T08:25:21.277Z"
   },
   {
    "duration": 13631,
    "start_time": "2023-10-01T08:25:21.436Z"
   },
   {
    "duration": 100,
    "start_time": "2023-10-01T08:25:35.069Z"
   },
   {
    "duration": 9,
    "start_time": "2023-10-01T08:25:35.172Z"
   },
   {
    "duration": 320,
    "start_time": "2023-10-01T09:32:46.095Z"
   },
   {
    "duration": 348,
    "start_time": "2023-10-01T09:33:08.634Z"
   },
   {
    "duration": 338,
    "start_time": "2023-10-01T09:34:21.322Z"
   },
   {
    "duration": 309,
    "start_time": "2023-10-01T09:35:17.111Z"
   },
   {
    "duration": 438,
    "start_time": "2023-10-01T09:35:19.482Z"
   },
   {
    "duration": 330,
    "start_time": "2023-10-01T09:36:15.562Z"
   },
   {
    "duration": 336,
    "start_time": "2023-10-01T09:39:25.885Z"
   },
   {
    "duration": 308,
    "start_time": "2023-10-01T09:39:30.603Z"
   },
   {
    "duration": 324,
    "start_time": "2023-10-01T09:39:41.739Z"
   },
   {
    "duration": 528,
    "start_time": "2023-10-01T09:40:06.747Z"
   },
   {
    "duration": 427,
    "start_time": "2023-10-01T09:40:11.524Z"
   },
   {
    "duration": 425,
    "start_time": "2023-10-01T09:40:26.740Z"
   },
   {
    "duration": 859,
    "start_time": "2023-10-01T09:40:51.123Z"
   },
   {
    "duration": 240,
    "start_time": "2023-10-01T09:41:52.924Z"
   },
   {
    "duration": 79,
    "start_time": "2023-10-01T09:42:24.989Z"
   },
   {
    "duration": 205,
    "start_time": "2023-10-01T09:42:30.647Z"
   },
   {
    "duration": 20,
    "start_time": "2023-10-01T09:43:13.317Z"
   },
   {
    "duration": 4,
    "start_time": "2023-10-01T09:43:15.629Z"
   },
   {
    "duration": 376,
    "start_time": "2023-10-01T09:43:17.811Z"
   },
   {
    "duration": 296,
    "start_time": "2023-10-01T09:46:29.079Z"
   },
   {
    "duration": 23,
    "start_time": "2023-10-01T09:47:20.983Z"
   },
   {
    "duration": 6,
    "start_time": "2023-10-01T09:47:40.000Z"
   },
   {
    "duration": 7,
    "start_time": "2023-10-01T09:48:11.423Z"
   },
   {
    "duration": 6,
    "start_time": "2023-10-01T09:50:12.032Z"
   },
   {
    "duration": 26,
    "start_time": "2023-10-01T15:30:22.607Z"
   },
   {
    "duration": 6254,
    "start_time": "2023-10-01T15:30:39.763Z"
   },
   {
    "duration": 10194,
    "start_time": "2023-10-01T15:31:46.991Z"
   },
   {
    "duration": 6377,
    "start_time": "2023-10-01T15:32:15.824Z"
   },
   {
    "duration": 229,
    "start_time": "2023-10-01T15:33:29.256Z"
   },
   {
    "duration": 414,
    "start_time": "2023-10-01T15:33:47.512Z"
   },
   {
    "duration": 558,
    "start_time": "2023-10-01T15:47:14.192Z"
   },
   {
    "duration": 537,
    "start_time": "2023-10-01T15:47:38.203Z"
   },
   {
    "duration": 541,
    "start_time": "2023-10-01T15:48:02.461Z"
   },
   {
    "duration": 4456,
    "start_time": "2023-10-01T15:53:28.975Z"
   },
   {
    "duration": 11580,
    "start_time": "2023-10-01T15:53:55.501Z"
   },
   {
    "duration": 548,
    "start_time": "2023-10-01T15:54:16.775Z"
   },
   {
    "duration": 11630,
    "start_time": "2023-10-01T15:54:38.205Z"
   },
   {
    "duration": 556,
    "start_time": "2023-10-01T15:54:59.224Z"
   },
   {
    "duration": 6759,
    "start_time": "2023-10-01T15:56:33.375Z"
   },
   {
    "duration": 7263,
    "start_time": "2023-10-01T15:58:06.631Z"
   },
   {
    "duration": 160,
    "start_time": "2023-10-01T16:02:51.240Z"
   },
   {
    "duration": 4,
    "start_time": "2023-10-01T16:02:59.240Z"
   },
   {
    "duration": 1031,
    "start_time": "2023-10-01T16:02:59.249Z"
   },
   {
    "duration": 15,
    "start_time": "2023-10-01T16:03:00.283Z"
   },
   {
    "duration": 245,
    "start_time": "2023-10-01T16:03:00.300Z"
   },
   {
    "duration": 208,
    "start_time": "2023-10-01T16:03:00.556Z"
   },
   {
    "duration": 511,
    "start_time": "2023-10-01T16:03:00.770Z"
   },
   {
    "duration": 517,
    "start_time": "2023-10-01T16:03:01.283Z"
   },
   {
    "duration": 26,
    "start_time": "2023-10-01T16:03:01.802Z"
   },
   {
    "duration": 487,
    "start_time": "2023-10-01T16:03:01.830Z"
   },
   {
    "duration": 168,
    "start_time": "2023-10-01T16:03:02.319Z"
   },
   {
    "duration": 77,
    "start_time": "2023-10-01T16:03:02.490Z"
   },
   {
    "duration": 126,
    "start_time": "2023-10-01T16:03:02.571Z"
   },
   {
    "duration": 289,
    "start_time": "2023-10-01T16:03:02.699Z"
   },
   {
    "duration": 249,
    "start_time": "2023-10-01T16:03:02.989Z"
   },
   {
    "duration": 11,
    "start_time": "2023-10-01T16:03:03.249Z"
   },
   {
    "duration": 57,
    "start_time": "2023-10-01T16:03:03.268Z"
   },
   {
    "duration": 117,
    "start_time": "2023-10-01T16:03:03.327Z"
   },
   {
    "duration": 94,
    "start_time": "2023-10-01T16:03:03.448Z"
   },
   {
    "duration": 111,
    "start_time": "2023-10-01T16:03:03.544Z"
   },
   {
    "duration": 6,
    "start_time": "2023-10-01T16:03:03.656Z"
   },
   {
    "duration": 16041,
    "start_time": "2023-10-01T16:03:03.668Z"
   },
   {
    "duration": 108,
    "start_time": "2023-10-01T16:03:19.711Z"
   },
   {
    "duration": 1139,
    "start_time": "2023-10-01T16:03:19.821Z"
   },
   {
    "duration": 14,
    "start_time": "2023-10-01T16:03:20.962Z"
   },
   {
    "duration": 56,
    "start_time": "2023-10-01T16:03:20.978Z"
   },
   {
    "duration": 4,
    "start_time": "2023-10-01T16:03:21.035Z"
   },
   {
    "duration": 35,
    "start_time": "2023-10-01T16:03:21.041Z"
   },
   {
    "duration": 907,
    "start_time": "2023-10-01T16:03:21.078Z"
   },
   {
    "duration": 6433,
    "start_time": "2023-10-01T16:03:21.987Z"
   },
   {
    "duration": 696,
    "start_time": "2023-10-01T16:03:28.422Z"
   },
   {
    "duration": 7,
    "start_time": "2023-10-01T16:03:29.120Z"
   },
   {
    "duration": 18,
    "start_time": "2023-10-01T16:05:45.174Z"
   },
   {
    "duration": 7258,
    "start_time": "2023-10-01T16:06:07.204Z"
   },
   {
    "duration": 153,
    "start_time": "2023-10-01T16:06:26.712Z"
   },
   {
    "duration": 9,
    "start_time": "2023-10-01T16:06:29.981Z"
   },
   {
    "duration": 6751,
    "start_time": "2023-10-01T16:06:32.617Z"
   },
   {
    "duration": 6181,
    "start_time": "2023-10-01T16:07:48.366Z"
   },
   {
    "duration": 5,
    "start_time": "2023-10-01T16:08:18.343Z"
   },
   {
    "duration": 6391,
    "start_time": "2023-10-01T16:08:22.982Z"
   },
   {
    "duration": 6302,
    "start_time": "2023-10-01T16:09:33.926Z"
   },
   {
    "duration": 6493,
    "start_time": "2023-10-01T16:09:48.032Z"
   },
   {
    "duration": 10530,
    "start_time": "2023-10-01T16:10:45.215Z"
   },
   {
    "duration": 6694,
    "start_time": "2023-10-01T16:11:02.015Z"
   },
   {
    "duration": 6420,
    "start_time": "2023-10-01T16:13:19.320Z"
   },
   {
    "duration": 6391,
    "start_time": "2023-10-01T16:13:29.313Z"
   },
   {
    "duration": 20,
    "start_time": "2023-10-01T16:16:47.267Z"
   },
   {
    "duration": 20,
    "start_time": "2023-10-01T16:17:13.415Z"
   },
   {
    "duration": 5,
    "start_time": "2023-10-01T16:20:26.397Z"
   },
   {
    "duration": 954,
    "start_time": "2023-10-01T16:20:26.404Z"
   },
   {
    "duration": 20,
    "start_time": "2023-10-01T16:20:27.362Z"
   },
   {
    "duration": 213,
    "start_time": "2023-10-01T16:20:27.385Z"
   },
   {
    "duration": 181,
    "start_time": "2023-10-01T16:20:27.600Z"
   },
   {
    "duration": 548,
    "start_time": "2023-10-01T16:20:27.783Z"
   },
   {
    "duration": 546,
    "start_time": "2023-10-01T16:20:28.333Z"
   },
   {
    "duration": 25,
    "start_time": "2023-10-01T16:20:28.881Z"
   },
   {
    "duration": 28,
    "start_time": "2023-10-01T16:20:28.910Z"
   },
   {
    "duration": 30,
    "start_time": "2023-10-01T16:20:28.956Z"
   },
   {
    "duration": 24,
    "start_time": "2023-10-01T16:20:28.988Z"
   },
   {
    "duration": 43,
    "start_time": "2023-10-01T16:20:29.014Z"
   },
   {
    "duration": 254,
    "start_time": "2023-10-01T16:20:29.059Z"
   },
   {
    "duration": 236,
    "start_time": "2023-10-01T16:20:29.315Z"
   },
   {
    "duration": 9,
    "start_time": "2023-10-01T16:20:29.553Z"
   },
   {
    "duration": 7,
    "start_time": "2023-10-01T16:20:29.565Z"
   },
   {
    "duration": 92,
    "start_time": "2023-10-01T16:20:29.573Z"
   },
   {
    "duration": 90,
    "start_time": "2023-10-01T16:20:29.666Z"
   },
   {
    "duration": 76,
    "start_time": "2023-10-01T16:20:29.764Z"
   },
   {
    "duration": 5,
    "start_time": "2023-10-01T16:20:29.856Z"
   },
   {
    "duration": 15307,
    "start_time": "2023-10-01T16:20:29.863Z"
   },
   {
    "duration": 104,
    "start_time": "2023-10-01T16:20:45.172Z"
   },
   {
    "duration": 1273,
    "start_time": "2023-10-01T16:20:45.278Z"
   },
   {
    "duration": 9,
    "start_time": "2023-10-01T16:20:46.563Z"
   },
   {
    "duration": 21,
    "start_time": "2023-10-01T16:20:46.575Z"
   },
   {
    "duration": 4,
    "start_time": "2023-10-01T16:20:46.598Z"
   },
   {
    "duration": 15,
    "start_time": "2023-10-01T16:20:46.604Z"
   },
   {
    "duration": 554,
    "start_time": "2023-10-01T16:20:46.621Z"
   },
   {
    "duration": 415,
    "start_time": "2023-10-01T16:20:47.178Z"
   },
   {
    "duration": 7,
    "start_time": "2023-10-01T16:20:47.595Z"
   },
   {
    "duration": 152,
    "start_time": "2023-10-01T16:20:47.603Z"
   },
   {
    "duration": 9,
    "start_time": "2023-10-01T16:20:47.758Z"
   },
   {
    "duration": 8,
    "start_time": "2023-10-01T16:21:14.531Z"
   },
   {
    "duration": 5,
    "start_time": "2023-10-01T16:21:17.272Z"
   },
   {
    "duration": 11495,
    "start_time": "2023-10-01T16:21:25.063Z"
   },
   {
    "duration": 7173,
    "start_time": "2023-10-01T16:21:44.502Z"
   },
   {
    "duration": 7020,
    "start_time": "2023-10-01T16:22:02.473Z"
   },
   {
    "duration": 20,
    "start_time": "2023-10-01T16:22:59.223Z"
   },
   {
    "duration": 10253,
    "start_time": "2023-10-01T16:23:26.521Z"
   },
   {
    "duration": 6225,
    "start_time": "2023-10-01T16:23:39.543Z"
   },
   {
    "duration": 21,
    "start_time": "2023-10-01T16:23:52.817Z"
   },
   {
    "duration": 23,
    "start_time": "2023-10-01T16:24:03.369Z"
   },
   {
    "duration": 4,
    "start_time": "2023-10-01T16:25:39.937Z"
   },
   {
    "duration": 990,
    "start_time": "2023-10-01T16:25:39.943Z"
   },
   {
    "duration": 28,
    "start_time": "2023-10-01T16:25:40.935Z"
   },
   {
    "duration": 187,
    "start_time": "2023-10-01T16:25:40.966Z"
   },
   {
    "duration": 190,
    "start_time": "2023-10-01T16:25:41.158Z"
   },
   {
    "duration": 497,
    "start_time": "2023-10-01T16:25:41.356Z"
   },
   {
    "duration": 554,
    "start_time": "2023-10-01T16:25:41.854Z"
   },
   {
    "duration": 44,
    "start_time": "2023-10-01T16:25:42.410Z"
   },
   {
    "duration": 19,
    "start_time": "2023-10-01T16:25:42.469Z"
   },
   {
    "duration": 32,
    "start_time": "2023-10-01T16:25:42.490Z"
   },
   {
    "duration": 10,
    "start_time": "2023-10-01T16:25:42.523Z"
   },
   {
    "duration": 45,
    "start_time": "2023-10-01T16:25:42.535Z"
   },
   {
    "duration": 215,
    "start_time": "2023-10-01T16:25:42.581Z"
   },
   {
    "duration": 240,
    "start_time": "2023-10-01T16:25:42.797Z"
   },
   {
    "duration": 11,
    "start_time": "2023-10-01T16:25:43.039Z"
   },
   {
    "duration": 9,
    "start_time": "2023-10-01T16:25:43.052Z"
   },
   {
    "duration": 93,
    "start_time": "2023-10-01T16:25:43.063Z"
   },
   {
    "duration": 118,
    "start_time": "2023-10-01T16:25:43.158Z"
   },
   {
    "duration": 98,
    "start_time": "2023-10-01T16:25:43.279Z"
   },
   {
    "duration": 3,
    "start_time": "2023-10-01T16:25:43.379Z"
   },
   {
    "duration": 15910,
    "start_time": "2023-10-01T16:25:43.383Z"
   },
   {
    "duration": 110,
    "start_time": "2023-10-01T16:25:59.294Z"
   },
   {
    "duration": 1180,
    "start_time": "2023-10-01T16:25:59.405Z"
   },
   {
    "duration": 7,
    "start_time": "2023-10-01T16:26:00.588Z"
   },
   {
    "duration": 60,
    "start_time": "2023-10-01T16:26:00.597Z"
   },
   {
    "duration": 13,
    "start_time": "2023-10-01T16:26:00.664Z"
   },
   {
    "duration": 35,
    "start_time": "2023-10-01T16:26:00.678Z"
   },
   {
    "duration": 595,
    "start_time": "2023-10-01T16:26:00.715Z"
   },
   {
    "duration": 426,
    "start_time": "2023-10-01T16:26:01.312Z"
   },
   {
    "duration": 20,
    "start_time": "2023-10-01T16:26:01.740Z"
   },
   {
    "duration": 215,
    "start_time": "2023-10-01T16:26:01.766Z"
   },
   {
    "duration": 6,
    "start_time": "2023-10-01T16:26:29.216Z"
   },
   {
    "duration": 7,
    "start_time": "2023-10-01T16:26:31.161Z"
   },
   {
    "duration": 10089,
    "start_time": "2023-10-01T16:26:33.134Z"
   },
   {
    "duration": 6318,
    "start_time": "2023-10-01T16:27:31.914Z"
   },
   {
    "duration": 6311,
    "start_time": "2023-10-01T16:27:56.331Z"
   },
   {
    "duration": 21,
    "start_time": "2023-10-01T16:28:12.475Z"
   },
   {
    "duration": 9598,
    "start_time": "2023-10-01T16:31:32.533Z"
   },
   {
    "duration": 20,
    "start_time": "2023-10-01T16:31:58.301Z"
   },
   {
    "duration": 9489,
    "start_time": "2023-10-01T16:35:28.470Z"
   },
   {
    "duration": 21,
    "start_time": "2023-10-01T16:35:40.037Z"
   },
   {
    "duration": 9389,
    "start_time": "2023-10-01T16:35:51.615Z"
   },
   {
    "duration": 21,
    "start_time": "2023-10-01T16:36:04.538Z"
   },
   {
    "duration": 19,
    "start_time": "2023-10-01T16:36:10.683Z"
   },
   {
    "duration": 9481,
    "start_time": "2023-10-01T16:43:11.370Z"
   },
   {
    "duration": 21,
    "start_time": "2023-10-01T16:43:29.282Z"
   },
   {
    "duration": 19,
    "start_time": "2023-10-01T16:45:50.835Z"
   },
   {
    "duration": 107,
    "start_time": "2023-10-01T16:45:59.962Z"
   },
   {
    "duration": 3,
    "start_time": "2023-10-01T16:46:56.307Z"
   },
   {
    "duration": 855,
    "start_time": "2023-10-01T16:46:56.312Z"
   },
   {
    "duration": 15,
    "start_time": "2023-10-01T16:46:57.169Z"
   },
   {
    "duration": 165,
    "start_time": "2023-10-01T16:46:57.185Z"
   },
   {
    "duration": 160,
    "start_time": "2023-10-01T16:46:57.352Z"
   },
   {
    "duration": 430,
    "start_time": "2023-10-01T16:46:57.514Z"
   },
   {
    "duration": 473,
    "start_time": "2023-10-01T16:46:57.947Z"
   },
   {
    "duration": 26,
    "start_time": "2023-10-01T16:46:58.422Z"
   },
   {
    "duration": 25,
    "start_time": "2023-10-01T16:46:58.450Z"
   },
   {
    "duration": 28,
    "start_time": "2023-10-01T16:46:58.477Z"
   },
   {
    "duration": 12,
    "start_time": "2023-10-01T16:46:58.508Z"
   },
   {
    "duration": 41,
    "start_time": "2023-10-01T16:46:58.522Z"
   },
   {
    "duration": 196,
    "start_time": "2023-10-01T16:46:58.564Z"
   },
   {
    "duration": 216,
    "start_time": "2023-10-01T16:46:58.762Z"
   },
   {
    "duration": 5,
    "start_time": "2023-10-01T16:46:58.980Z"
   },
   {
    "duration": 57,
    "start_time": "2023-10-01T16:46:58.986Z"
   },
   {
    "duration": 91,
    "start_time": "2023-10-01T16:46:59.045Z"
   },
   {
    "duration": 78,
    "start_time": "2023-10-01T16:46:59.138Z"
   },
   {
    "duration": 87,
    "start_time": "2023-10-01T16:46:59.218Z"
   },
   {
    "duration": 2,
    "start_time": "2023-10-01T16:46:59.307Z"
   },
   {
    "duration": 13711,
    "start_time": "2023-10-01T16:46:59.311Z"
   },
   {
    "duration": 99,
    "start_time": "2023-10-01T16:47:13.024Z"
   },
   {
    "duration": 1047,
    "start_time": "2023-10-01T16:47:13.125Z"
   },
   {
    "duration": 6,
    "start_time": "2023-10-01T16:47:14.174Z"
   },
   {
    "duration": 33,
    "start_time": "2023-10-01T16:47:14.182Z"
   },
   {
    "duration": 4,
    "start_time": "2023-10-01T16:47:14.217Z"
   },
   {
    "duration": 14,
    "start_time": "2023-10-01T16:47:14.223Z"
   },
   {
    "duration": 395,
    "start_time": "2023-10-01T16:47:14.239Z"
   },
   {
    "duration": 12,
    "start_time": "2023-10-01T16:47:14.638Z"
   },
   {
    "duration": 139,
    "start_time": "2023-10-01T16:47:14.652Z"
   },
   {
    "duration": 7,
    "start_time": "2023-10-01T16:47:14.793Z"
   },
   {
    "duration": 13230,
    "start_time": "2023-10-01T16:47:14.802Z"
   },
   {
    "duration": 9769,
    "start_time": "2023-10-01T16:47:28.034Z"
   },
   {
    "duration": 18,
    "start_time": "2023-10-01T16:48:22.623Z"
   },
   {
    "duration": 90,
    "start_time": "2023-10-01T16:48:33.452Z"
   },
   {
    "duration": 4,
    "start_time": "2023-10-01T16:48:56.034Z"
   },
   {
    "duration": 889,
    "start_time": "2023-10-01T16:48:56.040Z"
   },
   {
    "duration": 17,
    "start_time": "2023-10-01T16:48:56.931Z"
   },
   {
    "duration": 183,
    "start_time": "2023-10-01T16:48:56.950Z"
   },
   {
    "duration": 158,
    "start_time": "2023-10-01T16:48:57.135Z"
   },
   {
    "duration": 443,
    "start_time": "2023-10-01T16:48:57.295Z"
   },
   {
    "duration": 472,
    "start_time": "2023-10-01T16:48:57.740Z"
   },
   {
    "duration": 25,
    "start_time": "2023-10-01T16:48:58.214Z"
   },
   {
    "duration": 18,
    "start_time": "2023-10-01T16:48:58.247Z"
   },
   {
    "duration": 27,
    "start_time": "2023-10-01T16:48:58.267Z"
   },
   {
    "duration": 10,
    "start_time": "2023-10-01T16:48:58.297Z"
   },
   {
    "duration": 56,
    "start_time": "2023-10-01T16:48:58.309Z"
   },
   {
    "duration": 221,
    "start_time": "2023-10-01T16:48:58.367Z"
   },
   {
    "duration": 211,
    "start_time": "2023-10-01T16:48:58.590Z"
   },
   {
    "duration": 5,
    "start_time": "2023-10-01T16:48:58.803Z"
   },
   {
    "duration": 19,
    "start_time": "2023-10-01T16:48:58.809Z"
   },
   {
    "duration": 82,
    "start_time": "2023-10-01T16:48:58.830Z"
   },
   {
    "duration": 83,
    "start_time": "2023-10-01T16:48:58.914Z"
   },
   {
    "duration": 104,
    "start_time": "2023-10-01T16:48:58.999Z"
   },
   {
    "duration": 3,
    "start_time": "2023-10-01T16:48:59.104Z"
   },
   {
    "duration": 13480,
    "start_time": "2023-10-01T16:48:59.109Z"
   },
   {
    "duration": 92,
    "start_time": "2023-10-01T16:49:12.591Z"
   },
   {
    "duration": 1003,
    "start_time": "2023-10-01T16:49:12.684Z"
   },
   {
    "duration": 7,
    "start_time": "2023-10-01T16:49:13.688Z"
   },
   {
    "duration": 22,
    "start_time": "2023-10-01T16:49:13.697Z"
   },
   {
    "duration": 4,
    "start_time": "2023-10-01T16:49:13.721Z"
   },
   {
    "duration": 28,
    "start_time": "2023-10-01T16:49:13.727Z"
   },
   {
    "duration": 728,
    "start_time": "2023-10-01T16:49:13.757Z"
   },
   {
    "duration": 6,
    "start_time": "2023-10-01T16:49:14.488Z"
   },
   {
    "duration": 136,
    "start_time": "2023-10-01T16:49:14.496Z"
   },
   {
    "duration": 15,
    "start_time": "2023-10-01T16:49:14.633Z"
   },
   {
    "duration": 12851,
    "start_time": "2023-10-01T16:49:14.649Z"
   },
   {
    "duration": 9640,
    "start_time": "2023-10-01T16:50:29.150Z"
   },
   {
    "duration": 5,
    "start_time": "2023-10-01T16:51:19.414Z"
   },
   {
    "duration": 1033,
    "start_time": "2023-10-01T16:51:19.421Z"
   },
   {
    "duration": 16,
    "start_time": "2023-10-01T16:51:20.457Z"
   },
   {
    "duration": 178,
    "start_time": "2023-10-01T16:51:20.475Z"
   },
   {
    "duration": 165,
    "start_time": "2023-10-01T16:51:20.654Z"
   },
   {
    "duration": 477,
    "start_time": "2023-10-01T16:51:20.820Z"
   },
   {
    "duration": 485,
    "start_time": "2023-10-01T16:51:21.299Z"
   },
   {
    "duration": 25,
    "start_time": "2023-10-01T16:51:21.785Z"
   },
   {
    "duration": 35,
    "start_time": "2023-10-01T16:51:21.812Z"
   },
   {
    "duration": 23,
    "start_time": "2023-10-01T16:51:21.849Z"
   },
   {
    "duration": 9,
    "start_time": "2023-10-01T16:51:21.874Z"
   },
   {
    "duration": 35,
    "start_time": "2023-10-01T16:51:21.884Z"
   },
   {
    "duration": 210,
    "start_time": "2023-10-01T16:51:21.920Z"
   },
   {
    "duration": 217,
    "start_time": "2023-10-01T16:51:22.132Z"
   },
   {
    "duration": 5,
    "start_time": "2023-10-01T16:51:22.351Z"
   },
   {
    "duration": 16,
    "start_time": "2023-10-01T16:51:22.358Z"
   },
   {
    "duration": 86,
    "start_time": "2023-10-01T16:51:22.375Z"
   },
   {
    "duration": 89,
    "start_time": "2023-10-01T16:51:22.463Z"
   },
   {
    "duration": 75,
    "start_time": "2023-10-01T16:51:22.554Z"
   },
   {
    "duration": 15,
    "start_time": "2023-10-01T16:51:22.631Z"
   },
   {
    "duration": 13443,
    "start_time": "2023-10-01T16:51:22.648Z"
   },
   {
    "duration": 95,
    "start_time": "2023-10-01T16:51:36.093Z"
   },
   {
    "duration": 1013,
    "start_time": "2023-10-01T16:51:36.190Z"
   },
   {
    "duration": 7,
    "start_time": "2023-10-01T16:51:37.206Z"
   },
   {
    "duration": 52,
    "start_time": "2023-10-01T16:51:37.214Z"
   },
   {
    "duration": 4,
    "start_time": "2023-10-01T16:51:37.268Z"
   },
   {
    "duration": 40,
    "start_time": "2023-10-01T16:51:37.274Z"
   },
   {
    "duration": 371,
    "start_time": "2023-10-01T16:51:37.316Z"
   },
   {
    "duration": 6,
    "start_time": "2023-10-01T16:51:37.688Z"
   },
   {
    "duration": 139,
    "start_time": "2023-10-01T16:51:37.695Z"
   },
   {
    "duration": 8,
    "start_time": "2023-10-01T16:51:43.933Z"
   },
   {
    "duration": 9482,
    "start_time": "2023-10-01T16:52:54.615Z"
   },
   {
    "duration": 23,
    "start_time": "2023-10-01T16:53:09.759Z"
   },
   {
    "duration": 109,
    "start_time": "2023-10-01T16:53:36.449Z"
   },
   {
    "duration": 9,
    "start_time": "2023-10-01T16:55:50.961Z"
   },
   {
    "duration": 4,
    "start_time": "2023-10-01T16:56:00.004Z"
   },
   {
    "duration": 969,
    "start_time": "2023-10-01T16:56:00.010Z"
   },
   {
    "duration": 17,
    "start_time": "2023-10-01T16:56:00.981Z"
   },
   {
    "duration": 220,
    "start_time": "2023-10-01T16:56:01.000Z"
   },
   {
    "duration": 169,
    "start_time": "2023-10-01T16:56:01.223Z"
   },
   {
    "duration": 459,
    "start_time": "2023-10-01T16:56:01.394Z"
   },
   {
    "duration": 500,
    "start_time": "2023-10-01T16:56:01.854Z"
   },
   {
    "duration": 27,
    "start_time": "2023-10-01T16:56:02.356Z"
   },
   {
    "duration": 271,
    "start_time": "2023-10-01T16:56:02.385Z"
   },
   {
    "duration": 88,
    "start_time": "2023-10-01T16:56:02.659Z"
   },
   {
    "duration": 74,
    "start_time": "2023-10-01T16:56:02.751Z"
   },
   {
    "duration": 173,
    "start_time": "2023-10-01T16:56:02.826Z"
   },
   {
    "duration": 474,
    "start_time": "2023-10-01T16:56:03.001Z"
   },
   {
    "duration": 206,
    "start_time": "2023-10-01T16:56:03.477Z"
   },
   {
    "duration": 5,
    "start_time": "2023-10-01T16:56:03.685Z"
   },
   {
    "duration": 9,
    "start_time": "2023-10-01T16:56:03.692Z"
   },
   {
    "duration": 103,
    "start_time": "2023-10-01T16:56:03.702Z"
   },
   {
    "duration": 84,
    "start_time": "2023-10-01T16:56:03.807Z"
   },
   {
    "duration": 80,
    "start_time": "2023-10-01T16:56:03.893Z"
   },
   {
    "duration": 2,
    "start_time": "2023-10-01T16:56:03.975Z"
   },
   {
    "duration": 13850,
    "start_time": "2023-10-01T16:56:03.979Z"
   },
   {
    "duration": 116,
    "start_time": "2023-10-01T16:56:17.831Z"
   },
   {
    "duration": 1314,
    "start_time": "2023-10-01T16:56:17.949Z"
   },
   {
    "duration": 9,
    "start_time": "2023-10-01T16:56:19.265Z"
   },
   {
    "duration": 29,
    "start_time": "2023-10-01T16:56:19.276Z"
   },
   {
    "duration": 14,
    "start_time": "2023-10-01T16:56:19.307Z"
   },
   {
    "duration": 26,
    "start_time": "2023-10-01T16:56:19.323Z"
   },
   {
    "duration": 397,
    "start_time": "2023-10-01T16:56:19.350Z"
   },
   {
    "duration": 6,
    "start_time": "2023-10-01T16:56:19.750Z"
   },
   {
    "duration": 179,
    "start_time": "2023-10-01T16:56:19.758Z"
   },
   {
    "duration": 12,
    "start_time": "2023-10-01T16:56:19.939Z"
   },
   {
    "duration": 10222,
    "start_time": "2023-10-01T16:56:58.217Z"
   },
   {
    "duration": 10444,
    "start_time": "2023-10-01T16:57:38.243Z"
   },
   {
    "duration": 23,
    "start_time": "2023-10-01T16:57:50.218Z"
   },
   {
    "duration": 14,
    "start_time": "2023-10-01T16:58:07.306Z"
   },
   {
    "duration": 106,
    "start_time": "2023-10-01T16:58:30.673Z"
   },
   {
    "duration": 19,
    "start_time": "2023-10-01T17:02:52.116Z"
   },
   {
    "duration": 178,
    "start_time": "2023-10-01T17:08:06.281Z"
   },
   {
    "duration": 429,
    "start_time": "2023-10-01T17:08:22.304Z"
   },
   {
    "duration": 630,
    "start_time": "2023-10-01T17:09:22.496Z"
   },
   {
    "duration": 441,
    "start_time": "2023-10-01T17:09:50.993Z"
   },
   {
    "duration": 484,
    "start_time": "2023-10-01T17:10:09.033Z"
   },
   {
    "duration": 428,
    "start_time": "2023-10-01T17:10:48.426Z"
   },
   {
    "duration": 11164,
    "start_time": "2023-10-01T17:12:51.130Z"
   },
   {
    "duration": 10904,
    "start_time": "2023-10-01T17:13:54.938Z"
   },
   {
    "duration": 128,
    "start_time": "2023-10-01T17:14:43.067Z"
   },
   {
    "duration": 5,
    "start_time": "2023-10-01T17:14:46.478Z"
   },
   {
    "duration": 10399,
    "start_time": "2023-10-01T17:14:50.210Z"
   },
   {
    "duration": 418,
    "start_time": "2023-10-01T17:16:16.699Z"
   },
   {
    "duration": 428,
    "start_time": "2023-10-01T17:16:31.498Z"
   },
   {
    "duration": 790,
    "start_time": "2023-10-01T17:18:23.214Z"
   },
   {
    "duration": 29,
    "start_time": "2023-10-01T17:19:48.895Z"
   },
   {
    "duration": 9,
    "start_time": "2023-10-01T17:19:53.657Z"
   },
   {
    "duration": 10,
    "start_time": "2023-10-01T17:19:58.558Z"
   },
   {
    "duration": 22,
    "start_time": "2023-10-01T17:20:02.270Z"
   },
   {
    "duration": 22,
    "start_time": "2023-10-01T17:20:06.136Z"
   },
   {
    "duration": 27,
    "start_time": "2023-10-01T17:20:10.888Z"
   },
   {
    "duration": 22,
    "start_time": "2023-10-01T17:20:19.996Z"
   },
   {
    "duration": 24,
    "start_time": "2023-10-01T17:20:26.708Z"
   },
   {
    "duration": 20,
    "start_time": "2023-10-01T17:20:31.131Z"
   },
   {
    "duration": 19,
    "start_time": "2023-10-01T17:20:36.926Z"
   },
   {
    "duration": 23,
    "start_time": "2023-10-01T17:20:44.968Z"
   },
   {
    "duration": 9,
    "start_time": "2023-10-01T17:20:48.625Z"
   },
   {
    "duration": 40,
    "start_time": "2023-10-01T17:23:57.323Z"
   },
   {
    "duration": 82,
    "start_time": "2023-10-01T17:25:07.341Z"
   },
   {
    "duration": 17,
    "start_time": "2023-10-01T17:25:13.614Z"
   },
   {
    "duration": 40,
    "start_time": "2023-10-01T17:25:31.433Z"
   },
   {
    "duration": 395,
    "start_time": "2023-10-01T17:26:48.899Z"
   },
   {
    "duration": 398,
    "start_time": "2023-10-01T17:27:06.107Z"
   },
   {
    "duration": 403,
    "start_time": "2023-10-01T17:27:10.195Z"
   },
   {
    "duration": 409,
    "start_time": "2023-10-01T17:27:15.788Z"
   },
   {
    "duration": 434,
    "start_time": "2023-10-01T17:28:25.092Z"
   },
   {
    "duration": 376,
    "start_time": "2023-10-01T17:28:35.964Z"
   },
   {
    "duration": 209,
    "start_time": "2023-10-01T17:28:59.212Z"
   },
   {
    "duration": 411,
    "start_time": "2023-10-01T17:29:10.061Z"
   },
   {
    "duration": 436,
    "start_time": "2023-10-01T17:31:40.843Z"
   },
   {
    "duration": 514,
    "start_time": "2023-10-01T17:31:48.975Z"
   },
   {
    "duration": 544,
    "start_time": "2023-10-01T17:32:53.920Z"
   },
   {
    "duration": 438,
    "start_time": "2023-10-01T17:33:07.895Z"
   },
   {
    "duration": 18,
    "start_time": "2023-10-01T17:35:33.064Z"
   },
   {
    "duration": 4,
    "start_time": "2023-10-01T17:35:56.563Z"
   },
   {
    "duration": 703,
    "start_time": "2023-10-01T17:35:59.874Z"
   },
   {
    "duration": 38,
    "start_time": "2023-10-01T17:36:27.528Z"
   },
   {
    "duration": 30,
    "start_time": "2023-10-01T17:36:31.576Z"
   },
   {
    "duration": 11,
    "start_time": "2023-10-01T17:36:33.976Z"
   },
   {
    "duration": 44,
    "start_time": "2023-10-01T17:36:37.232Z"
   },
   {
    "duration": 10,
    "start_time": "2023-10-01T17:36:52.563Z"
   },
   {
    "duration": 72,
    "start_time": "2023-10-01T17:36:54.042Z"
   },
   {
    "duration": 4,
    "start_time": "2023-10-01T17:36:57.091Z"
   },
   {
    "duration": 3,
    "start_time": "2023-10-01T17:37:02.816Z"
   },
   {
    "duration": 3,
    "start_time": "2023-10-01T17:37:06.296Z"
   },
   {
    "duration": 121400,
    "start_time": "2023-10-01T17:37:09.660Z"
   },
   {
    "duration": 489,
    "start_time": "2023-10-01T17:42:40.098Z"
   },
   {
    "duration": 445,
    "start_time": "2023-10-01T17:42:47.241Z"
   },
   {
    "duration": 4,
    "start_time": "2023-10-01T17:43:34.402Z"
   },
   {
    "duration": 3,
    "start_time": "2023-10-01T17:44:02.684Z"
   },
   {
    "duration": 184662,
    "start_time": "2023-10-01T17:44:40.649Z"
   },
   {
    "duration": 10660,
    "start_time": "2023-10-01T17:47:45.314Z"
   },
   {
    "duration": 111570,
    "start_time": "2023-10-01T17:48:18.308Z"
   },
   {
    "duration": 459,
    "start_time": "2023-10-01T17:50:31.212Z"
   },
   {
    "duration": 4734203,
    "start_time": "2023-10-01T17:53:19.873Z"
   },
   {
    "duration": 15532,
    "start_time": "2023-10-01T19:17:27.436Z"
   },
   {
    "duration": 17,
    "start_time": "2023-10-01T19:18:26.628Z"
   },
   {
    "duration": 353,
    "start_time": "2023-10-01T19:19:52.221Z"
   },
   {
    "duration": 847873,
    "start_time": "2023-10-01T19:20:12.917Z"
   },
   {
    "duration": 13940,
    "start_time": "2023-10-01T19:37:53.314Z"
   },
   {
    "duration": 79,
    "start_time": "2023-10-01T19:40:01.101Z"
   },
   {
    "duration": 4792557,
    "start_time": "2023-10-01T19:40:37.140Z"
   },
   {
    "duration": 26637,
    "start_time": "2023-10-01T21:00:41.219Z"
   },
   {
    "duration": 2021,
    "start_time": "2023-10-02T03:54:17.386Z"
   },
   {
    "duration": 1358,
    "start_time": "2023-10-02T03:54:19.410Z"
   },
   {
    "duration": 20,
    "start_time": "2023-10-02T03:54:20.770Z"
   },
   {
    "duration": 182,
    "start_time": "2023-10-02T03:54:20.793Z"
   },
   {
    "duration": 169,
    "start_time": "2023-10-02T03:54:20.977Z"
   },
   {
    "duration": 552,
    "start_time": "2023-10-02T03:54:21.148Z"
   },
   {
    "duration": 594,
    "start_time": "2023-10-02T03:54:21.701Z"
   },
   {
    "duration": 24,
    "start_time": "2023-10-02T03:54:22.300Z"
   },
   {
    "duration": 47,
    "start_time": "2023-10-02T03:54:22.326Z"
   },
   {
    "duration": 39,
    "start_time": "2023-10-02T03:54:22.376Z"
   },
   {
    "duration": 24,
    "start_time": "2023-10-02T03:54:22.417Z"
   },
   {
    "duration": 40,
    "start_time": "2023-10-02T03:54:22.443Z"
   },
   {
    "duration": 242,
    "start_time": "2023-10-02T03:54:22.485Z"
   },
   {
    "duration": 209,
    "start_time": "2023-10-02T03:54:22.729Z"
   },
   {
    "duration": 6,
    "start_time": "2023-10-02T03:54:22.940Z"
   },
   {
    "duration": 23,
    "start_time": "2023-10-02T03:54:22.949Z"
   },
   {
    "duration": 97,
    "start_time": "2023-10-02T03:54:22.974Z"
   },
   {
    "duration": 84,
    "start_time": "2023-10-02T03:54:23.073Z"
   },
   {
    "duration": 96,
    "start_time": "2023-10-02T03:54:23.159Z"
   },
   {
    "duration": 3,
    "start_time": "2023-10-02T03:54:23.256Z"
   },
   {
    "duration": 12695,
    "start_time": "2023-10-02T03:54:23.262Z"
   },
   {
    "duration": 90,
    "start_time": "2023-10-02T03:54:35.958Z"
   },
   {
    "duration": 1084,
    "start_time": "2023-10-02T03:54:36.049Z"
   },
   {
    "duration": 7,
    "start_time": "2023-10-02T03:54:37.135Z"
   },
   {
    "duration": 38,
    "start_time": "2023-10-02T03:54:37.143Z"
   },
   {
    "duration": 18,
    "start_time": "2023-10-02T03:54:37.183Z"
   },
   {
    "duration": 7,
    "start_time": "2023-10-02T03:54:37.202Z"
   },
   {
    "duration": 407,
    "start_time": "2023-10-02T03:54:37.212Z"
   },
   {
    "duration": 6,
    "start_time": "2023-10-02T03:54:37.621Z"
   },
   {
    "duration": 136,
    "start_time": "2023-10-02T03:54:37.629Z"
   },
   {
    "duration": 7,
    "start_time": "2023-10-02T03:54:37.767Z"
   },
   {
    "duration": 8836,
    "start_time": "2023-10-02T03:54:37.775Z"
   },
   {
    "duration": 102,
    "start_time": "2023-10-02T03:54:46.613Z"
   },
   {
    "duration": 5585,
    "start_time": "2023-10-02T03:54:46.717Z"
   },
   {
    "duration": 110,
    "start_time": "2023-10-02T03:54:52.305Z"
   },
   {
    "duration": 0,
    "start_time": "2023-10-02T03:54:52.417Z"
   },
   {
    "duration": 0,
    "start_time": "2023-10-02T03:54:52.418Z"
   },
   {
    "duration": 0,
    "start_time": "2023-10-02T03:54:52.419Z"
   },
   {
    "duration": 0,
    "start_time": "2023-10-02T03:54:52.419Z"
   },
   {
    "duration": 0,
    "start_time": "2023-10-02T03:54:52.420Z"
   },
   {
    "duration": 0,
    "start_time": "2023-10-02T03:54:52.421Z"
   },
   {
    "duration": 0,
    "start_time": "2023-10-02T03:54:52.422Z"
   },
   {
    "duration": 0,
    "start_time": "2023-10-02T03:54:52.423Z"
   },
   {
    "duration": 0,
    "start_time": "2023-10-02T03:54:52.424Z"
   },
   {
    "duration": 0,
    "start_time": "2023-10-02T03:54:52.425Z"
   },
   {
    "duration": 0,
    "start_time": "2023-10-02T03:54:52.426Z"
   },
   {
    "duration": 0,
    "start_time": "2023-10-02T03:54:52.427Z"
   },
   {
    "duration": 0,
    "start_time": "2023-10-02T03:54:52.428Z"
   },
   {
    "duration": 0,
    "start_time": "2023-10-02T03:54:52.429Z"
   },
   {
    "duration": 0,
    "start_time": "2023-10-02T03:54:52.430Z"
   },
   {
    "duration": 0,
    "start_time": "2023-10-02T03:54:52.431Z"
   },
   {
    "duration": 0,
    "start_time": "2023-10-02T03:54:52.432Z"
   },
   {
    "duration": 0,
    "start_time": "2023-10-02T03:54:52.433Z"
   },
   {
    "duration": 0,
    "start_time": "2023-10-02T03:54:52.581Z"
   },
   {
    "duration": 0,
    "start_time": "2023-10-02T03:54:52.582Z"
   },
   {
    "duration": 0,
    "start_time": "2023-10-02T03:54:52.583Z"
   },
   {
    "duration": 0,
    "start_time": "2023-10-02T03:54:52.585Z"
   },
   {
    "duration": 0,
    "start_time": "2023-10-02T03:54:52.601Z"
   },
   {
    "duration": 0,
    "start_time": "2023-10-02T03:54:52.603Z"
   },
   {
    "duration": 94,
    "start_time": "2023-10-02T04:34:14.318Z"
   },
   {
    "duration": 18,
    "start_time": "2023-10-02T04:34:33.729Z"
   },
   {
    "duration": 16,
    "start_time": "2023-10-02T04:34:33.749Z"
   },
   {
    "duration": 594,
    "start_time": "2023-10-02T04:34:33.767Z"
   },
   {
    "duration": 20,
    "start_time": "2023-10-02T04:34:34.363Z"
   },
   {
    "duration": 23,
    "start_time": "2023-10-02T04:34:34.385Z"
   },
   {
    "duration": 43,
    "start_time": "2023-10-02T04:34:34.409Z"
   },
   {
    "duration": 66,
    "start_time": "2023-10-02T04:34:34.454Z"
   },
   {
    "duration": 4,
    "start_time": "2023-10-02T04:34:34.521Z"
   },
   {
    "duration": 24,
    "start_time": "2023-10-02T04:34:34.527Z"
   },
   {
    "duration": 26,
    "start_time": "2023-10-02T04:34:34.555Z"
   },
   {
    "duration": 107722,
    "start_time": "2023-10-02T04:34:34.584Z"
   },
   {
    "duration": 428,
    "start_time": "2023-10-02T04:36:22.307Z"
   },
   {
    "duration": 13,
    "start_time": "2023-10-02T04:36:22.737Z"
   },
   {
    "duration": 3,
    "start_time": "2023-10-02T04:36:22.752Z"
   },
   {
    "duration": 15440,
    "start_time": "2023-10-02T04:36:22.757Z"
   },
   {
    "duration": 327,
    "start_time": "2023-10-02T04:36:38.202Z"
   },
   {
    "duration": 854249,
    "start_time": "2023-10-02T04:36:38.531Z"
   },
   {
    "duration": 13517,
    "start_time": "2023-10-02T04:50:52.783Z"
   },
   {
    "duration": 114,
    "start_time": "2023-10-02T04:51:06.303Z"
   },
   {
    "duration": 1325551,
    "start_time": "2023-10-02T04:51:06.420Z"
   },
   {
    "duration": 148,
    "start_time": "2023-10-02T05:13:11.973Z"
   },
   {
    "duration": 13,
    "start_time": "2023-10-02T05:13:12.123Z"
   },
   {
    "duration": 377,
    "start_time": "2023-10-02T05:13:12.137Z"
   },
   {
    "duration": 6,
    "start_time": "2023-10-02T05:13:12.516Z"
   },
   {
    "duration": 16570,
    "start_time": "2023-10-02T05:13:17.856Z"
   },
   {
    "duration": 820897,
    "start_time": "2023-10-02T05:13:38.923Z"
   },
   {
    "duration": 651672,
    "start_time": "2023-10-02T05:27:22.437Z"
   },
   {
    "duration": 6949,
    "start_time": "2023-10-02T05:40:51.753Z"
   },
   {
    "duration": 684,
    "start_time": "2023-10-02T05:41:27.340Z"
   },
   {
    "duration": 13,
    "start_time": "2023-10-02T05:42:51.997Z"
   },
   {
    "duration": 390,
    "start_time": "2023-10-02T05:42:54.556Z"
   },
   {
    "duration": 13,
    "start_time": "2023-10-02T05:43:33.637Z"
   },
   {
    "duration": 337,
    "start_time": "2023-10-02T05:43:37.972Z"
   },
   {
    "duration": 8429,
    "start_time": "2023-10-02T05:44:36.880Z"
   },
   {
    "duration": 13,
    "start_time": "2023-10-02T05:46:09.953Z"
   },
   {
    "duration": 360,
    "start_time": "2023-10-02T05:46:11.975Z"
   },
   {
    "duration": 50,
    "start_time": "2023-10-02T07:48:10.597Z"
   },
   {
    "duration": 1752,
    "start_time": "2023-10-02T07:48:43.053Z"
   },
   {
    "duration": 1202,
    "start_time": "2023-10-02T07:48:44.807Z"
   },
   {
    "duration": 25,
    "start_time": "2023-10-02T07:48:46.011Z"
   },
   {
    "duration": 206,
    "start_time": "2023-10-02T07:48:46.038Z"
   },
   {
    "duration": 203,
    "start_time": "2023-10-02T07:48:46.248Z"
   },
   {
    "duration": 467,
    "start_time": "2023-10-02T07:48:46.453Z"
   },
   {
    "duration": 492,
    "start_time": "2023-10-02T07:48:46.921Z"
   },
   {
    "duration": 23,
    "start_time": "2023-10-02T07:48:47.415Z"
   },
   {
    "duration": 30,
    "start_time": "2023-10-02T07:48:47.440Z"
   },
   {
    "duration": 28,
    "start_time": "2023-10-02T07:48:47.473Z"
   },
   {
    "duration": 13,
    "start_time": "2023-10-02T07:48:47.503Z"
   },
   {
    "duration": 46,
    "start_time": "2023-10-02T07:48:47.518Z"
   },
   {
    "duration": 204,
    "start_time": "2023-10-02T07:48:47.566Z"
   },
   {
    "duration": 184,
    "start_time": "2023-10-02T07:48:47.771Z"
   },
   {
    "duration": 6,
    "start_time": "2023-10-02T07:48:47.956Z"
   },
   {
    "duration": 7,
    "start_time": "2023-10-02T07:48:47.963Z"
   },
   {
    "duration": 92,
    "start_time": "2023-10-02T07:48:47.972Z"
   },
   {
    "duration": 71,
    "start_time": "2023-10-02T07:48:48.066Z"
   },
   {
    "duration": 82,
    "start_time": "2023-10-02T07:48:48.139Z"
   },
   {
    "duration": 3,
    "start_time": "2023-10-02T07:48:48.222Z"
   },
   {
    "duration": 12039,
    "start_time": "2023-10-02T07:48:48.226Z"
   },
   {
    "duration": 88,
    "start_time": "2023-10-02T07:49:00.267Z"
   },
   {
    "duration": 1003,
    "start_time": "2023-10-02T07:49:00.357Z"
   },
   {
    "duration": 7,
    "start_time": "2023-10-02T07:49:01.362Z"
   },
   {
    "duration": 60,
    "start_time": "2023-10-02T07:49:01.370Z"
   },
   {
    "duration": 34,
    "start_time": "2023-10-02T07:49:01.431Z"
   },
   {
    "duration": 68,
    "start_time": "2023-10-02T07:49:01.467Z"
   },
   {
    "duration": 381,
    "start_time": "2023-10-02T07:49:01.538Z"
   },
   {
    "duration": 8,
    "start_time": "2023-10-02T07:49:01.921Z"
   },
   {
    "duration": 208,
    "start_time": "2023-10-02T07:49:01.931Z"
   },
   {
    "duration": 14,
    "start_time": "2023-10-02T07:49:02.141Z"
   },
   {
    "duration": 8028,
    "start_time": "2023-10-02T07:49:02.156Z"
   },
   {
    "duration": 100,
    "start_time": "2023-10-02T07:49:10.185Z"
   },
   {
    "duration": 5251,
    "start_time": "2023-10-02T07:49:10.287Z"
   },
   {
    "duration": 20,
    "start_time": "2023-10-02T07:49:15.540Z"
   },
   {
    "duration": 6,
    "start_time": "2023-10-02T07:49:15.561Z"
   },
   {
    "duration": 559,
    "start_time": "2023-10-02T07:49:15.568Z"
   },
   {
    "duration": 35,
    "start_time": "2023-10-02T07:49:16.129Z"
   },
   {
    "duration": 12,
    "start_time": "2023-10-02T07:49:16.166Z"
   },
   {
    "duration": 61,
    "start_time": "2023-10-02T07:49:16.180Z"
   },
   {
    "duration": 193,
    "start_time": "2023-10-02T07:49:16.250Z"
   },
   {
    "duration": 5,
    "start_time": "2023-10-02T07:49:16.445Z"
   },
   {
    "duration": 21,
    "start_time": "2023-10-02T07:49:16.453Z"
   },
   {
    "duration": 63,
    "start_time": "2023-10-02T07:49:16.476Z"
   },
   {
    "duration": 100024,
    "start_time": "2023-10-02T07:49:16.541Z"
   },
   {
    "duration": 431,
    "start_time": "2023-10-02T07:50:56.567Z"
   },
   {
    "duration": 12,
    "start_time": "2023-10-02T07:50:56.999Z"
   },
   {
    "duration": 3,
    "start_time": "2023-10-02T07:50:57.013Z"
   },
   {
    "duration": 14990,
    "start_time": "2023-10-02T07:50:57.018Z"
   },
   {
    "duration": 326,
    "start_time": "2023-10-02T07:51:12.010Z"
   },
   {
    "duration": 14171,
    "start_time": "2023-10-02T07:51:12.338Z"
   },
   {
    "duration": 65,
    "start_time": "2023-10-02T07:51:26.510Z"
   },
   {
    "duration": 607680,
    "start_time": "2023-10-02T07:51:26.577Z"
   },
   {
    "duration": 733,
    "start_time": "2023-10-02T08:01:34.261Z"
   },
   {
    "duration": 1526,
    "start_time": "2023-10-02T08:18:01.610Z"
   },
   {
    "duration": 869,
    "start_time": "2023-10-02T08:18:03.137Z"
   },
   {
    "duration": 19,
    "start_time": "2023-10-02T08:18:04.008Z"
   },
   {
    "duration": 166,
    "start_time": "2023-10-02T08:18:04.029Z"
   },
   {
    "duration": 171,
    "start_time": "2023-10-02T08:18:04.196Z"
   },
   {
    "duration": 505,
    "start_time": "2023-10-02T08:18:04.369Z"
   },
   {
    "duration": 505,
    "start_time": "2023-10-02T08:18:04.876Z"
   },
   {
    "duration": 23,
    "start_time": "2023-10-02T08:18:05.383Z"
   },
   {
    "duration": 37,
    "start_time": "2023-10-02T08:18:05.408Z"
   },
   {
    "duration": 29,
    "start_time": "2023-10-02T08:18:05.450Z"
   },
   {
    "duration": 25,
    "start_time": "2023-10-02T08:18:05.481Z"
   },
   {
    "duration": 69,
    "start_time": "2023-10-02T08:18:05.508Z"
   },
   {
    "duration": 199,
    "start_time": "2023-10-02T08:18:05.578Z"
   },
   {
    "duration": 219,
    "start_time": "2023-10-02T08:18:05.778Z"
   },
   {
    "duration": 8,
    "start_time": "2023-10-02T08:18:05.999Z"
   },
   {
    "duration": 17,
    "start_time": "2023-10-02T08:18:06.009Z"
   },
   {
    "duration": 132,
    "start_time": "2023-10-02T08:18:06.029Z"
   },
   {
    "duration": 101,
    "start_time": "2023-10-02T08:18:06.163Z"
   },
   {
    "duration": 89,
    "start_time": "2023-10-02T08:18:06.267Z"
   },
   {
    "duration": 3,
    "start_time": "2023-10-02T08:18:06.358Z"
   },
   {
    "duration": 13730,
    "start_time": "2023-10-02T08:18:06.363Z"
   },
   {
    "duration": 96,
    "start_time": "2023-10-02T08:18:20.095Z"
   },
   {
    "duration": 1162,
    "start_time": "2023-10-02T08:18:20.193Z"
   },
   {
    "duration": 9,
    "start_time": "2023-10-02T08:18:21.358Z"
   },
   {
    "duration": 71,
    "start_time": "2023-10-02T08:18:21.369Z"
   },
   {
    "duration": 4,
    "start_time": "2023-10-02T08:18:21.442Z"
   },
   {
    "duration": 22,
    "start_time": "2023-10-02T08:18:21.448Z"
   },
   {
    "duration": 375,
    "start_time": "2023-10-02T08:18:21.474Z"
   },
   {
    "duration": 15,
    "start_time": "2023-10-02T08:18:21.851Z"
   },
   {
    "duration": 132,
    "start_time": "2023-10-02T08:18:21.868Z"
   },
   {
    "duration": 7,
    "start_time": "2023-10-02T08:18:22.002Z"
   },
   {
    "duration": 8935,
    "start_time": "2023-10-02T08:18:22.011Z"
   },
   {
    "duration": 114,
    "start_time": "2023-10-02T08:18:30.949Z"
   },
   {
    "duration": 5625,
    "start_time": "2023-10-02T08:18:31.068Z"
   },
   {
    "duration": 14,
    "start_time": "2023-10-02T08:18:36.694Z"
   },
   {
    "duration": 3,
    "start_time": "2023-10-02T08:18:36.709Z"
   },
   {
    "duration": 572,
    "start_time": "2023-10-02T08:18:36.714Z"
   },
   {
    "duration": 19,
    "start_time": "2023-10-02T08:18:37.287Z"
   },
   {
    "duration": 10,
    "start_time": "2023-10-02T08:18:37.308Z"
   },
   {
    "duration": 66,
    "start_time": "2023-10-02T08:18:37.319Z"
   },
   {
    "duration": 180,
    "start_time": "2023-10-02T08:18:37.387Z"
   },
   {
    "duration": 4,
    "start_time": "2023-10-02T08:18:37.568Z"
   },
   {
    "duration": 12,
    "start_time": "2023-10-02T08:18:37.574Z"
   },
   {
    "duration": 14,
    "start_time": "2023-10-02T08:18:37.588Z"
   },
   {
    "duration": 106013,
    "start_time": "2023-10-02T08:18:37.604Z"
   },
   {
    "duration": 406,
    "start_time": "2023-10-02T08:20:23.619Z"
   },
   {
    "duration": 12,
    "start_time": "2023-10-02T08:20:24.026Z"
   },
   {
    "duration": 15,
    "start_time": "2023-10-02T08:20:24.054Z"
   },
   {
    "duration": 15002,
    "start_time": "2023-10-02T08:20:24.070Z"
   },
   {
    "duration": 332,
    "start_time": "2023-10-02T08:20:39.079Z"
   },
   {
    "duration": 14992,
    "start_time": "2023-10-02T08:20:39.413Z"
   },
   {
    "duration": 76,
    "start_time": "2023-10-02T08:20:54.407Z"
   },
   {
    "duration": 484886,
    "start_time": "2023-10-02T08:20:54.485Z"
   },
   {
    "duration": 799,
    "start_time": "2023-10-02T08:28:59.372Z"
   },
   {
    "duration": 11,
    "start_time": "2023-10-02T08:29:00.173Z"
   },
   {
    "duration": 378,
    "start_time": "2023-10-02T08:29:00.185Z"
   },
   {
    "duration": 5,
    "start_time": "2023-10-02T08:29:00.565Z"
   },
   {
    "duration": 376,
    "start_time": "2023-10-02T08:34:12.304Z"
   },
   {
    "duration": 311,
    "start_time": "2023-10-02T08:34:18.218Z"
   },
   {
    "duration": 318,
    "start_time": "2023-10-02T08:34:41.964Z"
   }
  ],
  "kernelspec": {
   "display_name": "Python 3 (ipykernel)",
   "language": "python",
   "name": "python3"
  },
  "language_info": {
   "codemirror_mode": {
    "name": "ipython",
    "version": 3
   },
   "file_extension": ".py",
   "mimetype": "text/x-python",
   "name": "python",
   "nbconvert_exporter": "python",
   "pygments_lexer": "ipython3",
   "version": "3.9.13"
  },
  "toc": {
   "base_numbering": 1,
   "nav_menu": {},
   "number_sections": true,
   "sideBar": true,
   "skip_h1_title": true,
   "title_cell": "Table of Contents",
   "title_sidebar": "Contents",
   "toc_cell": false,
   "toc_position": {},
   "toc_section_display": true,
   "toc_window_display": false
  }
 },
 "nbformat": 4,
 "nbformat_minor": 2
}
